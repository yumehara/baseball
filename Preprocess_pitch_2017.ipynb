{
 "cells": [
  {
   "cell_type": "markdown",
   "metadata": {},
   "source": [
    "## pitch2017前処理"
   ]
  },
  {
   "cell_type": "code",
   "execution_count": 1,
   "metadata": {},
   "outputs": [],
   "source": [
    "import numpy as np\n",
    "import matplotlib.pyplot as plt\n",
    "import pandas as pd\n",
    "import feather\n",
    "pd.set_option('display.max_Columns', 100)"
   ]
  },
  {
   "cell_type": "code",
   "execution_count": 2,
   "metadata": {},
   "outputs": [
    {
     "name": "stdout",
     "output_type": "stream",
     "text": [
      "(257117, 51)\n"
     ]
    }
   ],
   "source": [
    "train_pitch = pd.read_feather('data/train_pitch.f')\n",
    "print(train_pitch.shape)"
   ]
  },
  {
   "cell_type": "markdown",
   "metadata": {},
   "source": [
    "### 投手\n",
    "#### 球種\n",
    "0:ストレート 1:カーブ 2:スライダー 3:シュート 4:フォーク 5:チェンジアップ 6:シンカー 7:カットボール"
   ]
  },
  {
   "cell_type": "code",
   "execution_count": 3,
   "metadata": {},
   "outputs": [],
   "source": [
    "train_pitch.replace({'球種': {\n",
    "    0: '0_straight', \n",
    "    1: '1_curve', \n",
    "    2: '2_slider', \n",
    "    3: '3_shoot', \n",
    "    4: '4_fork', \n",
    "    5: '5_changeup', \n",
    "    6: '6_sinker', \n",
    "    7: '7_cutball'\n",
    "}}, inplace=True)\n",
    "train_pitch.rename(columns={'球種': 'ball'}, inplace=True)"
   ]
  },
  {
   "cell_type": "code",
   "execution_count": 4,
   "metadata": {},
   "outputs": [],
   "source": [
    "pitch_ball = train_pitch[['投手ID','ball']]\n",
    "pitch_ball = pd.get_dummies(pitch_ball, columns=['ball'])"
   ]
  },
  {
   "cell_type": "code",
   "execution_count": 5,
   "metadata": {},
   "outputs": [],
   "source": [
    "groupby_pit = pitch_ball.groupby('投手ID').sum()\n",
    "groupby_pit.rename(columns={\n",
    "    'ball_0_straight': 'straight',\n",
    "    'ball_1_curve': 'curve',\n",
    "    'ball_2_slider': 'slider',\n",
    "    'ball_3_shoot': 'shoot',\n",
    "    'ball_4_fork': 'fork',\n",
    "    'ball_5_changeup': 'changeup',\n",
    "    'ball_6_sinker': 'sinker',\n",
    "    'ball_7_cutball': 'cutball',\n",
    "}, inplace=True)\n",
    "pitch_ball = groupby_pit.reset_index(inplace=False)"
   ]
  },
  {
   "cell_type": "code",
   "execution_count": 6,
   "metadata": {},
   "outputs": [],
   "source": [
    "pitch_ball['total'] = (pitch_ball['straight'] + pitch_ball['curve'] + pitch_ball['slider'] + pitch_ball['shoot']\n",
    "                       + pitch_ball['fork'] + pitch_ball['changeup'] + pitch_ball['sinker'] + pitch_ball['cutball'])\n",
    "pitch_ball['straight'] = pitch_ball['straight'] / pitch_ball['total']\n",
    "pitch_ball['curve'] = pitch_ball['curve'] / pitch_ball['total']\n",
    "pitch_ball['slider'] = pitch_ball['slider'] / pitch_ball['total']\n",
    "pitch_ball['shoot'] = pitch_ball['shoot'] / pitch_ball['total']\n",
    "pitch_ball['fork'] = pitch_ball['fork'] / pitch_ball['total']\n",
    "pitch_ball['changeup'] = pitch_ball['changeup'] / pitch_ball['total']\n",
    "pitch_ball['sinker'] = pitch_ball['sinker'] / pitch_ball['total']\n",
    "pitch_ball['cutball'] = pitch_ball['cutball'] / pitch_ball['total']"
   ]
  },
  {
   "cell_type": "code",
   "execution_count": 7,
   "metadata": {
    "scrolled": true
   },
   "outputs": [
    {
     "data": {
      "text/html": [
       "<div>\n",
       "<style scoped>\n",
       "    .dataframe tbody tr th:only-of-type {\n",
       "        vertical-align: middle;\n",
       "    }\n",
       "\n",
       "    .dataframe tbody tr th {\n",
       "        vertical-align: top;\n",
       "    }\n",
       "\n",
       "    .dataframe thead th {\n",
       "        text-align: right;\n",
       "    }\n",
       "</style>\n",
       "<table border=\"1\" class=\"dataframe\">\n",
       "  <thead>\n",
       "    <tr style=\"text-align: right;\">\n",
       "      <th></th>\n",
       "      <th>投手ID</th>\n",
       "      <th>straight</th>\n",
       "      <th>curve</th>\n",
       "      <th>slider</th>\n",
       "      <th>shoot</th>\n",
       "      <th>fork</th>\n",
       "      <th>changeup</th>\n",
       "      <th>sinker</th>\n",
       "      <th>cutball</th>\n",
       "      <th>total</th>\n",
       "    </tr>\n",
       "  </thead>\n",
       "  <tbody>\n",
       "    <tr>\n",
       "      <th>0</th>\n",
       "      <td>11606</td>\n",
       "      <td>0.498588</td>\n",
       "      <td>0.247175</td>\n",
       "      <td>0.000000</td>\n",
       "      <td>0.000000</td>\n",
       "      <td>0.203390</td>\n",
       "      <td>0.000000</td>\n",
       "      <td>0.000000</td>\n",
       "      <td>0.050847</td>\n",
       "      <td>708.0</td>\n",
       "    </tr>\n",
       "    <tr>\n",
       "      <th>1</th>\n",
       "      <td>11766</td>\n",
       "      <td>0.373473</td>\n",
       "      <td>0.000000</td>\n",
       "      <td>0.361257</td>\n",
       "      <td>0.190227</td>\n",
       "      <td>0.000000</td>\n",
       "      <td>0.019197</td>\n",
       "      <td>0.055846</td>\n",
       "      <td>0.000000</td>\n",
       "      <td>573.0</td>\n",
       "    </tr>\n",
       "    <tr>\n",
       "      <th>2</th>\n",
       "      <td>11807</td>\n",
       "      <td>0.667003</td>\n",
       "      <td>0.090817</td>\n",
       "      <td>0.002018</td>\n",
       "      <td>0.011100</td>\n",
       "      <td>0.227043</td>\n",
       "      <td>0.000000</td>\n",
       "      <td>0.000000</td>\n",
       "      <td>0.002018</td>\n",
       "      <td>991.0</td>\n",
       "    </tr>\n",
       "    <tr>\n",
       "      <th>3</th>\n",
       "      <td>12103</td>\n",
       "      <td>0.516220</td>\n",
       "      <td>0.069111</td>\n",
       "      <td>0.300423</td>\n",
       "      <td>0.031030</td>\n",
       "      <td>0.083216</td>\n",
       "      <td>0.000000</td>\n",
       "      <td>0.000000</td>\n",
       "      <td>0.000000</td>\n",
       "      <td>709.0</td>\n",
       "    </tr>\n",
       "    <tr>\n",
       "      <th>4</th>\n",
       "      <td>12113</td>\n",
       "      <td>0.187710</td>\n",
       "      <td>0.007201</td>\n",
       "      <td>0.178108</td>\n",
       "      <td>0.158425</td>\n",
       "      <td>0.000000</td>\n",
       "      <td>0.063850</td>\n",
       "      <td>0.233317</td>\n",
       "      <td>0.171387</td>\n",
       "      <td>2083.0</td>\n",
       "    </tr>\n",
       "  </tbody>\n",
       "</table>\n",
       "</div>"
      ],
      "text/plain": [
       "    投手ID  straight     curve    slider     shoot      fork  changeup  \\\n",
       "0  11606  0.498588  0.247175  0.000000  0.000000  0.203390  0.000000   \n",
       "1  11766  0.373473  0.000000  0.361257  0.190227  0.000000  0.019197   \n",
       "2  11807  0.667003  0.090817  0.002018  0.011100  0.227043  0.000000   \n",
       "3  12103  0.516220  0.069111  0.300423  0.031030  0.083216  0.000000   \n",
       "4  12113  0.187710  0.007201  0.178108  0.158425  0.000000  0.063850   \n",
       "\n",
       "     sinker   cutball   total  \n",
       "0  0.000000  0.050847   708.0  \n",
       "1  0.055846  0.000000   573.0  \n",
       "2  0.000000  0.002018   991.0  \n",
       "3  0.000000  0.000000   709.0  \n",
       "4  0.233317  0.171387  2083.0  "
      ]
     },
     "execution_count": 7,
     "metadata": {},
     "output_type": "execute_result"
    }
   ],
   "source": [
    "pitch_ball.head()"
   ]
  },
  {
   "cell_type": "markdown",
   "metadata": {},
   "source": [
    "### 登板試合数"
   ]
  },
  {
   "cell_type": "code",
   "execution_count": 8,
   "metadata": {},
   "outputs": [],
   "source": [
    "pit_game = train_pitch[['投手ID', '試合ID']].groupby(['投手ID', '試合ID']).count()\n",
    "pit_game = pd.DataFrame(pit_game.groupby(['投手ID']).size())\n",
    "pit_game.reset_index(inplace=True)\n",
    "pit_game.rename(columns={0: 'pit_game_cnt'}, inplace=True)"
   ]
  },
  {
   "cell_type": "markdown",
   "metadata": {},
   "source": [
    "### イニング数"
   ]
  },
  {
   "cell_type": "code",
   "execution_count": 9,
   "metadata": {},
   "outputs": [],
   "source": [
    "pit_inning = train_pitch[['投手ID', '試合ID', 'イニング']].groupby(['投手ID', '試合ID', 'イニング']).count()\n",
    "pit_inning = pd.DataFrame(pit_inning.groupby(['投手ID']).size())\n",
    "pit_inning.reset_index(inplace=True)\n",
    "pit_inning.rename(columns={0: 'pit_inning_cnt'}, inplace=True)"
   ]
  },
  {
   "cell_type": "markdown",
   "metadata": {},
   "source": [
    "### 対戦打者数"
   ]
  },
  {
   "cell_type": "code",
   "execution_count": 10,
   "metadata": {
    "scrolled": true
   },
   "outputs": [],
   "source": [
    "pit_batcnt = train_pitch[['投手ID', '試合ID', 'イニング', 'イニング内打席数']].groupby(['投手ID', '試合ID', 'イニング', 'イニング内打席数']).count()\n",
    "pit_batcnt = pd.DataFrame(pit_batcnt.groupby(['投手ID']).size())\n",
    "pit_batcnt.reset_index(inplace=True)\n",
    "pit_batcnt.rename(columns={0: 'pit_batter_cnt'}, inplace=True)"
   ]
  },
  {
   "cell_type": "markdown",
   "metadata": {},
   "source": [
    "### 投手実績まとめ"
   ]
  },
  {
   "cell_type": "code",
   "execution_count": 11,
   "metadata": {
    "scrolled": true
   },
   "outputs": [],
   "source": [
    "pitch_ball = pitch_ball.merge(pit_game, on='投手ID', how='left')\n",
    "pitch_ball = pitch_ball.merge(pit_inning, on='投手ID', how='left')\n",
    "pitch_ball = pitch_ball.merge(pit_batcnt, on='投手ID', how='left')"
   ]
  },
  {
   "cell_type": "markdown",
   "metadata": {},
   "source": [
    "### 1イニング当たり、1試合当たり、1打席当たり\n",
    "- pit_inning_per_game: イニング数/試合数\n",
    "- pit_batter_per_game: 打席数/試合数\n",
    "- pit_ball_per_game: 投球数/試合数\n",
    "- pit_batter_per_inning: 打席数/イニング数\n",
    "- pit_ball_per_inning: 投球数/イニング数\n",
    "- pit_ball_per_batter: 投球数/打席数"
   ]
  },
  {
   "cell_type": "code",
   "execution_count": 12,
   "metadata": {},
   "outputs": [],
   "source": [
    "#pitch_ball['pit_inning_per_game'] = pitch_ball['pit_inning_cnt'] / pitch_ball['pit_game_cnt']\n",
    "#pitch_ball['pit_batter_per_game'] = pitch_ball['pit_batter_cnt'] / pitch_ball['pit_game_cnt']\n",
    "#pitch_ball['pit_ball_per_game'] = pitch_ball['total'] / pitch_ball['pit_game_cnt']\n",
    "#pitch_ball['pit_batter_per_inning'] = pitch_ball['pit_batter_cnt'] / pitch_ball['pit_inning_cnt']\n",
    "#pitch_ball['pit_ball_per_inning'] = pitch_ball['total'] / pitch_ball['pit_inning_cnt']\n",
    "#pitch_ball['pit_ball_per_batter'] = pitch_ball['total'] / pitch_ball['pit_batter_cnt']"
   ]
  },
  {
   "cell_type": "code",
   "execution_count": 13,
   "metadata": {},
   "outputs": [
    {
     "name": "stdout",
     "output_type": "stream",
     "text": [
      "(326, 13)\n"
     ]
    },
    {
     "data": {
      "text/html": [
       "<div>\n",
       "<style scoped>\n",
       "    .dataframe tbody tr th:only-of-type {\n",
       "        vertical-align: middle;\n",
       "    }\n",
       "\n",
       "    .dataframe tbody tr th {\n",
       "        vertical-align: top;\n",
       "    }\n",
       "\n",
       "    .dataframe thead th {\n",
       "        text-align: right;\n",
       "    }\n",
       "</style>\n",
       "<table border=\"1\" class=\"dataframe\">\n",
       "  <thead>\n",
       "    <tr style=\"text-align: right;\">\n",
       "      <th></th>\n",
       "      <th>投手ID</th>\n",
       "      <th>straight</th>\n",
       "      <th>curve</th>\n",
       "      <th>slider</th>\n",
       "      <th>shoot</th>\n",
       "      <th>fork</th>\n",
       "      <th>changeup</th>\n",
       "      <th>sinker</th>\n",
       "      <th>cutball</th>\n",
       "      <th>total</th>\n",
       "      <th>pit_game_cnt</th>\n",
       "      <th>pit_inning_cnt</th>\n",
       "      <th>pit_batter_cnt</th>\n",
       "    </tr>\n",
       "  </thead>\n",
       "  <tbody>\n",
       "    <tr>\n",
       "      <th>0</th>\n",
       "      <td>11606</td>\n",
       "      <td>0.498588</td>\n",
       "      <td>0.247175</td>\n",
       "      <td>0.000000</td>\n",
       "      <td>0.000000</td>\n",
       "      <td>0.203390</td>\n",
       "      <td>0.000000</td>\n",
       "      <td>0.000000</td>\n",
       "      <td>0.050847</td>\n",
       "      <td>708.0</td>\n",
       "      <td>46</td>\n",
       "      <td>54</td>\n",
       "      <td>171</td>\n",
       "    </tr>\n",
       "    <tr>\n",
       "      <th>1</th>\n",
       "      <td>11766</td>\n",
       "      <td>0.373473</td>\n",
       "      <td>0.000000</td>\n",
       "      <td>0.361257</td>\n",
       "      <td>0.190227</td>\n",
       "      <td>0.000000</td>\n",
       "      <td>0.019197</td>\n",
       "      <td>0.055846</td>\n",
       "      <td>0.000000</td>\n",
       "      <td>573.0</td>\n",
       "      <td>50</td>\n",
       "      <td>50</td>\n",
       "      <td>154</td>\n",
       "    </tr>\n",
       "    <tr>\n",
       "      <th>2</th>\n",
       "      <td>11807</td>\n",
       "      <td>0.667003</td>\n",
       "      <td>0.090817</td>\n",
       "      <td>0.002018</td>\n",
       "      <td>0.011100</td>\n",
       "      <td>0.227043</td>\n",
       "      <td>0.000000</td>\n",
       "      <td>0.000000</td>\n",
       "      <td>0.002018</td>\n",
       "      <td>991.0</td>\n",
       "      <td>52</td>\n",
       "      <td>61</td>\n",
       "      <td>235</td>\n",
       "    </tr>\n",
       "    <tr>\n",
       "      <th>3</th>\n",
       "      <td>12103</td>\n",
       "      <td>0.516220</td>\n",
       "      <td>0.069111</td>\n",
       "      <td>0.300423</td>\n",
       "      <td>0.031030</td>\n",
       "      <td>0.083216</td>\n",
       "      <td>0.000000</td>\n",
       "      <td>0.000000</td>\n",
       "      <td>0.000000</td>\n",
       "      <td>709.0</td>\n",
       "      <td>24</td>\n",
       "      <td>51</td>\n",
       "      <td>191</td>\n",
       "    </tr>\n",
       "    <tr>\n",
       "      <th>4</th>\n",
       "      <td>12113</td>\n",
       "      <td>0.187710</td>\n",
       "      <td>0.007201</td>\n",
       "      <td>0.178108</td>\n",
       "      <td>0.158425</td>\n",
       "      <td>0.000000</td>\n",
       "      <td>0.063850</td>\n",
       "      <td>0.233317</td>\n",
       "      <td>0.171387</td>\n",
       "      <td>2083.0</td>\n",
       "      <td>23</td>\n",
       "      <td>129</td>\n",
       "      <td>540</td>\n",
       "    </tr>\n",
       "  </tbody>\n",
       "</table>\n",
       "</div>"
      ],
      "text/plain": [
       "    投手ID  straight     curve    slider     shoot      fork  changeup  \\\n",
       "0  11606  0.498588  0.247175  0.000000  0.000000  0.203390  0.000000   \n",
       "1  11766  0.373473  0.000000  0.361257  0.190227  0.000000  0.019197   \n",
       "2  11807  0.667003  0.090817  0.002018  0.011100  0.227043  0.000000   \n",
       "3  12103  0.516220  0.069111  0.300423  0.031030  0.083216  0.000000   \n",
       "4  12113  0.187710  0.007201  0.178108  0.158425  0.000000  0.063850   \n",
       "\n",
       "     sinker   cutball   total  pit_game_cnt  pit_inning_cnt  pit_batter_cnt  \n",
       "0  0.000000  0.050847   708.0            46              54             171  \n",
       "1  0.055846  0.000000   573.0            50              50             154  \n",
       "2  0.000000  0.002018   991.0            52              61             235  \n",
       "3  0.000000  0.000000   709.0            24              51             191  \n",
       "4  0.233317  0.171387  2083.0            23             129             540  "
      ]
     },
     "execution_count": 13,
     "metadata": {},
     "output_type": "execute_result"
    }
   ],
   "source": [
    "print(pitch_ball.shape)\n",
    "pitch_ball.head()"
   ]
  },
  {
   "cell_type": "code",
   "execution_count": 14,
   "metadata": {
    "scrolled": true
   },
   "outputs": [
    {
     "data": {
      "text/html": [
       "<div>\n",
       "<style scoped>\n",
       "    .dataframe tbody tr th:only-of-type {\n",
       "        vertical-align: middle;\n",
       "    }\n",
       "\n",
       "    .dataframe tbody tr th {\n",
       "        vertical-align: top;\n",
       "    }\n",
       "\n",
       "    .dataframe thead th {\n",
       "        text-align: right;\n",
       "    }\n",
       "</style>\n",
       "<table border=\"1\" class=\"dataframe\">\n",
       "  <thead>\n",
       "    <tr style=\"text-align: right;\">\n",
       "      <th></th>\n",
       "      <th>投手ID</th>\n",
       "      <th>straight</th>\n",
       "      <th>curve</th>\n",
       "      <th>slider</th>\n",
       "      <th>shoot</th>\n",
       "      <th>fork</th>\n",
       "      <th>changeup</th>\n",
       "      <th>sinker</th>\n",
       "      <th>cutball</th>\n",
       "      <th>total</th>\n",
       "      <th>pit_game_cnt</th>\n",
       "      <th>pit_inning_cnt</th>\n",
       "      <th>pit_batter_cnt</th>\n",
       "    </tr>\n",
       "  </thead>\n",
       "  <tbody>\n",
       "    <tr>\n",
       "      <th>count</th>\n",
       "      <td>3.260000e+02</td>\n",
       "      <td>326.000000</td>\n",
       "      <td>326.000000</td>\n",
       "      <td>326.000000</td>\n",
       "      <td>326.000000</td>\n",
       "      <td>326.000000</td>\n",
       "      <td>326.000000</td>\n",
       "      <td>326.000000</td>\n",
       "      <td>326.000000</td>\n",
       "      <td>326.000000</td>\n",
       "      <td>326.000000</td>\n",
       "      <td>326.000000</td>\n",
       "      <td>326.000000</td>\n",
       "    </tr>\n",
       "    <tr>\n",
       "      <th>mean</th>\n",
       "      <td>1.163288e+06</td>\n",
       "      <td>0.489293</td>\n",
       "      <td>0.058848</td>\n",
       "      <td>0.196568</td>\n",
       "      <td>0.066474</td>\n",
       "      <td>0.086211</td>\n",
       "      <td>0.051951</td>\n",
       "      <td>0.008841</td>\n",
       "      <td>0.041813</td>\n",
       "      <td>788.702454</td>\n",
       "      <td>20.766871</td>\n",
       "      <td>50.245399</td>\n",
       "      <td>199.684049</td>\n",
       "    </tr>\n",
       "    <tr>\n",
       "      <th>std</th>\n",
       "      <td>4.161437e+05</td>\n",
       "      <td>0.138810</td>\n",
       "      <td>0.069276</td>\n",
       "      <td>0.133403</td>\n",
       "      <td>0.112614</td>\n",
       "      <td>0.101202</td>\n",
       "      <td>0.085020</td>\n",
       "      <td>0.037591</td>\n",
       "      <td>0.089068</td>\n",
       "      <td>756.881660</td>\n",
       "      <td>18.831584</td>\n",
       "      <td>47.533255</td>\n",
       "      <td>192.461884</td>\n",
       "    </tr>\n",
       "    <tr>\n",
       "      <th>min</th>\n",
       "      <td>1.160600e+04</td>\n",
       "      <td>0.006633</td>\n",
       "      <td>0.000000</td>\n",
       "      <td>0.000000</td>\n",
       "      <td>0.000000</td>\n",
       "      <td>0.000000</td>\n",
       "      <td>0.000000</td>\n",
       "      <td>0.000000</td>\n",
       "      <td>0.000000</td>\n",
       "      <td>4.000000</td>\n",
       "      <td>1.000000</td>\n",
       "      <td>1.000000</td>\n",
       "      <td>2.000000</td>\n",
       "    </tr>\n",
       "    <tr>\n",
       "      <th>25%</th>\n",
       "      <td>9.253225e+05</td>\n",
       "      <td>0.394643</td>\n",
       "      <td>0.000000</td>\n",
       "      <td>0.104212</td>\n",
       "      <td>0.000000</td>\n",
       "      <td>0.000000</td>\n",
       "      <td>0.000000</td>\n",
       "      <td>0.000000</td>\n",
       "      <td>0.000000</td>\n",
       "      <td>184.000000</td>\n",
       "      <td>5.250000</td>\n",
       "      <td>11.250000</td>\n",
       "      <td>46.000000</td>\n",
       "    </tr>\n",
       "    <tr>\n",
       "      <th>50%</th>\n",
       "      <td>1.300036e+06</td>\n",
       "      <td>0.498006</td>\n",
       "      <td>0.035410</td>\n",
       "      <td>0.198832</td>\n",
       "      <td>0.000000</td>\n",
       "      <td>0.048811</td>\n",
       "      <td>0.000000</td>\n",
       "      <td>0.000000</td>\n",
       "      <td>0.000000</td>\n",
       "      <td>569.000000</td>\n",
       "      <td>15.000000</td>\n",
       "      <td>37.000000</td>\n",
       "      <td>143.500000</td>\n",
       "    </tr>\n",
       "    <tr>\n",
       "      <th>75%</th>\n",
       "      <td>1.500108e+06</td>\n",
       "      <td>0.573184</td>\n",
       "      <td>0.091249</td>\n",
       "      <td>0.282345</td>\n",
       "      <td>0.097760</td>\n",
       "      <td>0.154717</td>\n",
       "      <td>0.076431</td>\n",
       "      <td>0.000000</td>\n",
       "      <td>0.034477</td>\n",
       "      <td>1031.000000</td>\n",
       "      <td>27.000000</td>\n",
       "      <td>67.750000</td>\n",
       "      <td>263.250000</td>\n",
       "    </tr>\n",
       "    <tr>\n",
       "      <th>max</th>\n",
       "      <td>1.700016e+06</td>\n",
       "      <td>0.928571</td>\n",
       "      <td>0.385412</td>\n",
       "      <td>0.663874</td>\n",
       "      <td>0.642166</td>\n",
       "      <td>0.442735</td>\n",
       "      <td>0.439024</td>\n",
       "      <td>0.238281</td>\n",
       "      <td>0.518750</td>\n",
       "      <td>3004.000000</td>\n",
       "      <td>72.000000</td>\n",
       "      <td>190.000000</td>\n",
       "      <td>756.000000</td>\n",
       "    </tr>\n",
       "  </tbody>\n",
       "</table>\n",
       "</div>"
      ],
      "text/plain": [
       "               投手ID    straight       curve      slider       shoot  \\\n",
       "count  3.260000e+02  326.000000  326.000000  326.000000  326.000000   \n",
       "mean   1.163288e+06    0.489293    0.058848    0.196568    0.066474   \n",
       "std    4.161437e+05    0.138810    0.069276    0.133403    0.112614   \n",
       "min    1.160600e+04    0.006633    0.000000    0.000000    0.000000   \n",
       "25%    9.253225e+05    0.394643    0.000000    0.104212    0.000000   \n",
       "50%    1.300036e+06    0.498006    0.035410    0.198832    0.000000   \n",
       "75%    1.500108e+06    0.573184    0.091249    0.282345    0.097760   \n",
       "max    1.700016e+06    0.928571    0.385412    0.663874    0.642166   \n",
       "\n",
       "             fork    changeup      sinker     cutball        total  \\\n",
       "count  326.000000  326.000000  326.000000  326.000000   326.000000   \n",
       "mean     0.086211    0.051951    0.008841    0.041813   788.702454   \n",
       "std      0.101202    0.085020    0.037591    0.089068   756.881660   \n",
       "min      0.000000    0.000000    0.000000    0.000000     4.000000   \n",
       "25%      0.000000    0.000000    0.000000    0.000000   184.000000   \n",
       "50%      0.048811    0.000000    0.000000    0.000000   569.000000   \n",
       "75%      0.154717    0.076431    0.000000    0.034477  1031.000000   \n",
       "max      0.442735    0.439024    0.238281    0.518750  3004.000000   \n",
       "\n",
       "       pit_game_cnt  pit_inning_cnt  pit_batter_cnt  \n",
       "count    326.000000      326.000000      326.000000  \n",
       "mean      20.766871       50.245399      199.684049  \n",
       "std       18.831584       47.533255      192.461884  \n",
       "min        1.000000        1.000000        2.000000  \n",
       "25%        5.250000       11.250000       46.000000  \n",
       "50%       15.000000       37.000000      143.500000  \n",
       "75%       27.000000       67.750000      263.250000  \n",
       "max       72.000000      190.000000      756.000000  "
      ]
     },
     "execution_count": 14,
     "metadata": {},
     "output_type": "execute_result"
    }
   ],
   "source": [
    "pitch_ball.describe()"
   ]
  },
  {
   "cell_type": "code",
   "execution_count": 15,
   "metadata": {},
   "outputs": [],
   "source": [
    "pitch_ball.to_feather('intermediate/pit_2017_3.f')"
   ]
  },
  {
   "cell_type": "markdown",
   "metadata": {},
   "source": [
    "## 野手\n",
    "### 打席数"
   ]
  },
  {
   "cell_type": "code",
   "execution_count": 16,
   "metadata": {},
   "outputs": [],
   "source": [
    "bat_ball = train_pitch[['打者ID', '試合ID', 'イニング', 'イニング内打席数']].groupby(['打者ID', '試合ID', 'イニング', 'イニング内打席数']).count()\n",
    "bat_ball = pd.DataFrame(bat_ball.groupby(['打者ID']).size())\n",
    "bat_ball.reset_index(inplace=True)\n",
    "bat_ball.rename(columns={0: 'batter_cnt'}, inplace=True)"
   ]
  },
  {
   "cell_type": "markdown",
   "metadata": {},
   "source": [
    "### 試合数"
   ]
  },
  {
   "cell_type": "code",
   "execution_count": 17,
   "metadata": {},
   "outputs": [],
   "source": [
    "bat_game = train_pitch[['打者ID', '試合ID']].groupby(['打者ID', '試合ID']).count()\n",
    "bat_game = pd.DataFrame(bat_game.groupby(['打者ID']).size())\n",
    "bat_game.reset_index(inplace=True)\n",
    "bat_game.rename(columns={0: 'bat_game_cnt'}, inplace=True)"
   ]
  },
  {
   "cell_type": "markdown",
   "metadata": {},
   "source": [
    "### 打者成績まとめ"
   ]
  },
  {
   "cell_type": "code",
   "execution_count": 18,
   "metadata": {},
   "outputs": [],
   "source": [
    "bat_ball = bat_ball.merge(bat_game, on='打者ID', how='left')"
   ]
  },
  {
   "cell_type": "markdown",
   "metadata": {},
   "source": [
    "### 1試合当たり打席数\n",
    "- batter_cnt_per_game: 打席数/試合数"
   ]
  },
  {
   "cell_type": "code",
   "execution_count": 19,
   "metadata": {},
   "outputs": [],
   "source": [
    "#bat_ball['batter_cnt_per_game'] = bat_ball['batter_cnt'] / bat_ball['bat_game_cnt']"
   ]
  },
  {
   "cell_type": "code",
   "execution_count": 20,
   "metadata": {},
   "outputs": [
    {
     "name": "stdout",
     "output_type": "stream",
     "text": [
      "(466, 3)\n"
     ]
    },
    {
     "data": {
      "text/html": [
       "<div>\n",
       "<style scoped>\n",
       "    .dataframe tbody tr th:only-of-type {\n",
       "        vertical-align: middle;\n",
       "    }\n",
       "\n",
       "    .dataframe tbody tr th {\n",
       "        vertical-align: top;\n",
       "    }\n",
       "\n",
       "    .dataframe thead th {\n",
       "        text-align: right;\n",
       "    }\n",
       "</style>\n",
       "<table border=\"1\" class=\"dataframe\">\n",
       "  <thead>\n",
       "    <tr style=\"text-align: right;\">\n",
       "      <th></th>\n",
       "      <th>打者ID</th>\n",
       "      <th>batter_cnt</th>\n",
       "      <th>bat_game_cnt</th>\n",
       "    </tr>\n",
       "  </thead>\n",
       "  <tbody>\n",
       "    <tr>\n",
       "      <th>0</th>\n",
       "      <td>11270</td>\n",
       "      <td>83</td>\n",
       "      <td>35</td>\n",
       "    </tr>\n",
       "    <tr>\n",
       "      <th>1</th>\n",
       "      <td>11302</td>\n",
       "      <td>156</td>\n",
       "      <td>69</td>\n",
       "    </tr>\n",
       "    <tr>\n",
       "      <th>2</th>\n",
       "      <td>11343</td>\n",
       "      <td>41</td>\n",
       "      <td>28</td>\n",
       "    </tr>\n",
       "    <tr>\n",
       "      <th>3</th>\n",
       "      <td>11436</td>\n",
       "      <td>268</td>\n",
       "      <td>81</td>\n",
       "    </tr>\n",
       "    <tr>\n",
       "      <th>4</th>\n",
       "      <td>11511</td>\n",
       "      <td>48</td>\n",
       "      <td>21</td>\n",
       "    </tr>\n",
       "  </tbody>\n",
       "</table>\n",
       "</div>"
      ],
      "text/plain": [
       "    打者ID  batter_cnt  bat_game_cnt\n",
       "0  11270          83            35\n",
       "1  11302         156            69\n",
       "2  11343          41            28\n",
       "3  11436         268            81\n",
       "4  11511          48            21"
      ]
     },
     "execution_count": 20,
     "metadata": {},
     "output_type": "execute_result"
    }
   ],
   "source": [
    "print(bat_ball.shape)\n",
    "bat_ball.head()"
   ]
  },
  {
   "cell_type": "code",
   "execution_count": 21,
   "metadata": {},
   "outputs": [
    {
     "data": {
      "text/html": [
       "<div>\n",
       "<style scoped>\n",
       "    .dataframe tbody tr th:only-of-type {\n",
       "        vertical-align: middle;\n",
       "    }\n",
       "\n",
       "    .dataframe tbody tr th {\n",
       "        vertical-align: top;\n",
       "    }\n",
       "\n",
       "    .dataframe thead th {\n",
       "        text-align: right;\n",
       "    }\n",
       "</style>\n",
       "<table border=\"1\" class=\"dataframe\">\n",
       "  <thead>\n",
       "    <tr style=\"text-align: right;\">\n",
       "      <th></th>\n",
       "      <th>打者ID</th>\n",
       "      <th>batter_cnt</th>\n",
       "      <th>bat_game_cnt</th>\n",
       "    </tr>\n",
       "  </thead>\n",
       "  <tbody>\n",
       "    <tr>\n",
       "      <th>count</th>\n",
       "      <td>4.660000e+02</td>\n",
       "      <td>466.000000</td>\n",
       "      <td>466.000000</td>\n",
       "    </tr>\n",
       "    <tr>\n",
       "      <th>mean</th>\n",
       "      <td>1.044992e+06</td>\n",
       "      <td>139.688841</td>\n",
       "      <td>41.448498</td>\n",
       "    </tr>\n",
       "    <tr>\n",
       "      <th>std</th>\n",
       "      <td>4.687117e+05</td>\n",
       "      <td>184.754006</td>\n",
       "      <td>45.398623</td>\n",
       "    </tr>\n",
       "    <tr>\n",
       "      <th>min</th>\n",
       "      <td>1.127000e+04</td>\n",
       "      <td>1.000000</td>\n",
       "      <td>1.000000</td>\n",
       "    </tr>\n",
       "    <tr>\n",
       "      <th>25%</th>\n",
       "      <td>8.000125e+05</td>\n",
       "      <td>7.250000</td>\n",
       "      <td>4.000000</td>\n",
       "    </tr>\n",
       "    <tr>\n",
       "      <th>50%</th>\n",
       "      <td>1.100114e+06</td>\n",
       "      <td>44.000000</td>\n",
       "      <td>21.000000</td>\n",
       "    </tr>\n",
       "    <tr>\n",
       "      <th>75%</th>\n",
       "      <td>1.400182e+06</td>\n",
       "      <td>222.500000</td>\n",
       "      <td>71.750000</td>\n",
       "    </tr>\n",
       "    <tr>\n",
       "      <th>max</th>\n",
       "      <td>1.700019e+06</td>\n",
       "      <td>680.000000</td>\n",
       "      <td>143.000000</td>\n",
       "    </tr>\n",
       "  </tbody>\n",
       "</table>\n",
       "</div>"
      ],
      "text/plain": [
       "               打者ID  batter_cnt  bat_game_cnt\n",
       "count  4.660000e+02  466.000000    466.000000\n",
       "mean   1.044992e+06  139.688841     41.448498\n",
       "std    4.687117e+05  184.754006     45.398623\n",
       "min    1.127000e+04    1.000000      1.000000\n",
       "25%    8.000125e+05    7.250000      4.000000\n",
       "50%    1.100114e+06   44.000000     21.000000\n",
       "75%    1.400182e+06  222.500000     71.750000\n",
       "max    1.700019e+06  680.000000    143.000000"
      ]
     },
     "execution_count": 21,
     "metadata": {},
     "output_type": "execute_result"
    }
   ],
   "source": [
    "bat_ball.describe()"
   ]
  },
  {
   "cell_type": "code",
   "execution_count": 22,
   "metadata": {},
   "outputs": [],
   "source": [
    "bat_ball.to_feather('intermediate/bat_2017_3.f')"
   ]
  },
  {
   "cell_type": "markdown",
   "metadata": {},
   "source": [
    "## 捕手\n",
    "### 捕球球種"
   ]
  },
  {
   "cell_type": "code",
   "execution_count": 23,
   "metadata": {},
   "outputs": [],
   "source": [
    "#catch_ball = train_pitch[['捕手ID','ball']]\n",
    "#catch_ball = pd.get_dummies(catch_ball, columns=['ball'])"
   ]
  },
  {
   "cell_type": "code",
   "execution_count": 24,
   "metadata": {},
   "outputs": [],
   "source": [
    "#groupby_cat = catch_ball.groupby('捕手ID').sum()\n",
    "#groupby_cat.rename(columns={\n",
    "#    'ball_0_straight': 'c_straight',\n",
    "#    'ball_1_curve': 'c_curve',\n",
    "#    'ball_2_slider': 'c_slider',\n",
    "#    'ball_3_shoot': 'c_shoot',\n",
    "#    'ball_4_fork': 'c_fork',\n",
    "#    'ball_5_changeup': 'c_changeup',\n",
    "#    'ball_6_sinker': 'c_sinker',\n",
    "#    'ball_7_cutball': 'c_cutball',\n",
    "#}, inplace=True)\n",
    "#catch_ball = groupby_cat.reset_index(inplace=False)"
   ]
  },
  {
   "cell_type": "code",
   "execution_count": 25,
   "metadata": {},
   "outputs": [],
   "source": [
    "#catch_ball['c_total'] = (catch_ball['c_straight'] + catch_ball['c_curve'] + catch_ball['c_slider'] + catch_ball['c_shoot']\n",
    "#                       + catch_ball['c_fork'] + catch_ball['c_changeup'] + catch_ball['c_sinker'] + catch_ball['c_cutball'])\n",
    "#catch_ball['c_straight'] = catch_ball['c_straight'] / catch_ball['c_total']\n",
    "#catch_ball['c_curve'] = catch_ball['c_curve'] / catch_ball['c_total']\n",
    "#catch_ball['c_slider'] = catch_ball['c_slider'] / catch_ball['c_total']\n",
    "#catch_ball['c_shoot'] = catch_ball['c_shoot'] / catch_ball['c_total']\n",
    "#catch_ball['c_fork'] = catch_ball['c_fork'] / catch_ball['c_total']\n",
    "#catch_ball['c_changeup'] = catch_ball['c_changeup'] / catch_ball['c_total']\n",
    "#catch_ball['c_sinker'] = catch_ball['c_sinker'] / catch_ball['c_total']\n",
    "#catch_ball['c_cutball'] = catch_ball['c_cutball'] / catch_ball['c_total']"
   ]
  },
  {
   "cell_type": "markdown",
   "metadata": {},
   "source": [
    "### 試合数"
   ]
  },
  {
   "cell_type": "code",
   "execution_count": 26,
   "metadata": {},
   "outputs": [],
   "source": [
    "#cat_game = train_pitch[['捕手ID', '試合ID']].groupby(['捕手ID', '試合ID']).count()\n",
    "#cat_game = pd.DataFrame(cat_game.groupby(['捕手ID']).size())\n",
    "#cat_game.reset_index(inplace=True)\n",
    "#cat_game.rename(columns={0: 'cat_game_cnt'}, inplace=True)"
   ]
  },
  {
   "cell_type": "markdown",
   "metadata": {},
   "source": [
    "### イニング数"
   ]
  },
  {
   "cell_type": "code",
   "execution_count": 27,
   "metadata": {},
   "outputs": [],
   "source": [
    "#cat_inning = train_pitch[['捕手ID', '試合ID', 'イニング']].groupby(['捕手ID', '試合ID', 'イニング']).count()\n",
    "#cat_inning = pd.DataFrame(cat_inning.groupby(['捕手ID']).size())\n",
    "#cat_inning.reset_index(inplace=True)\n",
    "#cat_inning.rename(columns={0: 'cat_inning_cnt'}, inplace=True)"
   ]
  },
  {
   "cell_type": "markdown",
   "metadata": {},
   "source": [
    "### 対戦打者数"
   ]
  },
  {
   "cell_type": "code",
   "execution_count": 28,
   "metadata": {},
   "outputs": [],
   "source": [
    "#cat_batcnt = train_pitch[['捕手ID', '試合ID', 'イニング', 'イニング内打席数']].groupby(['捕手ID', '試合ID', 'イニング', 'イニング内打席数']).count()\n",
    "#cat_batcnt = pd.DataFrame(cat_batcnt.groupby(['捕手ID']).size())\n",
    "#cat_batcnt.reset_index(inplace=True)\n",
    "#cat_batcnt.rename(columns={0: 'cat_batter_cnt'}, inplace=True)"
   ]
  },
  {
   "cell_type": "markdown",
   "metadata": {},
   "source": [
    "### 捕手実績まとめ"
   ]
  },
  {
   "cell_type": "code",
   "execution_count": 29,
   "metadata": {},
   "outputs": [],
   "source": [
    "#catch_ball = catch_ball.merge(cat_game, on='捕手ID', how='left')\n",
    "#catch_ball = catch_ball.merge(cat_inning, on='捕手ID', how='left')\n",
    "#catch_ball = catch_ball.merge(cat_batcnt, on='捕手ID', how='left')"
   ]
  },
  {
   "cell_type": "markdown",
   "metadata": {},
   "source": [
    "### 1イニング当たり、1試合当たり、1打席当たり\n",
    "- cat_inning_per_game: イニング数/試合数\n",
    "- cat_batter_per_game: 打席数/試合数\n",
    "- cat_ball_per_game: 投球数/試合数\n",
    "- cat_batter_per_inning: 打席数/イニング数\n",
    "- cat_ball_per_inning: 投球数/イニング数\n",
    "- cat_ball_per_batter: 投球数/打席数"
   ]
  },
  {
   "cell_type": "code",
   "execution_count": 30,
   "metadata": {},
   "outputs": [],
   "source": [
    "#catch_ball['cat_inning_per_game'] = catch_ball['cat_inning_cnt'] / catch_ball['cat_game_cnt']\n",
    "#catch_ball['cat_batter_per_game'] = catch_ball['cat_batter_cnt'] / catch_ball['cat_game_cnt']\n",
    "#catch_ball['cat_ball_per_game'] = catch_ball['c_total'] / catch_ball['cat_game_cnt']\n",
    "#catch_ball['cat_batter_per_inning'] = catch_ball['cat_batter_cnt'] / catch_ball['cat_inning_cnt']\n",
    "#catch_ball['cat_ball_per_inning'] = catch_ball['c_total'] / catch_ball['cat_inning_cnt']\n",
    "#catch_ball['cat_ball_per_batter'] = catch_ball['c_total'] / catch_ball['cat_batter_cnt']"
   ]
  },
  {
   "cell_type": "code",
   "execution_count": 31,
   "metadata": {
    "scrolled": true
   },
   "outputs": [],
   "source": [
    "#print(catch_ball.shape)\n",
    "#catch_ball.head()"
   ]
  },
  {
   "cell_type": "code",
   "execution_count": 32,
   "metadata": {
    "scrolled": true
   },
   "outputs": [],
   "source": [
    "#catch_ball.describe()"
   ]
  },
  {
   "cell_type": "code",
   "execution_count": 33,
   "metadata": {},
   "outputs": [],
   "source": [
    "#catch_ball.to_feather('intermediate/cat_2017_2.f')"
   ]
  }
 ],
 "metadata": {
  "kernelspec": {
   "display_name": "Python 3",
   "language": "python",
   "name": "python3"
  },
  "language_info": {
   "codemirror_mode": {
    "name": "ipython",
    "version": 3
   },
   "file_extension": ".py",
   "mimetype": "text/x-python",
   "name": "python",
   "nbconvert_exporter": "python",
   "pygments_lexer": "ipython3",
   "version": "3.7.6"
  }
 },
 "nbformat": 4,
 "nbformat_minor": 4
}
