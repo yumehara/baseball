{
 "cells": [
  {
   "cell_type": "markdown",
   "metadata": {},
   "source": [
    "## pitch2017前処理"
   ]
  },
  {
   "cell_type": "code",
   "execution_count": 1,
   "metadata": {},
   "outputs": [],
   "source": [
    "import numpy as np\n",
    "import matplotlib.pyplot as plt\n",
    "import pandas as pd\n",
    "import feather\n",
    "pd.set_option('display.max_Columns', 100)"
   ]
  },
  {
   "cell_type": "code",
   "execution_count": 2,
   "metadata": {},
   "outputs": [
    {
     "name": "stdout",
     "output_type": "stream",
     "text": [
      "(257117, 51)\n"
     ]
    }
   ],
   "source": [
    "train_pitch = pd.read_feather('data/train_pitch.f')\n",
    "print(train_pitch.shape)"
   ]
  },
  {
   "cell_type": "markdown",
   "metadata": {},
   "source": [
    "### 投手\n",
    "#### 球種\n",
    "0:ストレート 1:カーブ 2:スライダー 3:シュート 4:フォーク 5:チェンジアップ 6:シンカー 7:カットボール"
   ]
  },
  {
   "cell_type": "code",
   "execution_count": 3,
   "metadata": {},
   "outputs": [],
   "source": [
    "train_pitch.replace({'球種': {\n",
    "    0: '0_straight', \n",
    "    1: '1_curve', \n",
    "    2: '2_slider', \n",
    "    3: '3_shoot', \n",
    "    4: '4_fork', \n",
    "    5: '5_changeup', \n",
    "    6: '6_sinker', \n",
    "    7: '7_cutball'\n",
    "}}, inplace=True)\n",
    "train_pitch.rename(columns={'球種': 'ball'}, inplace=True)"
   ]
  },
  {
   "cell_type": "code",
   "execution_count": 4,
   "metadata": {},
   "outputs": [],
   "source": [
    "pitch_ball = train_pitch[['投手ID','ball']]\n",
    "pitch_ball = pd.get_dummies(pitch_ball, columns=['ball'])"
   ]
  },
  {
   "cell_type": "code",
   "execution_count": 5,
   "metadata": {},
   "outputs": [],
   "source": [
    "groupby_id = pitch_ball.groupby('投手ID').sum()"
   ]
  },
  {
   "cell_type": "code",
   "execution_count": 6,
   "metadata": {},
   "outputs": [],
   "source": [
    "groupby_id['curve'] =  groupby_id['ball_1_curve'] / groupby_id['ball_0_straight']\n",
    "groupby_id['slider'] =  groupby_id['ball_2_slider'] / groupby_id['ball_0_straight']\n",
    "groupby_id['shoot'] =  groupby_id['ball_3_shoot'] / groupby_id['ball_0_straight']\n",
    "groupby_id['fork'] =  groupby_id['ball_4_fork'] / groupby_id['ball_0_straight']\n",
    "groupby_id['changeup'] =  groupby_id['ball_5_changeup'] / groupby_id['ball_0_straight']\n",
    "groupby_id['sinker'] =  groupby_id['ball_6_sinker'] / groupby_id['ball_0_straight']\n",
    "groupby_id['cutball'] =  groupby_id['ball_7_cutball'] / groupby_id['ball_0_straight']\n",
    "groupby_id['total'] = (groupby_id['ball_0_straight'] + groupby_id['ball_1_curve'] + groupby_id['ball_2_slider']\n",
    "                       + groupby_id['ball_3_shoot'] + groupby_id['ball_4_fork'] + groupby_id['ball_5_changeup']\n",
    "                       + groupby_id['ball_6_sinker'] + groupby_id['ball_7_cutball'])"
   ]
  },
  {
   "cell_type": "code",
   "execution_count": 7,
   "metadata": {},
   "outputs": [],
   "source": [
    "pitch_ball = groupby_id.reset_index(inplace=False)"
   ]
  },
  {
   "cell_type": "code",
   "execution_count": 8,
   "metadata": {},
   "outputs": [],
   "source": [
    "pitch_ball.drop(\n",
    "    columns=[\n",
    "        'ball_0_straight', 'ball_1_curve', 'ball_2_slider', 'ball_3_shoot', \n",
    "        'ball_4_fork', 'ball_5_changeup', 'ball_6_sinker', 'ball_7_cutball'\n",
    "    ], inplace=True)"
   ]
  },
  {
   "cell_type": "code",
   "execution_count": 9,
   "metadata": {
    "scrolled": false
   },
   "outputs": [
    {
     "data": {
      "text/html": [
       "<div>\n",
       "<style scoped>\n",
       "    .dataframe tbody tr th:only-of-type {\n",
       "        vertical-align: middle;\n",
       "    }\n",
       "\n",
       "    .dataframe tbody tr th {\n",
       "        vertical-align: top;\n",
       "    }\n",
       "\n",
       "    .dataframe thead th {\n",
       "        text-align: right;\n",
       "    }\n",
       "</style>\n",
       "<table border=\"1\" class=\"dataframe\">\n",
       "  <thead>\n",
       "    <tr style=\"text-align: right;\">\n",
       "      <th></th>\n",
       "      <th>投手ID</th>\n",
       "      <th>curve</th>\n",
       "      <th>slider</th>\n",
       "      <th>shoot</th>\n",
       "      <th>fork</th>\n",
       "      <th>changeup</th>\n",
       "      <th>sinker</th>\n",
       "      <th>cutball</th>\n",
       "      <th>total</th>\n",
       "    </tr>\n",
       "  </thead>\n",
       "  <tbody>\n",
       "    <tr>\n",
       "      <th>0</th>\n",
       "      <td>11606</td>\n",
       "      <td>0.495751</td>\n",
       "      <td>0.000000</td>\n",
       "      <td>0.000000</td>\n",
       "      <td>0.407932</td>\n",
       "      <td>0.000000</td>\n",
       "      <td>0.000000</td>\n",
       "      <td>0.101983</td>\n",
       "      <td>708.0</td>\n",
       "    </tr>\n",
       "    <tr>\n",
       "      <th>1</th>\n",
       "      <td>11766</td>\n",
       "      <td>0.000000</td>\n",
       "      <td>0.967290</td>\n",
       "      <td>0.509346</td>\n",
       "      <td>0.000000</td>\n",
       "      <td>0.051402</td>\n",
       "      <td>0.149533</td>\n",
       "      <td>0.000000</td>\n",
       "      <td>573.0</td>\n",
       "    </tr>\n",
       "    <tr>\n",
       "      <th>2</th>\n",
       "      <td>11807</td>\n",
       "      <td>0.136157</td>\n",
       "      <td>0.003026</td>\n",
       "      <td>0.016641</td>\n",
       "      <td>0.340393</td>\n",
       "      <td>0.000000</td>\n",
       "      <td>0.000000</td>\n",
       "      <td>0.003026</td>\n",
       "      <td>991.0</td>\n",
       "    </tr>\n",
       "    <tr>\n",
       "      <th>3</th>\n",
       "      <td>12103</td>\n",
       "      <td>0.133880</td>\n",
       "      <td>0.581967</td>\n",
       "      <td>0.060109</td>\n",
       "      <td>0.161202</td>\n",
       "      <td>0.000000</td>\n",
       "      <td>0.000000</td>\n",
       "      <td>0.000000</td>\n",
       "      <td>709.0</td>\n",
       "    </tr>\n",
       "    <tr>\n",
       "      <th>4</th>\n",
       "      <td>12113</td>\n",
       "      <td>0.038363</td>\n",
       "      <td>0.948849</td>\n",
       "      <td>0.843990</td>\n",
       "      <td>0.000000</td>\n",
       "      <td>0.340153</td>\n",
       "      <td>1.242967</td>\n",
       "      <td>0.913043</td>\n",
       "      <td>2083.0</td>\n",
       "    </tr>\n",
       "  </tbody>\n",
       "</table>\n",
       "</div>"
      ],
      "text/plain": [
       "    投手ID     curve    slider     shoot      fork  changeup    sinker  \\\n",
       "0  11606  0.495751  0.000000  0.000000  0.407932  0.000000  0.000000   \n",
       "1  11766  0.000000  0.967290  0.509346  0.000000  0.051402  0.149533   \n",
       "2  11807  0.136157  0.003026  0.016641  0.340393  0.000000  0.000000   \n",
       "3  12103  0.133880  0.581967  0.060109  0.161202  0.000000  0.000000   \n",
       "4  12113  0.038363  0.948849  0.843990  0.000000  0.340153  1.242967   \n",
       "\n",
       "    cutball   total  \n",
       "0  0.101983   708.0  \n",
       "1  0.000000   573.0  \n",
       "2  0.003026   991.0  \n",
       "3  0.000000   709.0  \n",
       "4  0.913043  2083.0  "
      ]
     },
     "execution_count": 9,
     "metadata": {},
     "output_type": "execute_result"
    }
   ],
   "source": [
    "pitch_ball.head()"
   ]
  },
  {
   "cell_type": "markdown",
   "metadata": {},
   "source": [
    "### 登板試合数"
   ]
  },
  {
   "cell_type": "code",
   "execution_count": 10,
   "metadata": {},
   "outputs": [],
   "source": [
    "pit_game = train_pitch[['投手ID', '試合ID']].groupby(['投手ID', '試合ID']).count()\n",
    "pit_game = pd.DataFrame(pit_game.groupby(['投手ID']).size())\n",
    "pit_game.reset_index(inplace=True)\n",
    "pit_game.rename(columns={0: 'pit_game_cnt'}, inplace=True)"
   ]
  },
  {
   "cell_type": "markdown",
   "metadata": {},
   "source": [
    "### イニング数"
   ]
  },
  {
   "cell_type": "code",
   "execution_count": 11,
   "metadata": {},
   "outputs": [],
   "source": [
    "pit_inning = train_pitch[['投手ID', '試合ID', 'イニング']].groupby(['投手ID', '試合ID', 'イニング']).count()\n",
    "pit_inning = pd.DataFrame(pit_inning.groupby(['投手ID']).size())\n",
    "pit_inning.reset_index(inplace=True)\n",
    "pit_inning.rename(columns={0: 'pit_inning_cnt'}, inplace=True)"
   ]
  },
  {
   "cell_type": "markdown",
   "metadata": {},
   "source": [
    "### 対戦打者数"
   ]
  },
  {
   "cell_type": "code",
   "execution_count": 12,
   "metadata": {
    "scrolled": true
   },
   "outputs": [],
   "source": [
    "pit_batcnt = train_pitch[['投手ID', '試合ID', 'イニング', 'イニング内打席数']].groupby(['投手ID', '試合ID', 'イニング', 'イニング内打席数']).count()\n",
    "pit_batcnt = pd.DataFrame(pit_batcnt.groupby(['投手ID']).size())\n",
    "pit_batcnt.reset_index(inplace=True)\n",
    "pit_batcnt.rename(columns={0: 'pit_batter_cnt'}, inplace=True)"
   ]
  },
  {
   "cell_type": "markdown",
   "metadata": {},
   "source": [
    "### 投手実績まとめ"
   ]
  },
  {
   "cell_type": "code",
   "execution_count": 13,
   "metadata": {},
   "outputs": [
    {
     "name": "stdout",
     "output_type": "stream",
     "text": [
      "(326, 12)\n"
     ]
    },
    {
     "data": {
      "text/html": [
       "<div>\n",
       "<style scoped>\n",
       "    .dataframe tbody tr th:only-of-type {\n",
       "        vertical-align: middle;\n",
       "    }\n",
       "\n",
       "    .dataframe tbody tr th {\n",
       "        vertical-align: top;\n",
       "    }\n",
       "\n",
       "    .dataframe thead th {\n",
       "        text-align: right;\n",
       "    }\n",
       "</style>\n",
       "<table border=\"1\" class=\"dataframe\">\n",
       "  <thead>\n",
       "    <tr style=\"text-align: right;\">\n",
       "      <th></th>\n",
       "      <th>投手ID</th>\n",
       "      <th>curve</th>\n",
       "      <th>slider</th>\n",
       "      <th>shoot</th>\n",
       "      <th>fork</th>\n",
       "      <th>changeup</th>\n",
       "      <th>sinker</th>\n",
       "      <th>cutball</th>\n",
       "      <th>total</th>\n",
       "      <th>pit_game_cnt</th>\n",
       "      <th>pit_inning_cnt</th>\n",
       "      <th>pit_batter_cnt</th>\n",
       "    </tr>\n",
       "  </thead>\n",
       "  <tbody>\n",
       "    <tr>\n",
       "      <th>0</th>\n",
       "      <td>11606</td>\n",
       "      <td>0.495751</td>\n",
       "      <td>0.000000</td>\n",
       "      <td>0.000000</td>\n",
       "      <td>0.407932</td>\n",
       "      <td>0.000000</td>\n",
       "      <td>0.000000</td>\n",
       "      <td>0.101983</td>\n",
       "      <td>708.0</td>\n",
       "      <td>46</td>\n",
       "      <td>54</td>\n",
       "      <td>171</td>\n",
       "    </tr>\n",
       "    <tr>\n",
       "      <th>1</th>\n",
       "      <td>11766</td>\n",
       "      <td>0.000000</td>\n",
       "      <td>0.967290</td>\n",
       "      <td>0.509346</td>\n",
       "      <td>0.000000</td>\n",
       "      <td>0.051402</td>\n",
       "      <td>0.149533</td>\n",
       "      <td>0.000000</td>\n",
       "      <td>573.0</td>\n",
       "      <td>50</td>\n",
       "      <td>50</td>\n",
       "      <td>154</td>\n",
       "    </tr>\n",
       "    <tr>\n",
       "      <th>2</th>\n",
       "      <td>11807</td>\n",
       "      <td>0.136157</td>\n",
       "      <td>0.003026</td>\n",
       "      <td>0.016641</td>\n",
       "      <td>0.340393</td>\n",
       "      <td>0.000000</td>\n",
       "      <td>0.000000</td>\n",
       "      <td>0.003026</td>\n",
       "      <td>991.0</td>\n",
       "      <td>52</td>\n",
       "      <td>61</td>\n",
       "      <td>235</td>\n",
       "    </tr>\n",
       "    <tr>\n",
       "      <th>3</th>\n",
       "      <td>12103</td>\n",
       "      <td>0.133880</td>\n",
       "      <td>0.581967</td>\n",
       "      <td>0.060109</td>\n",
       "      <td>0.161202</td>\n",
       "      <td>0.000000</td>\n",
       "      <td>0.000000</td>\n",
       "      <td>0.000000</td>\n",
       "      <td>709.0</td>\n",
       "      <td>24</td>\n",
       "      <td>51</td>\n",
       "      <td>191</td>\n",
       "    </tr>\n",
       "    <tr>\n",
       "      <th>4</th>\n",
       "      <td>12113</td>\n",
       "      <td>0.038363</td>\n",
       "      <td>0.948849</td>\n",
       "      <td>0.843990</td>\n",
       "      <td>0.000000</td>\n",
       "      <td>0.340153</td>\n",
       "      <td>1.242967</td>\n",
       "      <td>0.913043</td>\n",
       "      <td>2083.0</td>\n",
       "      <td>23</td>\n",
       "      <td>129</td>\n",
       "      <td>540</td>\n",
       "    </tr>\n",
       "  </tbody>\n",
       "</table>\n",
       "</div>"
      ],
      "text/plain": [
       "    投手ID     curve    slider     shoot      fork  changeup    sinker  \\\n",
       "0  11606  0.495751  0.000000  0.000000  0.407932  0.000000  0.000000   \n",
       "1  11766  0.000000  0.967290  0.509346  0.000000  0.051402  0.149533   \n",
       "2  11807  0.136157  0.003026  0.016641  0.340393  0.000000  0.000000   \n",
       "3  12103  0.133880  0.581967  0.060109  0.161202  0.000000  0.000000   \n",
       "4  12113  0.038363  0.948849  0.843990  0.000000  0.340153  1.242967   \n",
       "\n",
       "    cutball   total  pit_game_cnt  pit_inning_cnt  pit_batter_cnt  \n",
       "0  0.101983   708.0            46              54             171  \n",
       "1  0.000000   573.0            50              50             154  \n",
       "2  0.003026   991.0            52              61             235  \n",
       "3  0.000000   709.0            24              51             191  \n",
       "4  0.913043  2083.0            23             129             540  "
      ]
     },
     "execution_count": 13,
     "metadata": {},
     "output_type": "execute_result"
    }
   ],
   "source": [
    "pitch_ball = pitch_ball.merge(pit_game, on='投手ID', how='left')\n",
    "pitch_ball = pitch_ball.merge(pit_inning, on='投手ID', how='left')\n",
    "pitch_ball = pitch_ball.merge(pit_batcnt, on='投手ID', how='left')\n",
    "print(pitch_ball.shape)\n",
    "pitch_ball.head()"
   ]
  },
  {
   "cell_type": "code",
   "execution_count": 14,
   "metadata": {
    "scrolled": true
   },
   "outputs": [
    {
     "data": {
      "text/html": [
       "<div>\n",
       "<style scoped>\n",
       "    .dataframe tbody tr th:only-of-type {\n",
       "        vertical-align: middle;\n",
       "    }\n",
       "\n",
       "    .dataframe tbody tr th {\n",
       "        vertical-align: top;\n",
       "    }\n",
       "\n",
       "    .dataframe thead th {\n",
       "        text-align: right;\n",
       "    }\n",
       "</style>\n",
       "<table border=\"1\" class=\"dataframe\">\n",
       "  <thead>\n",
       "    <tr style=\"text-align: right;\">\n",
       "      <th></th>\n",
       "      <th>投手ID</th>\n",
       "      <th>curve</th>\n",
       "      <th>slider</th>\n",
       "      <th>shoot</th>\n",
       "      <th>fork</th>\n",
       "      <th>changeup</th>\n",
       "      <th>sinker</th>\n",
       "      <th>cutball</th>\n",
       "      <th>total</th>\n",
       "      <th>pit_game_cnt</th>\n",
       "      <th>pit_inning_cnt</th>\n",
       "      <th>pit_batter_cnt</th>\n",
       "    </tr>\n",
       "  </thead>\n",
       "  <tbody>\n",
       "    <tr>\n",
       "      <th>count</th>\n",
       "      <td>3.260000e+02</td>\n",
       "      <td>326.000000</td>\n",
       "      <td>326.000000</td>\n",
       "      <td>326.000000</td>\n",
       "      <td>326.000000</td>\n",
       "      <td>326.000000</td>\n",
       "      <td>326.000000</td>\n",
       "      <td>326.000000</td>\n",
       "      <td>326.000000</td>\n",
       "      <td>326.000000</td>\n",
       "      <td>326.000000</td>\n",
       "      <td>326.000000</td>\n",
       "    </tr>\n",
       "    <tr>\n",
       "      <th>mean</th>\n",
       "      <td>1.163288e+06</td>\n",
       "      <td>0.257321</td>\n",
       "      <td>0.461623</td>\n",
       "      <td>0.500294</td>\n",
       "      <td>0.186347</td>\n",
       "      <td>0.138092</td>\n",
       "      <td>0.021658</td>\n",
       "      <td>0.146885</td>\n",
       "      <td>788.702454</td>\n",
       "      <td>20.766871</td>\n",
       "      <td>50.245399</td>\n",
       "      <td>199.684049</td>\n",
       "    </tr>\n",
       "    <tr>\n",
       "      <th>std</th>\n",
       "      <td>4.161437e+05</td>\n",
       "      <td>2.295388</td>\n",
       "      <td>0.400976</td>\n",
       "      <td>5.221909</td>\n",
       "      <td>0.227734</td>\n",
       "      <td>0.313514</td>\n",
       "      <td>0.104249</td>\n",
       "      <td>0.633629</td>\n",
       "      <td>756.881660</td>\n",
       "      <td>18.831584</td>\n",
       "      <td>47.533255</td>\n",
       "      <td>192.461884</td>\n",
       "    </tr>\n",
       "    <tr>\n",
       "      <th>min</th>\n",
       "      <td>1.160600e+04</td>\n",
       "      <td>0.000000</td>\n",
       "      <td>0.000000</td>\n",
       "      <td>0.000000</td>\n",
       "      <td>0.000000</td>\n",
       "      <td>0.000000</td>\n",
       "      <td>0.000000</td>\n",
       "      <td>0.000000</td>\n",
       "      <td>4.000000</td>\n",
       "      <td>1.000000</td>\n",
       "      <td>1.000000</td>\n",
       "      <td>2.000000</td>\n",
       "    </tr>\n",
       "    <tr>\n",
       "      <th>25%</th>\n",
       "      <td>9.253225e+05</td>\n",
       "      <td>0.000000</td>\n",
       "      <td>0.176896</td>\n",
       "      <td>0.000000</td>\n",
       "      <td>0.000000</td>\n",
       "      <td>0.000000</td>\n",
       "      <td>0.000000</td>\n",
       "      <td>0.000000</td>\n",
       "      <td>184.000000</td>\n",
       "      <td>5.250000</td>\n",
       "      <td>11.250000</td>\n",
       "      <td>46.000000</td>\n",
       "    </tr>\n",
       "    <tr>\n",
       "      <th>50%</th>\n",
       "      <td>1.300036e+06</td>\n",
       "      <td>0.077167</td>\n",
       "      <td>0.395109</td>\n",
       "      <td>0.000000</td>\n",
       "      <td>0.106137</td>\n",
       "      <td>0.000000</td>\n",
       "      <td>0.000000</td>\n",
       "      <td>0.000000</td>\n",
       "      <td>569.000000</td>\n",
       "      <td>15.000000</td>\n",
       "      <td>37.000000</td>\n",
       "      <td>143.500000</td>\n",
       "    </tr>\n",
       "    <tr>\n",
       "      <th>75%</th>\n",
       "      <td>1.500108e+06</td>\n",
       "      <td>0.192714</td>\n",
       "      <td>0.628960</td>\n",
       "      <td>0.233909</td>\n",
       "      <td>0.330539</td>\n",
       "      <td>0.170576</td>\n",
       "      <td>0.000000</td>\n",
       "      <td>0.066470</td>\n",
       "      <td>1031.000000</td>\n",
       "      <td>27.000000</td>\n",
       "      <td>67.750000</td>\n",
       "      <td>263.250000</td>\n",
       "    </tr>\n",
       "    <tr>\n",
       "      <th>max</th>\n",
       "      <td>1.700016e+06</td>\n",
       "      <td>41.461538</td>\n",
       "      <td>2.264286</td>\n",
       "      <td>94.153846</td>\n",
       "      <td>1.156364</td>\n",
       "      <td>3.923077</td>\n",
       "      <td>1.242967</td>\n",
       "      <td>10.230769</td>\n",
       "      <td>3004.000000</td>\n",
       "      <td>72.000000</td>\n",
       "      <td>190.000000</td>\n",
       "      <td>756.000000</td>\n",
       "    </tr>\n",
       "  </tbody>\n",
       "</table>\n",
       "</div>"
      ],
      "text/plain": [
       "               投手ID       curve      slider       shoot        fork  \\\n",
       "count  3.260000e+02  326.000000  326.000000  326.000000  326.000000   \n",
       "mean   1.163288e+06    0.257321    0.461623    0.500294    0.186347   \n",
       "std    4.161437e+05    2.295388    0.400976    5.221909    0.227734   \n",
       "min    1.160600e+04    0.000000    0.000000    0.000000    0.000000   \n",
       "25%    9.253225e+05    0.000000    0.176896    0.000000    0.000000   \n",
       "50%    1.300036e+06    0.077167    0.395109    0.000000    0.106137   \n",
       "75%    1.500108e+06    0.192714    0.628960    0.233909    0.330539   \n",
       "max    1.700016e+06   41.461538    2.264286   94.153846    1.156364   \n",
       "\n",
       "         changeup      sinker     cutball        total  pit_game_cnt  \\\n",
       "count  326.000000  326.000000  326.000000   326.000000    326.000000   \n",
       "mean     0.138092    0.021658    0.146885   788.702454     20.766871   \n",
       "std      0.313514    0.104249    0.633629   756.881660     18.831584   \n",
       "min      0.000000    0.000000    0.000000     4.000000      1.000000   \n",
       "25%      0.000000    0.000000    0.000000   184.000000      5.250000   \n",
       "50%      0.000000    0.000000    0.000000   569.000000     15.000000   \n",
       "75%      0.170576    0.000000    0.066470  1031.000000     27.000000   \n",
       "max      3.923077    1.242967   10.230769  3004.000000     72.000000   \n",
       "\n",
       "       pit_inning_cnt  pit_batter_cnt  \n",
       "count      326.000000      326.000000  \n",
       "mean        50.245399      199.684049  \n",
       "std         47.533255      192.461884  \n",
       "min          1.000000        2.000000  \n",
       "25%         11.250000       46.000000  \n",
       "50%         37.000000      143.500000  \n",
       "75%         67.750000      263.250000  \n",
       "max        190.000000      756.000000  "
      ]
     },
     "execution_count": 14,
     "metadata": {},
     "output_type": "execute_result"
    }
   ],
   "source": [
    "pitch_ball.describe()"
   ]
  },
  {
   "cell_type": "markdown",
   "metadata": {},
   "source": [
    "### 2017年全投手平均\n",
    "- total: 788.702454\n",
    "- pit_game_cnt: 20.766871\n",
    "- pit_inning_cnt: 50.245399\n",
    "- pit_batter_cnt: 199.684049"
   ]
  },
  {
   "cell_type": "code",
   "execution_count": 15,
   "metadata": {},
   "outputs": [],
   "source": [
    "pitch_ball.to_feather('intermediate/pit_2017.f')"
   ]
  },
  {
   "cell_type": "markdown",
   "metadata": {},
   "source": [
    "## 野手\n",
    "### 打席数"
   ]
  },
  {
   "cell_type": "code",
   "execution_count": 16,
   "metadata": {},
   "outputs": [],
   "source": [
    "bat_ball = train_pitch[['打者ID', '試合ID', 'イニング', 'イニング内打席数']].groupby(['打者ID', '試合ID', 'イニング', 'イニング内打席数']).count()\n",
    "bat_ball = pd.DataFrame(bat_ball.groupby(['打者ID']).size())\n",
    "bat_ball.reset_index(inplace=True)\n",
    "bat_ball.rename(columns={0: 'batter_cnt'}, inplace=True)"
   ]
  },
  {
   "cell_type": "markdown",
   "metadata": {},
   "source": [
    "### 試合数"
   ]
  },
  {
   "cell_type": "code",
   "execution_count": 17,
   "metadata": {},
   "outputs": [],
   "source": [
    "bat_game = train_pitch[['打者ID', '試合ID']].groupby(['打者ID', '試合ID']).count()\n",
    "bat_game = pd.DataFrame(bat_game.groupby(['打者ID']).size())\n",
    "bat_game.reset_index(inplace=True)\n",
    "bat_game.rename(columns={0: 'bat_game_cnt'}, inplace=True)"
   ]
  },
  {
   "cell_type": "markdown",
   "metadata": {},
   "source": [
    "### 打者成績まとめ"
   ]
  },
  {
   "cell_type": "code",
   "execution_count": 18,
   "metadata": {},
   "outputs": [
    {
     "name": "stdout",
     "output_type": "stream",
     "text": [
      "(466, 3)\n"
     ]
    },
    {
     "data": {
      "text/html": [
       "<div>\n",
       "<style scoped>\n",
       "    .dataframe tbody tr th:only-of-type {\n",
       "        vertical-align: middle;\n",
       "    }\n",
       "\n",
       "    .dataframe tbody tr th {\n",
       "        vertical-align: top;\n",
       "    }\n",
       "\n",
       "    .dataframe thead th {\n",
       "        text-align: right;\n",
       "    }\n",
       "</style>\n",
       "<table border=\"1\" class=\"dataframe\">\n",
       "  <thead>\n",
       "    <tr style=\"text-align: right;\">\n",
       "      <th></th>\n",
       "      <th>打者ID</th>\n",
       "      <th>batter_cnt</th>\n",
       "      <th>bat_game_cnt</th>\n",
       "    </tr>\n",
       "  </thead>\n",
       "  <tbody>\n",
       "    <tr>\n",
       "      <th>0</th>\n",
       "      <td>11270</td>\n",
       "      <td>83</td>\n",
       "      <td>35</td>\n",
       "    </tr>\n",
       "    <tr>\n",
       "      <th>1</th>\n",
       "      <td>11302</td>\n",
       "      <td>156</td>\n",
       "      <td>69</td>\n",
       "    </tr>\n",
       "    <tr>\n",
       "      <th>2</th>\n",
       "      <td>11343</td>\n",
       "      <td>41</td>\n",
       "      <td>28</td>\n",
       "    </tr>\n",
       "    <tr>\n",
       "      <th>3</th>\n",
       "      <td>11436</td>\n",
       "      <td>268</td>\n",
       "      <td>81</td>\n",
       "    </tr>\n",
       "    <tr>\n",
       "      <th>4</th>\n",
       "      <td>11511</td>\n",
       "      <td>48</td>\n",
       "      <td>21</td>\n",
       "    </tr>\n",
       "  </tbody>\n",
       "</table>\n",
       "</div>"
      ],
      "text/plain": [
       "    打者ID  batter_cnt  bat_game_cnt\n",
       "0  11270          83            35\n",
       "1  11302         156            69\n",
       "2  11343          41            28\n",
       "3  11436         268            81\n",
       "4  11511          48            21"
      ]
     },
     "execution_count": 18,
     "metadata": {},
     "output_type": "execute_result"
    }
   ],
   "source": [
    "bat_ball = bat_ball.merge(bat_game, on='打者ID', how='left')\n",
    "print(bat_ball.shape)\n",
    "bat_ball.head()"
   ]
  },
  {
   "cell_type": "code",
   "execution_count": 19,
   "metadata": {},
   "outputs": [
    {
     "data": {
      "text/html": [
       "<div>\n",
       "<style scoped>\n",
       "    .dataframe tbody tr th:only-of-type {\n",
       "        vertical-align: middle;\n",
       "    }\n",
       "\n",
       "    .dataframe tbody tr th {\n",
       "        vertical-align: top;\n",
       "    }\n",
       "\n",
       "    .dataframe thead th {\n",
       "        text-align: right;\n",
       "    }\n",
       "</style>\n",
       "<table border=\"1\" class=\"dataframe\">\n",
       "  <thead>\n",
       "    <tr style=\"text-align: right;\">\n",
       "      <th></th>\n",
       "      <th>打者ID</th>\n",
       "      <th>batter_cnt</th>\n",
       "      <th>bat_game_cnt</th>\n",
       "    </tr>\n",
       "  </thead>\n",
       "  <tbody>\n",
       "    <tr>\n",
       "      <th>count</th>\n",
       "      <td>4.660000e+02</td>\n",
       "      <td>466.000000</td>\n",
       "      <td>466.000000</td>\n",
       "    </tr>\n",
       "    <tr>\n",
       "      <th>mean</th>\n",
       "      <td>1.044992e+06</td>\n",
       "      <td>139.688841</td>\n",
       "      <td>41.448498</td>\n",
       "    </tr>\n",
       "    <tr>\n",
       "      <th>std</th>\n",
       "      <td>4.687117e+05</td>\n",
       "      <td>184.754006</td>\n",
       "      <td>45.398623</td>\n",
       "    </tr>\n",
       "    <tr>\n",
       "      <th>min</th>\n",
       "      <td>1.127000e+04</td>\n",
       "      <td>1.000000</td>\n",
       "      <td>1.000000</td>\n",
       "    </tr>\n",
       "    <tr>\n",
       "      <th>25%</th>\n",
       "      <td>8.000125e+05</td>\n",
       "      <td>7.250000</td>\n",
       "      <td>4.000000</td>\n",
       "    </tr>\n",
       "    <tr>\n",
       "      <th>50%</th>\n",
       "      <td>1.100114e+06</td>\n",
       "      <td>44.000000</td>\n",
       "      <td>21.000000</td>\n",
       "    </tr>\n",
       "    <tr>\n",
       "      <th>75%</th>\n",
       "      <td>1.400182e+06</td>\n",
       "      <td>222.500000</td>\n",
       "      <td>71.750000</td>\n",
       "    </tr>\n",
       "    <tr>\n",
       "      <th>max</th>\n",
       "      <td>1.700019e+06</td>\n",
       "      <td>680.000000</td>\n",
       "      <td>143.000000</td>\n",
       "    </tr>\n",
       "  </tbody>\n",
       "</table>\n",
       "</div>"
      ],
      "text/plain": [
       "               打者ID  batter_cnt  bat_game_cnt\n",
       "count  4.660000e+02  466.000000    466.000000\n",
       "mean   1.044992e+06  139.688841     41.448498\n",
       "std    4.687117e+05  184.754006     45.398623\n",
       "min    1.127000e+04    1.000000      1.000000\n",
       "25%    8.000125e+05    7.250000      4.000000\n",
       "50%    1.100114e+06   44.000000     21.000000\n",
       "75%    1.400182e+06  222.500000     71.750000\n",
       "max    1.700019e+06  680.000000    143.000000"
      ]
     },
     "execution_count": 19,
     "metadata": {},
     "output_type": "execute_result"
    }
   ],
   "source": [
    "bat_ball.describe()"
   ]
  },
  {
   "cell_type": "markdown",
   "metadata": {},
   "source": [
    "### 2017年全野手平均\n",
    "- batter_cnt: 139.688841\n",
    "- bat_game_cnt: 41.448498"
   ]
  },
  {
   "cell_type": "code",
   "execution_count": 20,
   "metadata": {},
   "outputs": [],
   "source": [
    "bat_ball.to_feather('intermediate/bat_2017.f')"
   ]
  }
 ],
 "metadata": {
  "kernelspec": {
   "display_name": "Python 3",
   "language": "python",
   "name": "python3"
  },
  "language_info": {
   "codemirror_mode": {
    "name": "ipython",
    "version": 3
   },
   "file_extension": ".py",
   "mimetype": "text/x-python",
   "name": "python",
   "nbconvert_exporter": "python",
   "pygments_lexer": "ipython3",
   "version": "3.7.6"
  }
 },
 "nbformat": 4,
 "nbformat_minor": 4
}
