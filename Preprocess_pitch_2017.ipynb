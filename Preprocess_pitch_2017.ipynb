{
 "cells": [
  {
   "cell_type": "markdown",
   "metadata": {},
   "source": [
    "## pitch2017前処理"
   ]
  },
  {
   "cell_type": "code",
   "execution_count": 28,
   "metadata": {},
   "outputs": [],
   "source": [
    "import numpy as np\n",
    "import matplotlib.pyplot as plt\n",
    "import pandas as pd\n",
    "pd.set_option('display.max_Columns', 100)"
   ]
  },
  {
   "cell_type": "code",
   "execution_count": 29,
   "metadata": {},
   "outputs": [
    {
     "name": "stdout",
     "output_type": "stream",
     "text": [
      "(257117, 51)\n"
     ]
    }
   ],
   "source": [
    "train_pitch = pd.read_csv('data/train_pitch.csv')\n",
    "print(train_pitch.shape)"
   ]
  },
  {
   "cell_type": "markdown",
   "metadata": {},
   "source": [
    "### 球種\n",
    "0:ストレート 1:カーブ 2:スライダー 3:シュート 4:フォーク 5:チェンジアップ 6:シンカー 7:カットボール"
   ]
  },
  {
   "cell_type": "code",
   "execution_count": 30,
   "metadata": {},
   "outputs": [],
   "source": [
    "train_pitch.replace({'球種': {\n",
    "    0: '0_straight', \n",
    "    1: '1_curve', \n",
    "    2: '2_slider', \n",
    "    3: '3_shoot', \n",
    "    4: '4_fork', \n",
    "    5: '5_changeup', \n",
    "    6: '6_sinker', \n",
    "    7: '7_cutball'\n",
    "}}, inplace=True)\n",
    "train_pitch.rename(columns={'球種': 'ball'}, inplace=True)"
   ]
  },
  {
   "cell_type": "code",
   "execution_count": 31,
   "metadata": {},
   "outputs": [],
   "source": [
    "pitch_ball = train_pitch[['投手ID','ball']]\n",
    "pitch_ball = pd.get_dummies(pitch_ball, columns=['ball'])"
   ]
  },
  {
   "cell_type": "code",
   "execution_count": 32,
   "metadata": {},
   "outputs": [],
   "source": [
    "groupby_id = pitch_ball.groupby('投手ID').sum()"
   ]
  },
  {
   "cell_type": "code",
   "execution_count": 33,
   "metadata": {},
   "outputs": [],
   "source": [
    "groupby_id['curve'] =  groupby_id['ball_1_curve'] / groupby_id['ball_0_straight']\n",
    "groupby_id['slider'] =  groupby_id['ball_2_slider'] / groupby_id['ball_0_straight']\n",
    "groupby_id['shoot'] =  groupby_id['ball_3_shoot'] / groupby_id['ball_0_straight']\n",
    "groupby_id['fork'] =  groupby_id['ball_4_fork'] / groupby_id['ball_0_straight']\n",
    "groupby_id['changeup'] =  groupby_id['ball_5_changeup'] / groupby_id['ball_0_straight']\n",
    "groupby_id['sinker'] =  groupby_id['ball_6_sinker'] / groupby_id['ball_0_straight']\n",
    "groupby_id['cutball'] =  groupby_id['ball_7_cutball'] / groupby_id['ball_0_straight']\n",
    "groupby_id['total'] = (groupby_id['ball_0_straight'] + groupby_id['ball_1_curve'] + groupby_id['ball_2_slider']\n",
    "                       + groupby_id['ball_3_shoot'] + groupby_id['ball_4_fork'] + groupby_id['ball_5_changeup']\n",
    "                       + groupby_id['ball_6_sinker'] + groupby_id['ball_7_cutball'])"
   ]
  },
  {
   "cell_type": "code",
   "execution_count": 34,
   "metadata": {},
   "outputs": [],
   "source": [
    "groupby_id.reset_index(inplace=True)"
   ]
  },
  {
   "cell_type": "code",
   "execution_count": 36,
   "metadata": {},
   "outputs": [],
   "source": [
    "groupby_id.drop(\n",
    "    columns=[\n",
    "        'ball_0_straight', 'ball_1_curve', 'ball_2_slider', 'ball_3_shoot', \n",
    "        'ball_4_fork', 'ball_5_changeup', 'ball_6_sinker', 'ball_7_cutball'\n",
    "    ], inplace=True)"
   ]
  },
  {
   "cell_type": "code",
   "execution_count": 37,
   "metadata": {},
   "outputs": [
    {
     "data": {
      "text/html": [
       "<div>\n",
       "<style scoped>\n",
       "    .dataframe tbody tr th:only-of-type {\n",
       "        vertical-align: middle;\n",
       "    }\n",
       "\n",
       "    .dataframe tbody tr th {\n",
       "        vertical-align: top;\n",
       "    }\n",
       "\n",
       "    .dataframe thead th {\n",
       "        text-align: right;\n",
       "    }\n",
       "</style>\n",
       "<table border=\"1\" class=\"dataframe\">\n",
       "  <thead>\n",
       "    <tr style=\"text-align: right;\">\n",
       "      <th></th>\n",
       "      <th>投手ID</th>\n",
       "      <th>curve</th>\n",
       "      <th>slider</th>\n",
       "      <th>shoot</th>\n",
       "      <th>fork</th>\n",
       "      <th>changeup</th>\n",
       "      <th>sinker</th>\n",
       "      <th>cutball</th>\n",
       "      <th>total</th>\n",
       "    </tr>\n",
       "  </thead>\n",
       "  <tbody>\n",
       "    <tr>\n",
       "      <th>0</th>\n",
       "      <td>11606</td>\n",
       "      <td>0.495751</td>\n",
       "      <td>0.000000</td>\n",
       "      <td>0.000000</td>\n",
       "      <td>0.407932</td>\n",
       "      <td>0.000000</td>\n",
       "      <td>0.000000</td>\n",
       "      <td>0.101983</td>\n",
       "      <td>708.0</td>\n",
       "    </tr>\n",
       "    <tr>\n",
       "      <th>1</th>\n",
       "      <td>11766</td>\n",
       "      <td>0.000000</td>\n",
       "      <td>0.967290</td>\n",
       "      <td>0.509346</td>\n",
       "      <td>0.000000</td>\n",
       "      <td>0.051402</td>\n",
       "      <td>0.149533</td>\n",
       "      <td>0.000000</td>\n",
       "      <td>573.0</td>\n",
       "    </tr>\n",
       "    <tr>\n",
       "      <th>2</th>\n",
       "      <td>11807</td>\n",
       "      <td>0.136157</td>\n",
       "      <td>0.003026</td>\n",
       "      <td>0.016641</td>\n",
       "      <td>0.340393</td>\n",
       "      <td>0.000000</td>\n",
       "      <td>0.000000</td>\n",
       "      <td>0.003026</td>\n",
       "      <td>991.0</td>\n",
       "    </tr>\n",
       "    <tr>\n",
       "      <th>3</th>\n",
       "      <td>12103</td>\n",
       "      <td>0.133880</td>\n",
       "      <td>0.581967</td>\n",
       "      <td>0.060109</td>\n",
       "      <td>0.161202</td>\n",
       "      <td>0.000000</td>\n",
       "      <td>0.000000</td>\n",
       "      <td>0.000000</td>\n",
       "      <td>709.0</td>\n",
       "    </tr>\n",
       "    <tr>\n",
       "      <th>4</th>\n",
       "      <td>12113</td>\n",
       "      <td>0.038363</td>\n",
       "      <td>0.948849</td>\n",
       "      <td>0.843990</td>\n",
       "      <td>0.000000</td>\n",
       "      <td>0.340153</td>\n",
       "      <td>1.242967</td>\n",
       "      <td>0.913043</td>\n",
       "      <td>2083.0</td>\n",
       "    </tr>\n",
       "  </tbody>\n",
       "</table>\n",
       "</div>"
      ],
      "text/plain": [
       "    投手ID     curve    slider     shoot      fork  changeup    sinker  \\\n",
       "0  11606  0.495751  0.000000  0.000000  0.407932  0.000000  0.000000   \n",
       "1  11766  0.000000  0.967290  0.509346  0.000000  0.051402  0.149533   \n",
       "2  11807  0.136157  0.003026  0.016641  0.340393  0.000000  0.000000   \n",
       "3  12103  0.133880  0.581967  0.060109  0.161202  0.000000  0.000000   \n",
       "4  12113  0.038363  0.948849  0.843990  0.000000  0.340153  1.242967   \n",
       "\n",
       "    cutball   total  \n",
       "0  0.101983   708.0  \n",
       "1  0.000000   573.0  \n",
       "2  0.003026   991.0  \n",
       "3  0.000000   709.0  \n",
       "4  0.913043  2083.0  "
      ]
     },
     "execution_count": 37,
     "metadata": {},
     "output_type": "execute_result"
    }
   ],
   "source": [
    "groupby_id.head()"
   ]
  },
  {
   "cell_type": "code",
   "execution_count": 38,
   "metadata": {},
   "outputs": [],
   "source": [
    "import feather\n",
    "groupby_id.to_feather('intermediate/player2017.f')"
   ]
  },
  {
   "cell_type": "code",
   "execution_count": 39,
   "metadata": {},
   "outputs": [
    {
     "data": {
      "text/plain": [
       "(326, 9)"
      ]
     },
     "execution_count": 39,
     "metadata": {},
     "output_type": "execute_result"
    }
   ],
   "source": [
    "groupby_id.shape"
   ]
  },
  {
   "cell_type": "code",
   "execution_count": 41,
   "metadata": {},
   "outputs": [
    {
     "data": {
      "text/html": [
       "<div>\n",
       "<style scoped>\n",
       "    .dataframe tbody tr th:only-of-type {\n",
       "        vertical-align: middle;\n",
       "    }\n",
       "\n",
       "    .dataframe tbody tr th {\n",
       "        vertical-align: top;\n",
       "    }\n",
       "\n",
       "    .dataframe thead th {\n",
       "        text-align: right;\n",
       "    }\n",
       "</style>\n",
       "<table border=\"1\" class=\"dataframe\">\n",
       "  <thead>\n",
       "    <tr style=\"text-align: right;\">\n",
       "      <th></th>\n",
       "      <th>投手ID</th>\n",
       "      <th>curve</th>\n",
       "      <th>slider</th>\n",
       "      <th>shoot</th>\n",
       "      <th>fork</th>\n",
       "      <th>changeup</th>\n",
       "      <th>sinker</th>\n",
       "      <th>cutball</th>\n",
       "      <th>total</th>\n",
       "    </tr>\n",
       "  </thead>\n",
       "  <tbody>\n",
       "    <tr>\n",
       "      <th>count</th>\n",
       "      <td>3.260000e+02</td>\n",
       "      <td>326.000000</td>\n",
       "      <td>326.000000</td>\n",
       "      <td>326.000000</td>\n",
       "      <td>326.000000</td>\n",
       "      <td>326.000000</td>\n",
       "      <td>326.000000</td>\n",
       "      <td>326.000000</td>\n",
       "      <td>326.000000</td>\n",
       "    </tr>\n",
       "    <tr>\n",
       "      <th>mean</th>\n",
       "      <td>1.163288e+06</td>\n",
       "      <td>0.257321</td>\n",
       "      <td>0.461623</td>\n",
       "      <td>0.500294</td>\n",
       "      <td>0.186347</td>\n",
       "      <td>0.138092</td>\n",
       "      <td>0.021658</td>\n",
       "      <td>0.146885</td>\n",
       "      <td>788.702454</td>\n",
       "    </tr>\n",
       "    <tr>\n",
       "      <th>std</th>\n",
       "      <td>4.161437e+05</td>\n",
       "      <td>2.295388</td>\n",
       "      <td>0.400976</td>\n",
       "      <td>5.221909</td>\n",
       "      <td>0.227734</td>\n",
       "      <td>0.313514</td>\n",
       "      <td>0.104249</td>\n",
       "      <td>0.633629</td>\n",
       "      <td>756.881660</td>\n",
       "    </tr>\n",
       "    <tr>\n",
       "      <th>min</th>\n",
       "      <td>1.160600e+04</td>\n",
       "      <td>0.000000</td>\n",
       "      <td>0.000000</td>\n",
       "      <td>0.000000</td>\n",
       "      <td>0.000000</td>\n",
       "      <td>0.000000</td>\n",
       "      <td>0.000000</td>\n",
       "      <td>0.000000</td>\n",
       "      <td>4.000000</td>\n",
       "    </tr>\n",
       "    <tr>\n",
       "      <th>25%</th>\n",
       "      <td>9.253225e+05</td>\n",
       "      <td>0.000000</td>\n",
       "      <td>0.176896</td>\n",
       "      <td>0.000000</td>\n",
       "      <td>0.000000</td>\n",
       "      <td>0.000000</td>\n",
       "      <td>0.000000</td>\n",
       "      <td>0.000000</td>\n",
       "      <td>184.000000</td>\n",
       "    </tr>\n",
       "    <tr>\n",
       "      <th>50%</th>\n",
       "      <td>1.300036e+06</td>\n",
       "      <td>0.077167</td>\n",
       "      <td>0.395109</td>\n",
       "      <td>0.000000</td>\n",
       "      <td>0.106137</td>\n",
       "      <td>0.000000</td>\n",
       "      <td>0.000000</td>\n",
       "      <td>0.000000</td>\n",
       "      <td>569.000000</td>\n",
       "    </tr>\n",
       "    <tr>\n",
       "      <th>75%</th>\n",
       "      <td>1.500108e+06</td>\n",
       "      <td>0.192714</td>\n",
       "      <td>0.628960</td>\n",
       "      <td>0.233909</td>\n",
       "      <td>0.330539</td>\n",
       "      <td>0.170576</td>\n",
       "      <td>0.000000</td>\n",
       "      <td>0.066470</td>\n",
       "      <td>1031.000000</td>\n",
       "    </tr>\n",
       "    <tr>\n",
       "      <th>max</th>\n",
       "      <td>1.700016e+06</td>\n",
       "      <td>41.461538</td>\n",
       "      <td>2.264286</td>\n",
       "      <td>94.153846</td>\n",
       "      <td>1.156364</td>\n",
       "      <td>3.923077</td>\n",
       "      <td>1.242967</td>\n",
       "      <td>10.230769</td>\n",
       "      <td>3004.000000</td>\n",
       "    </tr>\n",
       "  </tbody>\n",
       "</table>\n",
       "</div>"
      ],
      "text/plain": [
       "               投手ID       curve      slider       shoot        fork  \\\n",
       "count  3.260000e+02  326.000000  326.000000  326.000000  326.000000   \n",
       "mean   1.163288e+06    0.257321    0.461623    0.500294    0.186347   \n",
       "std    4.161437e+05    2.295388    0.400976    5.221909    0.227734   \n",
       "min    1.160600e+04    0.000000    0.000000    0.000000    0.000000   \n",
       "25%    9.253225e+05    0.000000    0.176896    0.000000    0.000000   \n",
       "50%    1.300036e+06    0.077167    0.395109    0.000000    0.106137   \n",
       "75%    1.500108e+06    0.192714    0.628960    0.233909    0.330539   \n",
       "max    1.700016e+06   41.461538    2.264286   94.153846    1.156364   \n",
       "\n",
       "         changeup      sinker     cutball        total  \n",
       "count  326.000000  326.000000  326.000000   326.000000  \n",
       "mean     0.138092    0.021658    0.146885   788.702454  \n",
       "std      0.313514    0.104249    0.633629   756.881660  \n",
       "min      0.000000    0.000000    0.000000     4.000000  \n",
       "25%      0.000000    0.000000    0.000000   184.000000  \n",
       "50%      0.000000    0.000000    0.000000   569.000000  \n",
       "75%      0.170576    0.000000    0.066470  1031.000000  \n",
       "max      3.923077    1.242967   10.230769  3004.000000  "
      ]
     },
     "execution_count": 41,
     "metadata": {},
     "output_type": "execute_result"
    }
   ],
   "source": [
    "groupby_id.describe()"
   ]
  },
  {
   "cell_type": "code",
   "execution_count": null,
   "metadata": {},
   "outputs": [],
   "source": []
  }
 ],
 "metadata": {
  "kernelspec": {
   "display_name": "Python 3",
   "language": "python",
   "name": "python3"
  },
  "language_info": {
   "codemirror_mode": {
    "name": "ipython",
    "version": 3
   },
   "file_extension": ".py",
   "mimetype": "text/x-python",
   "name": "python",
   "nbconvert_exporter": "python",
   "pygments_lexer": "ipython3",
   "version": "3.7.6"
  }
 },
 "nbformat": 4,
 "nbformat_minor": 4
}
