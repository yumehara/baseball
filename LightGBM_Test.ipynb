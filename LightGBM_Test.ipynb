{
 "cells": [
  {
   "cell_type": "markdown",
   "metadata": {},
   "source": [
    "## LightGBM test"
   ]
  },
  {
   "cell_type": "code",
   "execution_count": 78,
   "metadata": {},
   "outputs": [],
   "source": [
    "import numpy as np\n",
    "import pandas as pd\n",
    "import matplotlib.pyplot as plt\n",
    "import lightgbm as lgb\n",
    "import gc\n",
    "%matplotlib inline\n",
    "pd.set_option('display.max_Columns', 100)"
   ]
  },
  {
   "cell_type": "code",
   "execution_count": 79,
   "metadata": {},
   "outputs": [],
   "source": [
    "ALL_PITCH = 'intermediate/all_pitch_1.f'"
   ]
  },
  {
   "cell_type": "code",
   "execution_count": 80,
   "metadata": {},
   "outputs": [
    {
     "data": {
      "text/plain": [
       "(778767, 87)"
      ]
     },
     "execution_count": 80,
     "metadata": {},
     "output_type": "execute_result"
    }
   ],
   "source": [
    "all_pitch = pd.read_feather(ALL_PITCH)\n",
    "all_pitch.shape"
   ]
  },
  {
   "cell_type": "markdown",
   "metadata": {},
   "source": [
    "### 不要な列を削除"
   ]
  },
  {
   "cell_type": "code",
   "execution_count": 81,
   "metadata": {},
   "outputs": [],
   "source": [
    "all_pitch.drop(\n",
    "    columns=[\n",
    "        '年度', \n",
    "        '試合ID', \n",
    "        '日付', '時刻', \n",
    "        'ホームチームID', 'アウェイチームID', \n",
    "        '球場ID', '球場名', \n",
    "        '試合種別詳細', '表裏', \n",
    "        '投手ID', '投手チームID', '投手投球左右', '投手役割', \n",
    "        '打者ID', '打者チームID', '打者打席左右', '打者守備位置',\n",
    "        'プレイ前走者状況', '一塁走者ID', '二塁走者ID', '三塁走者ID', \n",
    "        '捕手ID', '一塁手ID', '二塁手ID', '三塁手ID', '遊撃手ID', '左翼手ID', '中堅手ID', '右翼手ID', \n",
    "        '成績対象投手ID', '成績対象打者ID',\n",
    "        'opening_date', 'game_date',\n",
    "        'start_time', 'game_time', 'elapsed_time'\n",
    "    ], inplace=True)"
   ]
  },
  {
   "cell_type": "markdown",
   "metadata": {},
   "source": [
    "### Rename"
   ]
  },
  {
   "cell_type": "code",
   "execution_count": 82,
   "metadata": {},
   "outputs": [],
   "source": [
    "all_pitch.rename(columns={\n",
    "    'データ内連番': 'No',\n",
    "    '投球位置区域': 'pitch_area',\n",
    "    '試合内連番': 'No_in_game',\n",
    "    '試合内投球数': 'pitch_cnt_in_game',\n",
    "    'イニング': 'inning',\n",
    "    'イニング内打席数': 'bat_cnt_in_inning',\n",
    "    '打席内投球数': 'pitch_cnt_in_bat',\n",
    "    '投手登板順': 'pitch_order',\n",
    "    '投手試合内対戦打者数': 'player_cnt_in_game',\n",
    "    '投手試合内投球数': 'pitch_cnt_in_game',\n",
    "    '投手イニング内投球数': 'pitch_cnt_in_inning',\n",
    "    '打者打順': 'bat_order',\n",
    "    '打者試合内打席数': 'bat_cnt_in_game',\n",
    "    'プレイ前ホームチーム得点数': 'home_point',\n",
    "    'プレイ前アウェイチーム得点数': 'away_point',\n",
    "    'プレイ前アウト数': 'out_cnt',\n",
    "    'プレイ前ボール数': 'ball_cnt',\n",
    "    'プレイ前ストライク数': 'strike_cnt',\n",
    "}, inplace=True)"
   ]
  },
  {
   "cell_type": "code",
   "execution_count": 83,
   "metadata": {},
   "outputs": [
    {
     "name": "stdout",
     "output_type": "stream",
     "text": [
      "(778767, 50)\n"
     ]
    },
    {
     "data": {
      "text/html": [
       "<div>\n",
       "<style scoped>\n",
       "    .dataframe tbody tr th:only-of-type {\n",
       "        vertical-align: middle;\n",
       "    }\n",
       "\n",
       "    .dataframe tbody tr th {\n",
       "        vertical-align: top;\n",
       "    }\n",
       "\n",
       "    .dataframe thead th {\n",
       "        text-align: right;\n",
       "    }\n",
       "</style>\n",
       "<table border=\"1\" class=\"dataframe\">\n",
       "  <thead>\n",
       "    <tr style=\"text-align: right;\">\n",
       "      <th></th>\n",
       "      <th>No</th>\n",
       "      <th>pitch_area</th>\n",
       "      <th>No_in_game</th>\n",
       "      <th>pitch_cnt_in_game</th>\n",
       "      <th>inning</th>\n",
       "      <th>bat_cnt_in_inning</th>\n",
       "      <th>pitch_cnt_in_bat</th>\n",
       "      <th>pitch_order</th>\n",
       "      <th>player_cnt_in_game</th>\n",
       "      <th>pitch_cnt_in_game</th>\n",
       "      <th>pitch_cnt_in_inning</th>\n",
       "      <th>bat_order</th>\n",
       "      <th>bat_cnt_in_game</th>\n",
       "      <th>home_point</th>\n",
       "      <th>away_point</th>\n",
       "      <th>out_cnt</th>\n",
       "      <th>ball_cnt</th>\n",
       "      <th>strike_cnt</th>\n",
       "      <th>first</th>\n",
       "      <th>second</th>\n",
       "      <th>third</th>\n",
       "      <th>base_cnt</th>\n",
       "      <th>top_bot</th>\n",
       "      <th>role</th>\n",
       "      <th>date_from_opening</th>\n",
       "      <th>elapsed_min</th>\n",
       "      <th>ball_0_straight</th>\n",
       "      <th>ball_1_curve</th>\n",
       "      <th>ball_2_slider</th>\n",
       "      <th>ball_3_shoot</th>\n",
       "      <th>ball_4_fork</th>\n",
       "      <th>ball_5_changeup</th>\n",
       "      <th>ball_6_sinker</th>\n",
       "      <th>ball_7_cutball</th>\n",
       "      <th>ball_cnt_0-0</th>\n",
       "      <th>ball_cnt_0-1</th>\n",
       "      <th>ball_cnt_0-2</th>\n",
       "      <th>ball_cnt_0-3</th>\n",
       "      <th>ball_cnt_1-0</th>\n",
       "      <th>ball_cnt_1-1</th>\n",
       "      <th>ball_cnt_1-2</th>\n",
       "      <th>ball_cnt_1-3</th>\n",
       "      <th>ball_cnt_2-0</th>\n",
       "      <th>ball_cnt_2-1</th>\n",
       "      <th>ball_cnt_2-2</th>\n",
       "      <th>ball_cnt_2-3</th>\n",
       "      <th>pit_bat_L_L</th>\n",
       "      <th>pit_bat_L_R</th>\n",
       "      <th>pit_bat_R_L</th>\n",
       "      <th>pit_bat_R_R</th>\n",
       "    </tr>\n",
       "  </thead>\n",
       "  <tbody>\n",
       "    <tr>\n",
       "      <th>0</th>\n",
       "      <td>0</td>\n",
       "      <td>0.0</td>\n",
       "      <td>1</td>\n",
       "      <td>1</td>\n",
       "      <td>1</td>\n",
       "      <td>1</td>\n",
       "      <td>1</td>\n",
       "      <td>1</td>\n",
       "      <td>1</td>\n",
       "      <td>1</td>\n",
       "      <td>1</td>\n",
       "      <td>1</td>\n",
       "      <td>1</td>\n",
       "      <td>0</td>\n",
       "      <td>0</td>\n",
       "      <td>0</td>\n",
       "      <td>0</td>\n",
       "      <td>0</td>\n",
       "      <td>0.0</td>\n",
       "      <td>0.0</td>\n",
       "      <td>0.0</td>\n",
       "      <td>0.0</td>\n",
       "      <td>1.0</td>\n",
       "      <td>1.0</td>\n",
       "      <td>0</td>\n",
       "      <td>0.000000</td>\n",
       "      <td>1</td>\n",
       "      <td>0</td>\n",
       "      <td>0</td>\n",
       "      <td>0</td>\n",
       "      <td>0</td>\n",
       "      <td>0</td>\n",
       "      <td>0</td>\n",
       "      <td>0</td>\n",
       "      <td>1</td>\n",
       "      <td>0</td>\n",
       "      <td>0</td>\n",
       "      <td>0</td>\n",
       "      <td>0</td>\n",
       "      <td>0</td>\n",
       "      <td>0</td>\n",
       "      <td>0</td>\n",
       "      <td>0</td>\n",
       "      <td>0</td>\n",
       "      <td>0</td>\n",
       "      <td>0</td>\n",
       "      <td>0</td>\n",
       "      <td>0</td>\n",
       "      <td>1</td>\n",
       "      <td>0</td>\n",
       "    </tr>\n",
       "    <tr>\n",
       "      <th>1</th>\n",
       "      <td>1</td>\n",
       "      <td>8.0</td>\n",
       "      <td>2</td>\n",
       "      <td>2</td>\n",
       "      <td>1</td>\n",
       "      <td>1</td>\n",
       "      <td>2</td>\n",
       "      <td>1</td>\n",
       "      <td>1</td>\n",
       "      <td>2</td>\n",
       "      <td>2</td>\n",
       "      <td>1</td>\n",
       "      <td>1</td>\n",
       "      <td>0</td>\n",
       "      <td>0</td>\n",
       "      <td>0</td>\n",
       "      <td>0</td>\n",
       "      <td>1</td>\n",
       "      <td>0.0</td>\n",
       "      <td>0.0</td>\n",
       "      <td>0.0</td>\n",
       "      <td>0.0</td>\n",
       "      <td>1.0</td>\n",
       "      <td>1.0</td>\n",
       "      <td>0</td>\n",
       "      <td>0.200000</td>\n",
       "      <td>1</td>\n",
       "      <td>0</td>\n",
       "      <td>0</td>\n",
       "      <td>0</td>\n",
       "      <td>0</td>\n",
       "      <td>0</td>\n",
       "      <td>0</td>\n",
       "      <td>0</td>\n",
       "      <td>0</td>\n",
       "      <td>0</td>\n",
       "      <td>0</td>\n",
       "      <td>0</td>\n",
       "      <td>1</td>\n",
       "      <td>0</td>\n",
       "      <td>0</td>\n",
       "      <td>0</td>\n",
       "      <td>0</td>\n",
       "      <td>0</td>\n",
       "      <td>0</td>\n",
       "      <td>0</td>\n",
       "      <td>0</td>\n",
       "      <td>0</td>\n",
       "      <td>1</td>\n",
       "      <td>0</td>\n",
       "    </tr>\n",
       "    <tr>\n",
       "      <th>2</th>\n",
       "      <td>2</td>\n",
       "      <td>5.0</td>\n",
       "      <td>3</td>\n",
       "      <td>3</td>\n",
       "      <td>1</td>\n",
       "      <td>1</td>\n",
       "      <td>3</td>\n",
       "      <td>1</td>\n",
       "      <td>1</td>\n",
       "      <td>3</td>\n",
       "      <td>3</td>\n",
       "      <td>1</td>\n",
       "      <td>1</td>\n",
       "      <td>0</td>\n",
       "      <td>0</td>\n",
       "      <td>0</td>\n",
       "      <td>0</td>\n",
       "      <td>2</td>\n",
       "      <td>0.0</td>\n",
       "      <td>0.0</td>\n",
       "      <td>0.0</td>\n",
       "      <td>0.0</td>\n",
       "      <td>1.0</td>\n",
       "      <td>1.0</td>\n",
       "      <td>0</td>\n",
       "      <td>0.383333</td>\n",
       "      <td>1</td>\n",
       "      <td>0</td>\n",
       "      <td>0</td>\n",
       "      <td>0</td>\n",
       "      <td>0</td>\n",
       "      <td>0</td>\n",
       "      <td>0</td>\n",
       "      <td>0</td>\n",
       "      <td>0</td>\n",
       "      <td>0</td>\n",
       "      <td>0</td>\n",
       "      <td>0</td>\n",
       "      <td>0</td>\n",
       "      <td>0</td>\n",
       "      <td>0</td>\n",
       "      <td>0</td>\n",
       "      <td>1</td>\n",
       "      <td>0</td>\n",
       "      <td>0</td>\n",
       "      <td>0</td>\n",
       "      <td>0</td>\n",
       "      <td>0</td>\n",
       "      <td>1</td>\n",
       "      <td>0</td>\n",
       "    </tr>\n",
       "    <tr>\n",
       "      <th>3</th>\n",
       "      <td>3</td>\n",
       "      <td>12.0</td>\n",
       "      <td>4</td>\n",
       "      <td>4</td>\n",
       "      <td>1</td>\n",
       "      <td>2</td>\n",
       "      <td>1</td>\n",
       "      <td>1</td>\n",
       "      <td>2</td>\n",
       "      <td>4</td>\n",
       "      <td>4</td>\n",
       "      <td>2</td>\n",
       "      <td>1</td>\n",
       "      <td>0</td>\n",
       "      <td>0</td>\n",
       "      <td>1</td>\n",
       "      <td>0</td>\n",
       "      <td>0</td>\n",
       "      <td>0.0</td>\n",
       "      <td>0.0</td>\n",
       "      <td>0.0</td>\n",
       "      <td>0.0</td>\n",
       "      <td>1.0</td>\n",
       "      <td>1.0</td>\n",
       "      <td>0</td>\n",
       "      <td>1.016667</td>\n",
       "      <td>1</td>\n",
       "      <td>0</td>\n",
       "      <td>0</td>\n",
       "      <td>0</td>\n",
       "      <td>0</td>\n",
       "      <td>0</td>\n",
       "      <td>0</td>\n",
       "      <td>0</td>\n",
       "      <td>1</td>\n",
       "      <td>0</td>\n",
       "      <td>0</td>\n",
       "      <td>0</td>\n",
       "      <td>0</td>\n",
       "      <td>0</td>\n",
       "      <td>0</td>\n",
       "      <td>0</td>\n",
       "      <td>0</td>\n",
       "      <td>0</td>\n",
       "      <td>0</td>\n",
       "      <td>0</td>\n",
       "      <td>0</td>\n",
       "      <td>0</td>\n",
       "      <td>0</td>\n",
       "      <td>1</td>\n",
       "    </tr>\n",
       "    <tr>\n",
       "      <th>4</th>\n",
       "      <td>4</td>\n",
       "      <td>8.0</td>\n",
       "      <td>5</td>\n",
       "      <td>5</td>\n",
       "      <td>1</td>\n",
       "      <td>2</td>\n",
       "      <td>2</td>\n",
       "      <td>1</td>\n",
       "      <td>2</td>\n",
       "      <td>5</td>\n",
       "      <td>5</td>\n",
       "      <td>2</td>\n",
       "      <td>1</td>\n",
       "      <td>0</td>\n",
       "      <td>0</td>\n",
       "      <td>1</td>\n",
       "      <td>0</td>\n",
       "      <td>1</td>\n",
       "      <td>0.0</td>\n",
       "      <td>0.0</td>\n",
       "      <td>0.0</td>\n",
       "      <td>0.0</td>\n",
       "      <td>1.0</td>\n",
       "      <td>1.0</td>\n",
       "      <td>0</td>\n",
       "      <td>1.200000</td>\n",
       "      <td>1</td>\n",
       "      <td>0</td>\n",
       "      <td>0</td>\n",
       "      <td>0</td>\n",
       "      <td>0</td>\n",
       "      <td>0</td>\n",
       "      <td>0</td>\n",
       "      <td>0</td>\n",
       "      <td>0</td>\n",
       "      <td>0</td>\n",
       "      <td>0</td>\n",
       "      <td>0</td>\n",
       "      <td>1</td>\n",
       "      <td>0</td>\n",
       "      <td>0</td>\n",
       "      <td>0</td>\n",
       "      <td>0</td>\n",
       "      <td>0</td>\n",
       "      <td>0</td>\n",
       "      <td>0</td>\n",
       "      <td>0</td>\n",
       "      <td>0</td>\n",
       "      <td>0</td>\n",
       "      <td>1</td>\n",
       "    </tr>\n",
       "  </tbody>\n",
       "</table>\n",
       "</div>"
      ],
      "text/plain": [
       "   No  pitch_area  No_in_game  pitch_cnt_in_game  inning  bat_cnt_in_inning  \\\n",
       "0   0         0.0           1                  1       1                  1   \n",
       "1   1         8.0           2                  2       1                  1   \n",
       "2   2         5.0           3                  3       1                  1   \n",
       "3   3        12.0           4                  4       1                  2   \n",
       "4   4         8.0           5                  5       1                  2   \n",
       "\n",
       "   pitch_cnt_in_bat  pitch_order  player_cnt_in_game  pitch_cnt_in_game  \\\n",
       "0                 1            1                   1                  1   \n",
       "1                 2            1                   1                  2   \n",
       "2                 3            1                   1                  3   \n",
       "3                 1            1                   2                  4   \n",
       "4                 2            1                   2                  5   \n",
       "\n",
       "   pitch_cnt_in_inning  bat_order  bat_cnt_in_game  home_point  away_point  \\\n",
       "0                    1          1                1           0           0   \n",
       "1                    2          1                1           0           0   \n",
       "2                    3          1                1           0           0   \n",
       "3                    4          2                1           0           0   \n",
       "4                    5          2                1           0           0   \n",
       "\n",
       "   out_cnt  ball_cnt  strike_cnt  first  second  third  base_cnt  top_bot  \\\n",
       "0        0         0           0    0.0     0.0    0.0       0.0      1.0   \n",
       "1        0         0           1    0.0     0.0    0.0       0.0      1.0   \n",
       "2        0         0           2    0.0     0.0    0.0       0.0      1.0   \n",
       "3        1         0           0    0.0     0.0    0.0       0.0      1.0   \n",
       "4        1         0           1    0.0     0.0    0.0       0.0      1.0   \n",
       "\n",
       "   role  date_from_opening  elapsed_min  ball_0_straight  ball_1_curve  \\\n",
       "0   1.0                  0     0.000000                1             0   \n",
       "1   1.0                  0     0.200000                1             0   \n",
       "2   1.0                  0     0.383333                1             0   \n",
       "3   1.0                  0     1.016667                1             0   \n",
       "4   1.0                  0     1.200000                1             0   \n",
       "\n",
       "   ball_2_slider  ball_3_shoot  ball_4_fork  ball_5_changeup  ball_6_sinker  \\\n",
       "0              0             0            0                0              0   \n",
       "1              0             0            0                0              0   \n",
       "2              0             0            0                0              0   \n",
       "3              0             0            0                0              0   \n",
       "4              0             0            0                0              0   \n",
       "\n",
       "   ball_7_cutball  ball_cnt_0-0  ball_cnt_0-1  ball_cnt_0-2  ball_cnt_0-3  \\\n",
       "0               0             1             0             0             0   \n",
       "1               0             0             0             0             0   \n",
       "2               0             0             0             0             0   \n",
       "3               0             1             0             0             0   \n",
       "4               0             0             0             0             0   \n",
       "\n",
       "   ball_cnt_1-0  ball_cnt_1-1  ball_cnt_1-2  ball_cnt_1-3  ball_cnt_2-0  \\\n",
       "0             0             0             0             0             0   \n",
       "1             1             0             0             0             0   \n",
       "2             0             0             0             0             1   \n",
       "3             0             0             0             0             0   \n",
       "4             1             0             0             0             0   \n",
       "\n",
       "   ball_cnt_2-1  ball_cnt_2-2  ball_cnt_2-3  pit_bat_L_L  pit_bat_L_R  \\\n",
       "0             0             0             0            0            0   \n",
       "1             0             0             0            0            0   \n",
       "2             0             0             0            0            0   \n",
       "3             0             0             0            0            0   \n",
       "4             0             0             0            0            0   \n",
       "\n",
       "   pit_bat_R_L  pit_bat_R_R  \n",
       "0            1            0  \n",
       "1            1            0  \n",
       "2            1            0  \n",
       "3            0            1  \n",
       "4            0            1  "
      ]
     },
     "execution_count": 83,
     "metadata": {},
     "output_type": "execute_result"
    }
   ],
   "source": [
    "print(all_pitch.shape)\n",
    "all_pitch.head()"
   ]
  },
  {
   "cell_type": "markdown",
   "metadata": {},
   "source": [
    "### train"
   ]
  },
  {
   "cell_type": "code",
   "execution_count": 84,
   "metadata": {},
   "outputs": [
    {
     "data": {
      "text/plain": [
       "(257117, 50)"
      ]
     },
     "execution_count": 84,
     "metadata": {},
     "output_type": "execute_result"
    }
   ],
   "source": [
    "train = all_pitch.dropna(subset=['pitch_area'])\n",
    "train.shape"
   ]
  },
  {
   "cell_type": "markdown",
   "metadata": {},
   "source": [
    "### test"
   ]
  },
  {
   "cell_type": "code",
   "execution_count": 85,
   "metadata": {},
   "outputs": [
    {
     "data": {
      "text/plain": [
       "(521650, 50)"
      ]
     },
     "execution_count": 85,
     "metadata": {},
     "output_type": "execute_result"
    }
   ],
   "source": [
    "test = all_pitch[all_pitch['pitch_area'].isnull()]\n",
    "test.shape"
   ]
  },
  {
   "cell_type": "code",
   "execution_count": 86,
   "metadata": {
    "scrolled": true
   },
   "outputs": [
    {
     "data": {
      "text/plain": [
       "168"
      ]
     },
     "execution_count": 86,
     "metadata": {},
     "output_type": "execute_result"
    }
   ],
   "source": [
    "del all_pitch\n",
    "gc.collect()"
   ]
  },
  {
   "cell_type": "code",
   "execution_count": 87,
   "metadata": {},
   "outputs": [],
   "source": [
    "train_d = train.drop([\n",
    "    'No', \n",
    "    'pitch_area', \n",
    "    'ball_0_straight', \n",
    "    'ball_1_curve', \n",
    "    'ball_2_slider', \n",
    "    'ball_3_shoot', \n",
    "    'ball_4_fork', \n",
    "    'ball_5_changeup', \n",
    "    'ball_6_sinker', \n",
    "    'ball_7_cutball'\n",
    "], axis=1)"
   ]
  },
  {
   "cell_type": "code",
   "execution_count": 88,
   "metadata": {},
   "outputs": [],
   "source": [
    "test_d = test.drop([\n",
    "    'No', \n",
    "    'pitch_area', \n",
    "    'ball_0_straight', \n",
    "    'ball_1_curve', \n",
    "    'ball_2_slider', \n",
    "    'ball_3_shoot', \n",
    "    'ball_4_fork', \n",
    "    'ball_5_changeup', \n",
    "    'ball_6_sinker', \n",
    "    'ball_7_cutball'\n",
    "], axis=1)"
   ]
  },
  {
   "cell_type": "markdown",
   "metadata": {},
   "source": [
    "## 0_ストレート"
   ]
  },
  {
   "cell_type": "code",
   "execution_count": 89,
   "metadata": {},
   "outputs": [],
   "source": [
    "lgb_train = lgb.Dataset(train_d, train['ball_0_straight'])"
   ]
  },
  {
   "cell_type": "markdown",
   "metadata": {},
   "source": [
    "### LGBM学習"
   ]
  },
  {
   "cell_type": "code",
   "execution_count": 90,
   "metadata": {
    "scrolled": true
   },
   "outputs": [
    {
     "name": "stdout",
     "output_type": "stream",
     "text": [
      "[100]\tcv_agg's binary_logloss: 0.668647 + 0.000324434\n",
      "[200]\tcv_agg's binary_logloss: 0.66643 + 0.000322641\n",
      "[300]\tcv_agg's binary_logloss: 0.665142 + 0.000310527\n",
      "[400]\tcv_agg's binary_logloss: 0.664363 + 0.000375507\n",
      "[500]\tcv_agg's binary_logloss: 0.664028 + 0.000421019\n",
      "[600]\tcv_agg's binary_logloss: 0.663781 + 0.000454686\n",
      "[700]\tcv_agg's binary_logloss: 0.663604 + 0.000492428\n",
      "[800]\tcv_agg's binary_logloss: 0.663458 + 0.000358764\n",
      "[900]\tcv_agg's binary_logloss: 0.663544 + 0.000484709\n",
      "Best num_boost_round: 801\n",
      "Best CV score: 0.6634557237452842\n",
      "CPU times: user 3min 58s, sys: 3.02 s, total: 4min 1s\n",
      "Wall time: 1min 3s\n"
     ]
    }
   ],
   "source": [
    "%%time\n",
    "lgb_param = {\n",
    "        'objective' : 'binary',\n",
    "        'boosting_type': 'gbdt',\n",
    "        'metric' : 'binary_logloss',\n",
    "        'num_leaves' : 31,\n",
    "        'seed' : 0,\n",
    "        'learning_rate' : 0.1,\n",
    "    }\n",
    "\n",
    "# 学習\n",
    "cv_results = lgb.cv(lgb_param, lgb_train,\n",
    "                    num_boost_round=8000,\n",
    "                    early_stopping_rounds=100,\n",
    "                    verbose_eval=100,\n",
    "                    nfold=4)\n",
    "\n",
    "num_boost_round = len(cv_results['binary_logloss-mean'])\n",
    "print('Best num_boost_round:', num_boost_round)\n",
    "print('Best CV score:', cv_results['binary_logloss-mean'][-1])"
   ]
  },
  {
   "cell_type": "code",
   "execution_count": 91,
   "metadata": {},
   "outputs": [],
   "source": [
    "best_iter = int(num_boost_round * 1.1)"
   ]
  },
  {
   "cell_type": "markdown",
   "metadata": {},
   "source": [
    "### 全体で再学習"
   ]
  },
  {
   "cell_type": "code",
   "execution_count": 92,
   "metadata": {},
   "outputs": [
    {
     "name": "stdout",
     "output_type": "stream",
     "text": [
      "CPU times: user 1min 5s, sys: 668 ms, total: 1min 6s\n",
      "Wall time: 17 s\n"
     ]
    }
   ],
   "source": [
    "%%time\n",
    "lgb_model = lgb.train(lgb_param, lgb_train, num_boost_round=best_iter)"
   ]
  },
  {
   "cell_type": "markdown",
   "metadata": {},
   "source": [
    "### Feature Importance"
   ]
  },
  {
   "cell_type": "code",
   "execution_count": 93,
   "metadata": {
    "scrolled": false
   },
   "outputs": [
    {
     "data": {
      "text/html": [
       "<div>\n",
       "<style scoped>\n",
       "    .dataframe tbody tr th:only-of-type {\n",
       "        vertical-align: middle;\n",
       "    }\n",
       "\n",
       "    .dataframe tbody tr th {\n",
       "        vertical-align: top;\n",
       "    }\n",
       "\n",
       "    .dataframe thead th {\n",
       "        text-align: right;\n",
       "    }\n",
       "</style>\n",
       "<table border=\"1\" class=\"dataframe\">\n",
       "  <thead>\n",
       "    <tr style=\"text-align: right;\">\n",
       "      <th></th>\n",
       "      <th>feat_name</th>\n",
       "      <th>feat_imp</th>\n",
       "    </tr>\n",
       "  </thead>\n",
       "  <tbody>\n",
       "    <tr>\n",
       "      <th>6</th>\n",
       "      <td>player_cnt_in_game</td>\n",
       "      <td>873</td>\n",
       "    </tr>\n",
       "    <tr>\n",
       "      <th>9</th>\n",
       "      <td>bat_order</td>\n",
       "      <td>1144</td>\n",
       "    </tr>\n",
       "    <tr>\n",
       "      <th>11</th>\n",
       "      <td>home_point</td>\n",
       "      <td>1212</td>\n",
       "    </tr>\n",
       "    <tr>\n",
       "      <th>12</th>\n",
       "      <td>away_point</td>\n",
       "      <td>1377</td>\n",
       "    </tr>\n",
       "    <tr>\n",
       "      <th>8</th>\n",
       "      <td>pitch_cnt_in_inning</td>\n",
       "      <td>1575</td>\n",
       "    </tr>\n",
       "    <tr>\n",
       "      <th>1</th>\n",
       "      <td>pitch_cnt_in_game</td>\n",
       "      <td>1737</td>\n",
       "    </tr>\n",
       "    <tr>\n",
       "      <th>0</th>\n",
       "      <td>No_in_game</td>\n",
       "      <td>2022</td>\n",
       "    </tr>\n",
       "    <tr>\n",
       "      <th>7</th>\n",
       "      <td>pitch_cnt_in_game</td>\n",
       "      <td>2284</td>\n",
       "    </tr>\n",
       "    <tr>\n",
       "      <th>23</th>\n",
       "      <td>elapsed_min</td>\n",
       "      <td>2551</td>\n",
       "    </tr>\n",
       "    <tr>\n",
       "      <th>22</th>\n",
       "      <td>date_from_opening</td>\n",
       "      <td>3791</td>\n",
       "    </tr>\n",
       "  </tbody>\n",
       "</table>\n",
       "</div>"
      ],
      "text/plain": [
       "              feat_name  feat_imp\n",
       "6    player_cnt_in_game       873\n",
       "9             bat_order      1144\n",
       "11           home_point      1212\n",
       "12           away_point      1377\n",
       "8   pitch_cnt_in_inning      1575\n",
       "1     pitch_cnt_in_game      1737\n",
       "0            No_in_game      2022\n",
       "7     pitch_cnt_in_game      2284\n",
       "23          elapsed_min      2551\n",
       "22    date_from_opening      3791"
      ]
     },
     "execution_count": 93,
     "metadata": {},
     "output_type": "execute_result"
    }
   ],
   "source": [
    "fi = lgb_model.feature_importance()\n",
    "fn = lgb_model.feature_name()\n",
    "df_feature_importance = pd.DataFrame({'feat_name':fn, 'feat_imp':fi})\n",
    "df_feature_importance.sort_values('feat_imp', inplace=True)\n",
    "df_feature_importance.tail(10)"
   ]
  },
  {
   "cell_type": "code",
   "execution_count": 94,
   "metadata": {},
   "outputs": [
    {
     "name": "stdout",
     "output_type": "stream",
     "text": [
      "CPU times: user 33.2 s, sys: 429 ms, total: 33.6 s\n",
      "Wall time: 8.9 s\n"
     ]
    }
   ],
   "source": [
    "%%time\n",
    "test['ball_0_straight'] = lgb_model.predict(test_d, num_iteration = lgb_model.best_iteration)"
   ]
  },
  {
   "cell_type": "markdown",
   "metadata": {},
   "source": [
    "## 1_カーブ"
   ]
  },
  {
   "cell_type": "code",
   "execution_count": 96,
   "metadata": {},
   "outputs": [
    {
     "name": "stdout",
     "output_type": "stream",
     "text": [
      "CPU times: user 1min 35s, sys: 1.09 s, total: 1min 36s\n",
      "Wall time: 25.1 s\n"
     ]
    }
   ],
   "source": [
    "%%time\n",
    "lgb_train = lgb.Dataset(train_d, train['ball_1_curve'])\n",
    "lgb_model = lgb.train(lgb_param, lgb_train, num_boost_round=best_iter)\n",
    "test['ball_1_curve'] = lgb_model.predict(test_d, num_iteration = lgb_model.best_iteration)"
   ]
  },
  {
   "cell_type": "markdown",
   "metadata": {},
   "source": [
    "## 2_スライダー"
   ]
  },
  {
   "cell_type": "code",
   "execution_count": 97,
   "metadata": {},
   "outputs": [
    {
     "name": "stdout",
     "output_type": "stream",
     "text": [
      "CPU times: user 1min 38s, sys: 1.31 s, total: 1min 39s\n",
      "Wall time: 26.4 s\n"
     ]
    }
   ],
   "source": [
    "%%time\n",
    "lgb_train = lgb.Dataset(train_d, train['ball_2_slider'])\n",
    "lgb_model = lgb.train(lgb_param, lgb_train, num_boost_round=best_iter)\n",
    "test['ball_2_slider'] = lgb_model.predict(test_d, num_iteration = lgb_model.best_iteration)"
   ]
  },
  {
   "cell_type": "markdown",
   "metadata": {},
   "source": [
    "## 3_シュート"
   ]
  },
  {
   "cell_type": "code",
   "execution_count": 98,
   "metadata": {},
   "outputs": [
    {
     "name": "stdout",
     "output_type": "stream",
     "text": [
      "CPU times: user 1min 38s, sys: 1.36 s, total: 1min 39s\n",
      "Wall time: 26.3 s\n"
     ]
    }
   ],
   "source": [
    "%%time\n",
    "lgb_train = lgb.Dataset(train_d, train['ball_3_shoot'])\n",
    "lgb_model = lgb.train(lgb_param, lgb_train, num_boost_round=best_iter)\n",
    "test['ball_3_shoot'] = lgb_model.predict(test_d, num_iteration = lgb_model.best_iteration)"
   ]
  },
  {
   "cell_type": "markdown",
   "metadata": {},
   "source": [
    "## 4_フォーク"
   ]
  },
  {
   "cell_type": "code",
   "execution_count": 99,
   "metadata": {},
   "outputs": [
    {
     "name": "stdout",
     "output_type": "stream",
     "text": [
      "CPU times: user 1min 41s, sys: 1.21 s, total: 1min 43s\n",
      "Wall time: 26.8 s\n"
     ]
    }
   ],
   "source": [
    "%%time\n",
    "lgb_train = lgb.Dataset(train_d, train['ball_4_fork'])\n",
    "lgb_model = lgb.train(lgb_param, lgb_train, num_boost_round=best_iter)\n",
    "test['ball_4_fork'] = lgb_model.predict(test_d, num_iteration = lgb_model.best_iteration)"
   ]
  },
  {
   "cell_type": "markdown",
   "metadata": {},
   "source": [
    "## 5_チェンジアップ"
   ]
  },
  {
   "cell_type": "code",
   "execution_count": 100,
   "metadata": {},
   "outputs": [
    {
     "name": "stdout",
     "output_type": "stream",
     "text": [
      "CPU times: user 1min 45s, sys: 1.32 s, total: 1min 46s\n",
      "Wall time: 27.9 s\n"
     ]
    }
   ],
   "source": [
    "%%time\n",
    "lgb_train = lgb.Dataset(train_d, train['ball_5_changeup'])\n",
    "lgb_model = lgb.train(lgb_param, lgb_train, num_boost_round=best_iter)\n",
    "test['ball_5_changeup'] = lgb_model.predict(test_d, num_iteration = lgb_model.best_iteration)"
   ]
  },
  {
   "cell_type": "markdown",
   "metadata": {},
   "source": [
    "## 6_シンカー"
   ]
  },
  {
   "cell_type": "code",
   "execution_count": 101,
   "metadata": {},
   "outputs": [
    {
     "name": "stdout",
     "output_type": "stream",
     "text": [
      "CPU times: user 1min 49s, sys: 1.27 s, total: 1min 50s\n",
      "Wall time: 28.8 s\n"
     ]
    }
   ],
   "source": [
    "%%time\n",
    "lgb_train = lgb.Dataset(train_d, train['ball_6_sinker'])\n",
    "lgb_model = lgb.train(lgb_param, lgb_train, num_boost_round=best_iter)\n",
    "test['ball_6_sinker'] = lgb_model.predict(test_d, num_iteration = lgb_model.best_iteration)"
   ]
  },
  {
   "cell_type": "markdown",
   "metadata": {},
   "source": [
    "## 7_カットボール"
   ]
  },
  {
   "cell_type": "code",
   "execution_count": 102,
   "metadata": {},
   "outputs": [
    {
     "name": "stdout",
     "output_type": "stream",
     "text": [
      "CPU times: user 1min 41s, sys: 1.18 s, total: 1min 42s\n",
      "Wall time: 26.6 s\n"
     ]
    }
   ],
   "source": [
    "%%time\n",
    "lgb_train = lgb.Dataset(train_d, train['ball_7_cutball'])\n",
    "lgb_model = lgb.train(lgb_param, lgb_train, num_boost_round=best_iter)\n",
    "test['ball_7_cutball'] = lgb_model.predict(test_d, num_iteration = lgb_model.best_iteration)"
   ]
  },
  {
   "cell_type": "markdown",
   "metadata": {},
   "source": [
    "## 結果出力"
   ]
  },
  {
   "cell_type": "code",
   "execution_count": 115,
   "metadata": {},
   "outputs": [],
   "source": [
    "submit = test[\n",
    "    ['No', \n",
    "    'ball_0_straight', \n",
    "    'ball_1_curve', \n",
    "    'ball_2_slider', \n",
    "    'ball_3_shoot', \n",
    "    'ball_4_fork', \n",
    "    'ball_5_changeup', \n",
    "    'ball_6_sinker', \n",
    "    'ball_7_cutball']].copy()"
   ]
  },
  {
   "cell_type": "code",
   "execution_count": 116,
   "metadata": {
    "scrolled": true
   },
   "outputs": [
    {
     "data": {
      "text/html": [
       "<div>\n",
       "<style scoped>\n",
       "    .dataframe tbody tr th:only-of-type {\n",
       "        vertical-align: middle;\n",
       "    }\n",
       "\n",
       "    .dataframe tbody tr th {\n",
       "        vertical-align: top;\n",
       "    }\n",
       "\n",
       "    .dataframe thead th {\n",
       "        text-align: right;\n",
       "    }\n",
       "</style>\n",
       "<table border=\"1\" class=\"dataframe\">\n",
       "  <thead>\n",
       "    <tr style=\"text-align: right;\">\n",
       "      <th></th>\n",
       "      <th>No</th>\n",
       "      <th>ball_0_straight</th>\n",
       "      <th>ball_1_curve</th>\n",
       "      <th>ball_2_slider</th>\n",
       "      <th>ball_3_shoot</th>\n",
       "      <th>ball_4_fork</th>\n",
       "      <th>ball_5_changeup</th>\n",
       "      <th>ball_6_sinker</th>\n",
       "      <th>ball_7_cutball</th>\n",
       "      <th>total</th>\n",
       "    </tr>\n",
       "  </thead>\n",
       "  <tbody>\n",
       "    <tr>\n",
       "      <th>257117</th>\n",
       "      <td>0</td>\n",
       "      <td>0.778962</td>\n",
       "      <td>0.001299</td>\n",
       "      <td>0.055267</td>\n",
       "      <td>0.090204</td>\n",
       "      <td>0.012620</td>\n",
       "      <td>0.002367</td>\n",
       "      <td>0.005786</td>\n",
       "      <td>0.044506</td>\n",
       "      <td>0.991013</td>\n",
       "    </tr>\n",
       "    <tr>\n",
       "      <th>257118</th>\n",
       "      <td>1</td>\n",
       "      <td>0.687431</td>\n",
       "      <td>0.009419</td>\n",
       "      <td>0.049380</td>\n",
       "      <td>0.095945</td>\n",
       "      <td>0.013453</td>\n",
       "      <td>0.005128</td>\n",
       "      <td>0.000532</td>\n",
       "      <td>0.031697</td>\n",
       "      <td>0.892985</td>\n",
       "    </tr>\n",
       "    <tr>\n",
       "      <th>257119</th>\n",
       "      <td>2</td>\n",
       "      <td>0.435546</td>\n",
       "      <td>0.079058</td>\n",
       "      <td>0.097082</td>\n",
       "      <td>0.071082</td>\n",
       "      <td>0.056204</td>\n",
       "      <td>0.091344</td>\n",
       "      <td>0.014425</td>\n",
       "      <td>0.115853</td>\n",
       "      <td>0.960594</td>\n",
       "    </tr>\n",
       "    <tr>\n",
       "      <th>257120</th>\n",
       "      <td>3</td>\n",
       "      <td>0.385607</td>\n",
       "      <td>0.084014</td>\n",
       "      <td>0.098173</td>\n",
       "      <td>0.165116</td>\n",
       "      <td>0.119703</td>\n",
       "      <td>0.003457</td>\n",
       "      <td>0.001587</td>\n",
       "      <td>0.149515</td>\n",
       "      <td>1.007172</td>\n",
       "    </tr>\n",
       "    <tr>\n",
       "      <th>257121</th>\n",
       "      <td>4</td>\n",
       "      <td>0.312608</td>\n",
       "      <td>0.051079</td>\n",
       "      <td>0.188998</td>\n",
       "      <td>0.185223</td>\n",
       "      <td>0.118509</td>\n",
       "      <td>0.017475</td>\n",
       "      <td>0.001681</td>\n",
       "      <td>0.211148</td>\n",
       "      <td>1.086721</td>\n",
       "    </tr>\n",
       "  </tbody>\n",
       "</table>\n",
       "</div>"
      ],
      "text/plain": [
       "        No  ball_0_straight  ball_1_curve  ball_2_slider  ball_3_shoot  \\\n",
       "257117   0         0.778962      0.001299       0.055267      0.090204   \n",
       "257118   1         0.687431      0.009419       0.049380      0.095945   \n",
       "257119   2         0.435546      0.079058       0.097082      0.071082   \n",
       "257120   3         0.385607      0.084014       0.098173      0.165116   \n",
       "257121   4         0.312608      0.051079       0.188998      0.185223   \n",
       "\n",
       "        ball_4_fork  ball_5_changeup  ball_6_sinker  ball_7_cutball     total  \n",
       "257117     0.012620         0.002367       0.005786        0.044506  0.991013  \n",
       "257118     0.013453         0.005128       0.000532        0.031697  0.892985  \n",
       "257119     0.056204         0.091344       0.014425        0.115853  0.960594  \n",
       "257120     0.119703         0.003457       0.001587        0.149515  1.007172  \n",
       "257121     0.118509         0.017475       0.001681        0.211148  1.086721  "
      ]
     },
     "execution_count": 116,
     "metadata": {},
     "output_type": "execute_result"
    }
   ],
   "source": [
    "submit['total'] = submit['ball_0_straight'] + submit['ball_1_curve'] + submit['ball_2_slider'] + submit['ball_3_shoot'] + submit['ball_4_fork'] + submit['ball_5_changeup'] + submit['ball_6_sinker'] + submit['ball_7_cutball']\n",
    "submit.head()"
   ]
  },
  {
   "cell_type": "code",
   "execution_count": 117,
   "metadata": {
    "scrolled": true
   },
   "outputs": [
    {
     "data": {
      "text/html": [
       "<div>\n",
       "<style scoped>\n",
       "    .dataframe tbody tr th:only-of-type {\n",
       "        vertical-align: middle;\n",
       "    }\n",
       "\n",
       "    .dataframe tbody tr th {\n",
       "        vertical-align: top;\n",
       "    }\n",
       "\n",
       "    .dataframe thead th {\n",
       "        text-align: right;\n",
       "    }\n",
       "</style>\n",
       "<table border=\"1\" class=\"dataframe\">\n",
       "  <thead>\n",
       "    <tr style=\"text-align: right;\">\n",
       "      <th></th>\n",
       "      <th>No</th>\n",
       "      <th>ball_0_straight</th>\n",
       "      <th>ball_1_curve</th>\n",
       "      <th>ball_2_slider</th>\n",
       "      <th>ball_3_shoot</th>\n",
       "      <th>ball_4_fork</th>\n",
       "      <th>ball_5_changeup</th>\n",
       "      <th>ball_6_sinker</th>\n",
       "      <th>ball_7_cutball</th>\n",
       "      <th>total</th>\n",
       "    </tr>\n",
       "  </thead>\n",
       "  <tbody>\n",
       "    <tr>\n",
       "      <th>257117</th>\n",
       "      <td>0</td>\n",
       "      <td>0.786027</td>\n",
       "      <td>0.001311</td>\n",
       "      <td>0.055769</td>\n",
       "      <td>0.091022</td>\n",
       "      <td>0.012735</td>\n",
       "      <td>0.002389</td>\n",
       "      <td>0.005838</td>\n",
       "      <td>0.044910</td>\n",
       "      <td>0.991013</td>\n",
       "    </tr>\n",
       "    <tr>\n",
       "      <th>257118</th>\n",
       "      <td>1</td>\n",
       "      <td>0.769813</td>\n",
       "      <td>0.010547</td>\n",
       "      <td>0.055297</td>\n",
       "      <td>0.107443</td>\n",
       "      <td>0.015066</td>\n",
       "      <td>0.005742</td>\n",
       "      <td>0.000595</td>\n",
       "      <td>0.035496</td>\n",
       "      <td>0.892985</td>\n",
       "    </tr>\n",
       "    <tr>\n",
       "      <th>257119</th>\n",
       "      <td>2</td>\n",
       "      <td>0.453413</td>\n",
       "      <td>0.082301</td>\n",
       "      <td>0.101064</td>\n",
       "      <td>0.073998</td>\n",
       "      <td>0.058510</td>\n",
       "      <td>0.095091</td>\n",
       "      <td>0.015017</td>\n",
       "      <td>0.120606</td>\n",
       "      <td>0.960594</td>\n",
       "    </tr>\n",
       "    <tr>\n",
       "      <th>257120</th>\n",
       "      <td>3</td>\n",
       "      <td>0.382862</td>\n",
       "      <td>0.083416</td>\n",
       "      <td>0.097474</td>\n",
       "      <td>0.163940</td>\n",
       "      <td>0.118850</td>\n",
       "      <td>0.003432</td>\n",
       "      <td>0.001576</td>\n",
       "      <td>0.148450</td>\n",
       "      <td>1.007172</td>\n",
       "    </tr>\n",
       "    <tr>\n",
       "      <th>257121</th>\n",
       "      <td>4</td>\n",
       "      <td>0.287662</td>\n",
       "      <td>0.047003</td>\n",
       "      <td>0.173916</td>\n",
       "      <td>0.170442</td>\n",
       "      <td>0.109052</td>\n",
       "      <td>0.016080</td>\n",
       "      <td>0.001547</td>\n",
       "      <td>0.194298</td>\n",
       "      <td>1.086721</td>\n",
       "    </tr>\n",
       "  </tbody>\n",
       "</table>\n",
       "</div>"
      ],
      "text/plain": [
       "        No  ball_0_straight  ball_1_curve  ball_2_slider  ball_3_shoot  \\\n",
       "257117   0         0.786027      0.001311       0.055769      0.091022   \n",
       "257118   1         0.769813      0.010547       0.055297      0.107443   \n",
       "257119   2         0.453413      0.082301       0.101064      0.073998   \n",
       "257120   3         0.382862      0.083416       0.097474      0.163940   \n",
       "257121   4         0.287662      0.047003       0.173916      0.170442   \n",
       "\n",
       "        ball_4_fork  ball_5_changeup  ball_6_sinker  ball_7_cutball     total  \n",
       "257117     0.012735         0.002389       0.005838        0.044910  0.991013  \n",
       "257118     0.015066         0.005742       0.000595        0.035496  0.892985  \n",
       "257119     0.058510         0.095091       0.015017        0.120606  0.960594  \n",
       "257120     0.118850         0.003432       0.001576        0.148450  1.007172  \n",
       "257121     0.109052         0.016080       0.001547        0.194298  1.086721  "
      ]
     },
     "execution_count": 117,
     "metadata": {},
     "output_type": "execute_result"
    }
   ],
   "source": [
    "submit['ball_0_straight'] = submit['ball_0_straight'] / submit['total']\n",
    "submit['ball_1_curve'] = submit['ball_1_curve'] / submit['total']\n",
    "submit['ball_2_slider'] = submit['ball_2_slider'] / submit['total']\n",
    "submit['ball_3_shoot'] = submit['ball_3_shoot'] / submit['total']\n",
    "submit['ball_4_fork'] = submit['ball_4_fork'] / submit['total']\n",
    "submit['ball_5_changeup'] = submit['ball_5_changeup'] / submit['total']\n",
    "submit['ball_6_sinker'] = submit['ball_6_sinker'] / submit['total']\n",
    "submit['ball_7_cutball'] = submit['ball_7_cutball'] / submit['total']\n",
    "submit.head()"
   ]
  },
  {
   "cell_type": "code",
   "execution_count": 120,
   "metadata": {
    "scrolled": true
   },
   "outputs": [
    {
     "data": {
      "text/plain": [
       "(521650, 9)"
      ]
     },
     "execution_count": 120,
     "metadata": {},
     "output_type": "execute_result"
    }
   ],
   "source": [
    "submit.drop(['total'], axis=1, inplace=True)\n",
    "submit.shape"
   ]
  },
  {
   "cell_type": "markdown",
   "metadata": {},
   "source": [
    "### 2017の平均\n",
    "- ストレート           0.468254\n",
    "- カーブ             0.074725\n",
    "- スライダー           0.185806\n",
    "- シュート            0.070633\n",
    "- フォーク            0.083013\n",
    "- チェンジアップ         0.054217\n",
    "- シンカー            0.011361\n",
    "- カットボール          0.051992"
   ]
  },
  {
   "cell_type": "code",
   "execution_count": 122,
   "metadata": {},
   "outputs": [
    {
     "data": {
      "text/plain": [
       "No                 260824.500000\n",
       "ball_0_straight         0.487944\n",
       "ball_1_curve            0.070557\n",
       "ball_2_slider           0.190140\n",
       "ball_3_shoot            0.066506\n",
       "ball_4_fork             0.080357\n",
       "ball_5_changeup         0.052917\n",
       "ball_6_sinker           0.006152\n",
       "ball_7_cutball          0.045428\n",
       "dtype: float64"
      ]
     },
     "execution_count": 122,
     "metadata": {},
     "output_type": "execute_result"
    }
   ],
   "source": [
    "submit.mean()"
   ]
  },
  {
   "cell_type": "code",
   "execution_count": 121,
   "metadata": {},
   "outputs": [],
   "source": [
    "#submit.to_csv('submit/lgbm_1.csv', header=False, index=False)"
   ]
  },
  {
   "cell_type": "code",
   "execution_count": null,
   "metadata": {},
   "outputs": [],
   "source": []
  }
 ],
 "metadata": {
  "kernelspec": {
   "display_name": "Python 3",
   "language": "python",
   "name": "python3"
  },
  "language_info": {
   "codemirror_mode": {
    "name": "ipython",
    "version": 3
   },
   "file_extension": ".py",
   "mimetype": "text/x-python",
   "name": "python",
   "nbconvert_exporter": "python",
   "pygments_lexer": "ipython3",
   "version": "3.7.6"
  }
 },
 "nbformat": 4,
 "nbformat_minor": 4
}
