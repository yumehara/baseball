{
 "cells": [
  {
   "cell_type": "markdown",
   "metadata": {},
   "source": [
    "## ボールカウントの2017年データの集計\n",
    "#### ball_2017_5.f\n",
    "- ストレートに対する比率、コースの種類のみ\n",
    "\n",
    "#### ball_2017_4.f\n",
    "- コースの種類\n",
    "\n",
    "#### ball_2017_3.f\n",
    "- 特徴量名変更\n",
    "\n",
    "#### ball_2017_2.f\n",
    "- 右左で集計を分ける"
   ]
  },
  {
   "cell_type": "code",
   "execution_count": 1,
   "metadata": {},
   "outputs": [],
   "source": [
    "import numpy as np\n",
    "import matplotlib.pyplot as plt\n",
    "import pandas as pd\n",
    "import feather\n",
    "pd.set_option('display.max_Columns', 100)"
   ]
  },
  {
   "cell_type": "code",
   "execution_count": 2,
   "metadata": {},
   "outputs": [
    {
     "name": "stdout",
     "output_type": "stream",
     "text": [
      "(257117, 51)\n"
     ]
    }
   ],
   "source": [
    "train_pitch = pd.read_feather('data/train_pitch.f')\n",
    "print(train_pitch.shape)"
   ]
  },
  {
   "cell_type": "code",
   "execution_count": 3,
   "metadata": {},
   "outputs": [],
   "source": [
    "OUTPUT = 'intermediate/pitch/pitch_2017_5.f'"
   ]
  },
  {
   "cell_type": "code",
   "execution_count": 4,
   "metadata": {},
   "outputs": [],
   "source": [
    "train_pitch.rename(columns={'球種': 'ball', '投球位置区域': 'course'}, inplace=True)\n",
    "train_pitch['ball_cnt'] = train_pitch['プレイ前ストライク数'].astype(str) + '-' + train_pitch['プレイ前ボール数'].astype(str)"
   ]
  },
  {
   "cell_type": "code",
   "execution_count": 5,
   "metadata": {},
   "outputs": [],
   "source": [
    "train_pitch.replace('左', 'L', inplace=True)\n",
    "train_pitch.replace('右', 'R', inplace=True)\n",
    "train_pitch['pit_bat'] = train_pitch['投手投球左右'] + '_' + train_pitch['打者打席左右']"
   ]
  },
  {
   "cell_type": "code",
   "execution_count": 6,
   "metadata": {},
   "outputs": [
    {
     "data": {
      "text/html": [
       "<div>\n",
       "<style scoped>\n",
       "    .dataframe tbody tr th:only-of-type {\n",
       "        vertical-align: middle;\n",
       "    }\n",
       "\n",
       "    .dataframe tbody tr th {\n",
       "        vertical-align: top;\n",
       "    }\n",
       "\n",
       "    .dataframe thead th {\n",
       "        text-align: right;\n",
       "    }\n",
       "</style>\n",
       "<table border=\"1\" class=\"dataframe\">\n",
       "  <thead>\n",
       "    <tr style=\"text-align: right;\">\n",
       "      <th></th>\n",
       "      <th>ball</th>\n",
       "      <th>ball_cnt</th>\n",
       "      <th>pit_bat</th>\n",
       "    </tr>\n",
       "  </thead>\n",
       "  <tbody>\n",
       "    <tr>\n",
       "      <th>0</th>\n",
       "      <td>0</td>\n",
       "      <td>0-0</td>\n",
       "      <td>R_L</td>\n",
       "    </tr>\n",
       "    <tr>\n",
       "      <th>1</th>\n",
       "      <td>0</td>\n",
       "      <td>1-0</td>\n",
       "      <td>R_L</td>\n",
       "    </tr>\n",
       "    <tr>\n",
       "      <th>2</th>\n",
       "      <td>0</td>\n",
       "      <td>2-0</td>\n",
       "      <td>R_L</td>\n",
       "    </tr>\n",
       "    <tr>\n",
       "      <th>3</th>\n",
       "      <td>0</td>\n",
       "      <td>0-0</td>\n",
       "      <td>R_R</td>\n",
       "    </tr>\n",
       "    <tr>\n",
       "      <th>4</th>\n",
       "      <td>0</td>\n",
       "      <td>1-0</td>\n",
       "      <td>R_R</td>\n",
       "    </tr>\n",
       "    <tr>\n",
       "      <th>5</th>\n",
       "      <td>1</td>\n",
       "      <td>2-0</td>\n",
       "      <td>R_R</td>\n",
       "    </tr>\n",
       "    <tr>\n",
       "      <th>6</th>\n",
       "      <td>2</td>\n",
       "      <td>2-1</td>\n",
       "      <td>R_R</td>\n",
       "    </tr>\n",
       "    <tr>\n",
       "      <th>7</th>\n",
       "      <td>3</td>\n",
       "      <td>0-0</td>\n",
       "      <td>R_R</td>\n",
       "    </tr>\n",
       "    <tr>\n",
       "      <th>8</th>\n",
       "      <td>0</td>\n",
       "      <td>0-1</td>\n",
       "      <td>R_R</td>\n",
       "    </tr>\n",
       "    <tr>\n",
       "      <th>9</th>\n",
       "      <td>2</td>\n",
       "      <td>1-1</td>\n",
       "      <td>R_R</td>\n",
       "    </tr>\n",
       "  </tbody>\n",
       "</table>\n",
       "</div>"
      ],
      "text/plain": [
       "   ball ball_cnt pit_bat\n",
       "0     0      0-0     R_L\n",
       "1     0      1-0     R_L\n",
       "2     0      2-0     R_L\n",
       "3     0      0-0     R_R\n",
       "4     0      1-0     R_R\n",
       "5     1      2-0     R_R\n",
       "6     2      2-1     R_R\n",
       "7     3      0-0     R_R\n",
       "8     0      0-1     R_R\n",
       "9     2      1-1     R_R"
      ]
     },
     "execution_count": 6,
     "metadata": {},
     "output_type": "execute_result"
    }
   ],
   "source": [
    "train_pitch[['ball','ball_cnt', 'pit_bat']].head(10)"
   ]
  },
  {
   "cell_type": "markdown",
   "metadata": {},
   "source": [
    "### 球種"
   ]
  },
  {
   "cell_type": "code",
   "execution_count": 7,
   "metadata": {},
   "outputs": [],
   "source": [
    "train_ball_cnt = train_pitch[['ball', 'ball_cnt', 'pit_bat']].groupby(['ball_cnt', 'pit_bat', 'ball']).size()\n",
    "train_ball_cnt = pd.DataFrame(train_ball_cnt).reset_index()\n",
    "train_ball_cnt.rename(columns={0:'ball_sum'}, inplace=True)"
   ]
  },
  {
   "cell_type": "code",
   "execution_count": 8,
   "metadata": {},
   "outputs": [],
   "source": [
    "ball_total = train_ball_cnt.groupby(['ball_cnt', 'pit_bat']).sum().reset_index()\n",
    "ball_total.rename(columns={'ball_sum':'total'}, inplace=True)\n",
    "train_ball_cnt = train_ball_cnt.merge(ball_total[['ball_cnt', 'pit_bat', 'total']], on=['ball_cnt', 'pit_bat'], how='left')\n",
    "train_ball_cnt['rate'] = train_ball_cnt['ball_sum'] / train_ball_cnt['total']"
   ]
  },
  {
   "cell_type": "code",
   "execution_count": 9,
   "metadata": {
    "scrolled": false
   },
   "outputs": [],
   "source": [
    "train_ball_pivot = pd.pivot_table(train_ball_cnt[['ball_cnt', 'pit_bat', 'ball', 'rate']], index=['ball_cnt', 'pit_bat'], columns='ball', values='rate').reset_index()\n",
    "train_ball_pivot.rename(columns={\n",
    "    0: 'bc_straight', \n",
    "    1: 'bc_curve', \n",
    "    2: 'bc_slider', \n",
    "    3: 'bc_shoot', \n",
    "    4: 'bc_fork', \n",
    "    5: 'bc_changeup', \n",
    "    6: 'bc_sinker', \n",
    "    7: 'bc_cutball'\n",
    "}, inplace=True)"
   ]
  },
  {
   "cell_type": "code",
   "execution_count": 10,
   "metadata": {},
   "outputs": [],
   "source": [
    "train_ball_pivot.fillna(0, inplace=True)"
   ]
  },
  {
   "cell_type": "code",
   "execution_count": 11,
   "metadata": {},
   "outputs": [
    {
     "data": {
      "text/html": [
       "<div>\n",
       "<style scoped>\n",
       "    .dataframe tbody tr th:only-of-type {\n",
       "        vertical-align: middle;\n",
       "    }\n",
       "\n",
       "    .dataframe tbody tr th {\n",
       "        vertical-align: top;\n",
       "    }\n",
       "\n",
       "    .dataframe thead th {\n",
       "        text-align: right;\n",
       "    }\n",
       "</style>\n",
       "<table border=\"1\" class=\"dataframe\">\n",
       "  <thead>\n",
       "    <tr style=\"text-align: right;\">\n",
       "      <th>ball</th>\n",
       "      <th>ball_cnt</th>\n",
       "      <th>pit_bat</th>\n",
       "      <th>bc_straight</th>\n",
       "      <th>bc_curve</th>\n",
       "      <th>bc_slider</th>\n",
       "      <th>bc_shoot</th>\n",
       "      <th>bc_fork</th>\n",
       "      <th>bc_changeup</th>\n",
       "      <th>bc_sinker</th>\n",
       "      <th>bc_cutball</th>\n",
       "    </tr>\n",
       "  </thead>\n",
       "  <tbody>\n",
       "    <tr>\n",
       "      <th>0</th>\n",
       "      <td>0-0</td>\n",
       "      <td>L_L</td>\n",
       "      <td>0.531149</td>\n",
       "      <td>0.058586</td>\n",
       "      <td>0.296482</td>\n",
       "      <td>0.031311</td>\n",
       "      <td>0.015332</td>\n",
       "      <td>0.022272</td>\n",
       "      <td>0.005003</td>\n",
       "      <td>0.039864</td>\n",
       "    </tr>\n",
       "    <tr>\n",
       "      <th>1</th>\n",
       "      <td>0-0</td>\n",
       "      <td>L_R</td>\n",
       "      <td>0.474875</td>\n",
       "      <td>0.080828</td>\n",
       "      <td>0.192947</td>\n",
       "      <td>0.067679</td>\n",
       "      <td>0.029661</td>\n",
       "      <td>0.112833</td>\n",
       "      <td>0.014474</td>\n",
       "      <td>0.026705</td>\n",
       "    </tr>\n",
       "    <tr>\n",
       "      <th>2</th>\n",
       "      <td>0-0</td>\n",
       "      <td>R_L</td>\n",
       "      <td>0.464734</td>\n",
       "      <td>0.110359</td>\n",
       "      <td>0.151086</td>\n",
       "      <td>0.097383</td>\n",
       "      <td>0.067492</td>\n",
       "      <td>0.043210</td>\n",
       "      <td>0.012933</td>\n",
       "      <td>0.052803</td>\n",
       "    </tr>\n",
       "    <tr>\n",
       "      <th>3</th>\n",
       "      <td>0-0</td>\n",
       "      <td>R_R</td>\n",
       "      <td>0.475961</td>\n",
       "      <td>0.101792</td>\n",
       "      <td>0.226048</td>\n",
       "      <td>0.066617</td>\n",
       "      <td>0.042131</td>\n",
       "      <td>0.018345</td>\n",
       "      <td>0.003343</td>\n",
       "      <td>0.065762</td>\n",
       "    </tr>\n",
       "    <tr>\n",
       "      <th>4</th>\n",
       "      <td>0-1</td>\n",
       "      <td>L_L</td>\n",
       "      <td>0.529675</td>\n",
       "      <td>0.033333</td>\n",
       "      <td>0.298374</td>\n",
       "      <td>0.044715</td>\n",
       "      <td>0.017073</td>\n",
       "      <td>0.028049</td>\n",
       "      <td>0.004878</td>\n",
       "      <td>0.043902</td>\n",
       "    </tr>\n",
       "  </tbody>\n",
       "</table>\n",
       "</div>"
      ],
      "text/plain": [
       "ball ball_cnt pit_bat  bc_straight  bc_curve  bc_slider  bc_shoot   bc_fork  \\\n",
       "0         0-0     L_L     0.531149  0.058586   0.296482  0.031311  0.015332   \n",
       "1         0-0     L_R     0.474875  0.080828   0.192947  0.067679  0.029661   \n",
       "2         0-0     R_L     0.464734  0.110359   0.151086  0.097383  0.067492   \n",
       "3         0-0     R_R     0.475961  0.101792   0.226048  0.066617  0.042131   \n",
       "4         0-1     L_L     0.529675  0.033333   0.298374  0.044715  0.017073   \n",
       "\n",
       "ball  bc_changeup  bc_sinker  bc_cutball  \n",
       "0        0.022272   0.005003    0.039864  \n",
       "1        0.112833   0.014474    0.026705  \n",
       "2        0.043210   0.012933    0.052803  \n",
       "3        0.018345   0.003343    0.065762  \n",
       "4        0.028049   0.004878    0.043902  "
      ]
     },
     "execution_count": 11,
     "metadata": {},
     "output_type": "execute_result"
    }
   ],
   "source": [
    "train_ball_pivot.head()"
   ]
  },
  {
   "cell_type": "code",
   "execution_count": 11,
   "metadata": {},
   "outputs": [],
   "source": [
    "train_ball_pivot['bc_curve'] = train_ball_pivot['bc_curve'] / train_ball_pivot['bc_straight'] \n",
    "train_ball_pivot['bc_slider'] = train_ball_pivot['bc_slider'] / train_ball_pivot['bc_straight'] \n",
    "train_ball_pivot['bc_shoot'] = train_ball_pivot['bc_shoot'] / train_ball_pivot['bc_straight'] \n",
    "train_ball_pivot['bc_fork'] = train_ball_pivot['bc_fork'] / train_ball_pivot['bc_straight'] \n",
    "train_ball_pivot['bc_changeup'] = train_ball_pivot['bc_changeup'] / train_ball_pivot['bc_straight'] \n",
    "train_ball_pivot['bc_sinker'] = train_ball_pivot['bc_sinker'] / train_ball_pivot['bc_straight'] \n",
    "train_ball_pivot['bc_cutball'] = train_ball_pivot['bc_cutball'] / train_ball_pivot['bc_straight'] "
   ]
  },
  {
   "cell_type": "code",
   "execution_count": 12,
   "metadata": {},
   "outputs": [],
   "source": [
    "train_ball_pivot.drop(columns=['bc_straight'], inplace=True)"
   ]
  },
  {
   "cell_type": "code",
   "execution_count": 13,
   "metadata": {},
   "outputs": [
    {
     "data": {
      "text/plain": [
       "(48, 9)"
      ]
     },
     "execution_count": 13,
     "metadata": {},
     "output_type": "execute_result"
    }
   ],
   "source": [
    "train_ball_pivot.shape"
   ]
  },
  {
   "cell_type": "markdown",
   "metadata": {},
   "source": [
    "### コース"
   ]
  },
  {
   "cell_type": "code",
   "execution_count": 14,
   "metadata": {},
   "outputs": [],
   "source": [
    "train_course = train_pitch[['course', 'ball_cnt', 'pit_bat']].groupby(['ball_cnt', 'pit_bat', 'course']).size()\n",
    "train_course = pd.DataFrame(train_course).reset_index()\n",
    "train_course.rename(columns={0:'course_sum'}, inplace=True)"
   ]
  },
  {
   "cell_type": "code",
   "execution_count": 15,
   "metadata": {},
   "outputs": [],
   "source": [
    "course_total = train_course.groupby(['ball_cnt', 'pit_bat']).sum().reset_index()\n",
    "course_total.rename(columns={'course_sum':'total'}, inplace=True)\n",
    "train_course = train_course.merge(course_total[['ball_cnt', 'pit_bat', 'total']], on=['ball_cnt', 'pit_bat'], how='left')\n",
    "train_course['rate'] = train_course['course_sum'] / train_course['total']"
   ]
  },
  {
   "cell_type": "code",
   "execution_count": 16,
   "metadata": {},
   "outputs": [],
   "source": [
    "train_course_pivot = pd.pivot_table(train_course[['ball_cnt', 'pit_bat', 'course', 'rate']], index=['ball_cnt', 'pit_bat'], columns='course', values='rate').reset_index()\n",
    "train_course_pivot.rename(columns={\n",
    "    0: 'bc_course00', \n",
    "    1: 'bc_course01', \n",
    "    2: 'bc_course02', \n",
    "    3: 'bc_course03', \n",
    "    4: 'bc_course04', \n",
    "    5: 'bc_course05', \n",
    "    6: 'bc_course06', \n",
    "    7: 'bc_course07', \n",
    "    8: 'bc_course08', \n",
    "    9: 'bc_course09', \n",
    "    10: 'bc_course10', \n",
    "    11: 'bc_course11', \n",
    "    12: 'bc_course12'\n",
    "}, inplace=True)"
   ]
  },
  {
   "cell_type": "code",
   "execution_count": 17,
   "metadata": {},
   "outputs": [],
   "source": [
    "train_course_pivot.fillna(0, inplace=True)"
   ]
  },
  {
   "cell_type": "markdown",
   "metadata": {},
   "source": [
    "### コースの種類"
   ]
  },
  {
   "cell_type": "code",
   "execution_count": 18,
   "metadata": {},
   "outputs": [],
   "source": [
    "train_course_pivot['bc_high_str'] = train_course_pivot['bc_course00'] + train_course_pivot['bc_course03'] + train_course_pivot['bc_course06'] \n",
    "train_course_pivot['bc_high_ball'] = train_course_pivot['bc_course09'] + train_course_pivot['bc_course10'] \n",
    "train_course_pivot['bc_mid_str'] = train_course_pivot['bc_course01'] + train_course_pivot['bc_course04'] + train_course_pivot['bc_course07'] \n",
    "train_course_pivot['bc_low_str'] = train_course_pivot['bc_course02'] + train_course_pivot['bc_course05'] + train_course_pivot['bc_course08'] \n",
    "train_course_pivot['bc_low_ball'] = train_course_pivot['bc_course11'] + train_course_pivot['bc_course12'] "
   ]
  },
  {
   "cell_type": "code",
   "execution_count": 19,
   "metadata": {},
   "outputs": [],
   "source": [
    "train_course_pivot['bc_left_str'] = train_course_pivot['bc_course00'] + train_course_pivot['bc_course01'] + train_course_pivot['bc_course02'] \n",
    "train_course_pivot['bc_left_ball'] = train_course_pivot['bc_course09'] + train_course_pivot['bc_course11'] \n",
    "train_course_pivot['bc_center_str'] = train_course_pivot['bc_course03'] + train_course_pivot['bc_course04'] + train_course_pivot['bc_course05'] \n",
    "train_course_pivot['bc_right_str'] = train_course_pivot['bc_course06'] + train_course_pivot['bc_course07'] + train_course_pivot['bc_course08'] \n",
    "train_course_pivot['bc_right_ball'] = train_course_pivot['bc_course10'] + train_course_pivot['bc_course12'] "
   ]
  },
  {
   "cell_type": "code",
   "execution_count": 20,
   "metadata": {},
   "outputs": [],
   "source": [
    "train_course_pivot.drop(columns=[\n",
    "    'bc_course00', 'bc_course01', 'bc_course02', 'bc_course03', 'bc_course04', 'bc_course05', \n",
    "    'bc_course06', 'bc_course07', 'bc_course08', 'bc_course09', 'bc_course10', 'bc_course11', 'bc_course12'], inplace=True)"
   ]
  },
  {
   "cell_type": "code",
   "execution_count": 21,
   "metadata": {
    "scrolled": false
   },
   "outputs": [
    {
     "data": {
      "text/plain": [
       "(48, 12)"
      ]
     },
     "execution_count": 21,
     "metadata": {},
     "output_type": "execute_result"
    }
   ],
   "source": [
    "train_course_pivot.shape"
   ]
  },
  {
   "cell_type": "markdown",
   "metadata": {},
   "source": [
    "### マージ"
   ]
  },
  {
   "cell_type": "code",
   "execution_count": 22,
   "metadata": {},
   "outputs": [
    {
     "name": "stdout",
     "output_type": "stream",
     "text": [
      "(48, 19)\n"
     ]
    },
    {
     "data": {
      "text/html": [
       "<div>\n",
       "<style scoped>\n",
       "    .dataframe tbody tr th:only-of-type {\n",
       "        vertical-align: middle;\n",
       "    }\n",
       "\n",
       "    .dataframe tbody tr th {\n",
       "        vertical-align: top;\n",
       "    }\n",
       "\n",
       "    .dataframe thead th {\n",
       "        text-align: right;\n",
       "    }\n",
       "</style>\n",
       "<table border=\"1\" class=\"dataframe\">\n",
       "  <thead>\n",
       "    <tr style=\"text-align: right;\">\n",
       "      <th></th>\n",
       "      <th>ball_cnt</th>\n",
       "      <th>pit_bat</th>\n",
       "      <th>bc_curve</th>\n",
       "      <th>bc_slider</th>\n",
       "      <th>bc_shoot</th>\n",
       "      <th>bc_fork</th>\n",
       "      <th>bc_changeup</th>\n",
       "      <th>bc_sinker</th>\n",
       "      <th>bc_cutball</th>\n",
       "      <th>bc_high_str</th>\n",
       "      <th>bc_high_ball</th>\n",
       "      <th>bc_mid_str</th>\n",
       "      <th>bc_low_str</th>\n",
       "      <th>bc_low_ball</th>\n",
       "      <th>bc_left_str</th>\n",
       "      <th>bc_left_ball</th>\n",
       "      <th>bc_center_str</th>\n",
       "      <th>bc_right_str</th>\n",
       "      <th>bc_right_ball</th>\n",
       "    </tr>\n",
       "  </thead>\n",
       "  <tbody>\n",
       "    <tr>\n",
       "      <th>0</th>\n",
       "      <td>0-0</td>\n",
       "      <td>L_L</td>\n",
       "      <td>0.110301</td>\n",
       "      <td>0.558189</td>\n",
       "      <td>0.058949</td>\n",
       "      <td>0.028867</td>\n",
       "      <td>0.041933</td>\n",
       "      <td>0.009420</td>\n",
       "      <td>0.075053</td>\n",
       "      <td>0.142834</td>\n",
       "      <td>0.199968</td>\n",
       "      <td>0.214977</td>\n",
       "      <td>0.174306</td>\n",
       "      <td>0.267915</td>\n",
       "      <td>0.292285</td>\n",
       "      <td>0.322628</td>\n",
       "      <td>0.152518</td>\n",
       "      <td>0.087314</td>\n",
       "      <td>0.145255</td>\n",
       "    </tr>\n",
       "    <tr>\n",
       "      <th>1</th>\n",
       "      <td>0-0</td>\n",
       "      <td>L_R</td>\n",
       "      <td>0.170208</td>\n",
       "      <td>0.406310</td>\n",
       "      <td>0.142520</td>\n",
       "      <td>0.062460</td>\n",
       "      <td>0.237605</td>\n",
       "      <td>0.030479</td>\n",
       "      <td>0.056235</td>\n",
       "      <td>0.134951</td>\n",
       "      <td>0.211701</td>\n",
       "      <td>0.193456</td>\n",
       "      <td>0.172459</td>\n",
       "      <td>0.287432</td>\n",
       "      <td>0.150341</td>\n",
       "      <td>0.235858</td>\n",
       "      <td>0.161859</td>\n",
       "      <td>0.188666</td>\n",
       "      <td>0.263276</td>\n",
       "    </tr>\n",
       "    <tr>\n",
       "      <th>2</th>\n",
       "      <td>0-0</td>\n",
       "      <td>R_L</td>\n",
       "      <td>0.237468</td>\n",
       "      <td>0.325101</td>\n",
       "      <td>0.209547</td>\n",
       "      <td>0.145227</td>\n",
       "      <td>0.092978</td>\n",
       "      <td>0.027829</td>\n",
       "      <td>0.113620</td>\n",
       "      <td>0.135883</td>\n",
       "      <td>0.221489</td>\n",
       "      <td>0.204959</td>\n",
       "      <td>0.174254</td>\n",
       "      <td>0.263415</td>\n",
       "      <td>0.242045</td>\n",
       "      <td>0.294634</td>\n",
       "      <td>0.157681</td>\n",
       "      <td>0.115370</td>\n",
       "      <td>0.190270</td>\n",
       "    </tr>\n",
       "    <tr>\n",
       "      <th>3</th>\n",
       "      <td>0-0</td>\n",
       "      <td>R_R</td>\n",
       "      <td>0.213866</td>\n",
       "      <td>0.474931</td>\n",
       "      <td>0.139964</td>\n",
       "      <td>0.088519</td>\n",
       "      <td>0.038543</td>\n",
       "      <td>0.007023</td>\n",
       "      <td>0.138168</td>\n",
       "      <td>0.151308</td>\n",
       "      <td>0.196937</td>\n",
       "      <td>0.206965</td>\n",
       "      <td>0.157643</td>\n",
       "      <td>0.287147</td>\n",
       "      <td>0.105057</td>\n",
       "      <td>0.153718</td>\n",
       "      <td>0.164756</td>\n",
       "      <td>0.246104</td>\n",
       "      <td>0.330367</td>\n",
       "    </tr>\n",
       "    <tr>\n",
       "      <th>4</th>\n",
       "      <td>0-1</td>\n",
       "      <td>L_L</td>\n",
       "      <td>0.062932</td>\n",
       "      <td>0.563315</td>\n",
       "      <td>0.084421</td>\n",
       "      <td>0.032233</td>\n",
       "      <td>0.052955</td>\n",
       "      <td>0.009210</td>\n",
       "      <td>0.082886</td>\n",
       "      <td>0.155285</td>\n",
       "      <td>0.168699</td>\n",
       "      <td>0.211382</td>\n",
       "      <td>0.205691</td>\n",
       "      <td>0.258943</td>\n",
       "      <td>0.306911</td>\n",
       "      <td>0.281707</td>\n",
       "      <td>0.163008</td>\n",
       "      <td>0.102439</td>\n",
       "      <td>0.145935</td>\n",
       "    </tr>\n",
       "    <tr>\n",
       "      <th>5</th>\n",
       "      <td>0-1</td>\n",
       "      <td>L_R</td>\n",
       "      <td>0.099792</td>\n",
       "      <td>0.428794</td>\n",
       "      <td>0.192308</td>\n",
       "      <td>0.070166</td>\n",
       "      <td>0.234407</td>\n",
       "      <td>0.045218</td>\n",
       "      <td>0.074844</td>\n",
       "      <td>0.146802</td>\n",
       "      <td>0.175388</td>\n",
       "      <td>0.209302</td>\n",
       "      <td>0.194525</td>\n",
       "      <td>0.273983</td>\n",
       "      <td>0.172481</td>\n",
       "      <td>0.220446</td>\n",
       "      <td>0.178052</td>\n",
       "      <td>0.200097</td>\n",
       "      <td>0.228924</td>\n",
       "    </tr>\n",
       "    <tr>\n",
       "      <th>6</th>\n",
       "      <td>0-1</td>\n",
       "      <td>R_L</td>\n",
       "      <td>0.125221</td>\n",
       "      <td>0.375664</td>\n",
       "      <td>0.249336</td>\n",
       "      <td>0.133407</td>\n",
       "      <td>0.092699</td>\n",
       "      <td>0.036726</td>\n",
       "      <td>0.142699</td>\n",
       "      <td>0.152709</td>\n",
       "      <td>0.181650</td>\n",
       "      <td>0.227730</td>\n",
       "      <td>0.196223</td>\n",
       "      <td>0.241687</td>\n",
       "      <td>0.267139</td>\n",
       "      <td>0.246203</td>\n",
       "      <td>0.183190</td>\n",
       "      <td>0.126334</td>\n",
       "      <td>0.177135</td>\n",
       "    </tr>\n",
       "    <tr>\n",
       "      <th>7</th>\n",
       "      <td>0-1</td>\n",
       "      <td>R_R</td>\n",
       "      <td>0.152546</td>\n",
       "      <td>0.480313</td>\n",
       "      <td>0.190888</td>\n",
       "      <td>0.086168</td>\n",
       "      <td>0.049062</td>\n",
       "      <td>0.010307</td>\n",
       "      <td>0.170893</td>\n",
       "      <td>0.156521</td>\n",
       "      <td>0.165190</td>\n",
       "      <td>0.219226</td>\n",
       "      <td>0.189751</td>\n",
       "      <td>0.269312</td>\n",
       "      <td>0.125891</td>\n",
       "      <td>0.147659</td>\n",
       "      <td>0.190618</td>\n",
       "      <td>0.248989</td>\n",
       "      <td>0.286843</td>\n",
       "    </tr>\n",
       "    <tr>\n",
       "      <th>8</th>\n",
       "      <td>0-2</td>\n",
       "      <td>L_L</td>\n",
       "      <td>0.034286</td>\n",
       "      <td>0.335238</td>\n",
       "      <td>0.047619</td>\n",
       "      <td>0.019048</td>\n",
       "      <td>0.026667</td>\n",
       "      <td>0.005714</td>\n",
       "      <td>0.081905</td>\n",
       "      <td>0.178133</td>\n",
       "      <td>0.167076</td>\n",
       "      <td>0.237101</td>\n",
       "      <td>0.212531</td>\n",
       "      <td>0.205160</td>\n",
       "      <td>0.325553</td>\n",
       "      <td>0.249386</td>\n",
       "      <td>0.202703</td>\n",
       "      <td>0.099509</td>\n",
       "      <td>0.122850</td>\n",
       "    </tr>\n",
       "    <tr>\n",
       "      <th>9</th>\n",
       "      <td>0-2</td>\n",
       "      <td>L_R</td>\n",
       "      <td>0.043423</td>\n",
       "      <td>0.328225</td>\n",
       "      <td>0.168582</td>\n",
       "      <td>0.058748</td>\n",
       "      <td>0.141762</td>\n",
       "      <td>0.030651</td>\n",
       "      <td>0.062580</td>\n",
       "      <td>0.167131</td>\n",
       "      <td>0.181755</td>\n",
       "      <td>0.228412</td>\n",
       "      <td>0.208914</td>\n",
       "      <td>0.213788</td>\n",
       "      <td>0.167827</td>\n",
       "      <td>0.173398</td>\n",
       "      <td>0.219359</td>\n",
       "      <td>0.217270</td>\n",
       "      <td>0.222145</td>\n",
       "    </tr>\n",
       "  </tbody>\n",
       "</table>\n",
       "</div>"
      ],
      "text/plain": [
       "  ball_cnt pit_bat  bc_curve  bc_slider  bc_shoot   bc_fork  bc_changeup  \\\n",
       "0      0-0     L_L  0.110301   0.558189  0.058949  0.028867     0.041933   \n",
       "1      0-0     L_R  0.170208   0.406310  0.142520  0.062460     0.237605   \n",
       "2      0-0     R_L  0.237468   0.325101  0.209547  0.145227     0.092978   \n",
       "3      0-0     R_R  0.213866   0.474931  0.139964  0.088519     0.038543   \n",
       "4      0-1     L_L  0.062932   0.563315  0.084421  0.032233     0.052955   \n",
       "5      0-1     L_R  0.099792   0.428794  0.192308  0.070166     0.234407   \n",
       "6      0-1     R_L  0.125221   0.375664  0.249336  0.133407     0.092699   \n",
       "7      0-1     R_R  0.152546   0.480313  0.190888  0.086168     0.049062   \n",
       "8      0-2     L_L  0.034286   0.335238  0.047619  0.019048     0.026667   \n",
       "9      0-2     L_R  0.043423   0.328225  0.168582  0.058748     0.141762   \n",
       "\n",
       "   bc_sinker  bc_cutball  bc_high_str  bc_high_ball  bc_mid_str  bc_low_str  \\\n",
       "0   0.009420    0.075053     0.142834      0.199968    0.214977    0.174306   \n",
       "1   0.030479    0.056235     0.134951      0.211701    0.193456    0.172459   \n",
       "2   0.027829    0.113620     0.135883      0.221489    0.204959    0.174254   \n",
       "3   0.007023    0.138168     0.151308      0.196937    0.206965    0.157643   \n",
       "4   0.009210    0.082886     0.155285      0.168699    0.211382    0.205691   \n",
       "5   0.045218    0.074844     0.146802      0.175388    0.209302    0.194525   \n",
       "6   0.036726    0.142699     0.152709      0.181650    0.227730    0.196223   \n",
       "7   0.010307    0.170893     0.156521      0.165190    0.219226    0.189751   \n",
       "8   0.005714    0.081905     0.178133      0.167076    0.237101    0.212531   \n",
       "9   0.030651    0.062580     0.167131      0.181755    0.228412    0.208914   \n",
       "\n",
       "   bc_low_ball  bc_left_str  bc_left_ball  bc_center_str  bc_right_str  \\\n",
       "0     0.267915     0.292285      0.322628       0.152518      0.087314   \n",
       "1     0.287432     0.150341      0.235858       0.161859      0.188666   \n",
       "2     0.263415     0.242045      0.294634       0.157681      0.115370   \n",
       "3     0.287147     0.105057      0.153718       0.164756      0.246104   \n",
       "4     0.258943     0.306911      0.281707       0.163008      0.102439   \n",
       "5     0.273983     0.172481      0.220446       0.178052      0.200097   \n",
       "6     0.241687     0.267139      0.246203       0.183190      0.126334   \n",
       "7     0.269312     0.125891      0.147659       0.190618      0.248989   \n",
       "8     0.205160     0.325553      0.249386       0.202703      0.099509   \n",
       "9     0.213788     0.167827      0.173398       0.219359      0.217270   \n",
       "\n",
       "   bc_right_ball  \n",
       "0       0.145255  \n",
       "1       0.263276  \n",
       "2       0.190270  \n",
       "3       0.330367  \n",
       "4       0.145935  \n",
       "5       0.228924  \n",
       "6       0.177135  \n",
       "7       0.286843  \n",
       "8       0.122850  \n",
       "9       0.222145  "
      ]
     },
     "execution_count": 22,
     "metadata": {},
     "output_type": "execute_result"
    }
   ],
   "source": [
    "ball_cnt_all = train_ball_pivot.merge(train_course_pivot, on=['ball_cnt', 'pit_bat'], how='left')\n",
    "print(ball_cnt_all.shape)\n",
    "ball_cnt_all.head(10)"
   ]
  },
  {
   "cell_type": "code",
   "execution_count": 23,
   "metadata": {},
   "outputs": [],
   "source": [
    "ball_cnt_all.to_feather(OUTPUT)"
   ]
  }
 ],
 "metadata": {
  "kernelspec": {
   "display_name": "Python 3",
   "language": "python",
   "name": "python3"
  },
  "language_info": {
   "codemirror_mode": {
    "name": "ipython",
    "version": 3
   },
   "file_extension": ".py",
   "mimetype": "text/x-python",
   "name": "python",
   "nbconvert_exporter": "python",
   "pygments_lexer": "ipython3",
   "version": "3.7.6"
  }
 },
 "nbformat": 4,
 "nbformat_minor": 4
}
