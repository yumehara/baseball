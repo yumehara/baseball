{
 "cells": [
  {
   "cell_type": "markdown",
   "metadata": {},
   "source": [
    "## 球種 Tuning\n",
    "### 22"
   ]
  },
  {
   "cell_type": "code",
   "execution_count": 1,
   "metadata": {},
   "outputs": [],
   "source": [
    "import numpy as np\n",
    "import pandas as pd\n",
    "import matplotlib.pyplot as plt\n",
    "#import lightgbm as lgb\n",
    "import optuna.integration.lightgbm as lgb\n",
    "from sklearn import datasets\n",
    "from sklearn.model_selection import train_test_split\n",
    "import gc\n",
    "%matplotlib inline\n",
    "pd.set_option('display.max_Columns', 100)"
   ]
  },
  {
   "cell_type": "markdown",
   "metadata": {},
   "source": [
    "### 管理番号"
   ]
  },
  {
   "cell_type": "code",
   "execution_count": 2,
   "metadata": {},
   "outputs": [],
   "source": [
    "model_No = 32\n",
    "sample_No = 1"
   ]
  },
  {
   "cell_type": "markdown",
   "metadata": {},
   "source": [
    "### sub-modelを使用するかどうか"
   ]
  },
  {
   "cell_type": "code",
   "execution_count": 3,
   "metadata": {},
   "outputs": [],
   "source": [
    "use_sub_model = False"
   ]
  },
  {
   "cell_type": "code",
   "execution_count": 4,
   "metadata": {},
   "outputs": [],
   "source": [
    "if use_sub_model:\n",
    "    ALL_MERGE = 'intermediate/{}/all_merge_{}_{}_sub.f'.format(model_No, model_No, sample_No)\n",
    "else:\n",
    "    ALL_MERGE = 'intermediate/{}/all_merge_{}_{}.f'.format(model_No, model_No, sample_No)"
   ]
  },
  {
   "cell_type": "code",
   "execution_count": 5,
   "metadata": {
    "scrolled": true
   },
   "outputs": [
    {
     "name": "stdout",
     "output_type": "stream",
     "text": [
      "(778767, 584)\n"
     ]
    }
   ],
   "source": [
    "all_pitch = pd.read_feather(ALL_MERGE)\n",
    "print(all_pitch.shape)"
   ]
  },
  {
   "cell_type": "code",
   "execution_count": 6,
   "metadata": {},
   "outputs": [],
   "source": [
    "if use_sub_model:\n",
    "    all_pitch['predict_high_str'] = all_pitch['predict_0'] + all_pitch['predict_3'] + all_pitch['predict_6'] \n",
    "    all_pitch['predict_high_ball'] = all_pitch['predict_9'] + all_pitch['predict_10'] \n",
    "    all_pitch['predict_mid_str'] = all_pitch['predict_1'] + all_pitch['predict_4'] + all_pitch['predict_7'] \n",
    "    all_pitch['predict_low_str'] = all_pitch['predict_2'] + all_pitch['predict_5'] + all_pitch['predict_8'] \n",
    "    all_pitch['predict_low_ball'] = all_pitch['predict_11'] + all_pitch['predict_12'] \n",
    "\n",
    "    all_pitch['predict_left_str'] = all_pitch['predict_0'] + all_pitch['predict_1'] + all_pitch['predict_2'] \n",
    "    all_pitch['predict_left_ball'] = all_pitch['predict_9'] + all_pitch['predict_11'] \n",
    "    all_pitch['predict_center_str'] = all_pitch['predict_3'] + all_pitch['predict_4'] + all_pitch['predict_5'] \n",
    "    all_pitch['predict_right_str'] = all_pitch['predict_6'] + all_pitch['predict_7'] + all_pitch['predict_8'] \n",
    "    all_pitch['predict_right_ball'] = all_pitch['predict_10'] + all_pitch['predict_12'] "
   ]
  },
  {
   "cell_type": "code",
   "execution_count": 7,
   "metadata": {},
   "outputs": [],
   "source": [
    "if use_sub_model:\n",
    "    all_pitch.drop(columns=[\n",
    "        'predict_straight', 'predict_curve', 'predict_slider', 'predict_shoot',\n",
    "        'predict_fork', 'predict_changeup', 'predict_sinker', 'predict_cutball',\n",
    "        'predict_0','predict_1','predict_2','predict_3','predict_4','predict_5','predict_6',\n",
    "        'predict_7','predict_8','predict_9','predict_10','predict_11','predict_12'\n",
    "    ], inplace=True)"
   ]
  },
  {
   "cell_type": "markdown",
   "metadata": {},
   "source": [
    "### train\n",
    "- 行数: 257117"
   ]
  },
  {
   "cell_type": "code",
   "execution_count": 8,
   "metadata": {},
   "outputs": [
    {
     "data": {
      "text/plain": [
       "(257117, 584)"
      ]
     },
     "execution_count": 8,
     "metadata": {},
     "output_type": "execute_result"
    }
   ],
   "source": [
    "train = all_pitch.dropna(subset=['course'])\n",
    "train.shape"
   ]
  },
  {
   "cell_type": "markdown",
   "metadata": {},
   "source": [
    "#### 特徴量に加えた部分を抜く"
   ]
  },
  {
   "cell_type": "code",
   "execution_count": 9,
   "metadata": {},
   "outputs": [
    {
     "data": {
      "text/plain": [
       "(197116, 584)"
      ]
     },
     "execution_count": 9,
     "metadata": {},
     "output_type": "execute_result"
    }
   ],
   "source": [
    "if sample_No == 1:\n",
    "    train = train.query('index > 60000')\n",
    "elif sample_No == 2:\n",
    "    train = train.query('index <= 60000 | index > 120000')\n",
    "elif sample_No == 3:\n",
    "    train = train.query('index <= 120000 | index > 180000')\n",
    "elif sample_No == 4:\n",
    "    train = train.query('index <= 180000')\n",
    "train.shape"
   ]
  },
  {
   "cell_type": "code",
   "execution_count": 10,
   "metadata": {
    "scrolled": true
   },
   "outputs": [
    {
     "data": {
      "text/plain": [
       "36"
      ]
     },
     "execution_count": 10,
     "metadata": {},
     "output_type": "execute_result"
    }
   ],
   "source": [
    "del all_pitch\n",
    "gc.collect()"
   ]
  },
  {
   "cell_type": "code",
   "execution_count": 11,
   "metadata": {},
   "outputs": [],
   "source": [
    "train_d = train.drop([\n",
    "    'No', \n",
    "    'course', \n",
    "    'ball'\n",
    "], axis=1)"
   ]
  },
  {
   "cell_type": "markdown",
   "metadata": {},
   "source": [
    "## Dataset作成"
   ]
  },
  {
   "cell_type": "code",
   "execution_count": 12,
   "metadata": {},
   "outputs": [],
   "source": [
    "X_train, X_test, y_train, y_test = train_test_split(train_d, train['ball'])\n",
    "lgb_train = lgb.Dataset(X_train, y_train)\n",
    "lgb_eval = lgb.Dataset(X_test, y_test, reference=lgb_train)"
   ]
  },
  {
   "cell_type": "markdown",
   "metadata": {},
   "source": [
    "### LGBM学習\n",
    "- multiclass : クラス数=8"
   ]
  },
  {
   "cell_type": "code",
   "execution_count": 13,
   "metadata": {
    "scrolled": false
   },
   "outputs": [],
   "source": [
    "lgb_param = {\n",
    "        'objective' : 'multiclass',\n",
    "        'boosting_type': 'dart',\n",
    "        'metric' : 'multi_logloss',\n",
    "        'num_class' : 8,\n",
    "    }"
   ]
  },
  {
   "cell_type": "code",
   "execution_count": 14,
   "metadata": {
    "scrolled": false
   },
   "outputs": [
    {
     "name": "stderr",
     "output_type": "stream",
     "text": [
      "/home/yasunobu_umehara/anaconda3/lib/python3.7/site-packages/optuna/_experimental.py:90: ExperimentalWarning: train is experimental (supported from v0.18.0). The interface can change in the future.\n",
      "  ExperimentalWarning,\n",
      "tune_feature_fraction, val_score: 1.117044:  14%|#4        | 1/7 [06:41<40:07, 401.17s/it][I 2020-06-14 05:24:14,352] Finished trial#0 with value: 1.1170444925979564 with parameters: {'feature_fraction': 0.4}. Best is trial#0 with value: 1.1170444925979564.\n",
      "tune_feature_fraction, val_score: 1.116399:  29%|##8       | 2/7 [13:41<33:55, 407.01s/it][I 2020-06-14 05:31:14,968] Finished trial#1 with value: 1.116399389871115 with parameters: {'feature_fraction': 0.5}. Best is trial#1 with value: 1.116399389871115.\n",
      "tune_feature_fraction, val_score: 1.116088:  43%|####2     | 3/7 [21:21<28:10, 422.75s/it][I 2020-06-14 05:38:54,449] Finished trial#2 with value: 1.1160875344274357 with parameters: {'feature_fraction': 0.6}. Best is trial#2 with value: 1.1160875344274357.\n",
      "tune_feature_fraction, val_score: 1.116088:  57%|#####7    | 4/7 [29:33<22:10, 443.62s/it][I 2020-06-14 05:47:06,786] Finished trial#3 with value: 1.1165650863949161 with parameters: {'feature_fraction': 0.7}. Best is trial#2 with value: 1.1160875344274357.\n",
      "tune_feature_fraction, val_score: 1.116088:  71%|#######1  | 5/7 [38:23<15:39, 469.61s/it][I 2020-06-14 05:55:57,037] Finished trial#4 with value: 1.1165647976944384 with parameters: {'feature_fraction': 0.8}. Best is trial#2 with value: 1.1160875344274357.\n",
      "tune_feature_fraction, val_score: 1.116088:  86%|########5 | 6/7 [47:44<08:16, 496.78s/it][I 2020-06-14 06:05:17,206] Finished trial#5 with value: 1.116901448494052 with parameters: {'feature_fraction': 0.8999999999999999}. Best is trial#2 with value: 1.1160875344274357.\n",
      "tune_feature_fraction, val_score: 1.116088: 100%|##########| 7/7 [57:41<00:00, 526.97s/it][I 2020-06-14 06:15:14,621] Finished trial#6 with value: 1.1167666832460952 with parameters: {'feature_fraction': 1.0}. Best is trial#2 with value: 1.1160875344274357.\n",
      "tune_feature_fraction, val_score: 1.116088: 100%|##########| 7/7 [57:41<00:00, 494.51s/it]\n",
      "tune_num_leaves, val_score: 1.116088:   5%|5         | 1/20 [05:55<1:52:29, 355.22s/it][I 2020-06-14 06:21:09,956] Finished trial#0 with value: 1.131773744655111 with parameters: {'num_leaves': 13}. Best is trial#0 with value: 1.131773744655111.\n",
      "tune_num_leaves, val_score: 1.116088:  10%|#         | 2/20 [23:49<2:51:17, 570.95s/it][I 2020-06-14 06:39:04,294] Finished trial#1 with value: 1.1566867619247914 with parameters: {'num_leaves': 188}. Best is trial#0 with value: 1.131773744655111.\n",
      "tune_num_leaves, val_score: 1.116088:  15%|#5        | 3/20 [38:50<3:09:49, 669.95s/it][I 2020-06-14 06:54:05,213] Finished trial#2 with value: 1.1345402121561445 with parameters: {'num_leaves': 133}. Best is trial#0 with value: 1.131773744655111.\n",
      "tune_num_leaves, val_score: 1.116088:  20%|##        | 4/20 [58:08<3:37:41, 816.32s/it][I 2020-06-14 07:13:23,061] Finished trial#3 with value: 1.168863828225558 with parameters: {'num_leaves': 219}. Best is trial#0 with value: 1.131773744655111.\n",
      "tune_num_leaves, val_score: 1.116088:  25%|##5       | 5/20 [1:19:16<3:57:56, 951.80s/it][I 2020-06-14 07:34:30,970] Finished trial#4 with value: 1.1847614946977563 with parameters: {'num_leaves': 254}. Best is trial#0 with value: 1.131773744655111.\n",
      "tune_num_leaves, val_score: 1.116088:  30%|###       | 6/20 [1:26:20<3:05:08, 793.46s/it][I 2020-06-14 07:41:35,000] Finished trial#5 with value: 1.118825256879472 with parameters: {'num_leaves': 25}. Best is trial#5 with value: 1.118825256879472.\n",
      "tune_num_leaves, val_score: 1.116088:  35%|###5      | 7/20 [1:37:43<2:44:45, 760.39s/it][I 2020-06-14 07:52:58,215] Finished trial#6 with value: 1.1172199110084569 with parameters: {'num_leaves': 75}. Best is trial#6 with value: 1.1172199110084569.\n",
      "tune_num_leaves, val_score: 1.116088:  40%|####      | 8/20 [1:52:21<2:39:07, 795.59s/it][I 2020-06-14 08:07:35,933] Finished trial#7 with value: 1.1326969076447948 with parameters: {'num_leaves': 130}. Best is trial#6 with value: 1.1172199110084569.\n",
      "tune_num_leaves, val_score: 1.116088:  45%|####5     | 9/20 [2:09:12<2:37:43, 860.29s/it][I 2020-06-14 08:24:27,189] Finished trial#8 with value: 1.148381803918716 with parameters: {'num_leaves': 169}. Best is trial#6 with value: 1.1172199110084569.\n",
      "tune_num_leaves, val_score: 1.116088:  50%|#####     | 10/20 [2:19:10<2:10:16, 781.63s/it][I 2020-06-14 08:34:25,268] Finished trial#9 with value: 1.1162499729791355 with parameters: {'num_leaves': 57}. Best is trial#9 with value: 1.1162499729791355.\n",
      "tune_num_leaves, val_score: 1.116088:  55%|#####5    | 11/20 [2:30:15<1:52:00, 746.75s/it][I 2020-06-14 08:45:30,641] Finished trial#10 with value: 1.1176541903594364 with parameters: {'num_leaves': 71}. Best is trial#9 with value: 1.1162499729791355.\n",
      "tune_num_leaves, val_score: 1.116088:  60%|######    | 12/20 [2:41:14<1:36:01, 720.18s/it][I 2020-06-14 08:56:28,817] Finished trial#11 with value: 1.1174366515363792 with parameters: {'num_leaves': 69}. Best is trial#9 with value: 1.1162499729791355.\n",
      "tune_num_leaves, val_score: 1.116088:  65%|######5   | 13/20 [2:52:01<1:21:27, 698.25s/it][I 2020-06-14 09:07:15,903] Finished trial#12 with value: 1.11748614363122 with parameters: {'num_leaves': 67}. Best is trial#9 with value: 1.1162499729791355.\n",
      "tune_num_leaves, val_score: 1.116088:  70%|#######   | 14/20 [3:04:45<1:11:49, 718.17s/it][I 2020-06-14 09:20:00,556] Finished trial#13 with value: 1.1234590273089249 with parameters: {'num_leaves': 97}. Best is trial#9 with value: 1.1162499729791355.\n",
      "tune_num_leaves, val_score: 1.115213:  75%|#######5  | 15/20 [3:12:51<54:01, 648.36s/it]  [I 2020-06-14 09:28:06,014] Finished trial#14 with value: 1.11521258746488 with parameters: {'num_leaves': 35}. Best is trial#14 with value: 1.11521258746488.\n",
      "tune_num_leaves, val_score: 1.115213:  80%|########  | 16/20 [3:19:44<38:31, 577.87s/it][I 2020-06-14 09:34:59,412] Finished trial#15 with value: 1.1199829861665778 with parameters: {'num_leaves': 23}. Best is trial#14 with value: 1.11521258746488.\n",
      "tune_num_leaves, val_score: 1.115213:  85%|########5 | 17/20 [3:22:50<23:00, 460.13s/it][I 2020-06-14 09:38:04,834] Finished trial#16 with value: 1.186755026898155 with parameters: {'num_leaves': 4}. Best is trial#14 with value: 1.11521258746488.\n",
      "tune_num_leaves, val_score: 1.115213:  90%|######### | 18/20 [3:31:28<15:54, 477.47s/it][I 2020-06-14 09:46:42,769] Finished trial#17 with value: 1.1152178030954247 with parameters: {'num_leaves': 40}. Best is trial#14 with value: 1.11521258746488.\n",
      "tune_num_leaves, val_score: 1.114345:  95%|#########5| 19/20 [3:39:58<08:07, 487.40s/it][I 2020-06-14 09:55:13,336] Finished trial#18 with value: 1.1143454738593495 with parameters: {'num_leaves': 39}. Best is trial#18 with value: 1.1143454738593495.\n",
      "tune_num_leaves, val_score: 1.114345: 100%|##########| 20/20 [3:53:25<00:00, 583.35s/it][I 2020-06-14 10:08:40,568] Finished trial#19 with value: 1.12529851208747 with parameters: {'num_leaves': 106}. Best is trial#18 with value: 1.1143454738593495.\n",
      "tune_num_leaves, val_score: 1.114345: 100%|##########| 20/20 [3:53:25<00:00, 700.30s/it]\n",
      "tune_bagging_fraction_and_bagging_freq, val_score: 1.114345:  10%|#         | 1/10 [07:09<1:04:22, 429.15s/it][I 2020-06-14 10:15:49,852] Finished trial#0 with value: 1.1262446493507856 with parameters: {'bagging_fraction': 0.5093159385662384, 'bagging_freq': 5}. Best is trial#0 with value: 1.1262446493507856.\n",
      "tune_bagging_fraction_and_bagging_freq, val_score: 1.114345:  20%|##        | 2/10 [15:36<1:00:19, 452.48s/it][I 2020-06-14 10:24:16,783] Finished trial#1 with value: 1.1150584480568844 with parameters: {'bagging_fraction': 0.9160559131361393, 'bagging_freq': 5}. Best is trial#1 with value: 1.1150584480568844.\n",
      "tune_bagging_fraction_and_bagging_freq, val_score: 1.114345:  30%|###       | 3/10 [24:03<54:43, 469.04s/it]  [I 2020-06-14 10:32:44,452] Finished trial#2 with value: 1.1156076843969325 with parameters: {'bagging_fraction': 0.9217415225172488, 'bagging_freq': 7}. Best is trial#1 with value: 1.1150584480568844.\n"
     ]
    },
    {
     "name": "stderr",
     "output_type": "stream",
     "text": [
      "tune_bagging_fraction_and_bagging_freq, val_score: 1.114345:  40%|####      | 4/10 [31:12<45:41, 456.93s/it][I 2020-06-14 10:39:53,118] Finished trial#3 with value: 1.1254766739204536 with parameters: {'bagging_fraction': 0.5337941003996957, 'bagging_freq': 5}. Best is trial#1 with value: 1.1150584480568844.\n",
      "tune_bagging_fraction_and_bagging_freq, val_score: 1.114345:  50%|#####     | 5/10 [39:58<39:47, 477.53s/it][I 2020-06-14 10:48:38,725] Finished trial#4 with value: 1.1148413764278555 with parameters: {'bagging_fraction': 0.9457639797324203, 'bagging_freq': 4}. Best is trial#4 with value: 1.1148413764278555.\n",
      "tune_bagging_fraction_and_bagging_freq, val_score: 1.114345:  60%|######    | 6/10 [47:58<31:53, 478.38s/it][I 2020-06-14 10:56:39,087] Finished trial#5 with value: 1.1180327959901366 with parameters: {'bagging_fraction': 0.7892361189890217, 'bagging_freq': 7}. Best is trial#4 with value: 1.1148413764278555.\n",
      "tune_bagging_fraction_and_bagging_freq, val_score: 1.114345:  70%|#######   | 7/10 [55:32<23:32, 470.96s/it][I 2020-06-14 11:04:12,721] Finished trial#6 with value: 1.1211448050472141 with parameters: {'bagging_fraction': 0.6735766268908416, 'bagging_freq': 6}. Best is trial#4 with value: 1.1148413764278555.\n",
      "tune_bagging_fraction_and_bagging_freq, val_score: 1.114345:  80%|########  | 8/10 [1:03:05<15:31, 465.81s/it][I 2020-06-14 11:11:46,510] Finished trial#7 with value: 1.1212795586039594 with parameters: {'bagging_fraction': 0.6481969526753815, 'bagging_freq': 4}. Best is trial#4 with value: 1.1148413764278555.\n",
      "tune_bagging_fraction_and_bagging_freq, val_score: 1.114345:  90%|######### | 9/10 [1:10:55<07:46, 466.91s/it][I 2020-06-14 11:19:35,989] Finished trial#8 with value: 1.1183356045873745 with parameters: {'bagging_fraction': 0.7507729037425905, 'bagging_freq': 2}. Best is trial#4 with value: 1.1148413764278555.\n",
      "tune_bagging_fraction_and_bagging_freq, val_score: 1.114345: 100%|##########| 10/10 [1:19:41<00:00, 484.68s/it][I 2020-06-14 11:28:22,130] Finished trial#9 with value: 1.1155655180722066 with parameters: {'bagging_fraction': 0.9079945116176814, 'bagging_freq': 7}. Best is trial#4 with value: 1.1148413764278555.\n",
      "tune_bagging_fraction_and_bagging_freq, val_score: 1.114345: 100%|##########| 10/10 [1:19:41<00:00, 478.15s/it]\n",
      "tune_feature_fraction, val_score: 1.114345:  17%|#6        | 1/6 [08:09<40:45, 489.17s/it][I 2020-06-14 11:36:31,422] Finished trial#0 with value: 1.1149482527693573 with parameters: {'feature_fraction': 0.52}. Best is trial#0 with value: 1.1149482527693573.\n",
      "tune_feature_fraction, val_score: 1.114162:  33%|###3      | 2/6 [16:26<32:46, 491.73s/it][I 2020-06-14 11:44:49,115] Finished trial#1 with value: 1.1141621072458343 with parameters: {'feature_fraction': 0.552}. Best is trial#1 with value: 1.1141621072458343.\n",
      "tune_feature_fraction, val_score: 1.114162:  50%|#####     | 3/6 [25:32<25:23, 507.95s/it][I 2020-06-14 11:53:54,898] Finished trial#2 with value: 1.1154238203394513 with parameters: {'feature_fraction': 0.584}. Best is trial#1 with value: 1.1141621072458343.\n",
      "tune_feature_fraction, val_score: 1.114162:  67%|######6   | 4/6 [34:15<17:04, 512.41s/it][I 2020-06-14 12:02:37,741] Finished trial#3 with value: 1.1151206430212728 with parameters: {'feature_fraction': 0.616}. Best is trial#1 with value: 1.1141621072458343.\n",
      "tune_feature_fraction, val_score: 1.114162:  83%|########3 | 5/6 [43:00<08:36, 516.34s/it][I 2020-06-14 12:11:23,240] Finished trial#4 with value: 1.1154109217395456 with parameters: {'feature_fraction': 0.6479999999999999}. Best is trial#1 with value: 1.1141621072458343.\n",
      "tune_feature_fraction, val_score: 1.114162: 100%|##########| 6/6 [52:04<00:00, 524.64s/it][I 2020-06-14 12:20:27,240] Finished trial#5 with value: 1.1155686763622628 with parameters: {'feature_fraction': 0.6799999999999999}. Best is trial#1 with value: 1.1141621072458343.\n",
      "tune_feature_fraction, val_score: 1.114162: 100%|##########| 6/6 [52:05<00:00, 520.85s/it]\n",
      "tune_lambda_l1_and_lambda_l2, val_score: 1.114159:   5%|5         | 1/20 [08:08<2:34:43, 488.60s/it][I 2020-06-14 12:28:35,960] Finished trial#0 with value: 1.1141591625231553 with parameters: {'lambda_l1': 1.1039595663087593e-07, 'lambda_l2': 4.692272124361888e-07}. Best is trial#0 with value: 1.1141591625231553.\n",
      "tune_lambda_l1_and_lambda_l2, val_score: 1.114159:  10%|#         | 2/20 [16:14<2:26:18, 487.67s/it][I 2020-06-14 12:36:41,473] Finished trial#1 with value: 1.1148049236458357 with parameters: {'lambda_l1': 2.031668761109548e-06, 'lambda_l2': 0.00039505546428818906}. Best is trial#0 with value: 1.1141591625231553.\n",
      "tune_lambda_l1_and_lambda_l2, val_score: 1.114159:  15%|#5        | 3/20 [24:24<2:18:22, 488.36s/it][I 2020-06-14 12:44:51,439] Finished trial#2 with value: 1.1142417465258707 with parameters: {'lambda_l1': 3.168848762966795e-07, 'lambda_l2': 0.005341061579273895}. Best is trial#0 with value: 1.1141591625231553.\n",
      "tune_lambda_l1_and_lambda_l2, val_score: 1.114159:  20%|##        | 4/20 [32:33<2:10:19, 488.70s/it][I 2020-06-14 12:53:00,918] Finished trial#3 with value: 1.114687305481173 with parameters: {'lambda_l1': 8.870831498808924e-06, 'lambda_l2': 4.7006184066934245e-07}. Best is trial#0 with value: 1.1141591625231553.\n",
      "tune_lambda_l1_and_lambda_l2, val_score: 1.114159:  25%|##5       | 5/20 [40:43<2:02:14, 488.99s/it][I 2020-06-14 13:01:10,591] Finished trial#4 with value: 1.1152472808990361 with parameters: {'lambda_l1': 0.00968128277150425, 'lambda_l2': 0.003321033529348086}. Best is trial#0 with value: 1.1141591625231553.\n",
      "tune_lambda_l1_and_lambda_l2, val_score: 1.112834:  30%|###       | 6/20 [49:06<1:55:04, 493.18s/it][I 2020-06-14 13:09:33,520] Finished trial#5 with value: 1.1128341479732724 with parameters: {'lambda_l1': 1.3459926908093858, 'lambda_l2': 2.2955499784618675e-05}. Best is trial#5 with value: 1.1128341479732724.\n",
      "tune_lambda_l1_and_lambda_l2, val_score: 1.111962:  35%|###5      | 7/20 [57:31<1:47:38, 496.82s/it][I 2020-06-14 13:17:58,844] Finished trial#6 with value: 1.1119617891882005 with parameters: {'lambda_l1': 3.2650173236383515, 'lambda_l2': 0.0006692176426537234}. Best is trial#6 with value: 1.1119617891882005.\n",
      "tune_lambda_l1_and_lambda_l2, val_score: 1.111962:  40%|####      | 8/20 [1:05:56<1:39:52, 499.39s/it][I 2020-06-14 13:26:24,233] Finished trial#7 with value: 1.113237765868994 with parameters: {'lambda_l1': 8.609836121405664, 'lambda_l2': 0.002778093154014945}. Best is trial#6 with value: 1.1119617891882005.\n",
      "tune_lambda_l1_and_lambda_l2, val_score: 1.111962:  45%|####5     | 9/20 [1:14:07<1:31:05, 496.83s/it][I 2020-06-14 13:34:35,112] Finished trial#8 with value: 1.114683290716943 with parameters: {'lambda_l1': 4.404683665509684e-06, 'lambda_l2': 6.795927080006764e-07}. Best is trial#6 with value: 1.1119617891882005.\n",
      "tune_lambda_l1_and_lambda_l2, val_score: 1.111962:  50%|#####     | 10/20 [1:22:18<1:22:30, 495.01s/it][I 2020-06-14 13:42:45,851] Finished trial#9 with value: 1.1148338156830568 with parameters: {'lambda_l1': 0.1374373934784372, 'lambda_l2': 0.014453386393706396}. Best is trial#6 with value: 1.1119617891882005.\n",
      "tune_lambda_l1_and_lambda_l2, val_score: 1.111962:  55%|#####5    | 11/20 [1:30:36<1:14:22, 495.85s/it][I 2020-06-14 13:51:03,677] Finished trial#10 with value: 1.1139445016366518 with parameters: {'lambda_l1': 0.0009003823675921658, 'lambda_l2': 0.7088812587193454}. Best is trial#6 with value: 1.1119617891882005.\n",
      "tune_lambda_l1_and_lambda_l2, val_score: 1.111962:  60%|######    | 12/20 [1:39:06<1:06:40, 500.10s/it][I 2020-06-14 13:59:33,696] Finished trial#11 with value: 1.1124553797739958 with parameters: {'lambda_l1': 6.962511130555729, 'lambda_l2': 2.0149828719959003e-05}. Best is trial#6 with value: 1.1119617891882005.\n",
      "tune_lambda_l1_and_lambda_l2, val_score: 1.111962:  65%|######5   | 13/20 [1:47:39<58:48, 504.07s/it]  [I 2020-06-14 14:08:07,012] Finished trial#12 with value: 1.1126600834790954 with parameters: {'lambda_l1': 7.752364937317845, 'lambda_l2': 1.6741771595407336e-05}. Best is trial#6 with value: 1.1119617891882005.\n"
     ]
    },
    {
     "name": "stderr",
     "output_type": "stream",
     "text": [
      "tune_lambda_l1_and_lambda_l2, val_score: 1.111962:  70%|#######   | 14/20 [1:56:02<50:21, 503.64s/it][I 2020-06-14 14:16:29,661] Finished trial#13 with value: 1.114383001095492 with parameters: {'lambda_l1': 0.1933286978642118, 'lambda_l2': 1.1638715930833154e-08}. Best is trial#6 with value: 1.1119617891882005.\n",
      "tune_lambda_l1_and_lambda_l2, val_score: 1.111962:  75%|#######5  | 15/20 [2:04:27<42:00, 504.20s/it][I 2020-06-14 14:24:55,148] Finished trial#14 with value: 1.1145594126792224 with parameters: {'lambda_l1': 0.015614098722588567, 'lambda_l2': 0.17647261373723178}. Best is trial#6 with value: 1.1119617891882005.\n",
      "tune_lambda_l1_and_lambda_l2, val_score: 1.111962:  80%|########  | 16/20 [2:13:16<34:06, 511.58s/it][I 2020-06-14 14:33:43,953] Finished trial#15 with value: 1.1130407222015821 with parameters: {'lambda_l1': 1.3248133722226059, 'lambda_l2': 2.674749597318623e-05}. Best is trial#6 with value: 1.1119617891882005.\n",
      "tune_lambda_l1_and_lambda_l2, val_score: 1.111962:  85%|########5 | 17/20 [2:22:14<25:58, 519.48s/it][I 2020-06-14 14:42:41,873] Finished trial#16 with value: 1.1148025099499914 with parameters: {'lambda_l1': 0.00047976323969103565, 'lambda_l2': 0.00012435435269872406}. Best is trial#6 with value: 1.1119617891882005.\n",
      "tune_lambda_l1_and_lambda_l2, val_score: 1.111962:  90%|######### | 18/20 [2:30:52<17:18, 519.11s/it][I 2020-06-14 14:51:20,116] Finished trial#17 with value: 1.1124144334961643 with parameters: {'lambda_l1': 7.644286518228308, 'lambda_l2': 1.1222833457776239e-08}. Best is trial#6 with value: 1.1119617891882005.\n",
      "tune_lambda_l1_and_lambda_l2, val_score: 1.111962:  95%|#########5| 19/20 [2:39:09<08:32, 512.32s/it][I 2020-06-14 14:59:36,581] Finished trial#18 with value: 1.1150511529133658 with parameters: {'lambda_l1': 0.05628148395445461, 'lambda_l2': 4.8097484603017975e-08}. Best is trial#6 with value: 1.1119617891882005.\n",
      "tune_lambda_l1_and_lambda_l2, val_score: 1.111962: 100%|##########| 20/20 [2:47:29<00:00, 508.81s/it][I 2020-06-14 15:07:57,224] Finished trial#19 with value: 1.1134371517937474 with parameters: {'lambda_l1': 1.0408245050052705, 'lambda_l2': 0.07506595715565699}. Best is trial#6 with value: 1.1119617891882005.\n",
      "tune_lambda_l1_and_lambda_l2, val_score: 1.111962: 100%|##########| 20/20 [2:47:29<00:00, 502.50s/it]\n",
      "tune_min_child_samples, val_score: 1.111962:  20%|##        | 1/5 [08:30<34:03, 510.87s/it][I 2020-06-14 15:16:28,225] Finished trial#0 with value: 1.112198573539586 with parameters: {'min_child_samples': 5}. Best is trial#0 with value: 1.112198573539586.\n",
      "tune_min_child_samples, val_score: 1.111962:  40%|####      | 2/5 [17:01<25:32, 510.80s/it][I 2020-06-14 15:24:58,845] Finished trial#1 with value: 1.1122705843063974 with parameters: {'min_child_samples': 10}. Best is trial#0 with value: 1.112198573539586.\n",
      "tune_min_child_samples, val_score: 1.111711:  60%|######    | 3/5 [25:31<17:01, 510.56s/it][I 2020-06-14 15:33:28,826] Finished trial#2 with value: 1.111710971052491 with parameters: {'min_child_samples': 25}. Best is trial#2 with value: 1.111710971052491.\n",
      "tune_min_child_samples, val_score: 1.111084:  80%|########  | 4/5 [34:03<08:30, 510.95s/it][I 2020-06-14 15:42:00,685] Finished trial#3 with value: 1.1110836912081503 with parameters: {'min_child_samples': 50}. Best is trial#3 with value: 1.1110836912081503.\n",
      "tune_min_child_samples, val_score: 1.111084: 100%|##########| 5/5 [42:45<00:00, 514.28s/it][I 2020-06-14 15:50:42,744] Finished trial#4 with value: 1.1116487850214718 with parameters: {'min_child_samples': 100}. Best is trial#3 with value: 1.1110836912081503.\n",
      "tune_min_child_samples, val_score: 1.111084: 100%|##########| 5/5 [42:45<00:00, 513.10s/it]\n"
     ]
    },
    {
     "name": "stdout",
     "output_type": "stream",
     "text": [
      "Best Params: {'lambda_l1': 3.2650173236383515, 'lambda_l2': 0.0006692176426537234, 'num_leaves': 39, 'feature_fraction': 0.552, 'bagging_fraction': 1.0, 'bagging_freq': 0, 'min_child_samples': 50}\n",
      "CPU times: user 10d 12h 24min 47s, sys: 43min 12s, total: 10d 13h 8min\n",
      "Wall time: 10h 33min 9s\n"
     ]
    }
   ],
   "source": [
    "%%time\n",
    "best_params, tuning_history = dict(), list()\n",
    "lgb_model = lgb.train(lgb_param, lgb_train,\n",
    "                      valid_sets=lgb_eval,\n",
    "                      verbose_eval=0,\n",
    "                      best_params=best_params,\n",
    "                      tuning_history=tuning_history)\n",
    "print('Best Params:', best_params)\n",
    "#print('Tuning history:', tuning_history)"
   ]
  },
  {
   "cell_type": "markdown",
   "metadata": {},
   "source": [
    "### Feature Importance"
   ]
  },
  {
   "cell_type": "code",
   "execution_count": 15,
   "metadata": {
    "scrolled": false
   },
   "outputs": [
    {
     "data": {
      "text/html": [
       "<div>\n",
       "<style scoped>\n",
       "    .dataframe tbody tr th:only-of-type {\n",
       "        vertical-align: middle;\n",
       "    }\n",
       "\n",
       "    .dataframe tbody tr th {\n",
       "        vertical-align: top;\n",
       "    }\n",
       "\n",
       "    .dataframe thead th {\n",
       "        text-align: right;\n",
       "    }\n",
       "</style>\n",
       "<table border=\"1\" class=\"dataframe\">\n",
       "  <thead>\n",
       "    <tr style=\"text-align: right;\">\n",
       "      <th></th>\n",
       "      <th>feat_name</th>\n",
       "      <th>feat_imp</th>\n",
       "    </tr>\n",
       "  </thead>\n",
       "  <tbody>\n",
       "    <tr>\n",
       "      <th>90</th>\n",
       "      <td>height_bat</td>\n",
       "      <td>1581</td>\n",
       "    </tr>\n",
       "    <tr>\n",
       "      <th>200</th>\n",
       "      <td>mul_shoot</td>\n",
       "      <td>1643</td>\n",
       "    </tr>\n",
       "    <tr>\n",
       "      <th>82</th>\n",
       "      <td>salary_year_pit</td>\n",
       "      <td>1682</td>\n",
       "    </tr>\n",
       "    <tr>\n",
       "      <th>71</th>\n",
       "      <td>draft_order_pit</td>\n",
       "      <td>1709</td>\n",
       "    </tr>\n",
       "    <tr>\n",
       "      <th>106</th>\n",
       "      <td>batter_cnt</td>\n",
       "      <td>1732</td>\n",
       "    </tr>\n",
       "    <tr>\n",
       "      <th>77</th>\n",
       "      <td>age_pit</td>\n",
       "      <td>1796</td>\n",
       "    </tr>\n",
       "    <tr>\n",
       "      <th>180</th>\n",
       "      <td>bmi_dif_b-c</td>\n",
       "      <td>1802</td>\n",
       "    </tr>\n",
       "    <tr>\n",
       "      <th>70</th>\n",
       "      <td>weight_pit</td>\n",
       "      <td>1807</td>\n",
       "    </tr>\n",
       "    <tr>\n",
       "      <th>43</th>\n",
       "      <td>point_diff</td>\n",
       "      <td>1869</td>\n",
       "    </tr>\n",
       "    <tr>\n",
       "      <th>91</th>\n",
       "      <td>weight_bat</td>\n",
       "      <td>1925</td>\n",
       "    </tr>\n",
       "    <tr>\n",
       "      <th>69</th>\n",
       "      <td>height_pit</td>\n",
       "      <td>1966</td>\n",
       "    </tr>\n",
       "    <tr>\n",
       "      <th>105</th>\n",
       "      <td>bmi_bat</td>\n",
       "      <td>1999</td>\n",
       "    </tr>\n",
       "    <tr>\n",
       "      <th>79</th>\n",
       "      <td>salary_rank_pit</td>\n",
       "      <td>2044</td>\n",
       "    </tr>\n",
       "    <tr>\n",
       "      <th>164</th>\n",
       "      <td>bmi_dif_p-b</td>\n",
       "      <td>2155</td>\n",
       "    </tr>\n",
       "    <tr>\n",
       "      <th>5</th>\n",
       "      <td>player_cnt_in_game</td>\n",
       "      <td>2195</td>\n",
       "    </tr>\n",
       "    <tr>\n",
       "      <th>25</th>\n",
       "      <td>elapsed_min</td>\n",
       "      <td>2284</td>\n",
       "    </tr>\n",
       "    <tr>\n",
       "      <th>81</th>\n",
       "      <td>rank_x_year_pit</td>\n",
       "      <td>2286</td>\n",
       "    </tr>\n",
       "    <tr>\n",
       "      <th>34</th>\n",
       "      <td>diff_elapsed_batter</td>\n",
       "      <td>2430</td>\n",
       "    </tr>\n",
       "    <tr>\n",
       "      <th>84</th>\n",
       "      <td>bmi_pit</td>\n",
       "      <td>2474</td>\n",
       "    </tr>\n",
       "    <tr>\n",
       "      <th>0</th>\n",
       "      <td>pitch_cnt_in_game</td>\n",
       "      <td>2482</td>\n",
       "    </tr>\n",
       "    <tr>\n",
       "      <th>28</th>\n",
       "      <td>elapsed_from_inning</td>\n",
       "      <td>2505</td>\n",
       "    </tr>\n",
       "    <tr>\n",
       "      <th>26</th>\n",
       "      <td>min_diff</td>\n",
       "      <td>2604</td>\n",
       "    </tr>\n",
       "    <tr>\n",
       "      <th>30</th>\n",
       "      <td>elapsed_batter</td>\n",
       "      <td>2607</td>\n",
       "    </tr>\n",
       "    <tr>\n",
       "      <th>33</th>\n",
       "      <td>ave_elapsed_batter</td>\n",
       "      <td>2719</td>\n",
       "    </tr>\n",
       "    <tr>\n",
       "      <th>31</th>\n",
       "      <td>ave_elapsed_game</td>\n",
       "      <td>2891</td>\n",
       "    </tr>\n",
       "    <tr>\n",
       "      <th>6</th>\n",
       "      <td>pitcher_cnt_in_game</td>\n",
       "      <td>2990</td>\n",
       "    </tr>\n",
       "    <tr>\n",
       "      <th>36</th>\n",
       "      <td>diff_elapsed_game</td>\n",
       "      <td>3115</td>\n",
       "    </tr>\n",
       "    <tr>\n",
       "      <th>35</th>\n",
       "      <td>diff_elapsed_inning</td>\n",
       "      <td>3209</td>\n",
       "    </tr>\n",
       "    <tr>\n",
       "      <th>32</th>\n",
       "      <td>ave_elapsed_inning</td>\n",
       "      <td>3369</td>\n",
       "    </tr>\n",
       "    <tr>\n",
       "      <th>24</th>\n",
       "      <td>date_from_opening</td>\n",
       "      <td>6127</td>\n",
       "    </tr>\n",
       "  </tbody>\n",
       "</table>\n",
       "</div>"
      ],
      "text/plain": [
       "               feat_name  feat_imp\n",
       "90            height_bat      1581\n",
       "200            mul_shoot      1643\n",
       "82       salary_year_pit      1682\n",
       "71       draft_order_pit      1709\n",
       "106           batter_cnt      1732\n",
       "77               age_pit      1796\n",
       "180          bmi_dif_b-c      1802\n",
       "70            weight_pit      1807\n",
       "43            point_diff      1869\n",
       "91            weight_bat      1925\n",
       "69            height_pit      1966\n",
       "105              bmi_bat      1999\n",
       "79       salary_rank_pit      2044\n",
       "164          bmi_dif_p-b      2155\n",
       "5     player_cnt_in_game      2195\n",
       "25           elapsed_min      2284\n",
       "81       rank_x_year_pit      2286\n",
       "34   diff_elapsed_batter      2430\n",
       "84               bmi_pit      2474\n",
       "0      pitch_cnt_in_game      2482\n",
       "28   elapsed_from_inning      2505\n",
       "26              min_diff      2604\n",
       "30        elapsed_batter      2607\n",
       "33    ave_elapsed_batter      2719\n",
       "31      ave_elapsed_game      2891\n",
       "6    pitcher_cnt_in_game      2990\n",
       "36     diff_elapsed_game      3115\n",
       "35   diff_elapsed_inning      3209\n",
       "32    ave_elapsed_inning      3369\n",
       "24     date_from_opening      6127"
      ]
     },
     "execution_count": 15,
     "metadata": {},
     "output_type": "execute_result"
    }
   ],
   "source": [
    "fi = lgb_model.feature_importance()\n",
    "fn = lgb_model.feature_name()\n",
    "df_feature_importance = pd.DataFrame({'feat_name':fn, 'feat_imp':fi})\n",
    "df_feature_importance.sort_values('feat_imp', inplace=True)\n",
    "df_feature_importance.tail(30)"
   ]
  },
  {
   "cell_type": "markdown",
   "metadata": {},
   "source": [
    "## 結果出力"
   ]
  },
  {
   "cell_type": "markdown",
   "metadata": {},
   "source": [
    "### dart (32)\n",
    "`\n",
    "Best Params: {\n",
    "    'lambda_l1': 3.2650173236383515, \n",
    "    'lambda_l2': 0.0006692176426537234, \n",
    "    'num_leaves': 39, \n",
    "    'feature_fraction': 0.552, \n",
    "    'bagging_fraction': 1.0, \n",
    "    'bagging_freq': 0, \n",
    "    'min_child_samples': 50\n",
    "}\n",
    "`\n",
    "Wall time: 10h 33min 9s"
   ]
  },
  {
   "cell_type": "markdown",
   "metadata": {},
   "source": [
    "### Tuning結果(22-1_sub)\n",
    "`\n",
    "Best Params: {\n",
    "    'lambda_l1': 9.399895836269046, \n",
    "    'lambda_l2': 1.0011449849417051e-05, \n",
    "    'num_leaves': 17, \n",
    "    'feature_fraction': 0.4, \n",
    "    'bagging_fraction': 0.9757689578049016, \n",
    "    'bagging_freq': 1, \n",
    "    'min_child_samples': 5\n",
    "}\n",
    "`\n",
    "Wall time: 1h 30min 23s"
   ]
  },
  {
   "cell_type": "markdown",
   "metadata": {},
   "source": [
    "### Tuning結果(15)\n",
    "`\n",
    "Best Params: {\n",
    "    'lambda_l1': 9.466286566446003, \n",
    "    'lambda_l2': 0.15842866429240474, \n",
    "    'num_leaves': 21, \n",
    "    'feature_fraction': 0.41600000000000004, \n",
    "    'bagging_fraction': 0.8473186677812694, \n",
    "    'bagging_freq': 7, \n",
    "    'min_child_samples': 100\n",
    "}\n",
    "`\n",
    "Wall time: 2h 14min 40s"
   ]
  },
  {
   "cell_type": "markdown",
   "metadata": {},
   "source": [
    "### Tuning結果(10)\n",
    "`\n",
    "Best Params: {\n",
    "    'lambda_l1': 2.972300673782286, \n",
    "    'lambda_l2': 0.0002499813121238942, \n",
    "    'num_leaves': 15, \n",
    "    'feature_fraction': 0.4, \n",
    "    'bagging_fraction': 1.0, \n",
    "    'bagging_freq': 0, \n",
    "    'min_child_samples': 100\n",
    "}\n",
    "`\n",
    "Wall time: 1h 54min 11s"
   ]
  },
  {
   "cell_type": "markdown",
   "metadata": {},
   "source": [
    "### Tuning結果(5)\n",
    "`\n",
    "Best Params: {\n",
    "    'lambda_l1': 6.9923570049658075, \n",
    "    'lambda_l2': 0.002378623984798833, \n",
    "    'num_leaves': 18, \n",
    "    'feature_fraction': 0.45199999999999996, \n",
    "    'bagging_fraction': 0.9799724836460725, \n",
    "    'bagging_freq': 4, \n",
    "    'min_child_samples': 20\n",
    "}\n",
    "`"
   ]
  },
  {
   "cell_type": "code",
   "execution_count": null,
   "metadata": {},
   "outputs": [],
   "source": []
  }
 ],
 "metadata": {
  "kernelspec": {
   "display_name": "Python 3",
   "language": "python",
   "name": "python3"
  },
  "language_info": {
   "codemirror_mode": {
    "name": "ipython",
    "version": 3
   },
   "file_extension": ".py",
   "mimetype": "text/x-python",
   "name": "python",
   "nbconvert_exporter": "python",
   "pygments_lexer": "ipython3",
   "version": "3.7.6"
  }
 },
 "nbformat": 4,
 "nbformat_minor": 4
}
