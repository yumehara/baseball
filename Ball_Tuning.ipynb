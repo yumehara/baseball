{
 "cells": [
  {
   "cell_type": "markdown",
   "metadata": {},
   "source": [
    "## 球種 Tuning\n",
    "### 22"
   ]
  },
  {
   "cell_type": "code",
   "execution_count": 1,
   "metadata": {},
   "outputs": [],
   "source": [
    "import numpy as np\n",
    "import pandas as pd\n",
    "import matplotlib.pyplot as plt\n",
    "#import lightgbm as lgb\n",
    "import optuna.integration.lightgbm as lgb\n",
    "from sklearn import datasets\n",
    "from sklearn.model_selection import train_test_split\n",
    "import gc\n",
    "%matplotlib inline\n",
    "pd.set_option('display.max_Columns', 100)"
   ]
  },
  {
   "cell_type": "markdown",
   "metadata": {},
   "source": [
    "### 管理番号"
   ]
  },
  {
   "cell_type": "code",
   "execution_count": 2,
   "metadata": {},
   "outputs": [],
   "source": [
    "model_No = 22\n",
    "sample_No = 1"
   ]
  },
  {
   "cell_type": "markdown",
   "metadata": {},
   "source": [
    "### sub-modelを使用するかどうか"
   ]
  },
  {
   "cell_type": "code",
   "execution_count": 3,
   "metadata": {},
   "outputs": [],
   "source": [
    "use_sub_model = True"
   ]
  },
  {
   "cell_type": "code",
   "execution_count": 4,
   "metadata": {},
   "outputs": [],
   "source": [
    "if use_sub_model:\n",
    "    ALL_MERGE = 'intermediate/{}/all_merge_{}_{}_sub.f'.format(model_No, model_No, sample_No)\n",
    "else:\n",
    "    ALL_MERGE = 'intermediate/{}/all_merge_{}_{}.f'.format(model_No, model_No, sample_No)"
   ]
  },
  {
   "cell_type": "code",
   "execution_count": 5,
   "metadata": {
    "scrolled": true
   },
   "outputs": [
    {
     "name": "stdout",
     "output_type": "stream",
     "text": [
      "(778767, 211)\n"
     ]
    }
   ],
   "source": [
    "all_pitch = pd.read_feather(ALL_MERGE)\n",
    "print(all_pitch.shape)"
   ]
  },
  {
   "cell_type": "code",
   "execution_count": 6,
   "metadata": {},
   "outputs": [],
   "source": [
    "if use_sub_model:\n",
    "    all_pitch['predict_high_str'] = all_pitch['predict_0'] + all_pitch['predict_3'] + all_pitch['predict_6'] \n",
    "    all_pitch['predict_high_ball'] = all_pitch['predict_9'] + all_pitch['predict_10'] \n",
    "    all_pitch['predict_mid_str'] = all_pitch['predict_1'] + all_pitch['predict_4'] + all_pitch['predict_7'] \n",
    "    all_pitch['predict_low_str'] = all_pitch['predict_2'] + all_pitch['predict_5'] + all_pitch['predict_8'] \n",
    "    all_pitch['predict_low_ball'] = all_pitch['predict_11'] + all_pitch['predict_12'] \n",
    "\n",
    "    all_pitch['predict_left_str'] = all_pitch['predict_0'] + all_pitch['predict_1'] + all_pitch['predict_2'] \n",
    "    all_pitch['predict_left_ball'] = all_pitch['predict_9'] + all_pitch['predict_11'] \n",
    "    all_pitch['predict_center_str'] = all_pitch['predict_3'] + all_pitch['predict_4'] + all_pitch['predict_5'] \n",
    "    all_pitch['predict_right_str'] = all_pitch['predict_6'] + all_pitch['predict_7'] + all_pitch['predict_8'] \n",
    "    all_pitch['predict_right_ball'] = all_pitch['predict_10'] + all_pitch['predict_12'] "
   ]
  },
  {
   "cell_type": "code",
   "execution_count": 7,
   "metadata": {},
   "outputs": [],
   "source": [
    "if use_sub_model:\n",
    "    all_pitch.drop(columns=[\n",
    "        'predict_straight', 'predict_curve', 'predict_slider', 'predict_shoot',\n",
    "        'predict_fork', 'predict_changeup', 'predict_sinker', 'predict_cutball',\n",
    "        'predict_0','predict_1','predict_2','predict_3','predict_4','predict_5','predict_6',\n",
    "        'predict_7','predict_8','predict_9','predict_10','predict_11','predict_12'\n",
    "    ], inplace=True)"
   ]
  },
  {
   "cell_type": "markdown",
   "metadata": {},
   "source": [
    "### train\n",
    "- 行数: 257117"
   ]
  },
  {
   "cell_type": "code",
   "execution_count": 8,
   "metadata": {},
   "outputs": [
    {
     "data": {
      "text/plain": [
       "(257117, 200)"
      ]
     },
     "execution_count": 8,
     "metadata": {},
     "output_type": "execute_result"
    }
   ],
   "source": [
    "train = all_pitch.dropna(subset=['course'])\n",
    "train.shape"
   ]
  },
  {
   "cell_type": "markdown",
   "metadata": {},
   "source": [
    "#### 特徴量に加えた部分を抜く"
   ]
  },
  {
   "cell_type": "code",
   "execution_count": 9,
   "metadata": {},
   "outputs": [
    {
     "data": {
      "text/plain": [
       "(197116, 200)"
      ]
     },
     "execution_count": 9,
     "metadata": {},
     "output_type": "execute_result"
    }
   ],
   "source": [
    "if sample_No == 1:\n",
    "    train = train.query('index > 60000')\n",
    "elif sample_No == 2:\n",
    "    train = train.query('index <= 60000 | index > 120000')\n",
    "elif sample_No == 3:\n",
    "    train = train.query('index <= 120000 | index > 180000')\n",
    "elif sample_No == 4:\n",
    "    train = train.query('index <= 180000')\n",
    "train.shape"
   ]
  },
  {
   "cell_type": "code",
   "execution_count": 10,
   "metadata": {
    "scrolled": true
   },
   "outputs": [
    {
     "data": {
      "text/plain": [
       "36"
      ]
     },
     "execution_count": 10,
     "metadata": {},
     "output_type": "execute_result"
    }
   ],
   "source": [
    "del all_pitch\n",
    "gc.collect()"
   ]
  },
  {
   "cell_type": "code",
   "execution_count": 11,
   "metadata": {},
   "outputs": [],
   "source": [
    "train_d = train.drop([\n",
    "    'No', \n",
    "    'course', \n",
    "    'ball'\n",
    "], axis=1)"
   ]
  },
  {
   "cell_type": "markdown",
   "metadata": {},
   "source": [
    "## Dataset作成"
   ]
  },
  {
   "cell_type": "code",
   "execution_count": 12,
   "metadata": {},
   "outputs": [],
   "source": [
    "X_train, X_test, y_train, y_test = train_test_split(train_d, train['ball'])\n",
    "lgb_train = lgb.Dataset(X_train, y_train)\n",
    "lgb_eval = lgb.Dataset(X_test, y_test, reference=lgb_train)"
   ]
  },
  {
   "cell_type": "markdown",
   "metadata": {},
   "source": [
    "### LGBM学習\n",
    "- multiclass : クラス数=8"
   ]
  },
  {
   "cell_type": "code",
   "execution_count": 13,
   "metadata": {
    "scrolled": false
   },
   "outputs": [],
   "source": [
    "lgb_param = {\n",
    "        'objective' : 'multiclass',\n",
    "        'boosting_type': 'gbdt',\n",
    "        'metric' : 'multi_logloss',\n",
    "        'num_class' : 8,\n",
    "    }"
   ]
  },
  {
   "cell_type": "code",
   "execution_count": 14,
   "metadata": {
    "scrolled": false
   },
   "outputs": [
    {
     "name": "stderr",
     "output_type": "stream",
     "text": [
      "/home/yasunobu_umehara/anaconda3/lib/python3.7/site-packages/optuna/_experimental.py:90: ExperimentalWarning: train is experimental (supported from v0.18.0). The interface can change in the future.\n",
      "  ExperimentalWarning,\n",
      "tune_feature_fraction, val_score: 1.131747:  14%|#4        | 1/7 [01:11<07:07, 71.21s/it][I 2020-05-17 10:06:08,806] Finished trial#0 with value: 1.131746595006951 with parameters: {'feature_fraction': 0.4}. Best is trial#0 with value: 1.131746595006951.\n",
      "tune_feature_fraction, val_score: 1.131747:  29%|##8       | 2/7 [02:30<06:08, 73.70s/it][I 2020-05-17 10:07:28,340] Finished trial#1 with value: 1.1341611160469944 with parameters: {'feature_fraction': 0.5}. Best is trial#0 with value: 1.131746595006951.\n",
      "tune_feature_fraction, val_score: 1.131747:  43%|####2     | 3/7 [03:58<05:12, 78.02s/it][I 2020-05-17 10:08:56,439] Finished trial#2 with value: 1.1332460541280465 with parameters: {'feature_fraction': 0.6}. Best is trial#0 with value: 1.131746595006951.\n",
      "tune_feature_fraction, val_score: 1.131747:  57%|#####7    | 4/7 [05:35<04:10, 83.59s/it][I 2020-05-17 10:10:33,033] Finished trial#3 with value: 1.135283338993464 with parameters: {'feature_fraction': 0.7}. Best is trial#0 with value: 1.131746595006951.\n",
      "tune_feature_fraction, val_score: 1.131747:  71%|#######1  | 5/7 [07:20<02:59, 89.91s/it][I 2020-05-17 10:12:17,676] Finished trial#4 with value: 1.1372617152634124 with parameters: {'feature_fraction': 0.8}. Best is trial#0 with value: 1.131746595006951.\n",
      "tune_feature_fraction, val_score: 1.131747:  86%|########5 | 6/7 [09:12<01:36, 96.81s/it][I 2020-05-17 10:14:10,580] Finished trial#5 with value: 1.1379654797331191 with parameters: {'feature_fraction': 0.8999999999999999}. Best is trial#0 with value: 1.131746595006951.\n",
      "tune_feature_fraction, val_score: 1.131747: 100%|##########| 7/7 [11:14<00:00, 104.25s/it][I 2020-05-17 10:16:12,201] Finished trial#6 with value: 1.1393560406334224 with parameters: {'feature_fraction': 1.0}. Best is trial#0 with value: 1.131746595006951.\n",
      "tune_feature_fraction, val_score: 1.131747: 100%|##########| 7/7 [11:14<00:00, 96.39s/it] \n",
      "tune_num_leaves, val_score: 1.129076:   5%|5         | 1/20 [01:07<21:30, 67.94s/it][I 2020-05-17 10:17:20,239] Finished trial#0 with value: 1.1290755038226645 with parameters: {'num_leaves': 28}. Best is trial#0 with value: 1.1290755038226645.\n",
      "tune_num_leaves, val_score: 1.129076:  10%|#         | 2/20 [04:11<30:46, 102.56s/it][I 2020-05-17 10:20:23,569] Finished trial#1 with value: 1.35695530787293 with parameters: {'num_leaves': 184}. Best is trial#0 with value: 1.1290755038226645.\n",
      "tune_num_leaves, val_score: 1.129076:  15%|#5        | 3/20 [06:20<31:19, 110.58s/it][I 2020-05-17 10:22:32,858] Finished trial#2 with value: 1.23346819561991 with parameters: {'num_leaves': 109}. Best is trial#0 with value: 1.1290755038226645.\n",
      "tune_num_leaves, val_score: 1.129076:  20%|##        | 4/20 [07:49<27:47, 104.20s/it][I 2020-05-17 10:24:02,206] Finished trial#3 with value: 1.1583073174970215 with parameters: {'num_leaves': 54}. Best is trial#0 with value: 1.1290755038226645.\n",
      "tune_num_leaves, val_score: 1.129076:  25%|##5       | 5/20 [11:21<34:04, 136.29s/it][I 2020-05-17 10:27:33,347] Finished trial#4 with value: 1.4320554247099728 with parameters: {'num_leaves': 230}. Best is trial#0 with value: 1.1290755038226645.\n",
      "tune_num_leaves, val_score: 1.129076:  30%|###       | 6/20 [14:28<35:24, 151.77s/it][I 2020-05-17 10:30:41,246] Finished trial#5 with value: 1.366876645250308 with parameters: {'num_leaves': 191}. Best is trial#0 with value: 1.1290755038226645.\n",
      "tune_num_leaves, val_score: 1.129076:  35%|###5      | 7/20 [16:24<30:31, 140.85s/it][I 2020-05-17 10:32:36,631] Finished trial#6 with value: 1.2037420530356508 with parameters: {'num_leaves': 90}. Best is trial#0 with value: 1.1290755038226645.\n",
      "tune_num_leaves, val_score: 1.129076:  40%|####      | 8/20 [18:34<27:32, 137.68s/it][I 2020-05-17 10:34:46,894] Finished trial#7 with value: 1.2345705581322242 with parameters: {'num_leaves': 110}. Best is trial#0 with value: 1.1290755038226645.\n",
      "tune_num_leaves, val_score: 1.129076:  45%|####5     | 9/20 [22:18<29:58, 163.49s/it][I 2020-05-17 10:38:30,617] Finished trial#8 with value: 1.4702133622484916 with parameters: {'num_leaves': 255}. Best is trial#0 with value: 1.1290755038226645.\n",
      "tune_num_leaves, val_score: 1.129076:  50%|#####     | 10/20 [24:44<26:23, 158.35s/it][I 2020-05-17 10:40:56,972] Finished trial#9 with value: 1.272522306582704 with parameters: {'num_leaves': 132}. Best is trial#0 with value: 1.1290755038226645.\n",
      "tune_num_leaves, val_score: 1.128643:  55%|#####5    | 11/20 [25:34<18:51, 125.67s/it][I 2020-05-17 10:41:46,391] Finished trial#10 with value: 1.1286428752931572 with parameters: {'num_leaves': 9}. Best is trial#10 with value: 1.1286428752931572.\n",
      "tune_num_leaves, val_score: 1.128643:  60%|######    | 12/20 [26:17<13:28, 101.04s/it][I 2020-05-17 10:42:29,963] Finished trial#11 with value: 1.1435497246331876 with parameters: {'num_leaves': 5}. Best is trial#10 with value: 1.1286428752931572.\n",
      "tune_num_leaves, val_score: 1.124423:  65%|######5   | 13/20 [27:15<10:16, 88.12s/it] [I 2020-05-17 10:43:27,944] Finished trial#12 with value: 1.124423020381937 with parameters: {'num_leaves': 17}. Best is trial#12 with value: 1.124423020381937.\n",
      "tune_num_leaves, val_score: 1.124423:  70%|#######   | 14/20 [27:54<07:20, 73.36s/it][I 2020-05-17 10:44:06,843] Finished trial#13 with value: 1.169894524595615 with parameters: {'num_leaves': 3}. Best is trial#12 with value: 1.124423020381937.\n",
      "tune_num_leaves, val_score: 1.124423:  75%|#######5  | 15/20 [29:28<06:38, 79.62s/it][I 2020-05-17 10:45:41,099] Finished trial#14 with value: 1.164904258292361 with parameters: {'num_leaves': 61}. Best is trial#12 with value: 1.124423020381937.\n",
      "tune_num_leaves, val_score: 1.124423:  80%|########  | 16/20 [30:42<05:11, 77.97s/it][I 2020-05-17 10:46:55,203] Finished trial#15 with value: 1.1358219017636637 with parameters: {'num_leaves': 35}. Best is trial#12 with value: 1.124423020381937.\n",
      "tune_num_leaves, val_score: 1.124423:  85%|########5 | 17/20 [31:21<03:18, 66.14s/it][I 2020-05-17 10:47:33,725] Finished trial#16 with value: 1.1698945245956152 with parameters: {'num_leaves': 3}. Best is trial#12 with value: 1.124423020381937.\n",
      "tune_num_leaves, val_score: 1.124423:  90%|######### | 18/20 [33:06<02:35, 77.68s/it][I 2020-05-17 10:49:18,340] Finished trial#17 with value: 1.1784890498508884 with parameters: {'num_leaves': 72}. Best is trial#12 with value: 1.124423020381937.\n",
      "tune_num_leaves, val_score: 1.124423:  95%|#########5| 19/20 [34:21<01:17, 77.14s/it][I 2020-05-17 10:50:34,231] Finished trial#18 with value: 1.1344612436141361 with parameters: {'num_leaves': 36}. Best is trial#12 with value: 1.124423020381937.\n",
      "tune_num_leaves, val_score: 1.124423: 100%|##########| 20/20 [37:06<00:00, 103.42s/it][I 2020-05-17 10:53:18,937] Finished trial#19 with value: 1.3087174110214437 with parameters: {'num_leaves': 154}. Best is trial#12 with value: 1.124423020381937.\n",
      "tune_num_leaves, val_score: 1.124423: 100%|##########| 20/20 [37:06<00:00, 111.34s/it]\n",
      "tune_bagging_fraction_and_bagging_freq, val_score: 1.123011:  10%|#         | 1/10 [01:04<09:44, 64.92s/it][I 2020-05-17 10:54:23,963] Finished trial#0 with value: 1.1230105925469775 with parameters: {'bagging_fraction': 0.9757689578049016, 'bagging_freq': 1}. Best is trial#0 with value: 1.1230105925469775.\n",
      "tune_bagging_fraction_and_bagging_freq, val_score: 1.123011:  20%|##        | 2/10 [01:52<07:58, 59.82s/it][I 2020-05-17 10:55:11,892] Finished trial#1 with value: 1.1315622454813823 with parameters: {'bagging_fraction': 0.529436622112949, 'bagging_freq': 5}. Best is trial#0 with value: 1.1230105925469775.\n",
      "tune_bagging_fraction_and_bagging_freq, val_score: 1.123011:  30%|###       | 3/10 [02:47<06:47, 58.27s/it][I 2020-05-17 10:56:06,526] Finished trial#2 with value: 1.1244548794340097 with parameters: {'bagging_fraction': 0.6654050940069685, 'bagging_freq': 1}. Best is trial#0 with value: 1.1230105925469775.\n"
     ]
    },
    {
     "name": "stderr",
     "output_type": "stream",
     "text": [
      "tune_bagging_fraction_and_bagging_freq, val_score: 1.123011:  40%|####      | 4/10 [03:50<05:58, 59.74s/it][I 2020-05-17 10:57:09,717] Finished trial#3 with value: 1.1245295755820792 with parameters: {'bagging_fraction': 0.9937079196503578, 'bagging_freq': 4}. Best is trial#0 with value: 1.1230105925469775.\n",
      "tune_bagging_fraction_and_bagging_freq, val_score: 1.123011:  50%|#####     | 5/10 [04:41<04:45, 57.02s/it][I 2020-05-17 10:58:00,391] Finished trial#4 with value: 1.1295090598544313 with parameters: {'bagging_fraction': 0.6027465786796519, 'bagging_freq': 5}. Best is trial#0 with value: 1.1230105925469775.\n",
      "tune_bagging_fraction_and_bagging_freq, val_score: 1.123011:  60%|######    | 6/10 [05:38<03:47, 56.97s/it][I 2020-05-17 10:58:57,231] Finished trial#5 with value: 1.1250355900226068 with parameters: {'bagging_fraction': 0.7854957606014913, 'bagging_freq': 3}. Best is trial#0 with value: 1.1230105925469775.\n",
      "tune_bagging_fraction_and_bagging_freq, val_score: 1.123011:  70%|#######   | 7/10 [06:24<02:41, 53.83s/it][I 2020-05-17 10:59:43,726] Finished trial#6 with value: 1.1331494786033527 with parameters: {'bagging_fraction': 0.49385428912356294, 'bagging_freq': 6}. Best is trial#0 with value: 1.1230105925469775.\n",
      "tune_bagging_fraction_and_bagging_freq, val_score: 1.123011:  80%|########  | 8/10 [07:22<01:49, 54.92s/it][I 2020-05-17 11:00:41,201] Finished trial#7 with value: 1.1242238233534614 with parameters: {'bagging_fraction': 0.7799911443573442, 'bagging_freq': 4}. Best is trial#0 with value: 1.1230105925469775.\n",
      "tune_bagging_fraction_and_bagging_freq, val_score: 1.123011:  90%|######### | 9/10 [08:22<00:56, 56.60s/it][I 2020-05-17 11:01:41,727] Finished trial#8 with value: 1.1233326293349404 with parameters: {'bagging_fraction': 0.8897489952009325, 'bagging_freq': 3}. Best is trial#0 with value: 1.1230105925469775.\n",
      "tune_bagging_fraction_and_bagging_freq, val_score: 1.123011: 100%|##########| 10/10 [09:24<00:00, 58.16s/it][I 2020-05-17 11:02:43,525] Finished trial#9 with value: 1.1231964894620072 with parameters: {'bagging_fraction': 0.9786934736302594, 'bagging_freq': 5}. Best is trial#0 with value: 1.1230105925469775.\n",
      "tune_bagging_fraction_and_bagging_freq, val_score: 1.123011: 100%|##########| 10/10 [09:24<00:00, 56.46s/it]\n",
      "tune_feature_fraction, val_score: 1.123011:  33%|###3      | 1/3 [01:07<02:14, 67.09s/it][I 2020-05-17 11:03:50,729] Finished trial#0 with value: 1.1230908788271623 with parameters: {'feature_fraction': 0.41600000000000004}. Best is trial#0 with value: 1.1230908788271623.\n",
      "tune_feature_fraction, val_score: 1.123011:  67%|######6   | 2/3 [02:16<01:07, 67.75s/it][I 2020-05-17 11:05:00,017] Finished trial#1 with value: 1.1251868353163914 with parameters: {'feature_fraction': 0.44800000000000006}. Best is trial#0 with value: 1.1230908788271623.\n",
      "tune_feature_fraction, val_score: 1.123011: 100%|##########| 3/3 [03:27<00:00, 68.71s/it][I 2020-05-17 11:06:10,981] Finished trial#2 with value: 1.1232062771241353 with parameters: {'feature_fraction': 0.48000000000000004}. Best is trial#0 with value: 1.1230908788271623.\n",
      "tune_feature_fraction, val_score: 1.123011: 100%|##########| 3/3 [03:27<00:00, 69.15s/it]\n",
      "tune_lambda_l1_and_lambda_l2, val_score: 1.122938:   5%|5         | 1/20 [01:05<20:46, 65.58s/it][I 2020-05-17 11:07:16,659] Finished trial#0 with value: 1.1229379547121041 with parameters: {'lambda_l1': 1.8540765323410912e-08, 'lambda_l2': 0.08292001094656533}. Best is trial#0 with value: 1.1229379547121041.\n",
      "tune_lambda_l1_and_lambda_l2, val_score: 1.122028:  10%|#         | 2/20 [02:11<19:44, 65.81s/it][I 2020-05-17 11:08:23,003] Finished trial#1 with value: 1.1220277531583989 with parameters: {'lambda_l1': 0.00018640353454522872, 'lambda_l2': 0.6607825717375065}. Best is trial#1 with value: 1.1220277531583989.\n",
      "tune_lambda_l1_and_lambda_l2, val_score: 1.122028:  15%|#5        | 3/20 [03:16<18:34, 65.55s/it][I 2020-05-17 11:09:27,943] Finished trial#2 with value: 1.1235679282937208 with parameters: {'lambda_l1': 5.795850734259719e-05, 'lambda_l2': 0.0002811497458737159}. Best is trial#1 with value: 1.1220277531583989.\n",
      "tune_lambda_l1_and_lambda_l2, val_score: 1.119913:  20%|##        | 4/20 [04:24<17:40, 66.29s/it][I 2020-05-17 11:10:35,955] Finished trial#3 with value: 1.1199131602481585 with parameters: {'lambda_l1': 0.10479534064652975, 'lambda_l2': 2.768300237836779}. Best is trial#3 with value: 1.1199131602481585.\n",
      "tune_lambda_l1_and_lambda_l2, val_score: 1.119913:  25%|##5       | 5/20 [05:33<16:43, 66.92s/it][I 2020-05-17 11:11:44,347] Finished trial#4 with value: 1.1230164011611634 with parameters: {'lambda_l1': 3.4039336477613525e-07, 'lambda_l2': 9.09355384528514e-08}. Best is trial#3 with value: 1.1199131602481585.\n",
      "tune_lambda_l1_and_lambda_l2, val_score: 1.119913:  30%|###       | 6/20 [06:39<15:32, 66.59s/it][I 2020-05-17 11:12:50,168] Finished trial#5 with value: 1.123017718068282 with parameters: {'lambda_l1': 3.7784803899331966e-07, 'lambda_l2': 1.0057228061486092e-08}. Best is trial#3 with value: 1.1199131602481585.\n",
      "tune_lambda_l1_and_lambda_l2, val_score: 1.119913:  35%|###5      | 7/20 [07:44<14:20, 66.17s/it][I 2020-05-17 11:13:55,367] Finished trial#6 with value: 1.1242126253071012 with parameters: {'lambda_l1': 1.7990021527598933e-05, 'lambda_l2': 7.117794096108068e-08}. Best is trial#3 with value: 1.1199131602481585.\n",
      "tune_lambda_l1_and_lambda_l2, val_score: 1.119913:  40%|####      | 8/20 [08:49<13:10, 65.91s/it][I 2020-05-17 11:15:00,654] Finished trial#7 with value: 1.1235668625655262 with parameters: {'lambda_l1': 1.3796301071990827e-07, 'lambda_l2': 0.0003671167950245892}. Best is trial#3 with value: 1.1199131602481585.\n",
      "tune_lambda_l1_and_lambda_l2, val_score: 1.118629:  45%|####5     | 9/20 [09:59<12:19, 67.20s/it][I 2020-05-17 11:16:10,879] Finished trial#8 with value: 1.1186288102943311 with parameters: {'lambda_l1': 0.0003683240288992285, 'lambda_l2': 8.033406905430565}. Best is trial#8 with value: 1.1186288102943311.\n",
      "tune_lambda_l1_and_lambda_l2, val_score: 1.118629:  50%|#####     | 10/20 [11:09<11:18, 67.82s/it][I 2020-05-17 11:17:20,132] Finished trial#9 with value: 1.1195280737433861 with parameters: {'lambda_l1': 0.01164677451746198, 'lambda_l2': 5.2031955751061405}. Best is trial#8 with value: 1.1186288102943311.\n",
      "tune_lambda_l1_and_lambda_l2, val_score: 1.118629:  55%|#####5    | 11/20 [12:18<10:14, 68.23s/it][I 2020-05-17 11:18:29,329] Finished trial#10 with value: 1.1202239594637247 with parameters: {'lambda_l1': 1.0424916277026193, 'lambda_l2': 0.003564995779651868}. Best is trial#8 with value: 1.1186288102943311.\n",
      "tune_lambda_l1_and_lambda_l2, val_score: 1.118629:  60%|######    | 12/20 [13:27<09:08, 68.60s/it][I 2020-05-17 11:19:38,786] Finished trial#11 with value: 1.1187604634074593 with parameters: {'lambda_l1': 0.015106025357886198, 'lambda_l2': 9.854518722713374}. Best is trial#8 with value: 1.1186288102943311.\n",
      "tune_lambda_l1_and_lambda_l2, val_score: 1.118629:  65%|######5   | 13/20 [14:32<07:52, 67.54s/it][I 2020-05-17 11:20:43,871] Finished trial#12 with value: 1.1221821428195269 with parameters: {'lambda_l1': 0.020903876426216276, 'lambda_l2': 0.027457141043060386}. Best is trial#8 with value: 1.1186288102943311.\n",
      "tune_lambda_l1_and_lambda_l2, val_score: 1.118629:  70%|#######   | 14/20 [15:40<06:44, 67.50s/it][I 2020-05-17 11:21:51,254] Finished trial#13 with value: 1.1229421721285164 with parameters: {'lambda_l1': 0.0031860875690854513, 'lambda_l2': 1.5480177614194115e-05}. Best is trial#8 with value: 1.1186288102943311.\n",
      "tune_lambda_l1_and_lambda_l2, val_score: 1.117613:  75%|#######5  | 15/20 [16:54<05:48, 69.64s/it][I 2020-05-17 11:23:05,899] Finished trial#14 with value: 1.117613025406842 with parameters: {'lambda_l1': 8.870695857728718, 'lambda_l2': 6.491978012987}. Best is trial#14 with value: 1.117613025406842.\n",
      "tune_lambda_l1_and_lambda_l2, val_score: 1.117613:  80%|########  | 16/20 [18:08<04:43, 70.79s/it][I 2020-05-17 11:24:19,387] Finished trial#15 with value: 1.11765731648902 with parameters: {'lambda_l1': 4.868498209346632, 'lambda_l2': 0.22893874417089016}. Best is trial#14 with value: 1.117613025406842.\n"
     ]
    },
    {
     "name": "stderr",
     "output_type": "stream",
     "text": [
      "tune_lambda_l1_and_lambda_l2, val_score: 1.117613:  85%|########5 | 17/20 [19:21<03:34, 71.58s/it][I 2020-05-17 11:25:32,808] Finished trial#16 with value: 1.1181854150613566 with parameters: {'lambda_l1': 7.326469492873381, 'lambda_l2': 0.20234898032951368}. Best is trial#14 with value: 1.117613025406842.\n",
      "tune_lambda_l1_and_lambda_l2, val_score: 1.117613:  90%|######### | 18/20 [20:34<02:23, 71.95s/it][I 2020-05-17 11:26:45,636] Finished trial#17 with value: 1.1178965833546513 with parameters: {'lambda_l1': 7.122031743239788, 'lambda_l2': 0.005927174827392446}. Best is trial#14 with value: 1.117613025406842.\n",
      "tune_lambda_l1_and_lambda_l2, val_score: 1.117613:  95%|#########5| 19/20 [21:41<01:10, 70.48s/it][I 2020-05-17 11:27:52,674] Finished trial#18 with value: 1.1200197839546422 with parameters: {'lambda_l1': 0.5574780747055201, 'lambda_l2': 1.0604136580685575}. Best is trial#14 with value: 1.117613025406842.\n",
      "tune_lambda_l1_and_lambda_l2, val_score: 1.117504: 100%|##########| 20/20 [22:55<00:00, 71.45s/it][I 2020-05-17 11:29:06,385] Finished trial#19 with value: 1.1175041400069703 with parameters: {'lambda_l1': 9.399895836269046, 'lambda_l2': 1.0011449849417051e-05}. Best is trial#19 with value: 1.1175041400069703.\n",
      "tune_lambda_l1_and_lambda_l2, val_score: 1.117504: 100%|##########| 20/20 [22:55<00:00, 68.77s/it]\n",
      "tune_min_child_samples, val_score: 1.117246:  20%|##        | 1/5 [01:14<04:59, 74.87s/it][I 2020-05-17 11:30:21,357] Finished trial#0 with value: 1.1172456182590265 with parameters: {'min_child_samples': 5}. Best is trial#0 with value: 1.1172456182590265.\n",
      "tune_min_child_samples, val_score: 1.117246:  40%|####      | 2/5 [02:30<03:45, 75.16s/it][I 2020-05-17 11:31:37,198] Finished trial#1 with value: 1.1180027131092156 with parameters: {'min_child_samples': 10}. Best is trial#0 with value: 1.1172456182590265.\n",
      "tune_min_child_samples, val_score: 1.117246:  60%|######    | 3/5 [03:46<02:30, 75.41s/it][I 2020-05-17 11:32:53,197] Finished trial#2 with value: 1.1176269447512435 with parameters: {'min_child_samples': 25}. Best is trial#0 with value: 1.1172456182590265.\n",
      "tune_min_child_samples, val_score: 1.117246:  80%|########  | 4/5 [05:00<01:15, 75.03s/it][I 2020-05-17 11:34:07,337] Finished trial#3 with value: 1.1179770629214634 with parameters: {'min_child_samples': 50}. Best is trial#0 with value: 1.1172456182590265.\n",
      "tune_min_child_samples, val_score: 1.117246: 100%|##########| 5/5 [06:14<00:00, 74.60s/it][I 2020-05-17 11:35:20,945] Finished trial#4 with value: 1.117256533689848 with parameters: {'min_child_samples': 100}. Best is trial#0 with value: 1.1172456182590265.\n",
      "tune_min_child_samples, val_score: 1.117246: 100%|##########| 5/5 [06:14<00:00, 74.91s/it]\n"
     ]
    },
    {
     "name": "stdout",
     "output_type": "stream",
     "text": [
      "Best Params: {'lambda_l1': 9.399895836269046, 'lambda_l2': 1.0011449849417051e-05, 'num_leaves': 17, 'feature_fraction': 0.4, 'bagging_fraction': 0.9757689578049016, 'bagging_freq': 1, 'min_child_samples': 5}\n",
      "CPU times: user 23h 57min 43s, sys: 6min 29s, total: 1d 4min 13s\n",
      "Wall time: 1h 30min 23s\n"
     ]
    }
   ],
   "source": [
    "%%time\n",
    "best_params, tuning_history = dict(), list()\n",
    "lgb_model = lgb.train(lgb_param, lgb_train,\n",
    "                      valid_sets=lgb_eval,\n",
    "                      verbose_eval=0,\n",
    "                      best_params=best_params,\n",
    "                      tuning_history=tuning_history)\n",
    "print('Best Params:', best_params)\n",
    "#print('Tuning history:', tuning_history)"
   ]
  },
  {
   "cell_type": "markdown",
   "metadata": {},
   "source": [
    "### Feature Importance"
   ]
  },
  {
   "cell_type": "code",
   "execution_count": 15,
   "metadata": {
    "scrolled": false
   },
   "outputs": [
    {
     "data": {
      "text/html": [
       "<div>\n",
       "<style scoped>\n",
       "    .dataframe tbody tr th:only-of-type {\n",
       "        vertical-align: middle;\n",
       "    }\n",
       "\n",
       "    .dataframe tbody tr th {\n",
       "        vertical-align: top;\n",
       "    }\n",
       "\n",
       "    .dataframe thead th {\n",
       "        text-align: right;\n",
       "    }\n",
       "</style>\n",
       "<table border=\"1\" class=\"dataframe\">\n",
       "  <thead>\n",
       "    <tr style=\"text-align: right;\">\n",
       "      <th></th>\n",
       "      <th>feat_name</th>\n",
       "      <th>feat_imp</th>\n",
       "    </tr>\n",
       "  </thead>\n",
       "  <tbody>\n",
       "    <tr>\n",
       "      <th>140</th>\n",
       "      <td>batter_cnt</td>\n",
       "      <td>1236</td>\n",
       "    </tr>\n",
       "    <tr>\n",
       "      <th>101</th>\n",
       "      <td>bmi_pit</td>\n",
       "      <td>1259</td>\n",
       "    </tr>\n",
       "    <tr>\n",
       "      <th>181</th>\n",
       "      <td>rank_x_year_dif_b-c</td>\n",
       "      <td>1260</td>\n",
       "    </tr>\n",
       "    <tr>\n",
       "      <th>174</th>\n",
       "      <td>bmi_dif_p-c</td>\n",
       "      <td>1300</td>\n",
       "    </tr>\n",
       "    <tr>\n",
       "      <th>103</th>\n",
       "      <td>slider</td>\n",
       "      <td>1359</td>\n",
       "    </tr>\n",
       "    <tr>\n",
       "      <th>166</th>\n",
       "      <td>bmi_dif_p-b</td>\n",
       "      <td>1381</td>\n",
       "    </tr>\n",
       "    <tr>\n",
       "      <th>182</th>\n",
       "      <td>bmi_dif_b-c</td>\n",
       "      <td>1434</td>\n",
       "    </tr>\n",
       "    <tr>\n",
       "      <th>42</th>\n",
       "      <td>elapsed_min</td>\n",
       "      <td>1489</td>\n",
       "    </tr>\n",
       "    <tr>\n",
       "      <th>0</th>\n",
       "      <td>pitch_cnt_in_game</td>\n",
       "      <td>1490</td>\n",
       "    </tr>\n",
       "    <tr>\n",
       "      <th>47</th>\n",
       "      <td>elapsed_batter</td>\n",
       "      <td>1516</td>\n",
       "    </tr>\n",
       "    <tr>\n",
       "      <th>192</th>\n",
       "      <td>predict_left_str</td>\n",
       "      <td>1532</td>\n",
       "    </tr>\n",
       "    <tr>\n",
       "      <th>195</th>\n",
       "      <td>predict_right_str</td>\n",
       "      <td>1584</td>\n",
       "    </tr>\n",
       "    <tr>\n",
       "      <th>45</th>\n",
       "      <td>elapsed_from_inning</td>\n",
       "      <td>1585</td>\n",
       "    </tr>\n",
       "    <tr>\n",
       "      <th>196</th>\n",
       "      <td>predict_right_ball</td>\n",
       "      <td>1590</td>\n",
       "    </tr>\n",
       "    <tr>\n",
       "      <th>6</th>\n",
       "      <td>pitcher_cnt_in_game</td>\n",
       "      <td>1641</td>\n",
       "    </tr>\n",
       "    <tr>\n",
       "      <th>193</th>\n",
       "      <td>predict_left_ball</td>\n",
       "      <td>1695</td>\n",
       "    </tr>\n",
       "    <tr>\n",
       "      <th>194</th>\n",
       "      <td>predict_center_str</td>\n",
       "      <td>1711</td>\n",
       "    </tr>\n",
       "    <tr>\n",
       "      <th>50</th>\n",
       "      <td>ave_elapsed_batter</td>\n",
       "      <td>1783</td>\n",
       "    </tr>\n",
       "    <tr>\n",
       "      <th>51</th>\n",
       "      <td>diff_elapsed_batter</td>\n",
       "      <td>1795</td>\n",
       "    </tr>\n",
       "    <tr>\n",
       "      <th>190</th>\n",
       "      <td>predict_low_str</td>\n",
       "      <td>1806</td>\n",
       "    </tr>\n",
       "    <tr>\n",
       "      <th>189</th>\n",
       "      <td>predict_mid_str</td>\n",
       "      <td>1810</td>\n",
       "    </tr>\n",
       "    <tr>\n",
       "      <th>43</th>\n",
       "      <td>min_diff</td>\n",
       "      <td>1834</td>\n",
       "    </tr>\n",
       "    <tr>\n",
       "      <th>53</th>\n",
       "      <td>diff_elapsed_game</td>\n",
       "      <td>1834</td>\n",
       "    </tr>\n",
       "    <tr>\n",
       "      <th>187</th>\n",
       "      <td>predict_high_str</td>\n",
       "      <td>1941</td>\n",
       "    </tr>\n",
       "    <tr>\n",
       "      <th>191</th>\n",
       "      <td>predict_low_ball</td>\n",
       "      <td>1981</td>\n",
       "    </tr>\n",
       "    <tr>\n",
       "      <th>48</th>\n",
       "      <td>ave_elapsed_game</td>\n",
       "      <td>2025</td>\n",
       "    </tr>\n",
       "    <tr>\n",
       "      <th>188</th>\n",
       "      <td>predict_high_ball</td>\n",
       "      <td>2032</td>\n",
       "    </tr>\n",
       "    <tr>\n",
       "      <th>52</th>\n",
       "      <td>diff_elapsed_inning</td>\n",
       "      <td>2068</td>\n",
       "    </tr>\n",
       "    <tr>\n",
       "      <th>49</th>\n",
       "      <td>ave_elapsed_inning</td>\n",
       "      <td>2120</td>\n",
       "    </tr>\n",
       "    <tr>\n",
       "      <th>41</th>\n",
       "      <td>date_from_opening</td>\n",
       "      <td>2459</td>\n",
       "    </tr>\n",
       "  </tbody>\n",
       "</table>\n",
       "</div>"
      ],
      "text/plain": [
       "               feat_name  feat_imp\n",
       "140           batter_cnt      1236\n",
       "101              bmi_pit      1259\n",
       "181  rank_x_year_dif_b-c      1260\n",
       "174          bmi_dif_p-c      1300\n",
       "103               slider      1359\n",
       "166          bmi_dif_p-b      1381\n",
       "182          bmi_dif_b-c      1434\n",
       "42           elapsed_min      1489\n",
       "0      pitch_cnt_in_game      1490\n",
       "47        elapsed_batter      1516\n",
       "192     predict_left_str      1532\n",
       "195    predict_right_str      1584\n",
       "45   elapsed_from_inning      1585\n",
       "196   predict_right_ball      1590\n",
       "6    pitcher_cnt_in_game      1641\n",
       "193    predict_left_ball      1695\n",
       "194   predict_center_str      1711\n",
       "50    ave_elapsed_batter      1783\n",
       "51   diff_elapsed_batter      1795\n",
       "190      predict_low_str      1806\n",
       "189      predict_mid_str      1810\n",
       "43              min_diff      1834\n",
       "53     diff_elapsed_game      1834\n",
       "187     predict_high_str      1941\n",
       "191     predict_low_ball      1981\n",
       "48      ave_elapsed_game      2025\n",
       "188    predict_high_ball      2032\n",
       "52   diff_elapsed_inning      2068\n",
       "49    ave_elapsed_inning      2120\n",
       "41     date_from_opening      2459"
      ]
     },
     "execution_count": 15,
     "metadata": {},
     "output_type": "execute_result"
    }
   ],
   "source": [
    "fi = lgb_model.feature_importance()\n",
    "fn = lgb_model.feature_name()\n",
    "df_feature_importance = pd.DataFrame({'feat_name':fn, 'feat_imp':fi})\n",
    "df_feature_importance.sort_values('feat_imp', inplace=True)\n",
    "df_feature_importance.tail(30)"
   ]
  },
  {
   "cell_type": "markdown",
   "metadata": {},
   "source": [
    "## 結果出力"
   ]
  },
  {
   "cell_type": "markdown",
   "metadata": {},
   "source": [
    "### Tuning結果(22-1_sub)\n",
    "`\n",
    "Best Params: {\n",
    "    'lambda_l1': 9.399895836269046, \n",
    "    'lambda_l2': 1.0011449849417051e-05, \n",
    "    'num_leaves': 17, \n",
    "    'feature_fraction': 0.4, \n",
    "    'bagging_fraction': 0.9757689578049016, \n",
    "    'bagging_freq': 1, \n",
    "    'min_child_samples': 5\n",
    "}\n",
    "`\n",
    "Wall time: 1h 30min 23s"
   ]
  },
  {
   "cell_type": "markdown",
   "metadata": {},
   "source": [
    "### Tuning結果(15)\n",
    "`\n",
    "Best Params: {\n",
    "    'lambda_l1': 9.466286566446003, \n",
    "    'lambda_l2': 0.15842866429240474, \n",
    "    'num_leaves': 21, \n",
    "    'feature_fraction': 0.41600000000000004, \n",
    "    'bagging_fraction': 0.8473186677812694, \n",
    "    'bagging_freq': 7, \n",
    "    'min_child_samples': 100\n",
    "}\n",
    "`\n",
    "Wall time: 2h 14min 40s"
   ]
  },
  {
   "cell_type": "markdown",
   "metadata": {},
   "source": [
    "### Tuning結果(10)\n",
    "`\n",
    "Best Params: {\n",
    "    'lambda_l1': 2.972300673782286, \n",
    "    'lambda_l2': 0.0002499813121238942, \n",
    "    'num_leaves': 15, \n",
    "    'feature_fraction': 0.4, \n",
    "    'bagging_fraction': 1.0, \n",
    "    'bagging_freq': 0, \n",
    "    'min_child_samples': 100\n",
    "}\n",
    "`\n",
    "Wall time: 1h 54min 11s"
   ]
  },
  {
   "cell_type": "markdown",
   "metadata": {},
   "source": [
    "### Tuning結果(5)\n",
    "`\n",
    "Best Params: {\n",
    "    'lambda_l1': 6.9923570049658075, \n",
    "    'lambda_l2': 0.002378623984798833, \n",
    "    'num_leaves': 18, \n",
    "    'feature_fraction': 0.45199999999999996, \n",
    "    'bagging_fraction': 0.9799724836460725, \n",
    "    'bagging_freq': 4, \n",
    "    'min_child_samples': 20\n",
    "}\n",
    "`"
   ]
  },
  {
   "cell_type": "code",
   "execution_count": null,
   "metadata": {},
   "outputs": [],
   "source": []
  }
 ],
 "metadata": {
  "kernelspec": {
   "display_name": "Python 3",
   "language": "python",
   "name": "python3"
  },
  "language_info": {
   "codemirror_mode": {
    "name": "ipython",
    "version": 3
   },
   "file_extension": ".py",
   "mimetype": "text/x-python",
   "name": "python",
   "nbconvert_exporter": "python",
   "pygments_lexer": "ipython3",
   "version": "3.7.6"
  }
 },
 "nbformat": 4,
 "nbformat_minor": 4
}
