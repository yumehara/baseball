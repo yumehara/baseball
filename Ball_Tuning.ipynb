{
 "cells": [
  {
   "cell_type": "markdown",
   "metadata": {},
   "source": [
    "## 球種 Tuning"
   ]
  },
  {
   "cell_type": "code",
   "execution_count": 31,
   "metadata": {},
   "outputs": [],
   "source": [
    "import numpy as np\n",
    "import pandas as pd\n",
    "import matplotlib.pyplot as plt\n",
    "#import lightgbm as lgb\n",
    "import optuna.integration.lightgbm as lgb\n",
    "from sklearn import datasets\n",
    "from sklearn.model_selection import train_test_split\n",
    "import gc\n",
    "%matplotlib inline\n",
    "pd.set_option('display.max_Columns', 100)"
   ]
  },
  {
   "cell_type": "markdown",
   "metadata": {},
   "source": [
    "### 管理番号"
   ]
  },
  {
   "cell_type": "code",
   "execution_count": 32,
   "metadata": {},
   "outputs": [],
   "source": [
    "model_No = 32\n",
    "sample_No = 1"
   ]
  },
  {
   "cell_type": "markdown",
   "metadata": {},
   "source": [
    "### sub-modelを使用するかどうか"
   ]
  },
  {
   "cell_type": "code",
   "execution_count": 33,
   "metadata": {},
   "outputs": [],
   "source": [
    "use_sub_model = False"
   ]
  },
  {
   "cell_type": "code",
   "execution_count": 34,
   "metadata": {},
   "outputs": [],
   "source": [
    "if use_sub_model:\n",
    "    ALL_MERGE = 'intermediate/{}/all_merge_{}_{}_sub.f'.format(model_No, model_No, sample_No)\n",
    "else:\n",
    "    ALL_MERGE = 'intermediate/{}/all_merge_{}_{}.f'.format(model_No, model_No, sample_No)"
   ]
  },
  {
   "cell_type": "code",
   "execution_count": 35,
   "metadata": {
    "scrolled": true
   },
   "outputs": [
    {
     "name": "stdout",
     "output_type": "stream",
     "text": [
      "(778767, 584)\n"
     ]
    }
   ],
   "source": [
    "all_pitch = pd.read_feather(ALL_MERGE)\n",
    "print(all_pitch.shape)"
   ]
  },
  {
   "cell_type": "code",
   "execution_count": 36,
   "metadata": {},
   "outputs": [],
   "source": [
    "if use_sub_model:\n",
    "    all_pitch['predict_high_str'] = all_pitch['predict_0'] + all_pitch['predict_3'] + all_pitch['predict_6'] \n",
    "    all_pitch['predict_high_ball'] = all_pitch['predict_9'] + all_pitch['predict_10'] \n",
    "    all_pitch['predict_mid_str'] = all_pitch['predict_1'] + all_pitch['predict_4'] + all_pitch['predict_7'] \n",
    "    all_pitch['predict_low_str'] = all_pitch['predict_2'] + all_pitch['predict_5'] + all_pitch['predict_8'] \n",
    "    all_pitch['predict_low_ball'] = all_pitch['predict_11'] + all_pitch['predict_12'] \n",
    "\n",
    "    all_pitch['predict_left_str'] = all_pitch['predict_0'] + all_pitch['predict_1'] + all_pitch['predict_2'] \n",
    "    all_pitch['predict_left_ball'] = all_pitch['predict_9'] + all_pitch['predict_11'] \n",
    "    all_pitch['predict_center_str'] = all_pitch['predict_3'] + all_pitch['predict_4'] + all_pitch['predict_5'] \n",
    "    all_pitch['predict_right_str'] = all_pitch['predict_6'] + all_pitch['predict_7'] + all_pitch['predict_8'] \n",
    "    all_pitch['predict_right_ball'] = all_pitch['predict_10'] + all_pitch['predict_12'] "
   ]
  },
  {
   "cell_type": "code",
   "execution_count": 37,
   "metadata": {},
   "outputs": [],
   "source": [
    "if use_sub_model:\n",
    "    all_pitch.drop(columns=[\n",
    "        'predict_straight', 'predict_curve', 'predict_slider', 'predict_shoot',\n",
    "        'predict_fork', 'predict_changeup', 'predict_sinker', 'predict_cutball',\n",
    "        'predict_0','predict_1','predict_2','predict_3','predict_4','predict_5','predict_6',\n",
    "        'predict_7','predict_8','predict_9','predict_10','predict_11','predict_12'\n",
    "    ], inplace=True)"
   ]
  },
  {
   "cell_type": "markdown",
   "metadata": {},
   "source": [
    "### train\n",
    "- 行数: 257117"
   ]
  },
  {
   "cell_type": "code",
   "execution_count": 38,
   "metadata": {},
   "outputs": [
    {
     "data": {
      "text/plain": [
       "(257117, 584)"
      ]
     },
     "execution_count": 38,
     "metadata": {},
     "output_type": "execute_result"
    }
   ],
   "source": [
    "train = all_pitch.dropna(subset=['course'])\n",
    "train.shape"
   ]
  },
  {
   "cell_type": "markdown",
   "metadata": {},
   "source": [
    "#### 特徴量に加えた部分を抜く"
   ]
  },
  {
   "cell_type": "code",
   "execution_count": 39,
   "metadata": {},
   "outputs": [
    {
     "data": {
      "text/plain": [
       "(197116, 584)"
      ]
     },
     "execution_count": 39,
     "metadata": {},
     "output_type": "execute_result"
    }
   ],
   "source": [
    "if sample_No == 1:\n",
    "    train = train.query('index > 60000')\n",
    "elif sample_No == 2:\n",
    "    train = train.query('index <= 60000 | index > 120000')\n",
    "elif sample_No == 3:\n",
    "    train = train.query('index <= 120000 | index > 180000')\n",
    "elif sample_No == 4:\n",
    "    train = train.query('index <= 180000')\n",
    "train.shape"
   ]
  },
  {
   "cell_type": "code",
   "execution_count": 40,
   "metadata": {
    "scrolled": true
   },
   "outputs": [
    {
     "data": {
      "text/plain": [
       "35"
      ]
     },
     "execution_count": 40,
     "metadata": {},
     "output_type": "execute_result"
    }
   ],
   "source": [
    "del all_pitch\n",
    "gc.collect()"
   ]
  },
  {
   "cell_type": "code",
   "execution_count": 41,
   "metadata": {},
   "outputs": [],
   "source": [
    "train_d = train.drop([\n",
    "    'No', \n",
    "    'course', \n",
    "    'ball'\n",
    "], axis=1)"
   ]
  },
  {
   "cell_type": "markdown",
   "metadata": {},
   "source": [
    "## Dataset作成"
   ]
  },
  {
   "cell_type": "code",
   "execution_count": 42,
   "metadata": {},
   "outputs": [],
   "source": [
    "X_train, X_test, y_train, y_test = train_test_split(train_d, train['ball'])\n",
    "lgb_train = lgb.Dataset(X_train, y_train)\n",
    "lgb_eval = lgb.Dataset(X_test, y_test, reference=lgb_train)"
   ]
  },
  {
   "cell_type": "markdown",
   "metadata": {},
   "source": [
    "### LGBM学習\n",
    "- multiclass : クラス数=8"
   ]
  },
  {
   "cell_type": "code",
   "execution_count": 43,
   "metadata": {
    "scrolled": false
   },
   "outputs": [],
   "source": [
    "lgb_param = {\n",
    "        'objective' : 'multiclass',\n",
    "        'boosting_type': 'gbdt',\n",
    "        'metric' : 'multi_logloss',\n",
    "        'num_class' : 8,\n",
    "    }"
   ]
  },
  {
   "cell_type": "code",
   "execution_count": 44,
   "metadata": {
    "scrolled": false
   },
   "outputs": [
    {
     "name": "stderr",
     "output_type": "stream",
     "text": [
      "tune_feature_fraction, val_score: 1.139761:  14%|#4        | 1/7 [02:15<13:33, 135.60s/it][I 2020-06-21 09:16:53,242] Finished trial#0 with value: 1.1397611050271996 with parameters: {'feature_fraction': 0.4}. Best is trial#0 with value: 1.1397611050271996.\n",
      "tune_feature_fraction, val_score: 1.139128:  29%|##8       | 2/7 [04:49<11:45, 141.01s/it][I 2020-06-21 09:19:26,859] Finished trial#1 with value: 1.1391280654393483 with parameters: {'feature_fraction': 0.5}. Best is trial#1 with value: 1.1391280654393483.\n",
      "tune_feature_fraction, val_score: 1.139128:  43%|####2     | 3/7 [07:48<10:09, 152.47s/it][I 2020-06-21 09:22:26,077] Finished trial#2 with value: 1.1402896332723012 with parameters: {'feature_fraction': 0.6}. Best is trial#1 with value: 1.1391280654393483.\n",
      "tune_feature_fraction, val_score: 1.139128:  57%|#####7    | 4/7 [11:14<08:25, 168.49s/it][I 2020-06-21 09:25:51,960] Finished trial#3 with value: 1.143266493678482 with parameters: {'feature_fraction': 0.7}. Best is trial#1 with value: 1.1391280654393483.\n",
      "tune_feature_fraction, val_score: 1.139128:  71%|#######1  | 5/7 [15:04<06:14, 187.09s/it][I 2020-06-21 09:29:42,441] Finished trial#4 with value: 1.1422995151879576 with parameters: {'feature_fraction': 0.8}. Best is trial#1 with value: 1.1391280654393483.\n",
      "tune_feature_fraction, val_score: 1.139128:  86%|########5 | 6/7 [19:18<03:27, 207.12s/it][I 2020-06-21 09:33:56,297] Finished trial#5 with value: 1.1430703241413847 with parameters: {'feature_fraction': 0.8999999999999999}. Best is trial#1 with value: 1.1391280654393483.\n",
      "tune_feature_fraction, val_score: 1.139128: 100%|##########| 7/7 [23:53<00:00, 227.42s/it][I 2020-06-21 09:38:31,079] Finished trial#6 with value: 1.1448444466063619 with parameters: {'feature_fraction': 1.0}. Best is trial#1 with value: 1.1391280654393483.\n",
      "tune_feature_fraction, val_score: 1.139128: 100%|##########| 7/7 [23:53<00:00, 204.79s/it]\n",
      "tune_num_leaves, val_score: 1.139128:   5%|5         | 1/20 [07:00<2:13:14, 420.79s/it][I 2020-06-21 09:45:31,963] Finished trial#0 with value: 1.3857568391275108 with parameters: {'num_leaves': 159}. Best is trial#0 with value: 1.3857568391275108.\n",
      "tune_num_leaves, val_score: 1.139128:  10%|#         | 2/20 [13:52<2:05:23, 417.98s/it][I 2020-06-21 09:52:23,410] Finished trial#1 with value: 1.376352505185514 with parameters: {'num_leaves': 154}. Best is trial#1 with value: 1.376352505185514.\n",
      "tune_num_leaves, val_score: 1.139128:  15%|#5        | 3/20 [23:39<2:12:48, 468.73s/it][I 2020-06-21 10:02:10,553] Finished trial#2 with value: 1.5813614594703576 with parameters: {'num_leaves': 254}. Best is trial#1 with value: 1.376352505185514.\n",
      "tune_num_leaves, val_score: 1.139128:  20%|##        | 4/20 [33:14<2:13:30, 500.67s/it][I 2020-06-21 10:11:45,747] Finished trial#3 with value: 1.5673384879043917 with parameters: {'num_leaves': 246}. Best is trial#1 with value: 1.376352505185514.\n",
      "tune_num_leaves, val_score: 1.139128:  25%|##5       | 5/20 [39:19<1:54:59, 459.95s/it][I 2020-06-21 10:17:50,686] Finished trial#4 with value: 1.3274622412546233 with parameters: {'num_leaves': 131}. Best is trial#4 with value: 1.3274622412546233.\n",
      "tune_num_leaves, val_score: 1.139128:  30%|###       | 6/20 [42:09<1:27:00, 372.86s/it][I 2020-06-21 10:20:40,350] Finished trial#5 with value: 1.1498348404570116 with parameters: {'num_leaves': 38}. Best is trial#5 with value: 1.1498348404570116.\n",
      "tune_num_leaves, val_score: 1.136819:  35%|###5      | 7/20 [44:35<1:06:02, 304.78s/it][I 2020-06-21 10:23:06,260] Finished trial#6 with value: 1.136819356520955 with parameters: {'num_leaves': 28}. Best is trial#6 with value: 1.136819356520955.\n",
      "tune_num_leaves, val_score: 1.136819:  40%|####      | 8/20 [47:11<52:02, 260.19s/it]  [I 2020-06-21 10:25:42,417] Finished trial#7 with value: 1.140940476653026 with parameters: {'num_leaves': 32}. Best is trial#6 with value: 1.136819356520955.\n",
      "tune_num_leaves, val_score: 1.136819:  45%|####5     | 9/20 [55:37<1:01:14, 334.00s/it][I 2020-06-21 10:34:08,630] Finished trial#8 with value: 1.485717444159221 with parameters: {'num_leaves': 207}. Best is trial#6 with value: 1.136819356520955.\n",
      "tune_num_leaves, val_score: 1.136819:  50%|#####     | 10/20 [1:01:44<57:19, 343.98s/it] [I 2020-06-21 10:40:15,903] Finished trial#9 with value: 1.3305232657979003 with parameters: {'num_leaves': 132}. Best is trial#6 with value: 1.136819356520955.\n",
      "tune_num_leaves, val_score: 1.136819:  55%|#####5    | 11/20 [1:05:48<47:05, 313.97s/it][I 2020-06-21 10:44:19,837] Finished trial#10 with value: 1.2068318399809108 with parameters: {'num_leaves': 72}. Best is trial#6 with value: 1.136819356520955.\n",
      "tune_num_leaves, val_score: 1.124327:  60%|######    | 12/20 [1:07:42<33:51, 253.91s/it][I 2020-06-21 10:46:13,609] Finished trial#11 with value: 1.1243265855913305 with parameters: {'num_leaves': 15}. Best is trial#11 with value: 1.1243265855913305.\n",
      "tune_num_leaves, val_score: 1.124327:  65%|######5   | 13/20 [1:08:40<22:45, 195.12s/it][I 2020-06-21 10:47:11,545] Finished trial#12 with value: 1.2111882841020036 with parameters: {'num_leaves': 2}. Best is trial#11 with value: 1.1243265855913305.\n",
      "tune_num_leaves, val_score: 1.124327:  70%|#######   | 14/20 [1:12:56<21:20, 213.41s/it][I 2020-06-21 10:51:27,650] Finished trial#13 with value: 1.2192125685451025 with parameters: {'num_leaves': 78}. Best is trial#11 with value: 1.1243265855913305.\n",
      "tune_num_leaves, val_score: 1.124327:  75%|#######5  | 15/20 [1:14:07<14:13, 170.62s/it][I 2020-06-21 10:52:38,416] Finished trial#14 with value: 1.1658693320158695 with parameters: {'num_leaves': 3}. Best is trial#11 with value: 1.1243265855913305.\n",
      "tune_num_leaves, val_score: 1.124327:  80%|########  | 16/20 [1:18:23<13:04, 196.23s/it][I 2020-06-21 10:56:54,402] Finished trial#15 with value: 1.2192145215408448 with parameters: {'num_leaves': 78}. Best is trial#11 with value: 1.1243265855913305.\n",
      "tune_num_leaves, val_score: 1.124327:  85%|########5 | 17/20 [1:21:05<09:17, 185.98s/it][I 2020-06-21 10:59:36,464] Finished trial#16 with value: 1.1450241424428493 with parameters: {'num_leaves': 35}. Best is trial#11 with value: 1.1243265855913305.\n",
      "tune_num_leaves, val_score: 1.124327:  90%|######### | 18/20 [1:24:37<06:27, 193.83s/it][I 2020-06-21 11:03:08,621] Finished trial#17 with value: 1.1821200840382118 with parameters: {'num_leaves': 57}. Best is trial#11 with value: 1.1243265855913305.\n",
      "tune_num_leaves, val_score: 1.124327:  95%|#########5| 19/20 [1:25:55<02:39, 159.02s/it][I 2020-06-21 11:04:26,398] Finished trial#18 with value: 1.1478206174697538 with parameters: {'num_leaves': 4}. Best is trial#11 with value: 1.1243265855913305.\n",
      "tune_num_leaves, val_score: 1.124327: 100%|##########| 20/20 [1:31:06<00:00, 204.61s/it][I 2020-06-21 11:09:37,391] Finished trial#19 with value: 1.272517879065003 with parameters: {'num_leaves': 104}. Best is trial#11 with value: 1.1243265855913305.\n",
      "tune_num_leaves, val_score: 1.124327: 100%|##########| 20/20 [1:31:06<00:00, 273.32s/it]\n",
      "tune_bagging_fraction_and_bagging_freq, val_score: 1.124327:  10%|#         | 1/10 [01:41<15:11, 101.30s/it][I 2020-06-21 11:11:18,808] Finished trial#0 with value: 1.126557693325427 with parameters: {'bagging_fraction': 0.7267718565433741, 'bagging_freq': 2}. Best is trial#0 with value: 1.126557693325427.\n",
      "tune_bagging_fraction_and_bagging_freq, val_score: 1.124327:  20%|##        | 2/10 [03:21<13:27, 100.89s/it][I 2020-06-21 11:12:58,730] Finished trial#1 with value: 1.128793250187335 with parameters: {'bagging_fraction': 0.7045452443526978, 'bagging_freq': 6}. Best is trial#0 with value: 1.126557693325427.\n",
      "tune_bagging_fraction_and_bagging_freq, val_score: 1.124015:  30%|###       | 3/10 [05:20<12:23, 106.28s/it][I 2020-06-21 11:14:57,571] Finished trial#2 with value: 1.124014521398484 with parameters: {'bagging_fraction': 0.900772807809235, 'bagging_freq': 1}. Best is trial#2 with value: 1.124014521398484.\n"
     ]
    },
    {
     "name": "stderr",
     "output_type": "stream",
     "text": [
      "tune_bagging_fraction_and_bagging_freq, val_score: 1.124015:  40%|####      | 4/10 [06:48<10:05, 100.84s/it][I 2020-06-21 11:16:25,749] Finished trial#3 with value: 1.1309744532773713 with parameters: {'bagging_fraction': 0.5473483567893099, 'bagging_freq': 5}. Best is trial#2 with value: 1.124014521398484.\n",
      "tune_bagging_fraction_and_bagging_freq, val_score: 1.124015:  50%|#####     | 5/10 [08:39<08:40, 104.00s/it][I 2020-06-21 11:18:17,114] Finished trial#4 with value: 1.1244812222265743 with parameters: {'bagging_fraction': 0.8138455075479958, 'bagging_freq': 1}. Best is trial#2 with value: 1.124014521398484.\n",
      "tune_bagging_fraction_and_bagging_freq, val_score: 1.124015:  60%|######    | 6/10 [10:04<06:32, 98.14s/it] [I 2020-06-21 11:19:41,568] Finished trial#5 with value: 1.1339637690748379 with parameters: {'bagging_fraction': 0.4928683025726941, 'bagging_freq': 7}. Best is trial#2 with value: 1.124014521398484.\n",
      "tune_bagging_fraction_and_bagging_freq, val_score: 1.124015:  70%|#######   | 7/10 [11:44<04:56, 98.97s/it][I 2020-06-21 11:21:22,472] Finished trial#6 with value: 1.1269131538383537 with parameters: {'bagging_fraction': 0.7444273774969481, 'bagging_freq': 7}. Best is trial#2 with value: 1.124014521398484.\n",
      "tune_bagging_fraction_and_bagging_freq, val_score: 1.123648:  80%|########  | 8/10 [13:43<03:29, 104.77s/it][I 2020-06-21 11:23:20,776] Finished trial#7 with value: 1.1236483498522698 with parameters: {'bagging_fraction': 0.9870908074607861, 'bagging_freq': 3}. Best is trial#7 with value: 1.1236483498522698.\n",
      "tune_bagging_fraction_and_bagging_freq, val_score: 1.123553:  90%|######### | 9/10 [15:44<01:49, 109.58s/it][I 2020-06-21 11:25:21,567] Finished trial#8 with value: 1.1235529613178261 with parameters: {'bagging_fraction': 0.9318179467445713, 'bagging_freq': 1}. Best is trial#8 with value: 1.1235529613178261.\n",
      "tune_bagging_fraction_and_bagging_freq, val_score: 1.123553: 100%|##########| 10/10 [17:02<00:00, 100.09s/it][I 2020-06-21 11:26:39,524] Finished trial#9 with value: 1.1387351349467396 with parameters: {'bagging_fraction': 0.41380114018610237, 'bagging_freq': 6}. Best is trial#8 with value: 1.1235529613178261.\n",
      "tune_bagging_fraction_and_bagging_freq, val_score: 1.123553: 100%|##########| 10/10 [17:02<00:00, 102.21s/it]\n",
      "tune_feature_fraction, val_score: 1.122688:  17%|#6        | 1/6 [01:45<08:46, 105.30s/it][I 2020-06-21 11:28:24,939] Finished trial#0 with value: 1.122688038905739 with parameters: {'feature_fraction': 0.42}. Best is trial#0 with value: 1.122688038905739.\n",
      "tune_feature_fraction, val_score: 1.122688:  33%|###3      | 2/6 [03:36<07:08, 107.01s/it][I 2020-06-21 11:30:15,956] Finished trial#1 with value: 1.1227893452586626 with parameters: {'feature_fraction': 0.45199999999999996}. Best is trial#0 with value: 1.122688038905739.\n",
      "tune_feature_fraction, val_score: 1.122688:  50%|#####     | 3/6 [05:35<05:32, 110.69s/it][I 2020-06-21 11:32:15,219] Finished trial#2 with value: 1.122805535080327 with parameters: {'feature_fraction': 0.484}. Best is trial#0 with value: 1.122688038905739.\n",
      "tune_feature_fraction, val_score: 1.122688:  67%|######6   | 4/6 [07:39<03:49, 114.68s/it][I 2020-06-21 11:34:19,206] Finished trial#3 with value: 1.1234442235721518 with parameters: {'feature_fraction': 0.516}. Best is trial#0 with value: 1.122688038905739.\n",
      "tune_feature_fraction, val_score: 1.122688:  83%|########3 | 5/6 [09:48<01:59, 119.03s/it][I 2020-06-21 11:36:28,386] Finished trial#4 with value: 1.123186488280849 with parameters: {'feature_fraction': 0.5479999999999999}. Best is trial#0 with value: 1.122688038905739.\n",
      "tune_feature_fraction, val_score: 1.122688: 100%|##########| 6/6 [12:04<00:00, 124.09s/it][I 2020-06-21 11:38:44,302] Finished trial#5 with value: 1.1229803882954763 with parameters: {'feature_fraction': 0.58}. Best is trial#0 with value: 1.122688038905739.\n",
      "tune_feature_fraction, val_score: 1.122688: 100%|##########| 6/6 [12:04<00:00, 120.79s/it]\n",
      "tune_lambda_l1_and_lambda_l2, val_score: 1.122688:   5%|5         | 1/20 [01:46<33:36, 106.15s/it][I 2020-06-21 11:40:30,571] Finished trial#0 with value: 1.1229303132415083 with parameters: {'lambda_l1': 0.000577342287035133, 'lambda_l2': 0.004933779706140863}. Best is trial#0 with value: 1.1229303132415083.\n",
      "tune_lambda_l1_and_lambda_l2, val_score: 1.121978:  10%|#         | 2/20 [03:34<32:00, 106.67s/it][I 2020-06-21 11:42:18,445] Finished trial#1 with value: 1.121978035957884 with parameters: {'lambda_l1': 0.3047733630215282, 'lambda_l2': 0.00018970211558352583}. Best is trial#1 with value: 1.121978035957884.\n",
      "tune_lambda_l1_and_lambda_l2, val_score: 1.121978:  15%|#5        | 3/20 [05:19<30:06, 106.29s/it][I 2020-06-21 11:44:03,837] Finished trial#2 with value: 1.1231051436713901 with parameters: {'lambda_l1': 5.533115798120603e-07, 'lambda_l2': 0.0004758998383389096}. Best is trial#1 with value: 1.121978035957884.\n",
      "tune_lambda_l1_and_lambda_l2, val_score: 1.115790:  20%|##        | 4/20 [07:17<29:18, 109.92s/it][I 2020-06-21 11:46:02,238] Finished trial#3 with value: 1.1157897389078173 with parameters: {'lambda_l1': 4.784872174268986, 'lambda_l2': 7.0786224406040805}. Best is trial#3 with value: 1.1157897389078173.\n",
      "tune_lambda_l1_and_lambda_l2, val_score: 1.115790:  25%|##5       | 5/20 [09:03<27:10, 108.72s/it][I 2020-06-21 11:47:48,160] Finished trial#4 with value: 1.1229131576083968 with parameters: {'lambda_l1': 0.024209663229466914, 'lambda_l2': 9.369935201356062e-05}. Best is trial#3 with value: 1.1157897389078173.\n",
      "tune_lambda_l1_and_lambda_l2, val_score: 1.115790:  30%|###       | 6/20 [10:49<25:08, 107.75s/it][I 2020-06-21 11:49:33,632] Finished trial#5 with value: 1.1229972613596388 with parameters: {'lambda_l1': 0.0002147611616112658, 'lambda_l2': 0.0014244071207562448}. Best is trial#3 with value: 1.1157897389078173.\n",
      "tune_lambda_l1_and_lambda_l2, val_score: 1.115790:  35%|###5      | 7/20 [12:37<23:21, 107.82s/it][I 2020-06-21 11:51:21,630] Finished trial#6 with value: 1.1205276487360398 with parameters: {'lambda_l1': 0.5101791333353003, 'lambda_l2': 2.750770013578792e-08}. Best is trial#3 with value: 1.1157897389078173.\n",
      "tune_lambda_l1_and_lambda_l2, val_score: 1.115790:  40%|####      | 8/20 [14:25<21:36, 108.02s/it][I 2020-06-21 11:53:10,105] Finished trial#7 with value: 1.1216136441559321 with parameters: {'lambda_l1': 0.0014202574105923607, 'lambda_l2': 1.7129789665359012}. Best is trial#3 with value: 1.1157897389078173.\n",
      "tune_lambda_l1_and_lambda_l2, val_score: 1.115790:  45%|####5     | 9/20 [16:13<19:46, 107.83s/it][I 2020-06-21 11:54:57,487] Finished trial#8 with value: 1.1224510547080604 with parameters: {'lambda_l1': 1.9284514997159196e-06, 'lambda_l2': 8.014116538934182e-08}. Best is trial#3 with value: 1.1157897389078173.\n",
      "tune_lambda_l1_and_lambda_l2, val_score: 1.115790:  50%|#####     | 10/20 [18:00<17:56, 107.61s/it][I 2020-06-21 11:56:44,590] Finished trial#9 with value: 1.123371899344012 with parameters: {'lambda_l1': 3.264120165809875e-05, 'lambda_l2': 0.0291855654139219}. Best is trial#3 with value: 1.1157897389078173.\n",
      "tune_lambda_l1_and_lambda_l2, val_score: 1.115048:  55%|#####5    | 11/20 [20:00<16:42, 111.44s/it][I 2020-06-21 11:58:44,951] Finished trial#10 with value: 1.1150479325115839 with parameters: {'lambda_l1': 7.8708983359773494, 'lambda_l2': 7.364400432535952}. Best is trial#10 with value: 1.1150479325115839.\n",
      "tune_lambda_l1_and_lambda_l2, val_score: 1.115048:  60%|######    | 12/20 [21:59<15:09, 113.65s/it][I 2020-06-21 12:00:43,780] Finished trial#11 with value: 1.1155118027072044 with parameters: {'lambda_l1': 4.509732160350189, 'lambda_l2': 5.454866763445252}. Best is trial#10 with value: 1.1150479325115839.\n",
      "tune_lambda_l1_and_lambda_l2, val_score: 1.115048:  65%|######5   | 13/20 [23:56<13:23, 114.80s/it][I 2020-06-21 12:02:41,254] Finished trial#12 with value: 1.116123998618618 with parameters: {'lambda_l1': 4.405767175871176, 'lambda_l2': 0.26603384114442097}. Best is trial#10 with value: 1.1150479325115839.\n"
     ]
    },
    {
     "name": "stderr",
     "output_type": "stream",
     "text": [
      "tune_lambda_l1_and_lambda_l2, val_score: 1.115048:  70%|#######   | 14/20 [25:48<11:23, 113.83s/it][I 2020-06-21 12:04:32,836] Finished trial#13 with value: 1.1185181036406735 with parameters: {'lambda_l1': 0.10121865800273966, 'lambda_l2': 6.700548741780498}. Best is trial#10 with value: 1.1150479325115839.\n",
      "tune_lambda_l1_and_lambda_l2, val_score: 1.115048:  75%|#######5  | 15/20 [27:46<09:35, 115.10s/it][I 2020-06-21 12:06:30,870] Finished trial#14 with value: 1.115121913733998 with parameters: {'lambda_l1': 7.919344274760103, 'lambda_l2': 4.277910736757767e-06}. Best is trial#10 with value: 1.1150479325115839.\n",
      "tune_lambda_l1_and_lambda_l2, val_score: 1.115048:  80%|########  | 16/20 [29:31<07:28, 112.19s/it][I 2020-06-21 12:08:16,292] Finished trial#15 with value: 1.1232369697532394 with parameters: {'lambda_l1': 0.012728563920094173, 'lambda_l2': 2.638675959220353e-06}. Best is trial#10 with value: 1.1150479325115839.\n",
      "tune_lambda_l1_and_lambda_l2, val_score: 1.115048:  85%|########5 | 17/20 [31:30<05:42, 114.25s/it][I 2020-06-21 12:10:15,355] Finished trial#16 with value: 1.1155149499664818 with parameters: {'lambda_l1': 9.464896316818994, 'lambda_l2': 3.979702866757562e-06}. Best is trial#10 with value: 1.1150479325115839.\n",
      "tune_lambda_l1_and_lambda_l2, val_score: 1.115048:  90%|######### | 18/20 [33:20<03:45, 112.74s/it][I 2020-06-21 12:12:04,556] Finished trial#17 with value: 1.1198912397764442 with parameters: {'lambda_l1': 0.8873826707555234, 'lambda_l2': 4.801168701335939e-06}. Best is trial#10 with value: 1.1150479325115839.\n",
      "tune_lambda_l1_and_lambda_l2, val_score: 1.115048:  95%|#########5| 19/20 [35:05<01:50, 110.57s/it][I 2020-06-21 12:13:50,080] Finished trial#18 with value: 1.12261019631515 with parameters: {'lambda_l1': 0.009892360642046641, 'lambda_l2': 3.0325967655636117e-07}. Best is trial#10 with value: 1.1150479325115839.\n",
      "tune_lambda_l1_and_lambda_l2, val_score: 1.115048: 100%|##########| 20/20 [36:51<00:00, 109.17s/it][I 2020-06-21 12:15:35,976] Finished trial#19 with value: 1.1234246772350678 with parameters: {'lambda_l1': 1.0559787920084869e-08, 'lambda_l2': 2.925386542934695e-05}. Best is trial#10 with value: 1.1150479325115839.\n",
      "tune_lambda_l1_and_lambda_l2, val_score: 1.115048: 100%|##########| 20/20 [36:51<00:00, 110.58s/it]\n",
      "tune_min_child_samples, val_score: 1.115048:  20%|##        | 1/5 [01:59<07:59, 119.89s/it][I 2020-06-21 12:17:35,985] Finished trial#0 with value: 1.1154337791049662 with parameters: {'min_child_samples': 5}. Best is trial#0 with value: 1.1154337791049662.\n",
      "tune_min_child_samples, val_score: 1.115048:  40%|####      | 2/5 [03:59<05:59, 119.81s/it][I 2020-06-21 12:19:35,622] Finished trial#1 with value: 1.1155890991264616 with parameters: {'min_child_samples': 10}. Best is trial#0 with value: 1.1154337791049662.\n",
      "tune_min_child_samples, val_score: 1.115048:  60%|######    | 3/5 [05:58<03:59, 119.59s/it][I 2020-06-21 12:21:34,693] Finished trial#2 with value: 1.1152220010877105 with parameters: {'min_child_samples': 25}. Best is trial#2 with value: 1.1152220010877105.\n",
      "tune_min_child_samples, val_score: 1.115048:  80%|########  | 4/5 [07:57<01:59, 119.33s/it][I 2020-06-21 12:23:33,424] Finished trial#3 with value: 1.1152343695192435 with parameters: {'min_child_samples': 50}. Best is trial#2 with value: 1.1152220010877105.\n",
      "tune_min_child_samples, val_score: 1.115048: 100%|##########| 5/5 [09:55<00:00, 119.01s/it][I 2020-06-21 12:25:31,666] Finished trial#4 with value: 1.1152631433412177 with parameters: {'min_child_samples': 100}. Best is trial#2 with value: 1.1152220010877105.\n",
      "tune_min_child_samples, val_score: 1.115048: 100%|##########| 5/5 [09:55<00:00, 119.14s/it]\n"
     ]
    },
    {
     "name": "stdout",
     "output_type": "stream",
     "text": [
      "Best Params: {'lambda_l1': 7.8708983359773494, 'lambda_l2': 7.364400432535952, 'num_leaves': 15, 'feature_fraction': 0.42, 'bagging_fraction': 0.9318179467445713, 'bagging_freq': 1, 'min_child_samples': 20}\n",
      "CPU times: user 3d 3h 58min 29s, sys: 19min 18s, total: 3d 4h 17min 47s\n",
      "Wall time: 3h 10min 54s\n"
     ]
    }
   ],
   "source": [
    "%%time\n",
    "best_params, tuning_history = dict(), list()\n",
    "lgb_model = lgb.train(lgb_param, lgb_train,\n",
    "                      valid_sets=lgb_eval,\n",
    "                      verbose_eval=0,\n",
    "                      best_params=best_params,\n",
    "                      tuning_history=tuning_history)\n",
    "print('Best Params:', best_params)\n",
    "#print('Tuning history:', tuning_history)"
   ]
  },
  {
   "cell_type": "markdown",
   "metadata": {},
   "source": [
    "### Feature Importance"
   ]
  },
  {
   "cell_type": "code",
   "execution_count": 45,
   "metadata": {
    "scrolled": false
   },
   "outputs": [
    {
     "data": {
      "text/html": [
       "<div>\n",
       "<style scoped>\n",
       "    .dataframe tbody tr th:only-of-type {\n",
       "        vertical-align: middle;\n",
       "    }\n",
       "\n",
       "    .dataframe tbody tr th {\n",
       "        vertical-align: top;\n",
       "    }\n",
       "\n",
       "    .dataframe thead th {\n",
       "        text-align: right;\n",
       "    }\n",
       "</style>\n",
       "<table border=\"1\" class=\"dataframe\">\n",
       "  <thead>\n",
       "    <tr style=\"text-align: right;\">\n",
       "      <th></th>\n",
       "      <th>feat_name</th>\n",
       "      <th>feat_imp</th>\n",
       "    </tr>\n",
       "  </thead>\n",
       "  <tbody>\n",
       "    <tr>\n",
       "      <th>84</th>\n",
       "      <td>bmi_pit</td>\n",
       "      <td>550</td>\n",
       "    </tr>\n",
       "    <tr>\n",
       "      <th>102</th>\n",
       "      <td>rank_x_year_bat</td>\n",
       "      <td>572</td>\n",
       "    </tr>\n",
       "    <tr>\n",
       "      <th>177</th>\n",
       "      <td>salary_x_year_dif_b-c</td>\n",
       "      <td>590</td>\n",
       "    </tr>\n",
       "    <tr>\n",
       "      <th>178</th>\n",
       "      <td>rank_year_dif_b-c</td>\n",
       "      <td>603</td>\n",
       "    </tr>\n",
       "    <tr>\n",
       "      <th>107</th>\n",
       "      <td>bat_game_cnt</td>\n",
       "      <td>606</td>\n",
       "    </tr>\n",
       "    <tr>\n",
       "      <th>5</th>\n",
       "      <td>player_cnt_in_game</td>\n",
       "      <td>629</td>\n",
       "    </tr>\n",
       "    <tr>\n",
       "      <th>163</th>\n",
       "      <td>rank_x_year_dif_p-b</td>\n",
       "      <td>641</td>\n",
       "    </tr>\n",
       "    <tr>\n",
       "      <th>103</th>\n",
       "      <td>salary_year_bat</td>\n",
       "      <td>642</td>\n",
       "    </tr>\n",
       "    <tr>\n",
       "      <th>176</th>\n",
       "      <td>salary_year_dif_b-c</td>\n",
       "      <td>647</td>\n",
       "    </tr>\n",
       "    <tr>\n",
       "      <th>179</th>\n",
       "      <td>rank_x_year_dif_b-c</td>\n",
       "      <td>648</td>\n",
       "    </tr>\n",
       "    <tr>\n",
       "      <th>43</th>\n",
       "      <td>point_diff</td>\n",
       "      <td>660</td>\n",
       "    </tr>\n",
       "    <tr>\n",
       "      <th>91</th>\n",
       "      <td>weight_bat</td>\n",
       "      <td>686</td>\n",
       "    </tr>\n",
       "    <tr>\n",
       "      <th>90</th>\n",
       "      <td>height_bat</td>\n",
       "      <td>704</td>\n",
       "    </tr>\n",
       "    <tr>\n",
       "      <th>105</th>\n",
       "      <td>bmi_bat</td>\n",
       "      <td>779</td>\n",
       "    </tr>\n",
       "    <tr>\n",
       "      <th>164</th>\n",
       "      <td>bmi_dif_p-b</td>\n",
       "      <td>788</td>\n",
       "    </tr>\n",
       "    <tr>\n",
       "      <th>180</th>\n",
       "      <td>bmi_dif_b-c</td>\n",
       "      <td>815</td>\n",
       "    </tr>\n",
       "    <tr>\n",
       "      <th>106</th>\n",
       "      <td>batter_cnt</td>\n",
       "      <td>836</td>\n",
       "    </tr>\n",
       "    <tr>\n",
       "      <th>0</th>\n",
       "      <td>pitch_cnt_in_game</td>\n",
       "      <td>881</td>\n",
       "    </tr>\n",
       "    <tr>\n",
       "      <th>25</th>\n",
       "      <td>elapsed_min</td>\n",
       "      <td>888</td>\n",
       "    </tr>\n",
       "    <tr>\n",
       "      <th>30</th>\n",
       "      <td>elapsed_batter</td>\n",
       "      <td>919</td>\n",
       "    </tr>\n",
       "    <tr>\n",
       "      <th>34</th>\n",
       "      <td>diff_elapsed_batter</td>\n",
       "      <td>1033</td>\n",
       "    </tr>\n",
       "    <tr>\n",
       "      <th>6</th>\n",
       "      <td>pitcher_cnt_in_game</td>\n",
       "      <td>1043</td>\n",
       "    </tr>\n",
       "    <tr>\n",
       "      <th>33</th>\n",
       "      <td>ave_elapsed_batter</td>\n",
       "      <td>1121</td>\n",
       "    </tr>\n",
       "    <tr>\n",
       "      <th>28</th>\n",
       "      <td>elapsed_from_inning</td>\n",
       "      <td>1122</td>\n",
       "    </tr>\n",
       "    <tr>\n",
       "      <th>26</th>\n",
       "      <td>min_diff</td>\n",
       "      <td>1188</td>\n",
       "    </tr>\n",
       "    <tr>\n",
       "      <th>31</th>\n",
       "      <td>ave_elapsed_game</td>\n",
       "      <td>1315</td>\n",
       "    </tr>\n",
       "    <tr>\n",
       "      <th>36</th>\n",
       "      <td>diff_elapsed_game</td>\n",
       "      <td>1329</td>\n",
       "    </tr>\n",
       "    <tr>\n",
       "      <th>32</th>\n",
       "      <td>ave_elapsed_inning</td>\n",
       "      <td>1405</td>\n",
       "    </tr>\n",
       "    <tr>\n",
       "      <th>35</th>\n",
       "      <td>diff_elapsed_inning</td>\n",
       "      <td>1406</td>\n",
       "    </tr>\n",
       "    <tr>\n",
       "      <th>24</th>\n",
       "      <td>date_from_opening</td>\n",
       "      <td>1603</td>\n",
       "    </tr>\n",
       "  </tbody>\n",
       "</table>\n",
       "</div>"
      ],
      "text/plain": [
       "                 feat_name  feat_imp\n",
       "84                 bmi_pit       550\n",
       "102        rank_x_year_bat       572\n",
       "177  salary_x_year_dif_b-c       590\n",
       "178      rank_year_dif_b-c       603\n",
       "107           bat_game_cnt       606\n",
       "5       player_cnt_in_game       629\n",
       "163    rank_x_year_dif_p-b       641\n",
       "103        salary_year_bat       642\n",
       "176    salary_year_dif_b-c       647\n",
       "179    rank_x_year_dif_b-c       648\n",
       "43              point_diff       660\n",
       "91              weight_bat       686\n",
       "90              height_bat       704\n",
       "105                bmi_bat       779\n",
       "164            bmi_dif_p-b       788\n",
       "180            bmi_dif_b-c       815\n",
       "106             batter_cnt       836\n",
       "0        pitch_cnt_in_game       881\n",
       "25             elapsed_min       888\n",
       "30          elapsed_batter       919\n",
       "34     diff_elapsed_batter      1033\n",
       "6      pitcher_cnt_in_game      1043\n",
       "33      ave_elapsed_batter      1121\n",
       "28     elapsed_from_inning      1122\n",
       "26                min_diff      1188\n",
       "31        ave_elapsed_game      1315\n",
       "36       diff_elapsed_game      1329\n",
       "32      ave_elapsed_inning      1405\n",
       "35     diff_elapsed_inning      1406\n",
       "24       date_from_opening      1603"
      ]
     },
     "execution_count": 45,
     "metadata": {},
     "output_type": "execute_result"
    }
   ],
   "source": [
    "fi = lgb_model.feature_importance()\n",
    "fn = lgb_model.feature_name()\n",
    "df_feature_importance = pd.DataFrame({'feat_name':fn, 'feat_imp':fi})\n",
    "df_feature_importance.sort_values('feat_imp', inplace=True)\n",
    "df_feature_importance.tail(30)"
   ]
  },
  {
   "cell_type": "markdown",
   "metadata": {},
   "source": [
    "## 結果出力"
   ]
  },
  {
   "cell_type": "markdown",
   "metadata": {},
   "source": [
    "### gbdt (32)\n",
    "`\n",
    "Best Params: {\n",
    "    'lambda_l1': 7.8708983359773494, \n",
    "    'lambda_l2': 7.364400432535952, \n",
    "    'num_leaves': 15, \n",
    "    'feature_fraction': 0.42, \n",
    "    'bagging_fraction': 0.9318179467445713, \n",
    "    'bagging_freq': 1, \n",
    "    'min_child_samples': 20\n",
    "}\n",
    "Wall time: 3h 10min 54s\n",
    "`"
   ]
  },
  {
   "cell_type": "markdown",
   "metadata": {},
   "source": [
    "### dart (32)\n",
    "`\n",
    "Best Params: {\n",
    "    'lambda_l1': 3.2650173236383515, \n",
    "    'lambda_l2': 0.0006692176426537234, \n",
    "    'num_leaves': 39, \n",
    "    'feature_fraction': 0.552, \n",
    "    'bagging_fraction': 1.0, \n",
    "    'bagging_freq': 0, \n",
    "    'min_child_samples': 50\n",
    "}\n",
    "`\n",
    "Wall time: 10h 33min 9s"
   ]
  },
  {
   "cell_type": "markdown",
   "metadata": {},
   "source": [
    "### Tuning結果(22-1_sub)\n",
    "`\n",
    "Best Params: {\n",
    "    'lambda_l1': 9.399895836269046, \n",
    "    'lambda_l2': 1.0011449849417051e-05, \n",
    "    'num_leaves': 17, \n",
    "    'feature_fraction': 0.4, \n",
    "    'bagging_fraction': 0.9757689578049016, \n",
    "    'bagging_freq': 1, \n",
    "    'min_child_samples': 5\n",
    "}\n",
    "`\n",
    "Wall time: 1h 30min 23s"
   ]
  },
  {
   "cell_type": "markdown",
   "metadata": {},
   "source": [
    "### Tuning結果(15)\n",
    "`\n",
    "Best Params: {\n",
    "    'lambda_l1': 9.466286566446003, \n",
    "    'lambda_l2': 0.15842866429240474, \n",
    "    'num_leaves': 21, \n",
    "    'feature_fraction': 0.41600000000000004, \n",
    "    'bagging_fraction': 0.8473186677812694, \n",
    "    'bagging_freq': 7, \n",
    "    'min_child_samples': 100\n",
    "}\n",
    "`\n",
    "Wall time: 2h 14min 40s"
   ]
  },
  {
   "cell_type": "markdown",
   "metadata": {},
   "source": [
    "### Tuning結果(10)\n",
    "`\n",
    "Best Params: {\n",
    "    'lambda_l1': 2.972300673782286, \n",
    "    'lambda_l2': 0.0002499813121238942, \n",
    "    'num_leaves': 15, \n",
    "    'feature_fraction': 0.4, \n",
    "    'bagging_fraction': 1.0, \n",
    "    'bagging_freq': 0, \n",
    "    'min_child_samples': 100\n",
    "}\n",
    "`\n",
    "Wall time: 1h 54min 11s"
   ]
  },
  {
   "cell_type": "markdown",
   "metadata": {},
   "source": [
    "### Tuning結果(5)\n",
    "`\n",
    "Best Params: {\n",
    "    'lambda_l1': 6.9923570049658075, \n",
    "    'lambda_l2': 0.002378623984798833, \n",
    "    'num_leaves': 18, \n",
    "    'feature_fraction': 0.45199999999999996, \n",
    "    'bagging_fraction': 0.9799724836460725, \n",
    "    'bagging_freq': 4, \n",
    "    'min_child_samples': 20\n",
    "}\n",
    "`"
   ]
  },
  {
   "cell_type": "code",
   "execution_count": null,
   "metadata": {},
   "outputs": [],
   "source": []
  }
 ],
 "metadata": {
  "kernelspec": {
   "display_name": "Python 3",
   "language": "python",
   "name": "python3"
  },
  "language_info": {
   "codemirror_mode": {
    "name": "ipython",
    "version": 3
   },
   "file_extension": ".py",
   "mimetype": "text/x-python",
   "name": "python",
   "nbconvert_exporter": "python",
   "pygments_lexer": "ipython3",
   "version": "3.7.6"
  }
 },
 "nbformat": 4,
 "nbformat_minor": 4
}
