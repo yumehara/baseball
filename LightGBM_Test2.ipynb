{
 "cells": [
  {
   "cell_type": "markdown",
   "metadata": {},
   "source": [
    "## LightGBM test (Multi-Classification)"
   ]
  },
  {
   "cell_type": "code",
   "execution_count": 1,
   "metadata": {},
   "outputs": [],
   "source": [
    "import numpy as np\n",
    "import pandas as pd\n",
    "import matplotlib.pyplot as plt\n",
    "import lightgbm as lgb\n",
    "import gc\n",
    "%matplotlib inline\n",
    "pd.set_option('display.max_Columns', 100)"
   ]
  },
  {
   "cell_type": "code",
   "execution_count": 2,
   "metadata": {},
   "outputs": [],
   "source": [
    "ALL_PITCH = 'intermediate/all_pitch_2.f'"
   ]
  },
  {
   "cell_type": "code",
   "execution_count": 3,
   "metadata": {},
   "outputs": [
    {
     "data": {
      "text/plain": [
       "(778767, 60)"
      ]
     },
     "execution_count": 3,
     "metadata": {},
     "output_type": "execute_result"
    }
   ],
   "source": [
    "all_pitch = pd.read_feather(ALL_PITCH)\n",
    "all_pitch.shape"
   ]
  },
  {
   "cell_type": "markdown",
   "metadata": {},
   "source": [
    "### 不要な列を削除"
   ]
  },
  {
   "cell_type": "code",
   "execution_count": 4,
   "metadata": {},
   "outputs": [],
   "source": [
    "all_pitch.drop(\n",
    "    columns=[\n",
    "        '年度', \n",
    "        '試合ID', \n",
    "        #'日付', '時刻', \n",
    "        'ホームチームID', 'アウェイチームID', \n",
    "        #'球場ID', '球場名', \n",
    "        #'試合種別詳細', '表裏', \n",
    "        '投手ID', '投手チームID', \n",
    "        #'投手投球左右', '投手役割', \n",
    "        '打者ID', '打者チームID', \n",
    "        #'打者打席左右', '打者守備位置',\n",
    "        'プレイ前走者状況', \n",
    "        #'一塁走者ID', '二塁走者ID', '三塁走者ID', \n",
    "        '捕手ID', \n",
    "        #'一塁手ID', '二塁手ID', '三塁手ID', '遊撃手ID', '左翼手ID', '中堅手ID', '右翼手ID', \n",
    "        #'成績対象投手ID', '成績対象打者ID',\n",
    "        'opening_date', 'game_date',\n",
    "        'start_time', 'game_time', 'elapsed_time'\n",
    "    ], inplace=True)"
   ]
  },
  {
   "cell_type": "markdown",
   "metadata": {},
   "source": [
    "### Rename"
   ]
  },
  {
   "cell_type": "code",
   "execution_count": 5,
   "metadata": {},
   "outputs": [],
   "source": [
    "all_pitch.rename(columns={\n",
    "    'データ内連番': 'No',\n",
    "    '投球位置区域': 'pitch_area',\n",
    "    '試合内連番': 'No_in_game',\n",
    "    '試合内投球数': 'pitch_cnt_in_game',\n",
    "    'イニング': 'inning',\n",
    "    'イニング内打席数': 'bat_cnt_in_inning',\n",
    "    '打席内投球数': 'pitch_cnt_in_bat',\n",
    "    '投手登板順': 'pitch_order',\n",
    "    '投手試合内対戦打者数': 'player_cnt_in_game',\n",
    "    '投手試合内投球数': 'pitch_cnt_in_game',\n",
    "    '投手イニング内投球数': 'pitch_cnt_in_inning',\n",
    "    '打者打順': 'bat_order',\n",
    "    '打者試合内打席数': 'bat_cnt_in_game',\n",
    "    'プレイ前ホームチーム得点数': 'home_point',\n",
    "    'プレイ前アウェイチーム得点数': 'away_point',\n",
    "    'プレイ前アウト数': 'out_cnt',\n",
    "    'プレイ前ボール数': 'ball_cnt',\n",
    "    'プレイ前ストライク数': 'strike_cnt',\n",
    "}, inplace=True)"
   ]
  },
  {
   "cell_type": "code",
   "execution_count": 6,
   "metadata": {},
   "outputs": [
    {
     "name": "stdout",
     "output_type": "stream",
     "text": [
      "(778767, 45)\n"
     ]
    },
    {
     "data": {
      "text/html": [
       "<div>\n",
       "<style scoped>\n",
       "    .dataframe tbody tr th:only-of-type {\n",
       "        vertical-align: middle;\n",
       "    }\n",
       "\n",
       "    .dataframe tbody tr th {\n",
       "        vertical-align: top;\n",
       "    }\n",
       "\n",
       "    .dataframe thead th {\n",
       "        text-align: right;\n",
       "    }\n",
       "</style>\n",
       "<table border=\"1\" class=\"dataframe\">\n",
       "  <thead>\n",
       "    <tr style=\"text-align: right;\">\n",
       "      <th></th>\n",
       "      <th>No</th>\n",
       "      <th>ball</th>\n",
       "      <th>pitch_area</th>\n",
       "      <th>No_in_game</th>\n",
       "      <th>pitch_cnt_in_game</th>\n",
       "      <th>inning</th>\n",
       "      <th>bat_cnt_in_inning</th>\n",
       "      <th>pitch_cnt_in_bat</th>\n",
       "      <th>pitch_order</th>\n",
       "      <th>player_cnt_in_game</th>\n",
       "      <th>pitch_cnt_in_game</th>\n",
       "      <th>pitch_cnt_in_inning</th>\n",
       "      <th>bat_order</th>\n",
       "      <th>bat_cnt_in_game</th>\n",
       "      <th>home_point</th>\n",
       "      <th>away_point</th>\n",
       "      <th>out_cnt</th>\n",
       "      <th>ball_cnt</th>\n",
       "      <th>strike_cnt</th>\n",
       "      <th>first</th>\n",
       "      <th>second</th>\n",
       "      <th>third</th>\n",
       "      <th>base_cnt</th>\n",
       "      <th>pitch_LR</th>\n",
       "      <th>bat_LR</th>\n",
       "      <th>top_bot</th>\n",
       "      <th>role</th>\n",
       "      <th>date_from_opening</th>\n",
       "      <th>elapsed_min</th>\n",
       "      <th>ball_cnt_0-0</th>\n",
       "      <th>ball_cnt_0-1</th>\n",
       "      <th>ball_cnt_0-2</th>\n",
       "      <th>ball_cnt_0-3</th>\n",
       "      <th>ball_cnt_1-0</th>\n",
       "      <th>ball_cnt_1-1</th>\n",
       "      <th>ball_cnt_1-2</th>\n",
       "      <th>ball_cnt_1-3</th>\n",
       "      <th>ball_cnt_2-0</th>\n",
       "      <th>ball_cnt_2-1</th>\n",
       "      <th>ball_cnt_2-2</th>\n",
       "      <th>ball_cnt_2-3</th>\n",
       "      <th>pit_bat_L_L</th>\n",
       "      <th>pit_bat_L_R</th>\n",
       "      <th>pit_bat_R_L</th>\n",
       "      <th>pit_bat_R_R</th>\n",
       "    </tr>\n",
       "  </thead>\n",
       "  <tbody>\n",
       "    <tr>\n",
       "      <th>0</th>\n",
       "      <td>0</td>\n",
       "      <td>0.0</td>\n",
       "      <td>0.0</td>\n",
       "      <td>1</td>\n",
       "      <td>1</td>\n",
       "      <td>1</td>\n",
       "      <td>1</td>\n",
       "      <td>1</td>\n",
       "      <td>1</td>\n",
       "      <td>1</td>\n",
       "      <td>1</td>\n",
       "      <td>1</td>\n",
       "      <td>1</td>\n",
       "      <td>1</td>\n",
       "      <td>0</td>\n",
       "      <td>0</td>\n",
       "      <td>0</td>\n",
       "      <td>0</td>\n",
       "      <td>0</td>\n",
       "      <td>0.0</td>\n",
       "      <td>0.0</td>\n",
       "      <td>0.0</td>\n",
       "      <td>0.0</td>\n",
       "      <td>0.0</td>\n",
       "      <td>1.0</td>\n",
       "      <td>1.0</td>\n",
       "      <td>1.0</td>\n",
       "      <td>0</td>\n",
       "      <td>0.000000</td>\n",
       "      <td>1</td>\n",
       "      <td>0</td>\n",
       "      <td>0</td>\n",
       "      <td>0</td>\n",
       "      <td>0</td>\n",
       "      <td>0</td>\n",
       "      <td>0</td>\n",
       "      <td>0</td>\n",
       "      <td>0</td>\n",
       "      <td>0</td>\n",
       "      <td>0</td>\n",
       "      <td>0</td>\n",
       "      <td>0</td>\n",
       "      <td>0</td>\n",
       "      <td>1</td>\n",
       "      <td>0</td>\n",
       "    </tr>\n",
       "    <tr>\n",
       "      <th>1</th>\n",
       "      <td>1</td>\n",
       "      <td>0.0</td>\n",
       "      <td>8.0</td>\n",
       "      <td>2</td>\n",
       "      <td>2</td>\n",
       "      <td>1</td>\n",
       "      <td>1</td>\n",
       "      <td>2</td>\n",
       "      <td>1</td>\n",
       "      <td>1</td>\n",
       "      <td>2</td>\n",
       "      <td>2</td>\n",
       "      <td>1</td>\n",
       "      <td>1</td>\n",
       "      <td>0</td>\n",
       "      <td>0</td>\n",
       "      <td>0</td>\n",
       "      <td>0</td>\n",
       "      <td>1</td>\n",
       "      <td>0.0</td>\n",
       "      <td>0.0</td>\n",
       "      <td>0.0</td>\n",
       "      <td>0.0</td>\n",
       "      <td>0.0</td>\n",
       "      <td>1.0</td>\n",
       "      <td>1.0</td>\n",
       "      <td>1.0</td>\n",
       "      <td>0</td>\n",
       "      <td>0.200000</td>\n",
       "      <td>0</td>\n",
       "      <td>0</td>\n",
       "      <td>0</td>\n",
       "      <td>0</td>\n",
       "      <td>1</td>\n",
       "      <td>0</td>\n",
       "      <td>0</td>\n",
       "      <td>0</td>\n",
       "      <td>0</td>\n",
       "      <td>0</td>\n",
       "      <td>0</td>\n",
       "      <td>0</td>\n",
       "      <td>0</td>\n",
       "      <td>0</td>\n",
       "      <td>1</td>\n",
       "      <td>0</td>\n",
       "    </tr>\n",
       "    <tr>\n",
       "      <th>2</th>\n",
       "      <td>2</td>\n",
       "      <td>0.0</td>\n",
       "      <td>5.0</td>\n",
       "      <td>3</td>\n",
       "      <td>3</td>\n",
       "      <td>1</td>\n",
       "      <td>1</td>\n",
       "      <td>3</td>\n",
       "      <td>1</td>\n",
       "      <td>1</td>\n",
       "      <td>3</td>\n",
       "      <td>3</td>\n",
       "      <td>1</td>\n",
       "      <td>1</td>\n",
       "      <td>0</td>\n",
       "      <td>0</td>\n",
       "      <td>0</td>\n",
       "      <td>0</td>\n",
       "      <td>2</td>\n",
       "      <td>0.0</td>\n",
       "      <td>0.0</td>\n",
       "      <td>0.0</td>\n",
       "      <td>0.0</td>\n",
       "      <td>0.0</td>\n",
       "      <td>1.0</td>\n",
       "      <td>1.0</td>\n",
       "      <td>1.0</td>\n",
       "      <td>0</td>\n",
       "      <td>0.383333</td>\n",
       "      <td>0</td>\n",
       "      <td>0</td>\n",
       "      <td>0</td>\n",
       "      <td>0</td>\n",
       "      <td>0</td>\n",
       "      <td>0</td>\n",
       "      <td>0</td>\n",
       "      <td>0</td>\n",
       "      <td>1</td>\n",
       "      <td>0</td>\n",
       "      <td>0</td>\n",
       "      <td>0</td>\n",
       "      <td>0</td>\n",
       "      <td>0</td>\n",
       "      <td>1</td>\n",
       "      <td>0</td>\n",
       "    </tr>\n",
       "    <tr>\n",
       "      <th>3</th>\n",
       "      <td>3</td>\n",
       "      <td>0.0</td>\n",
       "      <td>12.0</td>\n",
       "      <td>4</td>\n",
       "      <td>4</td>\n",
       "      <td>1</td>\n",
       "      <td>2</td>\n",
       "      <td>1</td>\n",
       "      <td>1</td>\n",
       "      <td>2</td>\n",
       "      <td>4</td>\n",
       "      <td>4</td>\n",
       "      <td>2</td>\n",
       "      <td>1</td>\n",
       "      <td>0</td>\n",
       "      <td>0</td>\n",
       "      <td>1</td>\n",
       "      <td>0</td>\n",
       "      <td>0</td>\n",
       "      <td>0.0</td>\n",
       "      <td>0.0</td>\n",
       "      <td>0.0</td>\n",
       "      <td>0.0</td>\n",
       "      <td>0.0</td>\n",
       "      <td>0.0</td>\n",
       "      <td>1.0</td>\n",
       "      <td>1.0</td>\n",
       "      <td>0</td>\n",
       "      <td>1.016667</td>\n",
       "      <td>1</td>\n",
       "      <td>0</td>\n",
       "      <td>0</td>\n",
       "      <td>0</td>\n",
       "      <td>0</td>\n",
       "      <td>0</td>\n",
       "      <td>0</td>\n",
       "      <td>0</td>\n",
       "      <td>0</td>\n",
       "      <td>0</td>\n",
       "      <td>0</td>\n",
       "      <td>0</td>\n",
       "      <td>0</td>\n",
       "      <td>0</td>\n",
       "      <td>0</td>\n",
       "      <td>1</td>\n",
       "    </tr>\n",
       "    <tr>\n",
       "      <th>4</th>\n",
       "      <td>4</td>\n",
       "      <td>0.0</td>\n",
       "      <td>8.0</td>\n",
       "      <td>5</td>\n",
       "      <td>5</td>\n",
       "      <td>1</td>\n",
       "      <td>2</td>\n",
       "      <td>2</td>\n",
       "      <td>1</td>\n",
       "      <td>2</td>\n",
       "      <td>5</td>\n",
       "      <td>5</td>\n",
       "      <td>2</td>\n",
       "      <td>1</td>\n",
       "      <td>0</td>\n",
       "      <td>0</td>\n",
       "      <td>1</td>\n",
       "      <td>0</td>\n",
       "      <td>1</td>\n",
       "      <td>0.0</td>\n",
       "      <td>0.0</td>\n",
       "      <td>0.0</td>\n",
       "      <td>0.0</td>\n",
       "      <td>0.0</td>\n",
       "      <td>0.0</td>\n",
       "      <td>1.0</td>\n",
       "      <td>1.0</td>\n",
       "      <td>0</td>\n",
       "      <td>1.200000</td>\n",
       "      <td>0</td>\n",
       "      <td>0</td>\n",
       "      <td>0</td>\n",
       "      <td>0</td>\n",
       "      <td>1</td>\n",
       "      <td>0</td>\n",
       "      <td>0</td>\n",
       "      <td>0</td>\n",
       "      <td>0</td>\n",
       "      <td>0</td>\n",
       "      <td>0</td>\n",
       "      <td>0</td>\n",
       "      <td>0</td>\n",
       "      <td>0</td>\n",
       "      <td>0</td>\n",
       "      <td>1</td>\n",
       "    </tr>\n",
       "  </tbody>\n",
       "</table>\n",
       "</div>"
      ],
      "text/plain": [
       "   No  ball  pitch_area  No_in_game  pitch_cnt_in_game  inning  \\\n",
       "0   0   0.0         0.0           1                  1       1   \n",
       "1   1   0.0         8.0           2                  2       1   \n",
       "2   2   0.0         5.0           3                  3       1   \n",
       "3   3   0.0        12.0           4                  4       1   \n",
       "4   4   0.0         8.0           5                  5       1   \n",
       "\n",
       "   bat_cnt_in_inning  pitch_cnt_in_bat  pitch_order  player_cnt_in_game  \\\n",
       "0                  1                 1            1                   1   \n",
       "1                  1                 2            1                   1   \n",
       "2                  1                 3            1                   1   \n",
       "3                  2                 1            1                   2   \n",
       "4                  2                 2            1                   2   \n",
       "\n",
       "   pitch_cnt_in_game  pitch_cnt_in_inning  bat_order  bat_cnt_in_game  \\\n",
       "0                  1                    1          1                1   \n",
       "1                  2                    2          1                1   \n",
       "2                  3                    3          1                1   \n",
       "3                  4                    4          2                1   \n",
       "4                  5                    5          2                1   \n",
       "\n",
       "   home_point  away_point  out_cnt  ball_cnt  strike_cnt  first  second  \\\n",
       "0           0           0        0         0           0    0.0     0.0   \n",
       "1           0           0        0         0           1    0.0     0.0   \n",
       "2           0           0        0         0           2    0.0     0.0   \n",
       "3           0           0        1         0           0    0.0     0.0   \n",
       "4           0           0        1         0           1    0.0     0.0   \n",
       "\n",
       "   third  base_cnt  pitch_LR  bat_LR  top_bot  role  date_from_opening  \\\n",
       "0    0.0       0.0       0.0     1.0      1.0   1.0                  0   \n",
       "1    0.0       0.0       0.0     1.0      1.0   1.0                  0   \n",
       "2    0.0       0.0       0.0     1.0      1.0   1.0                  0   \n",
       "3    0.0       0.0       0.0     0.0      1.0   1.0                  0   \n",
       "4    0.0       0.0       0.0     0.0      1.0   1.0                  0   \n",
       "\n",
       "   elapsed_min  ball_cnt_0-0  ball_cnt_0-1  ball_cnt_0-2  ball_cnt_0-3  \\\n",
       "0     0.000000             1             0             0             0   \n",
       "1     0.200000             0             0             0             0   \n",
       "2     0.383333             0             0             0             0   \n",
       "3     1.016667             1             0             0             0   \n",
       "4     1.200000             0             0             0             0   \n",
       "\n",
       "   ball_cnt_1-0  ball_cnt_1-1  ball_cnt_1-2  ball_cnt_1-3  ball_cnt_2-0  \\\n",
       "0             0             0             0             0             0   \n",
       "1             1             0             0             0             0   \n",
       "2             0             0             0             0             1   \n",
       "3             0             0             0             0             0   \n",
       "4             1             0             0             0             0   \n",
       "\n",
       "   ball_cnt_2-1  ball_cnt_2-2  ball_cnt_2-3  pit_bat_L_L  pit_bat_L_R  \\\n",
       "0             0             0             0            0            0   \n",
       "1             0             0             0            0            0   \n",
       "2             0             0             0            0            0   \n",
       "3             0             0             0            0            0   \n",
       "4             0             0             0            0            0   \n",
       "\n",
       "   pit_bat_R_L  pit_bat_R_R  \n",
       "0            1            0  \n",
       "1            1            0  \n",
       "2            1            0  \n",
       "3            0            1  \n",
       "4            0            1  "
      ]
     },
     "execution_count": 6,
     "metadata": {},
     "output_type": "execute_result"
    }
   ],
   "source": [
    "print(all_pitch.shape)\n",
    "all_pitch.head()"
   ]
  },
  {
   "cell_type": "markdown",
   "metadata": {},
   "source": [
    "### train\n",
    "- 行数: 257117"
   ]
  },
  {
   "cell_type": "code",
   "execution_count": 7,
   "metadata": {},
   "outputs": [
    {
     "data": {
      "text/plain": [
       "(257117, 45)"
      ]
     },
     "execution_count": 7,
     "metadata": {},
     "output_type": "execute_result"
    }
   ],
   "source": [
    "train = all_pitch.dropna(subset=['pitch_area'])\n",
    "train.shape"
   ]
  },
  {
   "cell_type": "markdown",
   "metadata": {},
   "source": [
    "### test\n",
    "- 行数: 521650"
   ]
  },
  {
   "cell_type": "code",
   "execution_count": 8,
   "metadata": {},
   "outputs": [
    {
     "data": {
      "text/plain": [
       "(521650, 45)"
      ]
     },
     "execution_count": 8,
     "metadata": {},
     "output_type": "execute_result"
    }
   ],
   "source": [
    "test = all_pitch[all_pitch['pitch_area'].isnull()]\n",
    "test.shape"
   ]
  },
  {
   "cell_type": "code",
   "execution_count": 9,
   "metadata": {
    "scrolled": true
   },
   "outputs": [
    {
     "data": {
      "text/plain": [
       "40"
      ]
     },
     "execution_count": 9,
     "metadata": {},
     "output_type": "execute_result"
    }
   ],
   "source": [
    "del all_pitch\n",
    "gc.collect()"
   ]
  },
  {
   "cell_type": "code",
   "execution_count": 10,
   "metadata": {},
   "outputs": [],
   "source": [
    "train_d = train.drop([\n",
    "    'No', \n",
    "    'pitch_area', \n",
    "    'ball'\n",
    "], axis=1)"
   ]
  },
  {
   "cell_type": "code",
   "execution_count": 11,
   "metadata": {},
   "outputs": [],
   "source": [
    "test_d = test.drop([\n",
    "    'No', \n",
    "    'pitch_area', \n",
    "    'ball'\n",
    "], axis=1)"
   ]
  },
  {
   "cell_type": "markdown",
   "metadata": {},
   "source": [
    "## Dataset作成"
   ]
  },
  {
   "cell_type": "code",
   "execution_count": 12,
   "metadata": {},
   "outputs": [],
   "source": [
    "lgb_train = lgb.Dataset(train_d, train['ball'])"
   ]
  },
  {
   "cell_type": "markdown",
   "metadata": {},
   "source": [
    "### LGBM学習\n",
    "- multiclass : クラス数=8"
   ]
  },
  {
   "cell_type": "code",
   "execution_count": 13,
   "metadata": {
    "scrolled": false
   },
   "outputs": [
    {
     "name": "stdout",
     "output_type": "stream",
     "text": [
      "[100]\tcv_agg's multi_logloss: 1.5013 + 0.00140296\n",
      "[200]\tcv_agg's multi_logloss: 1.48229 + 0.00196637\n",
      "[300]\tcv_agg's multi_logloss: 1.46903 + 0.00173765\n",
      "[400]\tcv_agg's multi_logloss: 1.45899 + 0.00183953\n",
      "[500]\tcv_agg's multi_logloss: 1.45072 + 0.00150839\n",
      "[600]\tcv_agg's multi_logloss: 1.44421 + 0.00137259\n",
      "[700]\tcv_agg's multi_logloss: 1.43838 + 0.00111484\n",
      "[800]\tcv_agg's multi_logloss: 1.43396 + 0.0013297\n",
      "[900]\tcv_agg's multi_logloss: 1.43019 + 0.00153575\n",
      "[1000]\tcv_agg's multi_logloss: 1.42728 + 0.00165771\n",
      "[1100]\tcv_agg's multi_logloss: 1.42486 + 0.00193938\n",
      "[1200]\tcv_agg's multi_logloss: 1.42289 + 0.00203255\n",
      "[1300]\tcv_agg's multi_logloss: 1.42136 + 0.00212734\n",
      "[1400]\tcv_agg's multi_logloss: 1.42026 + 0.00243269\n",
      "[1500]\tcv_agg's multi_logloss: 1.41936 + 0.00257479\n",
      "[1600]\tcv_agg's multi_logloss: 1.41834 + 0.0025918\n",
      "[1700]\tcv_agg's multi_logloss: 1.41791 + 0.00275362\n",
      "[1800]\tcv_agg's multi_logloss: 1.41781 + 0.00291717\n",
      "[1900]\tcv_agg's multi_logloss: 1.41776 + 0.00284867\n",
      "[2000]\tcv_agg's multi_logloss: 1.41806 + 0.00282669\n",
      "Best num_boost_round: 1913\n",
      "Best CV score: 1.4177152872543688\n",
      "CPU times: user 1h 10min 16s, sys: 58.7 s, total: 1h 11min 15s\n",
      "Wall time: 34min 19s\n"
     ]
    }
   ],
   "source": [
    "%%time\n",
    "lgb_param = {\n",
    "        'objective' : 'multiclass',\n",
    "        'boosting_type': 'gbdt',\n",
    "        'metric' : 'multi_logloss',\n",
    "        'num_class' : 8,\n",
    "        'num_leaves' : 31,\n",
    "        'seed' : 0,\n",
    "        'learning_rate' : 0.1,\n",
    "    }\n",
    "\n",
    "# 学習\n",
    "cv_results = lgb.cv(lgb_param, lgb_train,\n",
    "                    num_boost_round=8000,\n",
    "                    early_stopping_rounds=100,\n",
    "                    verbose_eval=100,\n",
    "                    nfold=4)\n",
    "\n",
    "num_boost_round = len(cv_results['multi_logloss-mean'])\n",
    "print('Best num_boost_round:', num_boost_round)\n",
    "print('Best CV score:', cv_results['multi_logloss-mean'][-1])"
   ]
  },
  {
   "cell_type": "code",
   "execution_count": 14,
   "metadata": {},
   "outputs": [],
   "source": [
    "best_iter = int(num_boost_round * 1.1)"
   ]
  },
  {
   "cell_type": "markdown",
   "metadata": {},
   "source": [
    "### 全体で再学習"
   ]
  },
  {
   "cell_type": "code",
   "execution_count": 15,
   "metadata": {},
   "outputs": [
    {
     "name": "stdout",
     "output_type": "stream",
     "text": [
      "CPU times: user 20min 26s, sys: 16 s, total: 20min 42s\n",
      "Wall time: 5min 31s\n"
     ]
    }
   ],
   "source": [
    "%%time\n",
    "lgb_model = lgb.train(lgb_param, lgb_train, num_boost_round=best_iter)"
   ]
  },
  {
   "cell_type": "markdown",
   "metadata": {},
   "source": [
    "### Feature Importance"
   ]
  },
  {
   "cell_type": "code",
   "execution_count": 16,
   "metadata": {
    "scrolled": false
   },
   "outputs": [
    {
     "data": {
      "text/html": [
       "<div>\n",
       "<style scoped>\n",
       "    .dataframe tbody tr th:only-of-type {\n",
       "        vertical-align: middle;\n",
       "    }\n",
       "\n",
       "    .dataframe tbody tr th {\n",
       "        vertical-align: top;\n",
       "    }\n",
       "\n",
       "    .dataframe thead th {\n",
       "        text-align: right;\n",
       "    }\n",
       "</style>\n",
       "<table border=\"1\" class=\"dataframe\">\n",
       "  <thead>\n",
       "    <tr style=\"text-align: right;\">\n",
       "      <th></th>\n",
       "      <th>feat_name</th>\n",
       "      <th>feat_imp</th>\n",
       "    </tr>\n",
       "  </thead>\n",
       "  <tbody>\n",
       "    <tr>\n",
       "      <th>6</th>\n",
       "      <td>player_cnt_in_game</td>\n",
       "      <td>16141</td>\n",
       "    </tr>\n",
       "    <tr>\n",
       "      <th>9</th>\n",
       "      <td>bat_order</td>\n",
       "      <td>19763</td>\n",
       "    </tr>\n",
       "    <tr>\n",
       "      <th>11</th>\n",
       "      <td>home_point</td>\n",
       "      <td>24022</td>\n",
       "    </tr>\n",
       "    <tr>\n",
       "      <th>12</th>\n",
       "      <td>away_point</td>\n",
       "      <td>25209</td>\n",
       "    </tr>\n",
       "    <tr>\n",
       "      <th>8</th>\n",
       "      <td>pitch_cnt_in_inning</td>\n",
       "      <td>31741</td>\n",
       "    </tr>\n",
       "    <tr>\n",
       "      <th>1</th>\n",
       "      <td>pitch_cnt_in_game</td>\n",
       "      <td>34451</td>\n",
       "    </tr>\n",
       "    <tr>\n",
       "      <th>0</th>\n",
       "      <td>No_in_game</td>\n",
       "      <td>38859</td>\n",
       "    </tr>\n",
       "    <tr>\n",
       "      <th>7</th>\n",
       "      <td>pitch_cnt_in_game</td>\n",
       "      <td>44061</td>\n",
       "    </tr>\n",
       "    <tr>\n",
       "      <th>25</th>\n",
       "      <td>elapsed_min</td>\n",
       "      <td>49125</td>\n",
       "    </tr>\n",
       "    <tr>\n",
       "      <th>24</th>\n",
       "      <td>date_from_opening</td>\n",
       "      <td>78664</td>\n",
       "    </tr>\n",
       "  </tbody>\n",
       "</table>\n",
       "</div>"
      ],
      "text/plain": [
       "              feat_name  feat_imp\n",
       "6    player_cnt_in_game     16141\n",
       "9             bat_order     19763\n",
       "11           home_point     24022\n",
       "12           away_point     25209\n",
       "8   pitch_cnt_in_inning     31741\n",
       "1     pitch_cnt_in_game     34451\n",
       "0            No_in_game     38859\n",
       "7     pitch_cnt_in_game     44061\n",
       "25          elapsed_min     49125\n",
       "24    date_from_opening     78664"
      ]
     },
     "execution_count": 16,
     "metadata": {},
     "output_type": "execute_result"
    }
   ],
   "source": [
    "fi = lgb_model.feature_importance()\n",
    "fn = lgb_model.feature_name()\n",
    "df_feature_importance = pd.DataFrame({'feat_name':fn, 'feat_imp':fi})\n",
    "df_feature_importance.sort_values('feat_imp', inplace=True)\n",
    "df_feature_importance.tail(10)"
   ]
  },
  {
   "cell_type": "code",
   "execution_count": 17,
   "metadata": {
    "scrolled": true
   },
   "outputs": [
    {
     "name": "stdout",
     "output_type": "stream",
     "text": [
      "CPU times: user 27min 19s, sys: 3.48 s, total: 27min 22s\n",
      "Wall time: 7min 10s\n"
     ]
    }
   ],
   "source": [
    "%%time\n",
    "predict = lgb_model.predict(test_d, num_iteration = lgb_model.best_iteration)"
   ]
  },
  {
   "cell_type": "code",
   "execution_count": 19,
   "metadata": {},
   "outputs": [
    {
     "data": {
      "text/plain": [
       "array([[8.39157664e-01, 6.99189498e-04, 5.54594511e-02, ...,\n",
       "        2.19360509e-03, 1.22529207e-03, 3.30587330e-02],\n",
       "       [8.11104776e-01, 6.11155382e-03, 7.95245002e-02, ...,\n",
       "        3.32875217e-03, 7.90176854e-05, 1.43470673e-02],\n",
       "       [5.34280387e-01, 1.79205921e-02, 1.11526847e-01, ...,\n",
       "        7.74100019e-02, 9.82353312e-03, 9.14373687e-02],\n",
       "       ...,\n",
       "       [6.95485885e-01, 1.81193031e-02, 5.44117717e-02, ...,\n",
       "        2.14235411e-02, 1.38414845e-05, 1.44908105e-02],\n",
       "       [7.24056320e-01, 1.57317426e-02, 2.58165053e-02, ...,\n",
       "        2.50957034e-02, 9.20236649e-06, 2.89901542e-03],\n",
       "       [6.40745124e-01, 1.54072332e-02, 8.63822225e-02, ...,\n",
       "        1.71479951e-02, 8.00455898e-06, 2.90388418e-03]])"
      ]
     },
     "execution_count": 19,
     "metadata": {},
     "output_type": "execute_result"
    }
   ],
   "source": [
    "predict"
   ]
  },
  {
   "cell_type": "markdown",
   "metadata": {},
   "source": [
    "## 結果出力"
   ]
  },
  {
   "cell_type": "code",
   "execution_count": 21,
   "metadata": {
    "scrolled": true
   },
   "outputs": [
    {
     "name": "stdout",
     "output_type": "stream",
     "text": [
      "(521650, 9)\n"
     ]
    },
    {
     "data": {
      "text/html": [
       "<div>\n",
       "<style scoped>\n",
       "    .dataframe tbody tr th:only-of-type {\n",
       "        vertical-align: middle;\n",
       "    }\n",
       "\n",
       "    .dataframe tbody tr th {\n",
       "        vertical-align: top;\n",
       "    }\n",
       "\n",
       "    .dataframe thead th {\n",
       "        text-align: right;\n",
       "    }\n",
       "</style>\n",
       "<table border=\"1\" class=\"dataframe\">\n",
       "  <thead>\n",
       "    <tr style=\"text-align: right;\">\n",
       "      <th></th>\n",
       "      <th>index</th>\n",
       "      <th>0</th>\n",
       "      <th>1</th>\n",
       "      <th>2</th>\n",
       "      <th>3</th>\n",
       "      <th>4</th>\n",
       "      <th>5</th>\n",
       "      <th>6</th>\n",
       "      <th>7</th>\n",
       "    </tr>\n",
       "  </thead>\n",
       "  <tbody>\n",
       "    <tr>\n",
       "      <th>0</th>\n",
       "      <td>0</td>\n",
       "      <td>0.839158</td>\n",
       "      <td>0.000699</td>\n",
       "      <td>0.055459</td>\n",
       "      <td>0.056541</td>\n",
       "      <td>0.011665</td>\n",
       "      <td>0.002194</td>\n",
       "      <td>0.001225</td>\n",
       "      <td>0.033059</td>\n",
       "    </tr>\n",
       "    <tr>\n",
       "      <th>1</th>\n",
       "      <td>1</td>\n",
       "      <td>0.811105</td>\n",
       "      <td>0.006112</td>\n",
       "      <td>0.079525</td>\n",
       "      <td>0.066355</td>\n",
       "      <td>0.019150</td>\n",
       "      <td>0.003329</td>\n",
       "      <td>0.000079</td>\n",
       "      <td>0.014347</td>\n",
       "    </tr>\n",
       "    <tr>\n",
       "      <th>2</th>\n",
       "      <td>2</td>\n",
       "      <td>0.534280</td>\n",
       "      <td>0.017921</td>\n",
       "      <td>0.111527</td>\n",
       "      <td>0.061598</td>\n",
       "      <td>0.096003</td>\n",
       "      <td>0.077410</td>\n",
       "      <td>0.009824</td>\n",
       "      <td>0.091437</td>\n",
       "    </tr>\n",
       "    <tr>\n",
       "      <th>3</th>\n",
       "      <td>3</td>\n",
       "      <td>0.413577</td>\n",
       "      <td>0.024705</td>\n",
       "      <td>0.069909</td>\n",
       "      <td>0.126504</td>\n",
       "      <td>0.262462</td>\n",
       "      <td>0.004781</td>\n",
       "      <td>0.000985</td>\n",
       "      <td>0.097077</td>\n",
       "    </tr>\n",
       "    <tr>\n",
       "      <th>4</th>\n",
       "      <td>4</td>\n",
       "      <td>0.228076</td>\n",
       "      <td>0.066228</td>\n",
       "      <td>0.140437</td>\n",
       "      <td>0.144326</td>\n",
       "      <td>0.290621</td>\n",
       "      <td>0.002473</td>\n",
       "      <td>0.001016</td>\n",
       "      <td>0.126823</td>\n",
       "    </tr>\n",
       "  </tbody>\n",
       "</table>\n",
       "</div>"
      ],
      "text/plain": [
       "   index         0         1         2         3         4         5  \\\n",
       "0      0  0.839158  0.000699  0.055459  0.056541  0.011665  0.002194   \n",
       "1      1  0.811105  0.006112  0.079525  0.066355  0.019150  0.003329   \n",
       "2      2  0.534280  0.017921  0.111527  0.061598  0.096003  0.077410   \n",
       "3      3  0.413577  0.024705  0.069909  0.126504  0.262462  0.004781   \n",
       "4      4  0.228076  0.066228  0.140437  0.144326  0.290621  0.002473   \n",
       "\n",
       "          6         7  \n",
       "0  0.001225  0.033059  \n",
       "1  0.000079  0.014347  \n",
       "2  0.009824  0.091437  \n",
       "3  0.000985  0.097077  \n",
       "4  0.001016  0.126823  "
      ]
     },
     "execution_count": 21,
     "metadata": {},
     "output_type": "execute_result"
    }
   ],
   "source": [
    "submit = pd.DataFrame(predict)\n",
    "submit.reset_index(inplace=True)\n",
    "print(submit.shape)\n",
    "submit.head()"
   ]
  },
  {
   "cell_type": "markdown",
   "metadata": {},
   "source": [
    "### 2017の平均\n",
    "- ストレート           0.468254\n",
    "- カーブ             0.074725\n",
    "- スライダー           0.185806\n",
    "- シュート            0.070633\n",
    "- フォーク            0.083013\n",
    "- チェンジアップ         0.054217\n",
    "- シンカー            0.011361\n",
    "- カットボール          0.051992"
   ]
  },
  {
   "cell_type": "code",
   "execution_count": 22,
   "metadata": {
    "scrolled": true
   },
   "outputs": [
    {
     "data": {
      "text/plain": [
       "index    260824.500000\n",
       "0             0.493584\n",
       "1             0.069841\n",
       "2             0.190759\n",
       "3             0.065094\n",
       "4             0.079030\n",
       "5             0.052075\n",
       "6             0.005315\n",
       "7             0.044301\n",
       "dtype: float64"
      ]
     },
     "execution_count": 22,
     "metadata": {},
     "output_type": "execute_result"
    }
   ],
   "source": [
    "submit.mean()"
   ]
  },
  {
   "cell_type": "code",
   "execution_count": 23,
   "metadata": {},
   "outputs": [],
   "source": [
    "#submit.to_csv('submit/lgbm_2.csv', header=False, index=False)"
   ]
  },
  {
   "cell_type": "markdown",
   "metadata": {},
   "source": [
    "### 評価結果\n",
    "- CV score: 1.4177152872543688\n",
    "- 評価結果  : 1.6695529"
   ]
  },
  {
   "cell_type": "code",
   "execution_count": null,
   "metadata": {},
   "outputs": [],
   "source": []
  }
 ],
 "metadata": {
  "kernelspec": {
   "display_name": "Python 3",
   "language": "python",
   "name": "python3"
  }
 },
 "nbformat": 4,
 "nbformat_minor": 4
}
