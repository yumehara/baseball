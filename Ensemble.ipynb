{
 "cells": [
  {
   "cell_type": "code",
   "execution_count": 42,
   "metadata": {},
   "outputs": [],
   "source": [
    "import pandas as pd\n",
    "import numpy as np\n",
    "import feather\n",
    "import os\n",
    "pd.set_option('display.max_Columns', 300)"
   ]
  },
  {
   "cell_type": "code",
   "execution_count": 43,
   "metadata": {},
   "outputs": [],
   "source": [
    "ball_csv = 'submit/{}/ball_{}.csv'\n",
    "course_csv = 'submit/{}/course_{}.csv'\n",
    "\n",
    "ball_ensmb_csv = 'submit/{}/ball_ensemble_{}_{}.csv'\n",
    "course_ensmb_csv = 'submit/{}/course_ensemble_{}_{}.csv'"
   ]
  },
  {
   "cell_type": "code",
   "execution_count": 44,
   "metadata": {},
   "outputs": [],
   "source": [
    "model_No = 34\n",
    "SUBMIT_PATH = 'submit/{}'\n",
    "os.makedirs(SUBMIT_PATH.format(model_No), exist_ok=True)"
   ]
  },
  {
   "cell_type": "code",
   "execution_count": 45,
   "metadata": {},
   "outputs": [],
   "source": [
    "model_1 = 32\n",
    "model_2 = 33\n",
    "\n",
    "ball_1_csv = ball_csv.format(model_1, model_1)\n",
    "course_1_csv = course_csv.format(model_1, model_1)\n",
    "ball_2_csv = ball_csv.format(model_2, model_2)\n",
    "course_2_csv = course_csv.format(model_2, model_2)\n",
    "\n",
    "submit_ball_csv = ball_ensmb_csv.format(model_No, model_1, model_2)\n",
    "submit_course_csv = course_ensmb_csv.format(model_No, model_1, model_2)"
   ]
  },
  {
   "cell_type": "code",
   "execution_count": 46,
   "metadata": {},
   "outputs": [],
   "source": [
    "ball_kind = ['straight', 'curve', 'slider', 'shoot', 'fork', 'changeup', 'sinker', 'cutball']\n",
    "course_kind = ['0', '1', '2', '3', '4', '5', '6', '7', '8', '9', '10', '11', '12']\n",
    "ball_header = ['index'] + ball_kind\n",
    "course_header = ['index'] + course_kind"
   ]
  },
  {
   "cell_type": "code",
   "execution_count": 47,
   "metadata": {
    "scrolled": true
   },
   "outputs": [
    {
     "name": "stdout",
     "output_type": "stream",
     "text": [
      "(521650, 9)\n",
      "(521650, 9)\n",
      "(521650, 14)\n",
      "(521650, 14)\n"
     ]
    }
   ],
   "source": [
    "ball_1 = pd.read_csv(ball_1_csv, names=ball_header)\n",
    "ball_2 = pd.read_csv(ball_2_csv, names=ball_header)\n",
    "course_1 = pd.read_csv(course_1_csv, names=course_header)\n",
    "course_2 = pd.read_csv(course_2_csv, names=course_header)\n",
    "print(ball_1.shape)\n",
    "print(ball_2.shape)\n",
    "print(course_1.shape)\n",
    "print(course_2.shape)"
   ]
  },
  {
   "cell_type": "code",
   "execution_count": 48,
   "metadata": {
    "scrolled": true
   },
   "outputs": [
    {
     "data": {
      "text/html": [
       "<div>\n",
       "<style scoped>\n",
       "    .dataframe tbody tr th:only-of-type {\n",
       "        vertical-align: middle;\n",
       "    }\n",
       "\n",
       "    .dataframe tbody tr th {\n",
       "        vertical-align: top;\n",
       "    }\n",
       "\n",
       "    .dataframe thead th {\n",
       "        text-align: right;\n",
       "    }\n",
       "</style>\n",
       "<table border=\"1\" class=\"dataframe\">\n",
       "  <thead>\n",
       "    <tr style=\"text-align: right;\">\n",
       "      <th></th>\n",
       "      <th>index</th>\n",
       "      <th>straight</th>\n",
       "      <th>curve</th>\n",
       "      <th>slider</th>\n",
       "      <th>shoot</th>\n",
       "      <th>fork</th>\n",
       "      <th>changeup</th>\n",
       "      <th>sinker</th>\n",
       "      <th>cutball</th>\n",
       "    </tr>\n",
       "  </thead>\n",
       "  <tbody>\n",
       "    <tr>\n",
       "      <th>0</th>\n",
       "      <td>0</td>\n",
       "      <td>0.303740</td>\n",
       "      <td>0.059267</td>\n",
       "      <td>0.110352</td>\n",
       "      <td>0.424663</td>\n",
       "      <td>0.003029</td>\n",
       "      <td>0.000156</td>\n",
       "      <td>0.000030</td>\n",
       "      <td>0.098763</td>\n",
       "    </tr>\n",
       "    <tr>\n",
       "      <th>1</th>\n",
       "      <td>1</td>\n",
       "      <td>0.310100</td>\n",
       "      <td>0.093061</td>\n",
       "      <td>0.125248</td>\n",
       "      <td>0.416690</td>\n",
       "      <td>0.004302</td>\n",
       "      <td>0.000137</td>\n",
       "      <td>0.000018</td>\n",
       "      <td>0.050444</td>\n",
       "    </tr>\n",
       "    <tr>\n",
       "      <th>2</th>\n",
       "      <td>2</td>\n",
       "      <td>0.328112</td>\n",
       "      <td>0.089767</td>\n",
       "      <td>0.136547</td>\n",
       "      <td>0.210985</td>\n",
       "      <td>0.152175</td>\n",
       "      <td>0.000876</td>\n",
       "      <td>0.000098</td>\n",
       "      <td>0.081440</td>\n",
       "    </tr>\n",
       "    <tr>\n",
       "      <th>3</th>\n",
       "      <td>3</td>\n",
       "      <td>0.256042</td>\n",
       "      <td>0.133924</td>\n",
       "      <td>0.166290</td>\n",
       "      <td>0.369295</td>\n",
       "      <td>0.014055</td>\n",
       "      <td>0.000315</td>\n",
       "      <td>0.000031</td>\n",
       "      <td>0.060048</td>\n",
       "    </tr>\n",
       "    <tr>\n",
       "      <th>4</th>\n",
       "      <td>4</td>\n",
       "      <td>0.149581</td>\n",
       "      <td>0.038734</td>\n",
       "      <td>0.286324</td>\n",
       "      <td>0.421300</td>\n",
       "      <td>0.006392</td>\n",
       "      <td>0.000297</td>\n",
       "      <td>0.000047</td>\n",
       "      <td>0.097326</td>\n",
       "    </tr>\n",
       "  </tbody>\n",
       "</table>\n",
       "</div>"
      ],
      "text/plain": [
       "   index  straight     curve    slider     shoot      fork  changeup  \\\n",
       "0      0  0.303740  0.059267  0.110352  0.424663  0.003029  0.000156   \n",
       "1      1  0.310100  0.093061  0.125248  0.416690  0.004302  0.000137   \n",
       "2      2  0.328112  0.089767  0.136547  0.210985  0.152175  0.000876   \n",
       "3      3  0.256042  0.133924  0.166290  0.369295  0.014055  0.000315   \n",
       "4      4  0.149581  0.038734  0.286324  0.421300  0.006392  0.000297   \n",
       "\n",
       "     sinker   cutball  \n",
       "0  0.000030  0.098763  \n",
       "1  0.000018  0.050444  \n",
       "2  0.000098  0.081440  \n",
       "3  0.000031  0.060048  \n",
       "4  0.000047  0.097326  "
      ]
     },
     "execution_count": 48,
     "metadata": {},
     "output_type": "execute_result"
    }
   ],
   "source": [
    "ball_1.head(5)"
   ]
  },
  {
   "cell_type": "code",
   "execution_count": 49,
   "metadata": {},
   "outputs": [
    {
     "data": {
      "text/html": [
       "<div>\n",
       "<style scoped>\n",
       "    .dataframe tbody tr th:only-of-type {\n",
       "        vertical-align: middle;\n",
       "    }\n",
       "\n",
       "    .dataframe tbody tr th {\n",
       "        vertical-align: top;\n",
       "    }\n",
       "\n",
       "    .dataframe thead th {\n",
       "        text-align: right;\n",
       "    }\n",
       "</style>\n",
       "<table border=\"1\" class=\"dataframe\">\n",
       "  <thead>\n",
       "    <tr style=\"text-align: right;\">\n",
       "      <th></th>\n",
       "      <th>index</th>\n",
       "      <th>straight</th>\n",
       "      <th>curve</th>\n",
       "      <th>slider</th>\n",
       "      <th>shoot</th>\n",
       "      <th>fork</th>\n",
       "      <th>changeup</th>\n",
       "      <th>sinker</th>\n",
       "      <th>cutball</th>\n",
       "    </tr>\n",
       "  </thead>\n",
       "  <tbody>\n",
       "    <tr>\n",
       "      <th>0</th>\n",
       "      <td>0</td>\n",
       "      <td>0.309292</td>\n",
       "      <td>0.083681</td>\n",
       "      <td>0.156731</td>\n",
       "      <td>0.325671</td>\n",
       "      <td>0.006403</td>\n",
       "      <td>0.000142</td>\n",
       "      <td>0.000016</td>\n",
       "      <td>0.118065</td>\n",
       "    </tr>\n",
       "    <tr>\n",
       "      <th>1</th>\n",
       "      <td>1</td>\n",
       "      <td>0.293407</td>\n",
       "      <td>0.124788</td>\n",
       "      <td>0.149290</td>\n",
       "      <td>0.341724</td>\n",
       "      <td>0.007844</td>\n",
       "      <td>0.000160</td>\n",
       "      <td>0.000014</td>\n",
       "      <td>0.082774</td>\n",
       "    </tr>\n",
       "    <tr>\n",
       "      <th>2</th>\n",
       "      <td>2</td>\n",
       "      <td>0.319900</td>\n",
       "      <td>0.104587</td>\n",
       "      <td>0.129159</td>\n",
       "      <td>0.189481</td>\n",
       "      <td>0.164195</td>\n",
       "      <td>0.000809</td>\n",
       "      <td>0.000043</td>\n",
       "      <td>0.091826</td>\n",
       "    </tr>\n",
       "    <tr>\n",
       "      <th>3</th>\n",
       "      <td>3</td>\n",
       "      <td>0.267012</td>\n",
       "      <td>0.154534</td>\n",
       "      <td>0.170258</td>\n",
       "      <td>0.298991</td>\n",
       "      <td>0.019959</td>\n",
       "      <td>0.000286</td>\n",
       "      <td>0.000019</td>\n",
       "      <td>0.088941</td>\n",
       "    </tr>\n",
       "    <tr>\n",
       "      <th>4</th>\n",
       "      <td>4</td>\n",
       "      <td>0.159461</td>\n",
       "      <td>0.056738</td>\n",
       "      <td>0.269994</td>\n",
       "      <td>0.369218</td>\n",
       "      <td>0.009647</td>\n",
       "      <td>0.000212</td>\n",
       "      <td>0.000029</td>\n",
       "      <td>0.134702</td>\n",
       "    </tr>\n",
       "  </tbody>\n",
       "</table>\n",
       "</div>"
      ],
      "text/plain": [
       "   index  straight     curve    slider     shoot      fork  changeup  \\\n",
       "0      0  0.309292  0.083681  0.156731  0.325671  0.006403  0.000142   \n",
       "1      1  0.293407  0.124788  0.149290  0.341724  0.007844  0.000160   \n",
       "2      2  0.319900  0.104587  0.129159  0.189481  0.164195  0.000809   \n",
       "3      3  0.267012  0.154534  0.170258  0.298991  0.019959  0.000286   \n",
       "4      4  0.159461  0.056738  0.269994  0.369218  0.009647  0.000212   \n",
       "\n",
       "     sinker   cutball  \n",
       "0  0.000016  0.118065  \n",
       "1  0.000014  0.082774  \n",
       "2  0.000043  0.091826  \n",
       "3  0.000019  0.088941  \n",
       "4  0.000029  0.134702  "
      ]
     },
     "execution_count": 49,
     "metadata": {},
     "output_type": "execute_result"
    }
   ],
   "source": [
    "ball_2.head(5)"
   ]
  },
  {
   "cell_type": "markdown",
   "metadata": {},
   "source": [
    "### 単純に平均をとる"
   ]
  },
  {
   "cell_type": "code",
   "execution_count": 50,
   "metadata": {},
   "outputs": [
    {
     "name": "stdout",
     "output_type": "stream",
     "text": [
      "submit/34/ball_ensemble_32_33.csv (521650, 9)\n"
     ]
    }
   ],
   "source": [
    "ball_ensemble = pd.DataFrame(ball_1['index'])\n",
    "for ball in ball_kind:\n",
    "    ball_ensemble[ball] = (ball_1[ball] + ball_2[ball])/2\n",
    "\n",
    "ball_ensemble.to_csv(submit_ball_csv, header=False, index=False)\n",
    "print(submit_ball_csv, ball_ensemble.shape)"
   ]
  },
  {
   "cell_type": "code",
   "execution_count": 51,
   "metadata": {},
   "outputs": [
    {
     "name": "stdout",
     "output_type": "stream",
     "text": [
      "submit/34/course_ensemble_32_33.csv (521650, 14)\n"
     ]
    }
   ],
   "source": [
    "course_ensemble = pd.DataFrame(course_1['index'])\n",
    "for course in course_kind:\n",
    "    course_ensemble[course] = (course_1[course] + course_2[course])/2\n",
    "\n",
    "course_ensemble.to_csv(submit_course_csv, header=False, index=False)\n",
    "print(submit_course_csv, course_ensemble.shape)"
   ]
  },
  {
   "cell_type": "code",
   "execution_count": null,
   "metadata": {},
   "outputs": [],
   "source": []
  }
 ],
 "metadata": {
  "kernelspec": {
   "display_name": "Python 3",
   "language": "python",
   "name": "python3"
  },
  "language_info": {
   "codemirror_mode": {
    "name": "ipython",
    "version": 3
   },
   "file_extension": ".py",
   "mimetype": "text/x-python",
   "name": "python",
   "nbconvert_exporter": "python",
   "pygments_lexer": "ipython3",
   "version": "3.7.6"
  }
 },
 "nbformat": 4,
 "nbformat_minor": 4
}
