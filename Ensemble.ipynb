{
 "cells": [
  {
   "cell_type": "code",
   "execution_count": 1,
   "metadata": {},
   "outputs": [],
   "source": [
    "import pandas as pd\n",
    "import numpy as np\n",
    "import feather\n",
    "import os\n",
    "pd.set_option('display.max_Columns', 300)"
   ]
  },
  {
   "cell_type": "code",
   "execution_count": 2,
   "metadata": {},
   "outputs": [],
   "source": [
    "ball_csv = 'submit/{}/ball_{}_{}.csv'\n",
    "# course_csv = 'submit/{}/course_{}_{}.csv'\n",
    "\n",
    "# ball_ensmb_csv = 'submit/{}/ball_ensemble_{}_{}.csv'\n",
    "# course_ensmb_csv = 'submit/{}/course_ensemble_{}_{}.csv'"
   ]
  },
  {
   "cell_type": "code",
   "execution_count": 3,
   "metadata": {},
   "outputs": [],
   "source": [
    "model_No = 59\n",
    "# SUBMIT_PATH = 'submit/{}'\n",
    "# os.makedirs(SUBMIT_PATH.format(model_No), exist_ok=True)"
   ]
  },
  {
   "cell_type": "code",
   "execution_count": 5,
   "metadata": {},
   "outputs": [],
   "source": [
    "sub_str1 = 'dart_multi_error'\n",
    "sub_str2 = 'gbdt_multi_error'\n",
    "\n",
    "ball_1_csv = ball_csv.format(model_No, model_No, sub_str1)\n",
    "# course_1_csv = course_csv.format(model_1, model_1, sub_str1)\n",
    "ball_2_csv = ball_csv.format(model_No, model_No, sub_str2)\n",
    "# course_2_csv = course_csv.format(model_2, model_2, sub_str2)\n",
    "\n",
    "# submit_ball_csv = ball_ensmb_csv.format(model_No, model_1, model_2)\n",
    "# submit_course_csv = course_ensmb_csv.format(model_No, model_1, model_2)"
   ]
  },
  {
   "cell_type": "code",
   "execution_count": 6,
   "metadata": {},
   "outputs": [],
   "source": [
    "ball_kind = ['straight', 'curve', 'slider', 'shoot', 'fork', 'changeup', 'sinker', 'cutball']\n",
    "course_kind = ['0', '1', '2', '3', '4', '5', '6', '7', '8', '9', '10', '11', '12']\n",
    "ball_header = ['index'] + ball_kind\n",
    "course_header = ['index'] + course_kind"
   ]
  },
  {
   "cell_type": "code",
   "execution_count": 7,
   "metadata": {
    "scrolled": true
   },
   "outputs": [
    {
     "name": "stdout",
     "output_type": "stream",
     "text": [
      "(521650, 9)\n",
      "(521650, 9)\n"
     ]
    }
   ],
   "source": [
    "ball_1 = pd.read_csv(ball_1_csv, names=ball_header)\n",
    "ball_2 = pd.read_csv(ball_2_csv, names=ball_header)\n",
    "# course_1 = pd.read_csv(course_1_csv, names=course_header)\n",
    "# course_2 = pd.read_csv(course_2_csv, names=course_header)\n",
    "print(ball_1.shape)\n",
    "print(ball_2.shape)\n",
    "# print(course_1.shape)\n",
    "# print(course_2.shape)"
   ]
  },
  {
   "cell_type": "code",
   "execution_count": 12,
   "metadata": {
    "scrolled": false
   },
   "outputs": [
    {
     "data": {
      "text/plain": [
       "0         1.0\n",
       "1         1.0\n",
       "2         1.0\n",
       "3         1.0\n",
       "4         1.0\n",
       "         ... \n",
       "521645    1.0\n",
       "521646    1.0\n",
       "521647    1.0\n",
       "521648    1.0\n",
       "521649    1.0\n",
       "Length: 521650, dtype: float64"
      ]
     },
     "execution_count": 12,
     "metadata": {},
     "output_type": "execute_result"
    }
   ],
   "source": [
    "ball_1[ball_kind].sum(axis=1)"
   ]
  },
  {
   "cell_type": "code",
   "execution_count": 13,
   "metadata": {},
   "outputs": [
    {
     "data": {
      "text/plain": [
       "0         1.0\n",
       "1         1.0\n",
       "2         1.0\n",
       "3         1.0\n",
       "4         1.0\n",
       "         ... \n",
       "521645    1.0\n",
       "521646    1.0\n",
       "521647    1.0\n",
       "521648    1.0\n",
       "521649    1.0\n",
       "Length: 521650, dtype: float64"
      ]
     },
     "execution_count": 13,
     "metadata": {},
     "output_type": "execute_result"
    }
   ],
   "source": [
    "ball_2[ball_kind].sum(axis=1)"
   ]
  },
  {
   "cell_type": "markdown",
   "metadata": {},
   "source": [
    "### 単純に平均をとる"
   ]
  },
  {
   "cell_type": "code",
   "execution_count": 14,
   "metadata": {},
   "outputs": [],
   "source": [
    "ball_ensemble = pd.DataFrame(ball_1['index'])\n",
    "for ball in ball_kind:\n",
    "#     ball_ensemble[ball] = (ball_1[ball] + ball_2[ball])/2\n",
    "    ball_ensemble[ball] = np.sqrt(ball_1[ball] * ball_2[ball])\n",
    "\n",
    "# ball_ensemble.to_csv(submit_ball_csv, header=False, index=False)\n",
    "# print(submit_ball_csv, ball_ensemble.shape)"
   ]
  },
  {
   "cell_type": "code",
   "execution_count": 16,
   "metadata": {},
   "outputs": [],
   "source": [
    "ball_ensemble['sum'] = ball_ensemble[ball_kind].sum(axis=1)"
   ]
  },
  {
   "cell_type": "code",
   "execution_count": 18,
   "metadata": {},
   "outputs": [],
   "source": [
    "for ball in ball_kind:\n",
    "    ball_ensemble[ball] = ball_ensemble[ball]/ball_ensemble['sum']"
   ]
  },
  {
   "cell_type": "code",
   "execution_count": 21,
   "metadata": {},
   "outputs": [
    {
     "data": {
      "text/html": [
       "<div>\n",
       "<style scoped>\n",
       "    .dataframe tbody tr th:only-of-type {\n",
       "        vertical-align: middle;\n",
       "    }\n",
       "\n",
       "    .dataframe tbody tr th {\n",
       "        vertical-align: top;\n",
       "    }\n",
       "\n",
       "    .dataframe thead th {\n",
       "        text-align: right;\n",
       "    }\n",
       "</style>\n",
       "<table border=\"1\" class=\"dataframe\">\n",
       "  <thead>\n",
       "    <tr style=\"text-align: right;\">\n",
       "      <th></th>\n",
       "      <th>index</th>\n",
       "      <th>straight</th>\n",
       "      <th>curve</th>\n",
       "      <th>slider</th>\n",
       "      <th>shoot</th>\n",
       "      <th>fork</th>\n",
       "      <th>changeup</th>\n",
       "      <th>sinker</th>\n",
       "      <th>cutball</th>\n",
       "    </tr>\n",
       "  </thead>\n",
       "  <tbody>\n",
       "    <tr>\n",
       "      <th>0</th>\n",
       "      <td>0</td>\n",
       "      <td>0.425488</td>\n",
       "      <td>0.100960</td>\n",
       "      <td>0.174594</td>\n",
       "      <td>0.202642</td>\n",
       "      <td>0.007266</td>\n",
       "      <td>0.000623</td>\n",
       "      <td>0.000070</td>\n",
       "      <td>0.088357</td>\n",
       "    </tr>\n",
       "    <tr>\n",
       "      <th>1</th>\n",
       "      <td>1</td>\n",
       "      <td>0.407363</td>\n",
       "      <td>0.115640</td>\n",
       "      <td>0.155938</td>\n",
       "      <td>0.240282</td>\n",
       "      <td>0.009600</td>\n",
       "      <td>0.000568</td>\n",
       "      <td>0.000044</td>\n",
       "      <td>0.070565</td>\n",
       "    </tr>\n",
       "    <tr>\n",
       "      <th>2</th>\n",
       "      <td>2</td>\n",
       "      <td>0.365500</td>\n",
       "      <td>0.122681</td>\n",
       "      <td>0.163660</td>\n",
       "      <td>0.131425</td>\n",
       "      <td>0.126990</td>\n",
       "      <td>0.001963</td>\n",
       "      <td>0.000098</td>\n",
       "      <td>0.087682</td>\n",
       "    </tr>\n",
       "    <tr>\n",
       "      <th>3</th>\n",
       "      <td>3</td>\n",
       "      <td>0.316380</td>\n",
       "      <td>0.163194</td>\n",
       "      <td>0.197028</td>\n",
       "      <td>0.206278</td>\n",
       "      <td>0.020910</td>\n",
       "      <td>0.000888</td>\n",
       "      <td>0.000066</td>\n",
       "      <td>0.095255</td>\n",
       "    </tr>\n",
       "    <tr>\n",
       "      <th>4</th>\n",
       "      <td>4</td>\n",
       "      <td>0.197396</td>\n",
       "      <td>0.080468</td>\n",
       "      <td>0.277412</td>\n",
       "      <td>0.301837</td>\n",
       "      <td>0.011156</td>\n",
       "      <td>0.000844</td>\n",
       "      <td>0.000079</td>\n",
       "      <td>0.130808</td>\n",
       "    </tr>\n",
       "  </tbody>\n",
       "</table>\n",
       "</div>"
      ],
      "text/plain": [
       "   index  straight     curve    slider     shoot      fork  changeup  \\\n",
       "0      0  0.425488  0.100960  0.174594  0.202642  0.007266  0.000623   \n",
       "1      1  0.407363  0.115640  0.155938  0.240282  0.009600  0.000568   \n",
       "2      2  0.365500  0.122681  0.163660  0.131425  0.126990  0.001963   \n",
       "3      3  0.316380  0.163194  0.197028  0.206278  0.020910  0.000888   \n",
       "4      4  0.197396  0.080468  0.277412  0.301837  0.011156  0.000844   \n",
       "\n",
       "     sinker   cutball  \n",
       "0  0.000070  0.088357  \n",
       "1  0.000044  0.070565  \n",
       "2  0.000098  0.087682  \n",
       "3  0.000066  0.095255  \n",
       "4  0.000079  0.130808  "
      ]
     },
     "execution_count": 21,
     "metadata": {},
     "output_type": "execute_result"
    }
   ],
   "source": [
    "ball_ensemble.drop(columns=['sum'], inplace=True)\n",
    "ball_ensemble.head()"
   ]
  },
  {
   "cell_type": "code",
   "execution_count": 51,
   "metadata": {},
   "outputs": [
    {
     "name": "stdout",
     "output_type": "stream",
     "text": [
      "submit/34/course_ensemble_32_33.csv (521650, 14)\n"
     ]
    }
   ],
   "source": [
    "# course_ensemble = pd.DataFrame(course_1['index'])\n",
    "# for course in course_kind:\n",
    "#     course_ensemble[course] = (course_1[course] + course_2[course])/2\n",
    "\n",
    "# course_ensemble.to_csv(submit_course_csv, header=False, index=False)\n",
    "# print(submit_course_csv, course_ensemble.shape)"
   ]
  },
  {
   "cell_type": "code",
   "execution_count": null,
   "metadata": {},
   "outputs": [],
   "source": []
  }
 ],
 "metadata": {
  "kernelspec": {
   "display_name": "Python 3",
   "language": "python",
   "name": "python3"
  },
  "language_info": {
   "codemirror_mode": {
    "name": "ipython",
    "version": 3
   },
   "file_extension": ".py",
   "mimetype": "text/x-python",
   "name": "python",
   "nbconvert_exporter": "python",
   "pygments_lexer": "ipython3",
   "version": "3.7.6"
  }
 },
 "nbformat": 4,
 "nbformat_minor": 4
}
