{
 "cells": [
  {
   "cell_type": "markdown",
   "metadata": {},
   "source": [
    "## player前処理(7)"
   ]
  },
  {
   "cell_type": "code",
   "execution_count": 49,
   "metadata": {},
   "outputs": [],
   "source": [
    "import numpy as np\n",
    "import matplotlib.pyplot as plt\n",
    "import pandas as pd\n",
    "import feather\n",
    "pd.set_option('display.max_Columns', 100)"
   ]
  },
  {
   "cell_type": "code",
   "execution_count": 50,
   "metadata": {},
   "outputs": [
    {
     "name": "stdout",
     "output_type": "stream",
     "text": [
      "(911, 25)\n",
      "(1846, 25)\n"
     ]
    }
   ],
   "source": [
    "train_player = pd.read_feather('data/train_player.f')\n",
    "test_player = pd.read_feather('data/test_player.f')\n",
    "print(train_player.shape)\n",
    "print(test_player.shape)"
   ]
  },
  {
   "cell_type": "code",
   "execution_count": 51,
   "metadata": {},
   "outputs": [
    {
     "name": "stdout",
     "output_type": "stream",
     "text": [
      "(2757, 25)\n"
     ]
    }
   ],
   "source": [
    "all_player = train_player.append(test_player, ignore_index=True)\n",
    "print(all_player.shape)"
   ]
  },
  {
   "cell_type": "markdown",
   "metadata": {},
   "source": [
    "### 2017年の成績"
   ]
  },
  {
   "cell_type": "code",
   "execution_count": 52,
   "metadata": {},
   "outputs": [
    {
     "name": "stdout",
     "output_type": "stream",
     "text": [
      "(326, 19)\n",
      "(466, 4)\n",
      "(55, 19)\n"
     ]
    }
   ],
   "source": [
    "pit_2017 = pd.read_feather('intermediate/pit_2017_2.f')\n",
    "bat_2017 = pd.read_feather('intermediate/bat_2017_2.f')\n",
    "cat_2017 = pd.read_feather('intermediate/cat_2017_2.f')\n",
    "print(pit_2017.shape)\n",
    "print(bat_2017.shape)\n",
    "print(cat_2017.shape)"
   ]
  },
  {
   "cell_type": "markdown",
   "metadata": {},
   "source": [
    "### 投手"
   ]
  },
  {
   "cell_type": "code",
   "execution_count": 53,
   "metadata": {},
   "outputs": [],
   "source": [
    "all_player = all_player.merge(pit_2017, left_on='選手ID', right_on='投手ID', how='left')"
   ]
  },
  {
   "cell_type": "markdown",
   "metadata": {},
   "source": [
    "#### 外国人助っ人"
   ]
  },
  {
   "cell_type": "code",
   "execution_count": 54,
   "metadata": {},
   "outputs": [],
   "source": [
    "all_player['foreigner']=0\n",
    "all_player.loc[all_player['出身国']!='日本', 'foreigner'] = 1"
   ]
  },
  {
   "cell_type": "markdown",
   "metadata": {},
   "source": [
    "#### 情報がない選手\n",
    "- 外国人投手-> 投手ID=-1\n",
    "- 日本人投手-> 投手ID=0\n",
    "- 2017の全体平均で穴埋め"
   ]
  },
  {
   "cell_type": "code",
   "execution_count": 55,
   "metadata": {},
   "outputs": [],
   "source": [
    "all_player.loc[(all_player['位置']=='投手') & (all_player['投手ID'].isnull()) & (all_player['foreigner']==1), '投手ID'] = -1\n",
    "all_player.loc[(all_player['位置']=='投手') & all_player['投手ID'].isnull(), '投手ID'] = 0"
   ]
  },
  {
   "cell_type": "code",
   "execution_count": 56,
   "metadata": {},
   "outputs": [],
   "source": [
    "pit_mean = pit_2017.mean()\n",
    "all_player.loc[all_player['投手ID']==0, 'straight'] = pit_mean['straight']\n",
    "all_player.loc[all_player['投手ID']==0, 'curve'] = pit_mean['curve']\n",
    "all_player.loc[all_player['投手ID']==0, 'slider'] = pit_mean['slider']\n",
    "all_player.loc[all_player['投手ID']==0, 'shoot'] = pit_mean['shoot']\n",
    "all_player.loc[all_player['投手ID']==0, 'fork'] = pit_mean['fork']\n",
    "all_player.loc[all_player['投手ID']==0, 'changeup'] = pit_mean['changeup']\n",
    "all_player.loc[all_player['投手ID']==0, 'sinker'] = pit_mean['sinker']\n",
    "all_player.loc[all_player['投手ID']==0, 'cutball'] = pit_mean['cutball']\n",
    "all_player.loc[all_player['投手ID']==0, 'total'] = pit_mean['total']\n",
    "all_player.loc[all_player['投手ID']==0, 'pit_game_cnt'] = pit_mean['pit_game_cnt']\n",
    "all_player.loc[all_player['投手ID']==0, 'pit_inning_cnt'] = pit_mean['pit_inning_cnt']\n",
    "all_player.loc[all_player['投手ID']==0, 'pit_batter_cnt'] = pit_mean['pit_batter_cnt']\n",
    "all_player.loc[all_player['投手ID']==0, 'pit_inning_per_game'] = pit_mean['pit_inning_per_game']\n",
    "all_player.loc[all_player['投手ID']==0, 'pit_batter_per_game'] = pit_mean['pit_batter_per_game']\n",
    "all_player.loc[all_player['投手ID']==0, 'pit_ball_per_game'] = pit_mean['pit_ball_per_game']\n",
    "all_player.loc[all_player['投手ID']==0, 'pit_batter_per_inning'] = pit_mean['pit_batter_per_inning']\n",
    "all_player.loc[all_player['投手ID']==0, 'pit_ball_per_inning'] = pit_mean['pit_ball_per_inning']\n",
    "all_player.loc[all_player['投手ID']==0, 'pit_ball_per_batter'] = pit_mean['pit_ball_per_batter']"
   ]
  },
  {
   "cell_type": "markdown",
   "metadata": {},
   "source": [
    "#### 外国人平均"
   ]
  },
  {
   "cell_type": "code",
   "execution_count": 57,
   "metadata": {},
   "outputs": [],
   "source": [
    "foreigner_mean = all_player[(all_player['foreigner']==1)&(all_player['投手ID']==-1)].mean()\n",
    "all_player.loc[all_player['投手ID']==-1, 'straight'] = foreigner_mean['straight']\n",
    "all_player.loc[all_player['投手ID']==-1, 'curve'] = foreigner_mean['curve']\n",
    "all_player.loc[all_player['投手ID']==-1, 'slider'] = foreigner_mean['slider']\n",
    "all_player.loc[all_player['投手ID']==-1, 'shoot'] = foreigner_mean['shoot']\n",
    "all_player.loc[all_player['投手ID']==-1, 'fork'] = foreigner_mean['fork']\n",
    "all_player.loc[all_player['投手ID']==-1, 'changeup'] = foreigner_mean['changeup']\n",
    "all_player.loc[all_player['投手ID']==-1, 'sinker'] = foreigner_mean['sinker']\n",
    "all_player.loc[all_player['投手ID']==-1, 'cutball'] = foreigner_mean['cutball']\n",
    "all_player.loc[all_player['投手ID']==-1, 'total'] = foreigner_mean['total']\n",
    "all_player.loc[all_player['投手ID']==-1, 'pit_game_cnt'] = foreigner_mean['pit_game_cnt']\n",
    "all_player.loc[all_player['投手ID']==-1, 'pit_inning_cnt'] = foreigner_mean['pit_inning_cnt']\n",
    "all_player.loc[all_player['投手ID']==-1, 'pit_batter_cnt'] = foreigner_mean['pit_batter_cnt']\n",
    "all_player.loc[all_player['投手ID']==-1, 'pit_inning_per_game'] = foreigner_mean['pit_inning_per_game']\n",
    "all_player.loc[all_player['投手ID']==-1, 'pit_batter_per_game'] = foreigner_mean['pit_batter_per_game']\n",
    "all_player.loc[all_player['投手ID']==-1, 'pit_ball_per_game'] = foreigner_mean['pit_ball_per_game']\n",
    "all_player.loc[all_player['投手ID']==-1, 'pit_batter_per_inning'] = foreigner_mean['pit_batter_per_inning']\n",
    "all_player.loc[all_player['投手ID']==-1, 'pit_ball_per_inning'] = foreigner_mean['pit_ball_per_inning']\n",
    "all_player.loc[all_player['投手ID']==-1, 'pit_ball_per_batter'] = foreigner_mean['pit_ball_per_batter']"
   ]
  },
  {
   "cell_type": "markdown",
   "metadata": {},
   "source": [
    "### 打者"
   ]
  },
  {
   "cell_type": "code",
   "execution_count": 58,
   "metadata": {},
   "outputs": [],
   "source": [
    "all_player = all_player.merge(bat_2017, left_on='選手ID', right_on='打者ID', how='left')"
   ]
  },
  {
   "cell_type": "code",
   "execution_count": 59,
   "metadata": {},
   "outputs": [],
   "source": [
    "bat_mean = bat_2017.mean()\n",
    "all_player.loc[(all_player['位置']!='投手') & all_player['打者ID'].isnull(), '打者ID'] = 0\n",
    "all_player.loc[all_player['打者ID']==0, 'batter_cnt'] = bat_mean['batter_cnt'] \n",
    "all_player.loc[all_player['打者ID']==0, 'bat_game_cnt'] = bat_mean['bat_game_cnt'] \n",
    "all_player.loc[all_player['打者ID']==0, 'batter_cnt_per_game'] = bat_mean['batter_cnt_per_game'] \n",
    "all_player.loc[all_player['打者ID'].isnull(), 'batter_cnt'] = 0\n",
    "all_player.loc[all_player['打者ID'].isnull(), 'bat_game_cnt'] = 0\n",
    "all_player.loc[all_player['打者ID'].isnull(), 'batter_cnt_per_game'] = 0"
   ]
  },
  {
   "cell_type": "markdown",
   "metadata": {},
   "source": [
    "### 捕手"
   ]
  },
  {
   "cell_type": "code",
   "execution_count": 60,
   "metadata": {},
   "outputs": [],
   "source": [
    "all_player = all_player.merge(cat_2017, left_on='選手ID', right_on='捕手ID', how='left')"
   ]
  },
  {
   "cell_type": "code",
   "execution_count": 61,
   "metadata": {},
   "outputs": [],
   "source": [
    "cat_mean = cat_2017.mean()\n",
    "all_player.loc[(all_player['位置']=='捕手') & all_player['捕手ID'].isnull(), '捕手ID'] = 0\n",
    "all_player.loc[all_player['捕手ID']==0, 'c_straight'] = cat_mean['c_straight']\n",
    "all_player.loc[all_player['捕手ID']==0, 'c_curve'] = cat_mean['c_curve']\n",
    "all_player.loc[all_player['捕手ID']==0, 'c_slider'] = cat_mean['c_slider']\n",
    "all_player.loc[all_player['捕手ID']==0, 'c_shoot'] = cat_mean['c_shoot']\n",
    "all_player.loc[all_player['捕手ID']==0, 'c_fork'] = cat_mean['c_fork']\n",
    "all_player.loc[all_player['捕手ID']==0, 'c_changeup'] = cat_mean['c_changeup']\n",
    "all_player.loc[all_player['捕手ID']==0, 'c_sinker'] = cat_mean['c_sinker']\n",
    "all_player.loc[all_player['捕手ID']==0, 'c_cutball'] = cat_mean['c_cutball']\n",
    "all_player.loc[all_player['捕手ID']==0, 'c_total'] = cat_mean['c_total']\n",
    "all_player.loc[all_player['捕手ID']==0, 'cat_game_cnt'] = cat_mean['cat_game_cnt']\n",
    "all_player.loc[all_player['捕手ID']==0, 'cat_inning_cnt'] = cat_mean['cat_inning_cnt']\n",
    "all_player.loc[all_player['捕手ID']==0, 'cat_batter_cnt'] = cat_mean['cat_batter_cnt']\n",
    "all_player.loc[all_player['捕手ID']==0, 'cat_inning_per_game'] = cat_mean['cat_inning_per_game']\n",
    "all_player.loc[all_player['捕手ID']==0, 'cat_batter_per_game'] = cat_mean['cat_batter_per_game']\n",
    "all_player.loc[all_player['捕手ID']==0, 'cat_ball_per_game'] = cat_mean['cat_ball_per_game']\n",
    "all_player.loc[all_player['捕手ID']==0, 'cat_batter_per_inning'] = cat_mean['cat_batter_per_inning']\n",
    "all_player.loc[all_player['捕手ID']==0, 'cat_ball_per_inning'] = cat_mean['cat_ball_per_inning']\n",
    "all_player.loc[all_player['捕手ID']==0, 'cat_ball_per_batter'] = cat_mean['cat_ball_per_batter']"
   ]
  },
  {
   "cell_type": "markdown",
   "metadata": {},
   "source": [
    "### 高卒・大卒・社会人"
   ]
  },
  {
   "cell_type": "code",
   "execution_count": 62,
   "metadata": {},
   "outputs": [],
   "source": [
    "all_player['company'] = 0\n",
    "all_player.loc[~all_player['社会人'].isnull(), 'company'] = 1"
   ]
  },
  {
   "cell_type": "code",
   "execution_count": 63,
   "metadata": {},
   "outputs": [],
   "source": [
    "all_player['univ']=0\n",
    "all_player.loc[all_player['出身大学ID']!=0, 'univ'] = 1"
   ]
  },
  {
   "cell_type": "code",
   "execution_count": 64,
   "metadata": {},
   "outputs": [],
   "source": [
    "all_player['highsch'] = 0\n",
    "all_player.loc[(all_player['company']==0)&(all_player['univ']==0)&(all_player['foreigner']==0) , 'highsch'] = 1"
   ]
  },
  {
   "cell_type": "markdown",
   "metadata": {},
   "source": [
    "### 年齢、現役年数"
   ]
  },
  {
   "cell_type": "code",
   "execution_count": 65,
   "metadata": {},
   "outputs": [],
   "source": [
    "all_player['birth_day'] = pd.to_datetime(all_player['生年月日'])\n",
    "all_player['age'] = all_player['年度'] - all_player['birth_day'].dt.year"
   ]
  },
  {
   "cell_type": "code",
   "execution_count": 66,
   "metadata": {},
   "outputs": [],
   "source": [
    "all_player['play_year'] = all_player['年度'] - all_player['ドラフト年']\n",
    "all_player.loc[all_player['ドラフト年'].isnull(), 'play_year'] = 6"
   ]
  },
  {
   "cell_type": "markdown",
   "metadata": {},
   "source": [
    "### 年棒"
   ]
  },
  {
   "cell_type": "code",
   "execution_count": 67,
   "metadata": {},
   "outputs": [],
   "source": [
    "all_player['salary_year'] = all_player['年俸']/ all_player['play_year'] \n",
    "all_player['salary_x_year'] = all_player['年俸'] * all_player['play_year'] "
   ]
  },
  {
   "cell_type": "markdown",
   "metadata": {},
   "source": [
    "### 身長・体重\n",
    "BMI=体重/身長^2"
   ]
  },
  {
   "cell_type": "code",
   "execution_count": 68,
   "metadata": {},
   "outputs": [],
   "source": [
    "all_player['bmi'] = all_player['体重']*10000/(all_player['身長']*all_player['身長'])"
   ]
  },
  {
   "cell_type": "markdown",
   "metadata": {},
   "source": [
    "### 不要な列を削除"
   ]
  },
  {
   "cell_type": "code",
   "execution_count": 69,
   "metadata": {},
   "outputs": [],
   "source": [
    "all_player.drop(\n",
    "    columns=[\n",
    "        'チームID', 'チーム名', '選手名', '背番号', '位置', '投', '打', '生年月日', \n",
    "        '出身高校ID', '出身高校名', '出身大学ID', '出身大学名', '社会人', \n",
    "        'ドラフト年', 'ドラフト種別', \n",
    "        '出身国', '出身地', '血液型', 'birth_day',\n",
    "        '投手ID', '打者ID', '捕手ID'\n",
    "    ], inplace=True)"
   ]
  },
  {
   "cell_type": "markdown",
   "metadata": {},
   "source": [
    "### rename"
   ]
  },
  {
   "cell_type": "code",
   "execution_count": 70,
   "metadata": {},
   "outputs": [],
   "source": [
    "all_player.rename(columns={\n",
    "    '育成選手F': 'firm',\n",
    "    '身長': 'height',\n",
    "    '体重': 'weight',\n",
    "    'ドラフト順位': 'draft_order',\n",
    "    '年俸': 'salary',\n",
    "}, inplace=True)"
   ]
  },
  {
   "cell_type": "code",
   "execution_count": 71,
   "metadata": {},
   "outputs": [
    {
     "data": {
      "text/html": [
       "<div>\n",
       "<style scoped>\n",
       "    .dataframe tbody tr th:only-of-type {\n",
       "        vertical-align: middle;\n",
       "    }\n",
       "\n",
       "    .dataframe tbody tr th {\n",
       "        vertical-align: top;\n",
       "    }\n",
       "\n",
       "    .dataframe thead th {\n",
       "        text-align: right;\n",
       "    }\n",
       "</style>\n",
       "<table border=\"1\" class=\"dataframe\">\n",
       "  <thead>\n",
       "    <tr style=\"text-align: right;\">\n",
       "      <th></th>\n",
       "      <th>年度</th>\n",
       "      <th>選手ID</th>\n",
       "      <th>firm</th>\n",
       "      <th>height</th>\n",
       "      <th>weight</th>\n",
       "      <th>draft_order</th>\n",
       "      <th>salary</th>\n",
       "      <th>straight</th>\n",
       "      <th>curve</th>\n",
       "      <th>slider</th>\n",
       "      <th>shoot</th>\n",
       "      <th>fork</th>\n",
       "      <th>changeup</th>\n",
       "      <th>sinker</th>\n",
       "      <th>cutball</th>\n",
       "      <th>total</th>\n",
       "      <th>pit_game_cnt</th>\n",
       "      <th>pit_inning_cnt</th>\n",
       "      <th>pit_batter_cnt</th>\n",
       "      <th>pit_inning_per_game</th>\n",
       "      <th>pit_batter_per_game</th>\n",
       "      <th>pit_ball_per_game</th>\n",
       "      <th>pit_batter_per_inning</th>\n",
       "      <th>pit_ball_per_inning</th>\n",
       "      <th>pit_ball_per_batter</th>\n",
       "      <th>foreigner</th>\n",
       "      <th>batter_cnt</th>\n",
       "      <th>bat_game_cnt</th>\n",
       "      <th>batter_cnt_per_game</th>\n",
       "      <th>c_straight</th>\n",
       "      <th>c_curve</th>\n",
       "      <th>c_slider</th>\n",
       "      <th>c_shoot</th>\n",
       "      <th>c_fork</th>\n",
       "      <th>c_changeup</th>\n",
       "      <th>c_sinker</th>\n",
       "      <th>c_cutball</th>\n",
       "      <th>c_total</th>\n",
       "      <th>cat_game_cnt</th>\n",
       "      <th>cat_inning_cnt</th>\n",
       "      <th>cat_batter_cnt</th>\n",
       "      <th>cat_inning_per_game</th>\n",
       "      <th>cat_batter_per_game</th>\n",
       "      <th>cat_ball_per_game</th>\n",
       "      <th>cat_batter_per_inning</th>\n",
       "      <th>cat_ball_per_inning</th>\n",
       "      <th>cat_ball_per_batter</th>\n",
       "      <th>company</th>\n",
       "      <th>univ</th>\n",
       "      <th>highsch</th>\n",
       "      <th>age</th>\n",
       "      <th>play_year</th>\n",
       "      <th>salary_year</th>\n",
       "      <th>salary_x_year</th>\n",
       "      <th>bmi</th>\n",
       "    </tr>\n",
       "  </thead>\n",
       "  <tbody>\n",
       "    <tr>\n",
       "      <th>0</th>\n",
       "      <td>2017</td>\n",
       "      <td>11343</td>\n",
       "      <td>0</td>\n",
       "      <td>183</td>\n",
       "      <td>86</td>\n",
       "      <td>5.0</td>\n",
       "      <td>4500</td>\n",
       "      <td>NaN</td>\n",
       "      <td>NaN</td>\n",
       "      <td>NaN</td>\n",
       "      <td>NaN</td>\n",
       "      <td>NaN</td>\n",
       "      <td>NaN</td>\n",
       "      <td>NaN</td>\n",
       "      <td>NaN</td>\n",
       "      <td>NaN</td>\n",
       "      <td>NaN</td>\n",
       "      <td>NaN</td>\n",
       "      <td>NaN</td>\n",
       "      <td>NaN</td>\n",
       "      <td>NaN</td>\n",
       "      <td>NaN</td>\n",
       "      <td>NaN</td>\n",
       "      <td>NaN</td>\n",
       "      <td>NaN</td>\n",
       "      <td>0</td>\n",
       "      <td>41.0</td>\n",
       "      <td>28.0</td>\n",
       "      <td>1.464286</td>\n",
       "      <td>0.551799</td>\n",
       "      <td>0.082879</td>\n",
       "      <td>0.158124</td>\n",
       "      <td>0.023991</td>\n",
       "      <td>0.058888</td>\n",
       "      <td>0.074155</td>\n",
       "      <td>0.009815</td>\n",
       "      <td>0.040349</td>\n",
       "      <td>917.0</td>\n",
       "      <td>19.0</td>\n",
       "      <td>49.0</td>\n",
       "      <td>220.0</td>\n",
       "      <td>2.578947</td>\n",
       "      <td>11.578947</td>\n",
       "      <td>48.263158</td>\n",
       "      <td>4.489796</td>\n",
       "      <td>18.714286</td>\n",
       "      <td>4.168182</td>\n",
       "      <td>0</td>\n",
       "      <td>0</td>\n",
       "      <td>1</td>\n",
       "      <td>41</td>\n",
       "      <td>23.0</td>\n",
       "      <td>195.652174</td>\n",
       "      <td>103500.0</td>\n",
       "      <td>25.680074</td>\n",
       "    </tr>\n",
       "    <tr>\n",
       "      <th>1</th>\n",
       "      <td>2017</td>\n",
       "      <td>11726</td>\n",
       "      <td>0</td>\n",
       "      <td>177</td>\n",
       "      <td>85</td>\n",
       "      <td>1.0</td>\n",
       "      <td>3700</td>\n",
       "      <td>NaN</td>\n",
       "      <td>NaN</td>\n",
       "      <td>NaN</td>\n",
       "      <td>NaN</td>\n",
       "      <td>NaN</td>\n",
       "      <td>NaN</td>\n",
       "      <td>NaN</td>\n",
       "      <td>NaN</td>\n",
       "      <td>NaN</td>\n",
       "      <td>NaN</td>\n",
       "      <td>NaN</td>\n",
       "      <td>NaN</td>\n",
       "      <td>NaN</td>\n",
       "      <td>NaN</td>\n",
       "      <td>NaN</td>\n",
       "      <td>NaN</td>\n",
       "      <td>NaN</td>\n",
       "      <td>NaN</td>\n",
       "      <td>0</td>\n",
       "      <td>13.0</td>\n",
       "      <td>7.0</td>\n",
       "      <td>1.857143</td>\n",
       "      <td>0.440874</td>\n",
       "      <td>0.089974</td>\n",
       "      <td>0.178663</td>\n",
       "      <td>0.071979</td>\n",
       "      <td>0.088689</td>\n",
       "      <td>0.038560</td>\n",
       "      <td>0.002571</td>\n",
       "      <td>0.088689</td>\n",
       "      <td>778.0</td>\n",
       "      <td>11.0</td>\n",
       "      <td>46.0</td>\n",
       "      <td>196.0</td>\n",
       "      <td>4.181818</td>\n",
       "      <td>17.818182</td>\n",
       "      <td>70.727273</td>\n",
       "      <td>4.260870</td>\n",
       "      <td>16.913043</td>\n",
       "      <td>3.969388</td>\n",
       "      <td>0</td>\n",
       "      <td>0</td>\n",
       "      <td>1</td>\n",
       "      <td>36</td>\n",
       "      <td>19.0</td>\n",
       "      <td>194.736842</td>\n",
       "      <td>70300.0</td>\n",
       "      <td>27.131412</td>\n",
       "    </tr>\n",
       "    <tr>\n",
       "      <th>2</th>\n",
       "      <td>2017</td>\n",
       "      <td>12049</td>\n",
       "      <td>0</td>\n",
       "      <td>180</td>\n",
       "      <td>97</td>\n",
       "      <td>1.0</td>\n",
       "      <td>26000</td>\n",
       "      <td>NaN</td>\n",
       "      <td>NaN</td>\n",
       "      <td>NaN</td>\n",
       "      <td>NaN</td>\n",
       "      <td>NaN</td>\n",
       "      <td>NaN</td>\n",
       "      <td>NaN</td>\n",
       "      <td>NaN</td>\n",
       "      <td>NaN</td>\n",
       "      <td>NaN</td>\n",
       "      <td>NaN</td>\n",
       "      <td>NaN</td>\n",
       "      <td>NaN</td>\n",
       "      <td>NaN</td>\n",
       "      <td>NaN</td>\n",
       "      <td>NaN</td>\n",
       "      <td>NaN</td>\n",
       "      <td>NaN</td>\n",
       "      <td>0</td>\n",
       "      <td>516.0</td>\n",
       "      <td>129.0</td>\n",
       "      <td>4.000000</td>\n",
       "      <td>NaN</td>\n",
       "      <td>NaN</td>\n",
       "      <td>NaN</td>\n",
       "      <td>NaN</td>\n",
       "      <td>NaN</td>\n",
       "      <td>NaN</td>\n",
       "      <td>NaN</td>\n",
       "      <td>NaN</td>\n",
       "      <td>NaN</td>\n",
       "      <td>NaN</td>\n",
       "      <td>NaN</td>\n",
       "      <td>NaN</td>\n",
       "      <td>NaN</td>\n",
       "      <td>NaN</td>\n",
       "      <td>NaN</td>\n",
       "      <td>NaN</td>\n",
       "      <td>NaN</td>\n",
       "      <td>NaN</td>\n",
       "      <td>0</td>\n",
       "      <td>1</td>\n",
       "      <td>0</td>\n",
       "      <td>38</td>\n",
       "      <td>17.0</td>\n",
       "      <td>1529.411765</td>\n",
       "      <td>442000.0</td>\n",
       "      <td>29.938272</td>\n",
       "    </tr>\n",
       "    <tr>\n",
       "      <th>3</th>\n",
       "      <td>2017</td>\n",
       "      <td>12107</td>\n",
       "      <td>0</td>\n",
       "      <td>175</td>\n",
       "      <td>82</td>\n",
       "      <td>3.0</td>\n",
       "      <td>5000</td>\n",
       "      <td>0.489293</td>\n",
       "      <td>0.058848</td>\n",
       "      <td>0.196568</td>\n",
       "      <td>0.066474</td>\n",
       "      <td>0.086211</td>\n",
       "      <td>0.051951</td>\n",
       "      <td>0.008841</td>\n",
       "      <td>0.041813</td>\n",
       "      <td>788.702454</td>\n",
       "      <td>20.766871</td>\n",
       "      <td>50.245399</td>\n",
       "      <td>199.684049</td>\n",
       "      <td>2.910101</td>\n",
       "      <td>12.114679</td>\n",
       "      <td>47.892106</td>\n",
       "      <td>4.080928</td>\n",
       "      <td>16.130663</td>\n",
       "      <td>3.953392</td>\n",
       "      <td>0</td>\n",
       "      <td>0.0</td>\n",
       "      <td>0.0</td>\n",
       "      <td>0.000000</td>\n",
       "      <td>NaN</td>\n",
       "      <td>NaN</td>\n",
       "      <td>NaN</td>\n",
       "      <td>NaN</td>\n",
       "      <td>NaN</td>\n",
       "      <td>NaN</td>\n",
       "      <td>NaN</td>\n",
       "      <td>NaN</td>\n",
       "      <td>NaN</td>\n",
       "      <td>NaN</td>\n",
       "      <td>NaN</td>\n",
       "      <td>NaN</td>\n",
       "      <td>NaN</td>\n",
       "      <td>NaN</td>\n",
       "      <td>NaN</td>\n",
       "      <td>NaN</td>\n",
       "      <td>NaN</td>\n",
       "      <td>NaN</td>\n",
       "      <td>1</td>\n",
       "      <td>0</td>\n",
       "      <td>0</td>\n",
       "      <td>37</td>\n",
       "      <td>16.0</td>\n",
       "      <td>312.500000</td>\n",
       "      <td>80000.0</td>\n",
       "      <td>26.775510</td>\n",
       "    </tr>\n",
       "    <tr>\n",
       "      <th>4</th>\n",
       "      <td>2017</td>\n",
       "      <td>12179</td>\n",
       "      <td>0</td>\n",
       "      <td>184</td>\n",
       "      <td>94</td>\n",
       "      <td>1.0</td>\n",
       "      <td>7000</td>\n",
       "      <td>0.269266</td>\n",
       "      <td>0.095195</td>\n",
       "      <td>0.281052</td>\n",
       "      <td>0.268359</td>\n",
       "      <td>0.000000</td>\n",
       "      <td>0.086129</td>\n",
       "      <td>0.000000</td>\n",
       "      <td>0.000000</td>\n",
       "      <td>1103.000000</td>\n",
       "      <td>13.000000</td>\n",
       "      <td>75.000000</td>\n",
       "      <td>300.000000</td>\n",
       "      <td>5.769231</td>\n",
       "      <td>23.076923</td>\n",
       "      <td>84.846154</td>\n",
       "      <td>4.000000</td>\n",
       "      <td>14.706667</td>\n",
       "      <td>3.676667</td>\n",
       "      <td>0</td>\n",
       "      <td>26.0</td>\n",
       "      <td>13.0</td>\n",
       "      <td>2.000000</td>\n",
       "      <td>NaN</td>\n",
       "      <td>NaN</td>\n",
       "      <td>NaN</td>\n",
       "      <td>NaN</td>\n",
       "      <td>NaN</td>\n",
       "      <td>NaN</td>\n",
       "      <td>NaN</td>\n",
       "      <td>NaN</td>\n",
       "      <td>NaN</td>\n",
       "      <td>NaN</td>\n",
       "      <td>NaN</td>\n",
       "      <td>NaN</td>\n",
       "      <td>NaN</td>\n",
       "      <td>NaN</td>\n",
       "      <td>NaN</td>\n",
       "      <td>NaN</td>\n",
       "      <td>NaN</td>\n",
       "      <td>NaN</td>\n",
       "      <td>0</td>\n",
       "      <td>0</td>\n",
       "      <td>1</td>\n",
       "      <td>34</td>\n",
       "      <td>16.0</td>\n",
       "      <td>437.500000</td>\n",
       "      <td>112000.0</td>\n",
       "      <td>27.764650</td>\n",
       "    </tr>\n",
       "  </tbody>\n",
       "</table>\n",
       "</div>"
      ],
      "text/plain": [
       "     年度   選手ID  firm  height  weight  draft_order  salary  straight     curve  \\\n",
       "0  2017  11343     0     183      86          5.0    4500       NaN       NaN   \n",
       "1  2017  11726     0     177      85          1.0    3700       NaN       NaN   \n",
       "2  2017  12049     0     180      97          1.0   26000       NaN       NaN   \n",
       "3  2017  12107     0     175      82          3.0    5000  0.489293  0.058848   \n",
       "4  2017  12179     0     184      94          1.0    7000  0.269266  0.095195   \n",
       "\n",
       "     slider     shoot      fork  changeup    sinker   cutball        total  \\\n",
       "0       NaN       NaN       NaN       NaN       NaN       NaN          NaN   \n",
       "1       NaN       NaN       NaN       NaN       NaN       NaN          NaN   \n",
       "2       NaN       NaN       NaN       NaN       NaN       NaN          NaN   \n",
       "3  0.196568  0.066474  0.086211  0.051951  0.008841  0.041813   788.702454   \n",
       "4  0.281052  0.268359  0.000000  0.086129  0.000000  0.000000  1103.000000   \n",
       "\n",
       "   pit_game_cnt  pit_inning_cnt  pit_batter_cnt  pit_inning_per_game  \\\n",
       "0           NaN             NaN             NaN                  NaN   \n",
       "1           NaN             NaN             NaN                  NaN   \n",
       "2           NaN             NaN             NaN                  NaN   \n",
       "3     20.766871       50.245399      199.684049             2.910101   \n",
       "4     13.000000       75.000000      300.000000             5.769231   \n",
       "\n",
       "   pit_batter_per_game  pit_ball_per_game  pit_batter_per_inning  \\\n",
       "0                  NaN                NaN                    NaN   \n",
       "1                  NaN                NaN                    NaN   \n",
       "2                  NaN                NaN                    NaN   \n",
       "3            12.114679          47.892106               4.080928   \n",
       "4            23.076923          84.846154               4.000000   \n",
       "\n",
       "   pit_ball_per_inning  pit_ball_per_batter  foreigner  batter_cnt  \\\n",
       "0                  NaN                  NaN          0        41.0   \n",
       "1                  NaN                  NaN          0        13.0   \n",
       "2                  NaN                  NaN          0       516.0   \n",
       "3            16.130663             3.953392          0         0.0   \n",
       "4            14.706667             3.676667          0        26.0   \n",
       "\n",
       "   bat_game_cnt  batter_cnt_per_game  c_straight   c_curve  c_slider  \\\n",
       "0          28.0             1.464286    0.551799  0.082879  0.158124   \n",
       "1           7.0             1.857143    0.440874  0.089974  0.178663   \n",
       "2         129.0             4.000000         NaN       NaN       NaN   \n",
       "3           0.0             0.000000         NaN       NaN       NaN   \n",
       "4          13.0             2.000000         NaN       NaN       NaN   \n",
       "\n",
       "    c_shoot    c_fork  c_changeup  c_sinker  c_cutball  c_total  cat_game_cnt  \\\n",
       "0  0.023991  0.058888    0.074155  0.009815   0.040349    917.0          19.0   \n",
       "1  0.071979  0.088689    0.038560  0.002571   0.088689    778.0          11.0   \n",
       "2       NaN       NaN         NaN       NaN        NaN      NaN           NaN   \n",
       "3       NaN       NaN         NaN       NaN        NaN      NaN           NaN   \n",
       "4       NaN       NaN         NaN       NaN        NaN      NaN           NaN   \n",
       "\n",
       "   cat_inning_cnt  cat_batter_cnt  cat_inning_per_game  cat_batter_per_game  \\\n",
       "0            49.0           220.0             2.578947            11.578947   \n",
       "1            46.0           196.0             4.181818            17.818182   \n",
       "2             NaN             NaN                  NaN                  NaN   \n",
       "3             NaN             NaN                  NaN                  NaN   \n",
       "4             NaN             NaN                  NaN                  NaN   \n",
       "\n",
       "   cat_ball_per_game  cat_batter_per_inning  cat_ball_per_inning  \\\n",
       "0          48.263158               4.489796            18.714286   \n",
       "1          70.727273               4.260870            16.913043   \n",
       "2                NaN                    NaN                  NaN   \n",
       "3                NaN                    NaN                  NaN   \n",
       "4                NaN                    NaN                  NaN   \n",
       "\n",
       "   cat_ball_per_batter  company  univ  highsch  age  play_year  salary_year  \\\n",
       "0             4.168182        0     0        1   41       23.0   195.652174   \n",
       "1             3.969388        0     0        1   36       19.0   194.736842   \n",
       "2                  NaN        0     1        0   38       17.0  1529.411765   \n",
       "3                  NaN        1     0        0   37       16.0   312.500000   \n",
       "4                  NaN        0     0        1   34       16.0   437.500000   \n",
       "\n",
       "   salary_x_year        bmi  \n",
       "0       103500.0  25.680074  \n",
       "1        70300.0  27.131412  \n",
       "2       442000.0  29.938272  \n",
       "3        80000.0  26.775510  \n",
       "4       112000.0  27.764650  "
      ]
     },
     "execution_count": 71,
     "metadata": {},
     "output_type": "execute_result"
    }
   ],
   "source": [
    "all_player.head()"
   ]
  },
  {
   "cell_type": "markdown",
   "metadata": {},
   "source": [
    "### 出力"
   ]
  },
  {
   "cell_type": "code",
   "execution_count": 72,
   "metadata": {},
   "outputs": [],
   "source": [
    "all_player.to_feather('intermediate/all_player_7.f')"
   ]
  }
 ],
 "metadata": {
  "kernelspec": {
   "display_name": "Python 3",
   "language": "python",
   "name": "python3"
  },
  "language_info": {
   "codemirror_mode": {
    "name": "ipython",
    "version": 3
   },
   "file_extension": ".py",
   "mimetype": "text/x-python",
   "name": "python",
   "nbconvert_exporter": "python",
   "pygments_lexer": "ipython3",
   "version": "3.7.6"
  }
 },
 "nbformat": 4,
 "nbformat_minor": 4
}
