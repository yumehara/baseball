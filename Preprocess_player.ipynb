{
 "cells": [
  {
   "cell_type": "markdown",
   "metadata": {},
   "source": [
    "## player前処理(9)"
   ]
  },
  {
   "cell_type": "code",
   "execution_count": 1,
   "metadata": {},
   "outputs": [],
   "source": [
    "import numpy as np\n",
    "import matplotlib.pyplot as plt\n",
    "import pandas as pd\n",
    "import feather\n",
    "pd.set_option('display.max_Columns', 100)"
   ]
  },
  {
   "cell_type": "code",
   "execution_count": 2,
   "metadata": {},
   "outputs": [
    {
     "name": "stdout",
     "output_type": "stream",
     "text": [
      "(911, 25)\n",
      "(1846, 25)\n"
     ]
    }
   ],
   "source": [
    "train_player = pd.read_feather('data/train_player.f')\n",
    "test_player = pd.read_feather('data/test_player.f')\n",
    "print(train_player.shape)\n",
    "print(test_player.shape)"
   ]
  },
  {
   "cell_type": "code",
   "execution_count": 3,
   "metadata": {},
   "outputs": [
    {
     "name": "stdout",
     "output_type": "stream",
     "text": [
      "(2757, 25)\n"
     ]
    }
   ],
   "source": [
    "all_player = train_player.append(test_player, ignore_index=True)\n",
    "print(all_player.shape)"
   ]
  },
  {
   "cell_type": "markdown",
   "metadata": {},
   "source": [
    "### 2017年の成績"
   ]
  },
  {
   "cell_type": "code",
   "execution_count": 4,
   "metadata": {},
   "outputs": [
    {
     "name": "stdout",
     "output_type": "stream",
     "text": [
      "(326, 13)\n",
      "(466, 3)\n"
     ]
    }
   ],
   "source": [
    "pit_2017 = pd.read_feather('intermediate/pit_2017_4.f')\n",
    "bat_2017 = pd.read_feather('intermediate/bat_2017_4.f')\n",
    "print(pit_2017.shape)\n",
    "print(bat_2017.shape)"
   ]
  },
  {
   "cell_type": "markdown",
   "metadata": {},
   "source": [
    "### 投手"
   ]
  },
  {
   "cell_type": "code",
   "execution_count": 5,
   "metadata": {},
   "outputs": [],
   "source": [
    "all_player = all_player.merge(pit_2017, left_on='選手ID', right_on='投手ID', how='left')"
   ]
  },
  {
   "cell_type": "markdown",
   "metadata": {},
   "source": [
    "#### 外国人助っ人"
   ]
  },
  {
   "cell_type": "code",
   "execution_count": 6,
   "metadata": {},
   "outputs": [],
   "source": [
    "all_player['foreigner']=0\n",
    "all_player.loc[all_player['出身国']!='日本', 'foreigner'] = 1"
   ]
  },
  {
   "cell_type": "markdown",
   "metadata": {},
   "source": [
    "#### 情報がない選手\n",
    "- 外国人投手-> 投手ID=-1\n",
    "- 日本人投手-> 投手ID=0\n",
    "- 2017の全体平均で穴埋め"
   ]
  },
  {
   "cell_type": "code",
   "execution_count": 7,
   "metadata": {},
   "outputs": [],
   "source": [
    "all_player.loc[(all_player['位置']=='投手') & (all_player['投手ID'].isnull()) & (all_player['foreigner']==1), '投手ID'] = -1\n",
    "all_player.loc[(all_player['位置']=='投手') & all_player['投手ID'].isnull(), '投手ID'] = 0"
   ]
  },
  {
   "cell_type": "code",
   "execution_count": 8,
   "metadata": {},
   "outputs": [],
   "source": [
    "pit_mean = pit_2017.mean()\n",
    "#all_player.loc[all_player['投手ID']==0, 'straight'] = pit_mean['straight']\n",
    "all_player.loc[all_player['投手ID']==0, 'curve'] = pit_mean['curve']\n",
    "all_player.loc[all_player['投手ID']==0, 'slider'] = pit_mean['slider']\n",
    "all_player.loc[all_player['投手ID']==0, 'shoot'] = pit_mean['shoot']\n",
    "all_player.loc[all_player['投手ID']==0, 'fork'] = pit_mean['fork']\n",
    "all_player.loc[all_player['投手ID']==0, 'changeup'] = pit_mean['changeup']\n",
    "all_player.loc[all_player['投手ID']==0, 'sinker'] = pit_mean['sinker']\n",
    "all_player.loc[all_player['投手ID']==0, 'cutball'] = pit_mean['cutball']\n",
    "all_player.loc[all_player['投手ID']==0, 'total'] = pit_mean['total']\n",
    "all_player.loc[all_player['投手ID']==0, 'pit_game_cnt'] = pit_mean['pit_game_cnt']\n",
    "all_player.loc[all_player['投手ID']==0, 'pit_inning_cnt'] = pit_mean['pit_inning_cnt']\n",
    "all_player.loc[all_player['投手ID']==0, 'pit_batter_cnt'] = pit_mean['pit_batter_cnt']\n",
    "#all_player.loc[all_player['投手ID']==0, 'pit_inning_per_game'] = pit_mean['pit_inning_per_game']\n",
    "#all_player.loc[all_player['投手ID']==0, 'pit_batter_per_game'] = pit_mean['pit_batter_per_game']\n",
    "#all_player.loc[all_player['投手ID']==0, 'pit_ball_per_game'] = pit_mean['pit_ball_per_game']\n",
    "#all_player.loc[all_player['投手ID']==0, 'pit_batter_per_inning'] = pit_mean['pit_batter_per_inning']\n",
    "#all_player.loc[all_player['投手ID']==0, 'pit_ball_per_inning'] = pit_mean['pit_ball_per_inning']\n",
    "#all_player.loc[all_player['投手ID']==0, 'pit_ball_per_batter'] = pit_mean['pit_ball_per_batter']"
   ]
  },
  {
   "cell_type": "markdown",
   "metadata": {},
   "source": [
    "#### 外国人平均"
   ]
  },
  {
   "cell_type": "code",
   "execution_count": 9,
   "metadata": {},
   "outputs": [],
   "source": [
    "foreigner_mean = all_player[(all_player['foreigner']==1)&(all_player['投手ID']==-1)].mean()\n",
    "#all_player.loc[all_player['投手ID']==-1, 'straight'] = foreigner_mean['straight']\n",
    "all_player.loc[all_player['投手ID']==-1, 'curve'] = foreigner_mean['curve']\n",
    "all_player.loc[all_player['投手ID']==-1, 'slider'] = foreigner_mean['slider']\n",
    "all_player.loc[all_player['投手ID']==-1, 'shoot'] = foreigner_mean['shoot']\n",
    "all_player.loc[all_player['投手ID']==-1, 'fork'] = foreigner_mean['fork']\n",
    "all_player.loc[all_player['投手ID']==-1, 'changeup'] = foreigner_mean['changeup']\n",
    "all_player.loc[all_player['投手ID']==-1, 'sinker'] = foreigner_mean['sinker']\n",
    "all_player.loc[all_player['投手ID']==-1, 'cutball'] = foreigner_mean['cutball']\n",
    "all_player.loc[all_player['投手ID']==-1, 'total'] = foreigner_mean['total']\n",
    "all_player.loc[all_player['投手ID']==-1, 'pit_game_cnt'] = foreigner_mean['pit_game_cnt']\n",
    "all_player.loc[all_player['投手ID']==-1, 'pit_inning_cnt'] = foreigner_mean['pit_inning_cnt']\n",
    "all_player.loc[all_player['投手ID']==-1, 'pit_batter_cnt'] = foreigner_mean['pit_batter_cnt']\n",
    "#all_player.loc[all_player['投手ID']==-1, 'pit_inning_per_game'] = foreigner_mean['pit_inning_per_game']\n",
    "#all_player.loc[all_player['投手ID']==-1, 'pit_batter_per_game'] = foreigner_mean['pit_batter_per_game']\n",
    "#all_player.loc[all_player['投手ID']==-1, 'pit_ball_per_game'] = foreigner_mean['pit_ball_per_game']\n",
    "#all_player.loc[all_player['投手ID']==-1, 'pit_batter_per_inning'] = foreigner_mean['pit_batter_per_inning']\n",
    "#all_player.loc[all_player['投手ID']==-1, 'pit_ball_per_inning'] = foreigner_mean['pit_ball_per_inning']\n",
    "#all_player.loc[all_player['投手ID']==-1, 'pit_ball_per_batter'] = foreigner_mean['pit_ball_per_batter']"
   ]
  },
  {
   "cell_type": "markdown",
   "metadata": {},
   "source": [
    "### 打者"
   ]
  },
  {
   "cell_type": "code",
   "execution_count": 10,
   "metadata": {},
   "outputs": [],
   "source": [
    "all_player = all_player.merge(bat_2017, left_on='選手ID', right_on='打者ID', how='left')"
   ]
  },
  {
   "cell_type": "code",
   "execution_count": 11,
   "metadata": {},
   "outputs": [],
   "source": [
    "bat_mean = bat_2017.mean()\n",
    "all_player.loc[(all_player['位置']!='投手') & all_player['打者ID'].isnull(), '打者ID'] = 0\n",
    "all_player.loc[all_player['打者ID']==0, 'batter_cnt'] = bat_mean['batter_cnt'] \n",
    "all_player.loc[all_player['打者ID']==0, 'bat_game_cnt'] = bat_mean['bat_game_cnt'] \n",
    "#all_player.loc[all_player['打者ID']==0, 'batter_cnt_per_game'] = bat_mean['batter_cnt_per_game'] \n",
    "all_player.loc[all_player['打者ID'].isnull(), 'batter_cnt'] = 0\n",
    "all_player.loc[all_player['打者ID'].isnull(), 'bat_game_cnt'] = 0\n",
    "#all_player.loc[all_player['打者ID'].isnull(), 'batter_cnt_per_game'] = 0"
   ]
  },
  {
   "cell_type": "markdown",
   "metadata": {},
   "source": [
    "### 高卒・大卒・社会人"
   ]
  },
  {
   "cell_type": "code",
   "execution_count": 12,
   "metadata": {},
   "outputs": [],
   "source": [
    "all_player['company'] = 0\n",
    "all_player.loc[~all_player['社会人'].isnull(), 'company'] = 1"
   ]
  },
  {
   "cell_type": "code",
   "execution_count": 13,
   "metadata": {},
   "outputs": [],
   "source": [
    "all_player['univ']=0\n",
    "all_player.loc[all_player['出身大学ID']!=0, 'univ'] = 1"
   ]
  },
  {
   "cell_type": "code",
   "execution_count": 14,
   "metadata": {},
   "outputs": [],
   "source": [
    "all_player['highsch'] = 0\n",
    "all_player.loc[(all_player['company']==0)&(all_player['univ']==0)&(all_player['foreigner']==0) , 'highsch'] = 1"
   ]
  },
  {
   "cell_type": "markdown",
   "metadata": {},
   "source": [
    "### 年齢、現役年数"
   ]
  },
  {
   "cell_type": "code",
   "execution_count": 15,
   "metadata": {},
   "outputs": [],
   "source": [
    "all_player['birth_day'] = pd.to_datetime(all_player['生年月日'])\n",
    "all_player['age'] = all_player['年度'] - all_player['birth_day'].dt.year"
   ]
  },
  {
   "cell_type": "code",
   "execution_count": 16,
   "metadata": {},
   "outputs": [],
   "source": [
    "all_player['play_year'] = all_player['年度'] - all_player['ドラフト年']\n",
    "all_player.loc[all_player['ドラフト年'].isnull(), 'play_year'] = 6"
   ]
  },
  {
   "cell_type": "markdown",
   "metadata": {},
   "source": [
    "### 年棒"
   ]
  },
  {
   "cell_type": "code",
   "execution_count": 17,
   "metadata": {},
   "outputs": [],
   "source": [
    "all_player['salary_year'] = all_player['年俸']/ all_player['play_year'] \n",
    "all_player['salary_x_year'] = all_player['年俸'] * all_player['play_year'] "
   ]
  },
  {
   "cell_type": "markdown",
   "metadata": {},
   "source": [
    "### 身長・体重\n",
    "BMI=体重/身長^2"
   ]
  },
  {
   "cell_type": "code",
   "execution_count": 18,
   "metadata": {},
   "outputs": [],
   "source": [
    "all_player['bmi'] = all_player['体重']*10000/(all_player['身長']*all_player['身長'])"
   ]
  },
  {
   "cell_type": "markdown",
   "metadata": {},
   "source": [
    "### 不要な列を削除"
   ]
  },
  {
   "cell_type": "code",
   "execution_count": 19,
   "metadata": {},
   "outputs": [],
   "source": [
    "all_player.drop(\n",
    "    columns=[\n",
    "        'チームID', 'チーム名', '選手名', '背番号', '位置', '投', '打', '生年月日', \n",
    "        '出身高校ID', '出身高校名', '出身大学ID', '出身大学名', '社会人', \n",
    "        'ドラフト年', 'ドラフト種別', \n",
    "        '出身国', '出身地', '血液型', 'birth_day',\n",
    "        '投手ID', '打者ID'\n",
    "    ], inplace=True)"
   ]
  },
  {
   "cell_type": "markdown",
   "metadata": {},
   "source": [
    "### rename"
   ]
  },
  {
   "cell_type": "code",
   "execution_count": 20,
   "metadata": {},
   "outputs": [],
   "source": [
    "all_player.rename(columns={\n",
    "    '育成選手F': 'firm',\n",
    "    '身長': 'height',\n",
    "    '体重': 'weight',\n",
    "    'ドラフト順位': 'draft_order',\n",
    "    '年俸': 'salary',\n",
    "}, inplace=True)"
   ]
  },
  {
   "cell_type": "code",
   "execution_count": 21,
   "metadata": {},
   "outputs": [
    {
     "data": {
      "text/html": [
       "<div>\n",
       "<style scoped>\n",
       "    .dataframe tbody tr th:only-of-type {\n",
       "        vertical-align: middle;\n",
       "    }\n",
       "\n",
       "    .dataframe tbody tr th {\n",
       "        vertical-align: top;\n",
       "    }\n",
       "\n",
       "    .dataframe thead th {\n",
       "        text-align: right;\n",
       "    }\n",
       "</style>\n",
       "<table border=\"1\" class=\"dataframe\">\n",
       "  <thead>\n",
       "    <tr style=\"text-align: right;\">\n",
       "      <th></th>\n",
       "      <th>年度</th>\n",
       "      <th>選手ID</th>\n",
       "      <th>firm</th>\n",
       "      <th>height</th>\n",
       "      <th>weight</th>\n",
       "      <th>draft_order</th>\n",
       "      <th>salary</th>\n",
       "      <th>straight</th>\n",
       "      <th>curve</th>\n",
       "      <th>slider</th>\n",
       "      <th>shoot</th>\n",
       "      <th>fork</th>\n",
       "      <th>changeup</th>\n",
       "      <th>sinker</th>\n",
       "      <th>cutball</th>\n",
       "      <th>total</th>\n",
       "      <th>pit_game_cnt</th>\n",
       "      <th>pit_inning_cnt</th>\n",
       "      <th>pit_batter_cnt</th>\n",
       "      <th>foreigner</th>\n",
       "      <th>batter_cnt</th>\n",
       "      <th>bat_game_cnt</th>\n",
       "      <th>company</th>\n",
       "      <th>univ</th>\n",
       "      <th>highsch</th>\n",
       "      <th>age</th>\n",
       "      <th>play_year</th>\n",
       "      <th>salary_year</th>\n",
       "      <th>salary_x_year</th>\n",
       "      <th>bmi</th>\n",
       "    </tr>\n",
       "  </thead>\n",
       "  <tbody>\n",
       "    <tr>\n",
       "      <th>0</th>\n",
       "      <td>2017</td>\n",
       "      <td>11343</td>\n",
       "      <td>0</td>\n",
       "      <td>183</td>\n",
       "      <td>86</td>\n",
       "      <td>5.0</td>\n",
       "      <td>4500</td>\n",
       "      <td>NaN</td>\n",
       "      <td>NaN</td>\n",
       "      <td>NaN</td>\n",
       "      <td>NaN</td>\n",
       "      <td>NaN</td>\n",
       "      <td>NaN</td>\n",
       "      <td>NaN</td>\n",
       "      <td>NaN</td>\n",
       "      <td>NaN</td>\n",
       "      <td>NaN</td>\n",
       "      <td>NaN</td>\n",
       "      <td>NaN</td>\n",
       "      <td>0</td>\n",
       "      <td>41.0</td>\n",
       "      <td>28.0</td>\n",
       "      <td>0</td>\n",
       "      <td>0</td>\n",
       "      <td>1</td>\n",
       "      <td>41</td>\n",
       "      <td>23.0</td>\n",
       "      <td>195.652174</td>\n",
       "      <td>103500.0</td>\n",
       "      <td>25.680074</td>\n",
       "    </tr>\n",
       "    <tr>\n",
       "      <th>1</th>\n",
       "      <td>2017</td>\n",
       "      <td>11726</td>\n",
       "      <td>0</td>\n",
       "      <td>177</td>\n",
       "      <td>85</td>\n",
       "      <td>1.0</td>\n",
       "      <td>3700</td>\n",
       "      <td>NaN</td>\n",
       "      <td>NaN</td>\n",
       "      <td>NaN</td>\n",
       "      <td>NaN</td>\n",
       "      <td>NaN</td>\n",
       "      <td>NaN</td>\n",
       "      <td>NaN</td>\n",
       "      <td>NaN</td>\n",
       "      <td>NaN</td>\n",
       "      <td>NaN</td>\n",
       "      <td>NaN</td>\n",
       "      <td>NaN</td>\n",
       "      <td>0</td>\n",
       "      <td>13.0</td>\n",
       "      <td>7.0</td>\n",
       "      <td>0</td>\n",
       "      <td>0</td>\n",
       "      <td>1</td>\n",
       "      <td>36</td>\n",
       "      <td>19.0</td>\n",
       "      <td>194.736842</td>\n",
       "      <td>70300.0</td>\n",
       "      <td>27.131412</td>\n",
       "    </tr>\n",
       "    <tr>\n",
       "      <th>2</th>\n",
       "      <td>2017</td>\n",
       "      <td>12049</td>\n",
       "      <td>0</td>\n",
       "      <td>180</td>\n",
       "      <td>97</td>\n",
       "      <td>1.0</td>\n",
       "      <td>26000</td>\n",
       "      <td>NaN</td>\n",
       "      <td>NaN</td>\n",
       "      <td>NaN</td>\n",
       "      <td>NaN</td>\n",
       "      <td>NaN</td>\n",
       "      <td>NaN</td>\n",
       "      <td>NaN</td>\n",
       "      <td>NaN</td>\n",
       "      <td>NaN</td>\n",
       "      <td>NaN</td>\n",
       "      <td>NaN</td>\n",
       "      <td>NaN</td>\n",
       "      <td>0</td>\n",
       "      <td>516.0</td>\n",
       "      <td>129.0</td>\n",
       "      <td>0</td>\n",
       "      <td>1</td>\n",
       "      <td>0</td>\n",
       "      <td>38</td>\n",
       "      <td>17.0</td>\n",
       "      <td>1529.411765</td>\n",
       "      <td>442000.0</td>\n",
       "      <td>29.938272</td>\n",
       "    </tr>\n",
       "    <tr>\n",
       "      <th>3</th>\n",
       "      <td>2017</td>\n",
       "      <td>12107</td>\n",
       "      <td>0</td>\n",
       "      <td>175</td>\n",
       "      <td>82</td>\n",
       "      <td>3.0</td>\n",
       "      <td>5000</td>\n",
       "      <td>NaN</td>\n",
       "      <td>0.257321</td>\n",
       "      <td>0.461623</td>\n",
       "      <td>0.500294</td>\n",
       "      <td>0.186347</td>\n",
       "      <td>0.138092</td>\n",
       "      <td>0.021658</td>\n",
       "      <td>0.146885</td>\n",
       "      <td>788.702454</td>\n",
       "      <td>20.766871</td>\n",
       "      <td>50.245399</td>\n",
       "      <td>199.684049</td>\n",
       "      <td>0</td>\n",
       "      <td>0.0</td>\n",
       "      <td>0.0</td>\n",
       "      <td>1</td>\n",
       "      <td>0</td>\n",
       "      <td>0</td>\n",
       "      <td>37</td>\n",
       "      <td>16.0</td>\n",
       "      <td>312.500000</td>\n",
       "      <td>80000.0</td>\n",
       "      <td>26.775510</td>\n",
       "    </tr>\n",
       "    <tr>\n",
       "      <th>4</th>\n",
       "      <td>2017</td>\n",
       "      <td>12179</td>\n",
       "      <td>0</td>\n",
       "      <td>184</td>\n",
       "      <td>94</td>\n",
       "      <td>1.0</td>\n",
       "      <td>7000</td>\n",
       "      <td>297.0</td>\n",
       "      <td>0.353535</td>\n",
       "      <td>1.043771</td>\n",
       "      <td>0.996633</td>\n",
       "      <td>0.000000</td>\n",
       "      <td>0.319865</td>\n",
       "      <td>0.000000</td>\n",
       "      <td>0.000000</td>\n",
       "      <td>1103.000000</td>\n",
       "      <td>13.000000</td>\n",
       "      <td>75.000000</td>\n",
       "      <td>300.000000</td>\n",
       "      <td>0</td>\n",
       "      <td>26.0</td>\n",
       "      <td>13.0</td>\n",
       "      <td>0</td>\n",
       "      <td>0</td>\n",
       "      <td>1</td>\n",
       "      <td>34</td>\n",
       "      <td>16.0</td>\n",
       "      <td>437.500000</td>\n",
       "      <td>112000.0</td>\n",
       "      <td>27.764650</td>\n",
       "    </tr>\n",
       "  </tbody>\n",
       "</table>\n",
       "</div>"
      ],
      "text/plain": [
       "     年度   選手ID  firm  height  weight  draft_order  salary  straight     curve  \\\n",
       "0  2017  11343     0     183      86          5.0    4500       NaN       NaN   \n",
       "1  2017  11726     0     177      85          1.0    3700       NaN       NaN   \n",
       "2  2017  12049     0     180      97          1.0   26000       NaN       NaN   \n",
       "3  2017  12107     0     175      82          3.0    5000       NaN  0.257321   \n",
       "4  2017  12179     0     184      94          1.0    7000     297.0  0.353535   \n",
       "\n",
       "     slider     shoot      fork  changeup    sinker   cutball        total  \\\n",
       "0       NaN       NaN       NaN       NaN       NaN       NaN          NaN   \n",
       "1       NaN       NaN       NaN       NaN       NaN       NaN          NaN   \n",
       "2       NaN       NaN       NaN       NaN       NaN       NaN          NaN   \n",
       "3  0.461623  0.500294  0.186347  0.138092  0.021658  0.146885   788.702454   \n",
       "4  1.043771  0.996633  0.000000  0.319865  0.000000  0.000000  1103.000000   \n",
       "\n",
       "   pit_game_cnt  pit_inning_cnt  pit_batter_cnt  foreigner  batter_cnt  \\\n",
       "0           NaN             NaN             NaN          0        41.0   \n",
       "1           NaN             NaN             NaN          0        13.0   \n",
       "2           NaN             NaN             NaN          0       516.0   \n",
       "3     20.766871       50.245399      199.684049          0         0.0   \n",
       "4     13.000000       75.000000      300.000000          0        26.0   \n",
       "\n",
       "   bat_game_cnt  company  univ  highsch  age  play_year  salary_year  \\\n",
       "0          28.0        0     0        1   41       23.0   195.652174   \n",
       "1           7.0        0     0        1   36       19.0   194.736842   \n",
       "2         129.0        0     1        0   38       17.0  1529.411765   \n",
       "3           0.0        1     0        0   37       16.0   312.500000   \n",
       "4          13.0        0     0        1   34       16.0   437.500000   \n",
       "\n",
       "   salary_x_year        bmi  \n",
       "0       103500.0  25.680074  \n",
       "1        70300.0  27.131412  \n",
       "2       442000.0  29.938272  \n",
       "3        80000.0  26.775510  \n",
       "4       112000.0  27.764650  "
      ]
     },
     "execution_count": 21,
     "metadata": {},
     "output_type": "execute_result"
    }
   ],
   "source": [
    "all_player.head()"
   ]
  },
  {
   "cell_type": "markdown",
   "metadata": {},
   "source": [
    "### 出力"
   ]
  },
  {
   "cell_type": "code",
   "execution_count": 22,
   "metadata": {},
   "outputs": [],
   "source": [
    "all_player.to_feather('intermediate/all_player_9.f')"
   ]
  }
 ],
 "metadata": {
  "kernelspec": {
   "display_name": "Python 3",
   "language": "python",
   "name": "python3"
  },
  "language_info": {
   "codemirror_mode": {
    "name": "ipython",
    "version": 3
   },
   "file_extension": ".py",
   "mimetype": "text/x-python",
   "name": "python",
   "nbconvert_exporter": "python",
   "pygments_lexer": "ipython3",
   "version": "3.7.6"
  }
 },
 "nbformat": 4,
 "nbformat_minor": 4
}
