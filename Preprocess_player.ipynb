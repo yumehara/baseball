{
 "cells": [
  {
   "cell_type": "markdown",
   "metadata": {},
   "source": [
    "## player前処理(11)"
   ]
  },
  {
   "cell_type": "code",
   "execution_count": 1,
   "metadata": {},
   "outputs": [],
   "source": [
    "import numpy as np\n",
    "import matplotlib.pyplot as plt\n",
    "import pandas as pd\n",
    "import feather\n",
    "pd.set_option('display.max_Columns', 100)"
   ]
  },
  {
   "cell_type": "code",
   "execution_count": 2,
   "metadata": {},
   "outputs": [
    {
     "name": "stdout",
     "output_type": "stream",
     "text": [
      "(911, 25)\n",
      "(1846, 25)\n"
     ]
    }
   ],
   "source": [
    "train_player = pd.read_feather('data/train_player.f')\n",
    "test_player = pd.read_feather('data/test_player.f')\n",
    "print(train_player.shape)\n",
    "print(test_player.shape)"
   ]
  },
  {
   "cell_type": "code",
   "execution_count": 3,
   "metadata": {
    "scrolled": true
   },
   "outputs": [
    {
     "name": "stdout",
     "output_type": "stream",
     "text": [
      "(2757, 25)\n"
     ]
    }
   ],
   "source": [
    "all_player = train_player.append(test_player, ignore_index=True)\n",
    "print(all_player.shape)"
   ]
  },
  {
   "cell_type": "code",
   "execution_count": 4,
   "metadata": {},
   "outputs": [],
   "source": [
    "OUT_PITCHER = 'intermediate/all_pitcher_player_1.f'\n",
    "OUT_ALLPLAYER = 'intermediate/all_player_11.f'"
   ]
  },
  {
   "cell_type": "markdown",
   "metadata": {},
   "source": [
    "### 2017年の成績"
   ]
  },
  {
   "cell_type": "code",
   "execution_count": 5,
   "metadata": {
    "scrolled": true
   },
   "outputs": [
    {
     "name": "stdout",
     "output_type": "stream",
     "text": [
      "(651, 14)\n",
      "(466, 3)\n"
     ]
    }
   ],
   "source": [
    "pit_2017 = pd.read_feather('intermediate/pit_2017_LR_1.f')\n",
    "bat_2017 = pd.read_feather('intermediate/bat_2017_5.f')\n",
    "print(pit_2017.shape)\n",
    "print(bat_2017.shape)"
   ]
  },
  {
   "cell_type": "markdown",
   "metadata": {},
   "source": [
    "### 外国人助っ人"
   ]
  },
  {
   "cell_type": "code",
   "execution_count": 6,
   "metadata": {},
   "outputs": [],
   "source": [
    "all_player['foreigner']=0\n",
    "all_player.loc[all_player['出身国']!='日本', 'foreigner'] = 1"
   ]
  },
  {
   "cell_type": "markdown",
   "metadata": {},
   "source": [
    "### 高卒・大卒・社会人"
   ]
  },
  {
   "cell_type": "code",
   "execution_count": 7,
   "metadata": {},
   "outputs": [],
   "source": [
    "# 社会人出身\n",
    "all_player['company'] = 0\n",
    "all_player.loc[~all_player['社会人'].isnull(), 'company'] = 1\n",
    "# 大卒\n",
    "all_player['univ']=0\n",
    "all_player.loc[all_player['出身大学ID']!=0, 'univ'] = 1\n",
    "# 高卒\n",
    "all_player['highsch'] = 0\n",
    "all_player.loc[(all_player['company']==0)&(all_player['univ']==0)&(all_player['foreigner']==0) , 'highsch'] = 1"
   ]
  },
  {
   "cell_type": "markdown",
   "metadata": {},
   "source": [
    "### 年齢、現役年数"
   ]
  },
  {
   "cell_type": "code",
   "execution_count": 8,
   "metadata": {},
   "outputs": [],
   "source": [
    "# 年齢\n",
    "all_player['birth_day'] = pd.to_datetime(all_player['生年月日'])\n",
    "all_player['age'] = all_player['年度'] - all_player['birth_day'].dt.year\n",
    "# 現役年数\n",
    "all_player['play_year'] = all_player['年度'] - all_player['ドラフト年']\n",
    "all_player.loc[all_player['ドラフト年'].isnull(), 'play_year'] = 6"
   ]
  },
  {
   "cell_type": "markdown",
   "metadata": {},
   "source": [
    "### 年棒"
   ]
  },
  {
   "cell_type": "code",
   "execution_count": 9,
   "metadata": {},
   "outputs": [],
   "source": [
    "all_player['salary_year'] = all_player['年俸']/ all_player['play_year'] \n",
    "all_player['salary_x_year'] = all_player['年俸'] * all_player['play_year'] "
   ]
  },
  {
   "cell_type": "markdown",
   "metadata": {},
   "source": [
    "### 身長・体重\n",
    "BMI=体重/身長^2"
   ]
  },
  {
   "cell_type": "code",
   "execution_count": 10,
   "metadata": {},
   "outputs": [],
   "source": [
    "all_player['bmi'] = all_player['体重']*10000/(all_player['身長']*all_player['身長'])"
   ]
  },
  {
   "cell_type": "markdown",
   "metadata": {},
   "source": [
    "### 不要な列を削除"
   ]
  },
  {
   "cell_type": "code",
   "execution_count": 11,
   "metadata": {},
   "outputs": [],
   "source": [
    "all_player.drop(\n",
    "    columns=[\n",
    "        'チームID', 'チーム名', '選手名', '背番号', '打', '生年月日', \n",
    "        '出身高校ID', '出身高校名', '出身大学ID', '出身大学名', '社会人', \n",
    "        'ドラフト年', 'ドラフト種別', \n",
    "        '出身国', '出身地', '血液型', 'birth_day',\n",
    "    ], inplace=True)"
   ]
  },
  {
   "cell_type": "markdown",
   "metadata": {},
   "source": [
    "### rename"
   ]
  },
  {
   "cell_type": "code",
   "execution_count": 12,
   "metadata": {},
   "outputs": [],
   "source": [
    "all_player.rename(columns={\n",
    "    '育成選手F': 'firm',\n",
    "    '身長': 'height',\n",
    "    '体重': 'weight',\n",
    "    'ドラフト順位': 'draft_order',\n",
    "    '年俸': 'salary',\n",
    "}, inplace=True)"
   ]
  },
  {
   "cell_type": "markdown",
   "metadata": {},
   "source": [
    "### 投手のみ"
   ]
  },
  {
   "cell_type": "code",
   "execution_count": 13,
   "metadata": {},
   "outputs": [],
   "source": [
    "all_pitcher = all_player[all_player['位置']=='投手']"
   ]
  },
  {
   "cell_type": "code",
   "execution_count": 14,
   "metadata": {},
   "outputs": [],
   "source": [
    "dummy = pd.DataFrame({\n",
    "    '投': ['右', '右', '左', '左'],\n",
    "    'pit_bat': ['R_L', 'R_R', 'L_L', 'L_R']\n",
    "})\n",
    "all_pitcher = all_pitcher.merge(dummy, on='投', how='outer')"
   ]
  },
  {
   "cell_type": "code",
   "execution_count": 15,
   "metadata": {},
   "outputs": [],
   "source": [
    "all_pitcher = all_pitcher.merge(pit_2017, left_on=['選手ID','pit_bat'], right_on=['投手ID','pit_bat'], how='left')"
   ]
  },
  {
   "cell_type": "code",
   "execution_count": 16,
   "metadata": {},
   "outputs": [],
   "source": [
    "all_pitcher.loc[(all_pitcher['投手ID'].isnull()) & (all_pitcher['foreigner']==1), '投手ID'] = -1\n",
    "all_pitcher.loc[all_pitcher['投手ID'].isnull(), '投手ID'] = 0"
   ]
  },
  {
   "cell_type": "markdown",
   "metadata": {},
   "source": [
    "#### 情報がない選手\n",
    "- 外国人投手-> 投手ID=-1\n",
    "- 日本人投手-> 投手ID=0\n",
    "- 2017の平均で穴埋め"
   ]
  },
  {
   "cell_type": "code",
   "execution_count": 17,
   "metadata": {},
   "outputs": [],
   "source": [
    "def fill_ball(condition, source, target):\n",
    "    ball_kind = ['straight', 'curve', 'slider', 'shoot', 'fork', 'changeup', 'sinker', 'cutball', 'total', 'pit_game_cnt', 'pit_inning_cnt', 'pit_batter_cnt']\n",
    "    for ball in ball_kind:\n",
    "        target.loc[condition, ball] = source[ball]"
   ]
  },
  {
   "cell_type": "markdown",
   "metadata": {},
   "source": [
    "#### 日本人平均"
   ]
  },
  {
   "cell_type": "code",
   "execution_count": 18,
   "metadata": {},
   "outputs": [],
   "source": [
    "RightLeft = ['R_L', 'R_R', 'L_R', 'L_L']\n",
    "for RL in RightLeft:\n",
    "    pit_mean = all_pitcher[(all_pitcher['foreigner']==0)&(all_pitcher['投手ID']!=0)&(all_pitcher['pit_bat']==RL)].mean()\n",
    "    condition = (all_pitcher['投手ID']==0)&(all_pitcher['pit_bat']==RL)\n",
    "    fill_ball(condition, pit_mean, all_pitcher)"
   ]
  },
  {
   "cell_type": "markdown",
   "metadata": {},
   "source": [
    "#### 外国人平均"
   ]
  },
  {
   "cell_type": "code",
   "execution_count": 19,
   "metadata": {},
   "outputs": [],
   "source": [
    "for RL in RightLeft:\n",
    "    pit_mean = all_pitcher[(all_pitcher['foreigner']==1)&(all_pitcher['投手ID']!=-1)&(all_pitcher['pit_bat']==RL)].mean()\n",
    "    condition = (all_pitcher['投手ID']==-1)&(all_pitcher['pit_bat']==RL)\n",
    "    fill_ball(condition, pit_mean, all_pitcher)"
   ]
  },
  {
   "cell_type": "markdown",
   "metadata": {},
   "source": [
    "### 各球種のストレートに対する比率"
   ]
  },
  {
   "cell_type": "code",
   "execution_count": 20,
   "metadata": {
    "scrolled": false
   },
   "outputs": [],
   "source": [
    "ball_not_straight = ['curve', 'slider', 'shoot', 'fork', 'changeup', 'sinker', 'cutball']\n",
    "for ball in ball_not_straight:\n",
    "    all_pitcher[ball] = all_pitcher[ball] / all_pitcher['straight']"
   ]
  },
  {
   "cell_type": "markdown",
   "metadata": {},
   "source": [
    "### 不要な列を削除"
   ]
  },
  {
   "cell_type": "code",
   "execution_count": 21,
   "metadata": {},
   "outputs": [],
   "source": [
    "all_pitcher.drop(columns=['straight', '投手ID', '位置', '投',], inplace=True)"
   ]
  },
  {
   "cell_type": "code",
   "execution_count": 22,
   "metadata": {},
   "outputs": [
    {
     "data": {
      "text/html": [
       "<div>\n",
       "<style scoped>\n",
       "    .dataframe tbody tr th:only-of-type {\n",
       "        vertical-align: middle;\n",
       "    }\n",
       "\n",
       "    .dataframe tbody tr th {\n",
       "        vertical-align: top;\n",
       "    }\n",
       "\n",
       "    .dataframe thead th {\n",
       "        text-align: right;\n",
       "    }\n",
       "</style>\n",
       "<table border=\"1\" class=\"dataframe\">\n",
       "  <thead>\n",
       "    <tr style=\"text-align: right;\">\n",
       "      <th></th>\n",
       "      <th>年度</th>\n",
       "      <th>選手ID</th>\n",
       "      <th>firm</th>\n",
       "      <th>height</th>\n",
       "      <th>weight</th>\n",
       "      <th>draft_order</th>\n",
       "      <th>salary</th>\n",
       "      <th>foreigner</th>\n",
       "      <th>company</th>\n",
       "      <th>univ</th>\n",
       "      <th>highsch</th>\n",
       "      <th>age</th>\n",
       "      <th>play_year</th>\n",
       "      <th>salary_year</th>\n",
       "      <th>salary_x_year</th>\n",
       "      <th>bmi</th>\n",
       "      <th>pit_bat</th>\n",
       "      <th>curve</th>\n",
       "      <th>slider</th>\n",
       "      <th>shoot</th>\n",
       "      <th>fork</th>\n",
       "      <th>changeup</th>\n",
       "      <th>sinker</th>\n",
       "      <th>cutball</th>\n",
       "      <th>total</th>\n",
       "      <th>pit_game_cnt</th>\n",
       "      <th>pit_inning_cnt</th>\n",
       "      <th>pit_batter_cnt</th>\n",
       "    </tr>\n",
       "  </thead>\n",
       "  <tbody>\n",
       "    <tr>\n",
       "      <th>0</th>\n",
       "      <td>2017</td>\n",
       "      <td>12107</td>\n",
       "      <td>0</td>\n",
       "      <td>175</td>\n",
       "      <td>82</td>\n",
       "      <td>3.0</td>\n",
       "      <td>5000</td>\n",
       "      <td>0</td>\n",
       "      <td>1</td>\n",
       "      <td>0</td>\n",
       "      <td>0</td>\n",
       "      <td>37</td>\n",
       "      <td>16.0</td>\n",
       "      <td>312.500000</td>\n",
       "      <td>80000.0</td>\n",
       "      <td>26.775510</td>\n",
       "      <td>L_L</td>\n",
       "      <td>0.092767</td>\n",
       "      <td>0.599706</td>\n",
       "      <td>0.081129</td>\n",
       "      <td>0.070261</td>\n",
       "      <td>0.076848</td>\n",
       "      <td>0.014881</td>\n",
       "      <td>0.085343</td>\n",
       "      <td>268.586667</td>\n",
       "      <td>19.377778</td>\n",
       "      <td>45.684444</td>\n",
       "      <td>67.946667</td>\n",
       "    </tr>\n",
       "    <tr>\n",
       "      <th>1</th>\n",
       "      <td>2017</td>\n",
       "      <td>12107</td>\n",
       "      <td>0</td>\n",
       "      <td>175</td>\n",
       "      <td>82</td>\n",
       "      <td>3.0</td>\n",
       "      <td>5000</td>\n",
       "      <td>0</td>\n",
       "      <td>1</td>\n",
       "      <td>0</td>\n",
       "      <td>0</td>\n",
       "      <td>37</td>\n",
       "      <td>16.0</td>\n",
       "      <td>312.500000</td>\n",
       "      <td>80000.0</td>\n",
       "      <td>26.775510</td>\n",
       "      <td>L_R</td>\n",
       "      <td>0.111008</td>\n",
       "      <td>0.370771</td>\n",
       "      <td>0.134611</td>\n",
       "      <td>0.131097</td>\n",
       "      <td>0.312206</td>\n",
       "      <td>0.049194</td>\n",
       "      <td>0.056023</td>\n",
       "      <td>435.377778</td>\n",
       "      <td>19.377778</td>\n",
       "      <td>45.684444</td>\n",
       "      <td>108.626667</td>\n",
       "    </tr>\n",
       "    <tr>\n",
       "      <th>2</th>\n",
       "      <td>2017</td>\n",
       "      <td>400010</td>\n",
       "      <td>0</td>\n",
       "      <td>186</td>\n",
       "      <td>95</td>\n",
       "      <td>1.0</td>\n",
       "      <td>20000</td>\n",
       "      <td>0</td>\n",
       "      <td>1</td>\n",
       "      <td>0</td>\n",
       "      <td>0</td>\n",
       "      <td>35</td>\n",
       "      <td>14.0</td>\n",
       "      <td>1428.571429</td>\n",
       "      <td>280000.0</td>\n",
       "      <td>27.459822</td>\n",
       "      <td>L_L</td>\n",
       "      <td>0.000000</td>\n",
       "      <td>0.528302</td>\n",
       "      <td>0.594340</td>\n",
       "      <td>0.009434</td>\n",
       "      <td>0.405660</td>\n",
       "      <td>0.000000</td>\n",
       "      <td>0.556604</td>\n",
       "      <td>328.000000</td>\n",
       "      <td>12.000000</td>\n",
       "      <td>59.000000</td>\n",
       "      <td>87.000000</td>\n",
       "    </tr>\n",
       "    <tr>\n",
       "      <th>3</th>\n",
       "      <td>2017</td>\n",
       "      <td>400010</td>\n",
       "      <td>0</td>\n",
       "      <td>186</td>\n",
       "      <td>95</td>\n",
       "      <td>1.0</td>\n",
       "      <td>20000</td>\n",
       "      <td>0</td>\n",
       "      <td>1</td>\n",
       "      <td>0</td>\n",
       "      <td>0</td>\n",
       "      <td>35</td>\n",
       "      <td>14.0</td>\n",
       "      <td>1428.571429</td>\n",
       "      <td>280000.0</td>\n",
       "      <td>27.459822</td>\n",
       "      <td>L_R</td>\n",
       "      <td>0.000000</td>\n",
       "      <td>1.118812</td>\n",
       "      <td>2.148515</td>\n",
       "      <td>0.079208</td>\n",
       "      <td>1.435644</td>\n",
       "      <td>0.000000</td>\n",
       "      <td>0.554455</td>\n",
       "      <td>640.000000</td>\n",
       "      <td>12.000000</td>\n",
       "      <td>59.000000</td>\n",
       "      <td>171.000000</td>\n",
       "    </tr>\n",
       "    <tr>\n",
       "      <th>4</th>\n",
       "      <td>2017</td>\n",
       "      <td>600098</td>\n",
       "      <td>0</td>\n",
       "      <td>184</td>\n",
       "      <td>88</td>\n",
       "      <td>1.0</td>\n",
       "      <td>32000</td>\n",
       "      <td>0</td>\n",
       "      <td>0</td>\n",
       "      <td>0</td>\n",
       "      <td>1</td>\n",
       "      <td>34</td>\n",
       "      <td>12.0</td>\n",
       "      <td>2666.666667</td>\n",
       "      <td>384000.0</td>\n",
       "      <td>25.992439</td>\n",
       "      <td>L_L</td>\n",
       "      <td>0.000000</td>\n",
       "      <td>3.818182</td>\n",
       "      <td>2.636364</td>\n",
       "      <td>0.090909</td>\n",
       "      <td>0.454545</td>\n",
       "      <td>0.000000</td>\n",
       "      <td>0.000000</td>\n",
       "      <td>88.000000</td>\n",
       "      <td>18.000000</td>\n",
       "      <td>19.000000</td>\n",
       "      <td>26.000000</td>\n",
       "    </tr>\n",
       "  </tbody>\n",
       "</table>\n",
       "</div>"
      ],
      "text/plain": [
       "     年度    選手ID  firm  height  weight  draft_order  salary  foreigner  \\\n",
       "0  2017   12107     0     175      82          3.0    5000          0   \n",
       "1  2017   12107     0     175      82          3.0    5000          0   \n",
       "2  2017  400010     0     186      95          1.0   20000          0   \n",
       "3  2017  400010     0     186      95          1.0   20000          0   \n",
       "4  2017  600098     0     184      88          1.0   32000          0   \n",
       "\n",
       "   company  univ  highsch  age  play_year  salary_year  salary_x_year  \\\n",
       "0        1     0        0   37       16.0   312.500000        80000.0   \n",
       "1        1     0        0   37       16.0   312.500000        80000.0   \n",
       "2        1     0        0   35       14.0  1428.571429       280000.0   \n",
       "3        1     0        0   35       14.0  1428.571429       280000.0   \n",
       "4        0     0        1   34       12.0  2666.666667       384000.0   \n",
       "\n",
       "         bmi pit_bat     curve    slider     shoot      fork  changeup  \\\n",
       "0  26.775510     L_L  0.092767  0.599706  0.081129  0.070261  0.076848   \n",
       "1  26.775510     L_R  0.111008  0.370771  0.134611  0.131097  0.312206   \n",
       "2  27.459822     L_L  0.000000  0.528302  0.594340  0.009434  0.405660   \n",
       "3  27.459822     L_R  0.000000  1.118812  2.148515  0.079208  1.435644   \n",
       "4  25.992439     L_L  0.000000  3.818182  2.636364  0.090909  0.454545   \n",
       "\n",
       "     sinker   cutball       total  pit_game_cnt  pit_inning_cnt  \\\n",
       "0  0.014881  0.085343  268.586667     19.377778       45.684444   \n",
       "1  0.049194  0.056023  435.377778     19.377778       45.684444   \n",
       "2  0.000000  0.556604  328.000000     12.000000       59.000000   \n",
       "3  0.000000  0.554455  640.000000     12.000000       59.000000   \n",
       "4  0.000000  0.000000   88.000000     18.000000       19.000000   \n",
       "\n",
       "   pit_batter_cnt  \n",
       "0       67.946667  \n",
       "1      108.626667  \n",
       "2       87.000000  \n",
       "3      171.000000  \n",
       "4       26.000000  "
      ]
     },
     "execution_count": 22,
     "metadata": {},
     "output_type": "execute_result"
    }
   ],
   "source": [
    "all_pitcher.head()"
   ]
  },
  {
   "cell_type": "markdown",
   "metadata": {},
   "source": [
    "### 投手のみ出力"
   ]
  },
  {
   "cell_type": "code",
   "execution_count": 23,
   "metadata": {},
   "outputs": [],
   "source": [
    "all_pitcher.to_feather(OUT_PITCHER)"
   ]
  },
  {
   "cell_type": "markdown",
   "metadata": {},
   "source": [
    "### 打者(全選手)"
   ]
  },
  {
   "cell_type": "code",
   "execution_count": 24,
   "metadata": {},
   "outputs": [],
   "source": [
    "all_player = all_player.merge(bat_2017, left_on='選手ID', right_on='打者ID', how='left')"
   ]
  },
  {
   "cell_type": "code",
   "execution_count": 25,
   "metadata": {},
   "outputs": [],
   "source": [
    "all_player.loc[all_player['打者ID'].isnull(), '打者ID'] = 0\n",
    "# 投手以外\n",
    "bat_mean = all_player[(all_player['打者ID']!=0)&(all_player['位置']!='投手')].mean()\n",
    "condition = (all_player['打者ID']==0)&(all_player['位置']!='投手')\n",
    "all_player.loc[condition, 'batter_cnt'] = bat_mean['batter_cnt']\n",
    "all_player.loc[condition, 'bat_game_cnt'] = bat_mean['bat_game_cnt']\n",
    "# 投手\n",
    "bat_mean = all_player[(all_player['打者ID']!=0)&(all_player['位置']=='投手')].mean()\n",
    "condition = (all_player['打者ID']==0)&(all_player['位置']=='投手')\n",
    "all_player.loc[condition, 'batter_cnt'] = bat_mean['batter_cnt']\n",
    "all_player.loc[condition, 'bat_game_cnt'] = bat_mean['bat_game_cnt']"
   ]
  },
  {
   "cell_type": "markdown",
   "metadata": {},
   "source": [
    "### 不要な列を削除"
   ]
  },
  {
   "cell_type": "code",
   "execution_count": 26,
   "metadata": {},
   "outputs": [],
   "source": [
    "all_player.drop(\n",
    "    columns=['打者ID', '位置', '投'], inplace=True)"
   ]
  },
  {
   "cell_type": "code",
   "execution_count": 27,
   "metadata": {},
   "outputs": [
    {
     "data": {
      "text/html": [
       "<div>\n",
       "<style scoped>\n",
       "    .dataframe tbody tr th:only-of-type {\n",
       "        vertical-align: middle;\n",
       "    }\n",
       "\n",
       "    .dataframe tbody tr th {\n",
       "        vertical-align: top;\n",
       "    }\n",
       "\n",
       "    .dataframe thead th {\n",
       "        text-align: right;\n",
       "    }\n",
       "</style>\n",
       "<table border=\"1\" class=\"dataframe\">\n",
       "  <thead>\n",
       "    <tr style=\"text-align: right;\">\n",
       "      <th></th>\n",
       "      <th>年度</th>\n",
       "      <th>選手ID</th>\n",
       "      <th>firm</th>\n",
       "      <th>height</th>\n",
       "      <th>weight</th>\n",
       "      <th>draft_order</th>\n",
       "      <th>salary</th>\n",
       "      <th>foreigner</th>\n",
       "      <th>company</th>\n",
       "      <th>univ</th>\n",
       "      <th>highsch</th>\n",
       "      <th>age</th>\n",
       "      <th>play_year</th>\n",
       "      <th>salary_year</th>\n",
       "      <th>salary_x_year</th>\n",
       "      <th>bmi</th>\n",
       "      <th>batter_cnt</th>\n",
       "      <th>bat_game_cnt</th>\n",
       "    </tr>\n",
       "  </thead>\n",
       "  <tbody>\n",
       "    <tr>\n",
       "      <th>0</th>\n",
       "      <td>2017</td>\n",
       "      <td>11343</td>\n",
       "      <td>0</td>\n",
       "      <td>183</td>\n",
       "      <td>86</td>\n",
       "      <td>5.0</td>\n",
       "      <td>4500</td>\n",
       "      <td>0</td>\n",
       "      <td>0</td>\n",
       "      <td>0</td>\n",
       "      <td>1</td>\n",
       "      <td>41</td>\n",
       "      <td>23.0</td>\n",
       "      <td>195.652174</td>\n",
       "      <td>103500.0</td>\n",
       "      <td>25.680074</td>\n",
       "      <td>41.000</td>\n",
       "      <td>28.000</td>\n",
       "    </tr>\n",
       "    <tr>\n",
       "      <th>1</th>\n",
       "      <td>2017</td>\n",
       "      <td>11726</td>\n",
       "      <td>0</td>\n",
       "      <td>177</td>\n",
       "      <td>85</td>\n",
       "      <td>1.0</td>\n",
       "      <td>3700</td>\n",
       "      <td>0</td>\n",
       "      <td>0</td>\n",
       "      <td>0</td>\n",
       "      <td>1</td>\n",
       "      <td>36</td>\n",
       "      <td>19.0</td>\n",
       "      <td>194.736842</td>\n",
       "      <td>70300.0</td>\n",
       "      <td>27.131412</td>\n",
       "      <td>13.000</td>\n",
       "      <td>7.000</td>\n",
       "    </tr>\n",
       "    <tr>\n",
       "      <th>2</th>\n",
       "      <td>2017</td>\n",
       "      <td>12049</td>\n",
       "      <td>0</td>\n",
       "      <td>180</td>\n",
       "      <td>97</td>\n",
       "      <td>1.0</td>\n",
       "      <td>26000</td>\n",
       "      <td>0</td>\n",
       "      <td>0</td>\n",
       "      <td>1</td>\n",
       "      <td>0</td>\n",
       "      <td>38</td>\n",
       "      <td>17.0</td>\n",
       "      <td>1529.411765</td>\n",
       "      <td>442000.0</td>\n",
       "      <td>29.938272</td>\n",
       "      <td>516.000</td>\n",
       "      <td>129.000</td>\n",
       "    </tr>\n",
       "    <tr>\n",
       "      <th>3</th>\n",
       "      <td>2017</td>\n",
       "      <td>12107</td>\n",
       "      <td>0</td>\n",
       "      <td>175</td>\n",
       "      <td>82</td>\n",
       "      <td>3.0</td>\n",
       "      <td>5000</td>\n",
       "      <td>0</td>\n",
       "      <td>1</td>\n",
       "      <td>0</td>\n",
       "      <td>0</td>\n",
       "      <td>37</td>\n",
       "      <td>16.0</td>\n",
       "      <td>312.500000</td>\n",
       "      <td>80000.0</td>\n",
       "      <td>26.775510</td>\n",
       "      <td>14.088</td>\n",
       "      <td>6.608</td>\n",
       "    </tr>\n",
       "    <tr>\n",
       "      <th>4</th>\n",
       "      <td>2017</td>\n",
       "      <td>12179</td>\n",
       "      <td>0</td>\n",
       "      <td>184</td>\n",
       "      <td>94</td>\n",
       "      <td>1.0</td>\n",
       "      <td>7000</td>\n",
       "      <td>0</td>\n",
       "      <td>0</td>\n",
       "      <td>0</td>\n",
       "      <td>1</td>\n",
       "      <td>34</td>\n",
       "      <td>16.0</td>\n",
       "      <td>437.500000</td>\n",
       "      <td>112000.0</td>\n",
       "      <td>27.764650</td>\n",
       "      <td>26.000</td>\n",
       "      <td>13.000</td>\n",
       "    </tr>\n",
       "  </tbody>\n",
       "</table>\n",
       "</div>"
      ],
      "text/plain": [
       "     年度   選手ID  firm  height  weight  draft_order  salary  foreigner  company  \\\n",
       "0  2017  11343     0     183      86          5.0    4500          0        0   \n",
       "1  2017  11726     0     177      85          1.0    3700          0        0   \n",
       "2  2017  12049     0     180      97          1.0   26000          0        0   \n",
       "3  2017  12107     0     175      82          3.0    5000          0        1   \n",
       "4  2017  12179     0     184      94          1.0    7000          0        0   \n",
       "\n",
       "   univ  highsch  age  play_year  salary_year  salary_x_year        bmi  \\\n",
       "0     0        1   41       23.0   195.652174       103500.0  25.680074   \n",
       "1     0        1   36       19.0   194.736842        70300.0  27.131412   \n",
       "2     1        0   38       17.0  1529.411765       442000.0  29.938272   \n",
       "3     0        0   37       16.0   312.500000        80000.0  26.775510   \n",
       "4     0        1   34       16.0   437.500000       112000.0  27.764650   \n",
       "\n",
       "   batter_cnt  bat_game_cnt  \n",
       "0      41.000        28.000  \n",
       "1      13.000         7.000  \n",
       "2     516.000       129.000  \n",
       "3      14.088         6.608  \n",
       "4      26.000        13.000  "
      ]
     },
     "execution_count": 27,
     "metadata": {},
     "output_type": "execute_result"
    }
   ],
   "source": [
    "all_player.head()"
   ]
  },
  {
   "cell_type": "markdown",
   "metadata": {},
   "source": [
    "### 全選手出力"
   ]
  },
  {
   "cell_type": "code",
   "execution_count": 28,
   "metadata": {},
   "outputs": [],
   "source": [
    "all_player.to_feather(OUT_ALLPLAYER)"
   ]
  }
 ],
 "metadata": {
  "kernelspec": {
   "display_name": "Python 3",
   "language": "python",
   "name": "python3"
  },
  "language_info": {
   "codemirror_mode": {
    "name": "ipython",
    "version": 3
   },
   "file_extension": ".py",
   "mimetype": "text/x-python",
   "name": "python",
   "nbconvert_exporter": "python",
   "pygments_lexer": "ipython3",
   "version": "3.7.6"
  }
 },
 "nbformat": 4,
 "nbformat_minor": 4
}
