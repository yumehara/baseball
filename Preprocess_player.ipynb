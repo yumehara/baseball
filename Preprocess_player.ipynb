{
 "cells": [
  {
   "cell_type": "markdown",
   "metadata": {},
   "source": [
    "## player前処理\n",
    "#### 16\n",
    "- 2017年の情報がない選手は平均で埋めずにNaNのままにする\n",
    "\n",
    "#### 15\n",
    "- 2017年のデータを1/4ずつ使う\n",
    "\n",
    "#### 14\n",
    "- コースの種類のみ\n",
    "\n",
    "#### 13\n",
    "- コースの種類\n",
    "\n",
    "#### 12\n",
    "- 球団ごとの年棒ランク\n",
    "- 選手IDごとの2017年のコース実績"
   ]
  },
  {
   "cell_type": "code",
   "execution_count": 105,
   "metadata": {},
   "outputs": [],
   "source": [
    "import numpy as np\n",
    "import matplotlib.pyplot as plt\n",
    "import pandas as pd\n",
    "import feather\n",
    "pd.set_option('display.max_Columns', 100)"
   ]
  },
  {
   "cell_type": "code",
   "execution_count": 106,
   "metadata": {},
   "outputs": [
    {
     "name": "stdout",
     "output_type": "stream",
     "text": [
      "(911, 25)\n",
      "(1846, 25)\n"
     ]
    }
   ],
   "source": [
    "train_player = pd.read_feather('data/train_player.f')\n",
    "test_player = pd.read_feather('data/test_player.f')\n",
    "print(train_player.shape)\n",
    "print(test_player.shape)"
   ]
  },
  {
   "cell_type": "code",
   "execution_count": 107,
   "metadata": {
    "scrolled": true
   },
   "outputs": [
    {
     "name": "stdout",
     "output_type": "stream",
     "text": [
      "(2757, 25)\n"
     ]
    }
   ],
   "source": [
    "all_player = train_player.append(test_player, ignore_index=True)\n",
    "print(all_player.shape)"
   ]
  },
  {
   "cell_type": "markdown",
   "metadata": {},
   "source": [
    "### 管理番号"
   ]
  },
  {
   "cell_type": "code",
   "execution_count": 108,
   "metadata": {},
   "outputs": [],
   "source": [
    "No = 16"
   ]
  },
  {
   "cell_type": "markdown",
   "metadata": {},
   "source": [
    "### 2017年のn/4"
   ]
  },
  {
   "cell_type": "code",
   "execution_count": 109,
   "metadata": {},
   "outputs": [],
   "source": [
    "sample_No = 4"
   ]
  },
  {
   "cell_type": "code",
   "execution_count": 110,
   "metadata": {},
   "outputs": [],
   "source": [
    "OUT_PITCHER = 'intermediate/player/all_pitcher_{}_{}.f'.format(No, sample_No)\n",
    "OUT_ALLPLAYER = 'intermediate/player/all_player_{}_{}.f'.format(No, sample_No)"
   ]
  },
  {
   "cell_type": "markdown",
   "metadata": {},
   "source": [
    "### 2017年の成績(1/4ずつ)"
   ]
  },
  {
   "cell_type": "code",
   "execution_count": 111,
   "metadata": {
    "scrolled": true
   },
   "outputs": [
    {
     "name": "stdout",
     "output_type": "stream",
     "text": [
      "(514, 27)\n",
      "(342, 3)\n"
     ]
    }
   ],
   "source": [
    "pit_2017 = pd.read_feather('intermediate/player/pit_2017_7_{}.f'.format(sample_No))\n",
    "bat_2017 = pd.read_feather('intermediate/player/bat_2017_7_{}.f'.format(sample_No))\n",
    "print(pit_2017.shape)\n",
    "print(bat_2017.shape)"
   ]
  },
  {
   "cell_type": "markdown",
   "metadata": {},
   "source": [
    "### 外国人助っ人"
   ]
  },
  {
   "cell_type": "code",
   "execution_count": 112,
   "metadata": {},
   "outputs": [],
   "source": [
    "all_player['foreigner']=0\n",
    "all_player.loc[all_player['出身国']!='日本', 'foreigner'] = 1"
   ]
  },
  {
   "cell_type": "markdown",
   "metadata": {},
   "source": [
    "### 高卒・大卒・社会人"
   ]
  },
  {
   "cell_type": "code",
   "execution_count": 113,
   "metadata": {},
   "outputs": [],
   "source": [
    "# 社会人出身\n",
    "all_player['company'] = 0\n",
    "all_player.loc[~all_player['社会人'].isnull(), 'company'] = 1\n",
    "# 大卒\n",
    "all_player['univ']=0\n",
    "all_player.loc[all_player['出身大学ID']!=0, 'univ'] = 1\n",
    "# 高卒\n",
    "all_player['highsch'] = 0\n",
    "all_player.loc[(all_player['company']==0)&(all_player['univ']==0)&(all_player['foreigner']==0) , 'highsch'] = 1"
   ]
  },
  {
   "cell_type": "markdown",
   "metadata": {},
   "source": [
    "### 年齢、現役年数"
   ]
  },
  {
   "cell_type": "code",
   "execution_count": 114,
   "metadata": {},
   "outputs": [],
   "source": [
    "# 年齢\n",
    "all_player['birth_day'] = pd.to_datetime(all_player['生年月日'])\n",
    "all_player['age'] = all_player['年度'] - all_player['birth_day'].dt.year\n",
    "# 現役年数\n",
    "all_player['play_year'] = all_player['年度'] - all_player['ドラフト年']\n",
    "all_player.loc[all_player['ドラフト年'].isnull(), 'play_year'] = 6"
   ]
  },
  {
   "cell_type": "markdown",
   "metadata": {},
   "source": [
    "### 年棒"
   ]
  },
  {
   "cell_type": "markdown",
   "metadata": {},
   "source": [
    "#### 球団ごとの年棒順位"
   ]
  },
  {
   "cell_type": "code",
   "execution_count": 115,
   "metadata": {},
   "outputs": [],
   "source": [
    "all_player['salary_rank'] = all_player.groupby(['年度', 'チームID'])['年俸'].rank(ascending=False)"
   ]
  },
  {
   "cell_type": "code",
   "execution_count": 116,
   "metadata": {},
   "outputs": [],
   "source": [
    "all_player['rank_year'] = all_player['salary_rank']/ all_player['play_year'] \n",
    "all_player['rank_x_year'] = all_player['salary_rank'] * all_player['play_year'] \n",
    "all_player['salary_year'] = all_player['年俸']/ all_player['play_year'] \n",
    "all_player['salary_x_year'] = all_player['年俸'] * all_player['play_year'] "
   ]
  },
  {
   "cell_type": "markdown",
   "metadata": {},
   "source": [
    "### 身長・体重\n",
    "BMI=体重/身長^2"
   ]
  },
  {
   "cell_type": "code",
   "execution_count": 117,
   "metadata": {},
   "outputs": [],
   "source": [
    "all_player['bmi'] = all_player['体重']*10000/(all_player['身長']*all_player['身長'])"
   ]
  },
  {
   "cell_type": "markdown",
   "metadata": {},
   "source": [
    "### 不要な列を削除"
   ]
  },
  {
   "cell_type": "code",
   "execution_count": 118,
   "metadata": {},
   "outputs": [],
   "source": [
    "all_player.drop(\n",
    "    columns=[\n",
    "        'チームID', 'チーム名', '選手名', '背番号', '打', '生年月日', \n",
    "        '出身高校ID', '出身高校名', '出身大学ID', '出身大学名', '社会人', \n",
    "        'ドラフト年', 'ドラフト種別', \n",
    "        '出身国', '出身地', '血液型', 'birth_day',\n",
    "    ], inplace=True)"
   ]
  },
  {
   "cell_type": "markdown",
   "metadata": {},
   "source": [
    "### rename"
   ]
  },
  {
   "cell_type": "code",
   "execution_count": 119,
   "metadata": {},
   "outputs": [],
   "source": [
    "all_player.rename(columns={\n",
    "    '育成選手F': 'firm',\n",
    "    '身長': 'height',\n",
    "    '体重': 'weight',\n",
    "    'ドラフト順位': 'draft_order',\n",
    "    '年俸': 'salary',\n",
    "}, inplace=True)"
   ]
  },
  {
   "cell_type": "markdown",
   "metadata": {},
   "source": [
    "### 投手のみ"
   ]
  },
  {
   "cell_type": "code",
   "execution_count": 120,
   "metadata": {},
   "outputs": [],
   "source": [
    "all_pitcher = all_player[all_player['位置']=='投手']"
   ]
  },
  {
   "cell_type": "code",
   "execution_count": 121,
   "metadata": {},
   "outputs": [],
   "source": [
    "dummy = pd.DataFrame({\n",
    "    '投': ['右', '右', '左', '左'],\n",
    "    'pit_bat': ['R_L', 'R_R', 'L_L', 'L_R']\n",
    "})\n",
    "all_pitcher = all_pitcher.merge(dummy, on='投', how='outer')"
   ]
  },
  {
   "cell_type": "code",
   "execution_count": 122,
   "metadata": {},
   "outputs": [],
   "source": [
    "all_pitcher = all_pitcher.merge(pit_2017, left_on=['選手ID','pit_bat'], right_on=['投手ID','pit_bat'], how='left')"
   ]
  },
  {
   "cell_type": "code",
   "execution_count": 123,
   "metadata": {},
   "outputs": [],
   "source": [
    "all_pitcher.loc[(all_pitcher['投手ID'].isnull()) & (all_pitcher['foreigner']==1), '投手ID'] = -1\n",
    "all_pitcher.loc[all_pitcher['投手ID'].isnull(), '投手ID'] = 0"
   ]
  },
  {
   "cell_type": "markdown",
   "metadata": {},
   "source": [
    "#### 情報がない選手\n",
    "- 外国人投手-> 投手ID=-1\n",
    "- 日本人投手-> 投手ID=0\n",
    "- 2017の平均で穴埋め"
   ]
  },
  {
   "cell_type": "code",
   "execution_count": 124,
   "metadata": {},
   "outputs": [],
   "source": [
    "def fill_ball(condition, source, target):\n",
    "    ball_kind = [\n",
    "        'straight', 'curve', 'slider', 'shoot', 'fork', 'changeup', 'sinker', 'cutball', 'total',\n",
    "        'pit_game_cnt', 'pit_inning_cnt', 'pit_batter_cnt',\n",
    "        'course_0', 'course_1', 'course_2', 'course_3', 'course_4', 'course_5', 'course_6', \n",
    "        'course_7', 'course_8', 'course_9', 'course_10', 'course_11', 'course_12'\n",
    "    ]\n",
    "    for ball in ball_kind:\n",
    "        target.loc[condition, ball] = source[ball]"
   ]
  },
  {
   "cell_type": "markdown",
   "metadata": {},
   "source": [
    "#### 日本人平均"
   ]
  },
  {
   "cell_type": "code",
   "execution_count": 125,
   "metadata": {},
   "outputs": [],
   "source": [
    "RightLeft = ['R_L', 'R_R', 'L_R', 'L_L']\n",
    "for RL in RightLeft:\n",
    "    pit_mean = all_pitcher[(all_pitcher['foreigner']==0)&(all_pitcher['投手ID']!=0)&(all_pitcher['pit_bat']==RL)].mean()\n",
    "    condition = (all_pitcher['投手ID']==0)&(all_pitcher['pit_bat']==RL)\n",
    "    # 平均で埋めない\n",
    "    #fill_ball(condition, pit_mean, all_pitcher)"
   ]
  },
  {
   "cell_type": "markdown",
   "metadata": {},
   "source": [
    "#### 外国人平均"
   ]
  },
  {
   "cell_type": "code",
   "execution_count": 126,
   "metadata": {},
   "outputs": [],
   "source": [
    "for RL in RightLeft:\n",
    "    pit_mean = all_pitcher[(all_pitcher['foreigner']==1)&(all_pitcher['投手ID']!=-1)&(all_pitcher['pit_bat']==RL)].mean()\n",
    "    condition = (all_pitcher['投手ID']==-1)&(all_pitcher['pit_bat']==RL)\n",
    "    # 平均で埋めない\n",
    "    #fill_ball(condition, pit_mean, all_pitcher)"
   ]
  },
  {
   "cell_type": "markdown",
   "metadata": {},
   "source": [
    "### 各球種のストレートに対する比率"
   ]
  },
  {
   "cell_type": "code",
   "execution_count": 127,
   "metadata": {
    "scrolled": false
   },
   "outputs": [],
   "source": [
    "ball_not_straight = ['curve', 'slider', 'shoot', 'fork', 'changeup', 'sinker', 'cutball']\n",
    "for ball in ball_not_straight:\n",
    "    all_pitcher[ball] = all_pitcher[ball] / all_pitcher['straight']"
   ]
  },
  {
   "cell_type": "markdown",
   "metadata": {},
   "source": [
    "### コースの比率"
   ]
  },
  {
   "cell_type": "code",
   "execution_count": 128,
   "metadata": {},
   "outputs": [],
   "source": [
    "course_kind = ['course_0', 'course_1', 'course_2', 'course_3', 'course_4', 'course_5', 'course_6', \n",
    "                        'course_7', 'course_8', 'course_9', 'course_10', 'course_11', 'course_12']\n",
    "for course in course_kind:\n",
    "    all_pitcher[course] = all_pitcher[course] / all_pitcher['total']"
   ]
  },
  {
   "cell_type": "markdown",
   "metadata": {},
   "source": [
    "### コースの種類"
   ]
  },
  {
   "cell_type": "code",
   "execution_count": 129,
   "metadata": {},
   "outputs": [],
   "source": [
    "all_pitcher['high_str'] = all_pitcher['course_0'] + all_pitcher['course_3'] + all_pitcher['course_6'] \n",
    "all_pitcher['high_ball'] = all_pitcher['course_9'] + all_pitcher['course_10'] \n",
    "all_pitcher['mid_str'] = all_pitcher['course_1'] + all_pitcher['course_4'] + all_pitcher['course_7'] \n",
    "all_pitcher['low_str'] = all_pitcher['course_2'] + all_pitcher['course_5'] + all_pitcher['course_8'] \n",
    "all_pitcher['low_ball'] = all_pitcher['course_11'] + all_pitcher['course_12'] "
   ]
  },
  {
   "cell_type": "code",
   "execution_count": 130,
   "metadata": {},
   "outputs": [],
   "source": [
    "all_pitcher['left_str'] = all_pitcher['course_0'] + all_pitcher['course_1'] + all_pitcher['course_2'] \n",
    "all_pitcher['left_ball'] = all_pitcher['course_9'] + all_pitcher['course_11'] \n",
    "all_pitcher['center_str'] = all_pitcher['course_3'] + all_pitcher['course_4'] + all_pitcher['course_5'] \n",
    "all_pitcher['right_str'] = all_pitcher['course_6'] + all_pitcher['course_7'] + all_pitcher['course_8'] \n",
    "all_pitcher['right_ball'] = all_pitcher['course_10'] + all_pitcher['course_12'] "
   ]
  },
  {
   "cell_type": "markdown",
   "metadata": {},
   "source": [
    "### 不要な列を削除"
   ]
  },
  {
   "cell_type": "code",
   "execution_count": 131,
   "metadata": {},
   "outputs": [],
   "source": [
    "all_pitcher.drop(columns=[\n",
    "    'straight', '投手ID', '位置', '投',\n",
    "    'course_0', 'course_1', 'course_2', 'course_3', 'course_4', 'course_5', 'course_6', \n",
    "    'course_7', 'course_8', 'course_9', 'course_10', 'course_11', 'course_12'\n",
    "], inplace=True)"
   ]
  },
  {
   "cell_type": "code",
   "execution_count": 132,
   "metadata": {},
   "outputs": [
    {
     "data": {
      "text/html": [
       "<div>\n",
       "<style scoped>\n",
       "    .dataframe tbody tr th:only-of-type {\n",
       "        vertical-align: middle;\n",
       "    }\n",
       "\n",
       "    .dataframe tbody tr th {\n",
       "        vertical-align: top;\n",
       "    }\n",
       "\n",
       "    .dataframe thead th {\n",
       "        text-align: right;\n",
       "    }\n",
       "</style>\n",
       "<table border=\"1\" class=\"dataframe\">\n",
       "  <thead>\n",
       "    <tr style=\"text-align: right;\">\n",
       "      <th></th>\n",
       "      <th>年度</th>\n",
       "      <th>選手ID</th>\n",
       "      <th>firm</th>\n",
       "      <th>height</th>\n",
       "      <th>weight</th>\n",
       "      <th>draft_order</th>\n",
       "      <th>salary</th>\n",
       "      <th>foreigner</th>\n",
       "      <th>company</th>\n",
       "      <th>univ</th>\n",
       "      <th>highsch</th>\n",
       "      <th>age</th>\n",
       "      <th>play_year</th>\n",
       "      <th>salary_rank</th>\n",
       "      <th>rank_year</th>\n",
       "      <th>rank_x_year</th>\n",
       "      <th>salary_year</th>\n",
       "      <th>salary_x_year</th>\n",
       "      <th>bmi</th>\n",
       "      <th>pit_bat</th>\n",
       "      <th>curve</th>\n",
       "      <th>slider</th>\n",
       "      <th>shoot</th>\n",
       "      <th>fork</th>\n",
       "      <th>changeup</th>\n",
       "      <th>sinker</th>\n",
       "      <th>cutball</th>\n",
       "      <th>total</th>\n",
       "      <th>pit_game_cnt</th>\n",
       "      <th>pit_inning_cnt</th>\n",
       "      <th>pit_batter_cnt</th>\n",
       "      <th>high_str</th>\n",
       "      <th>high_ball</th>\n",
       "      <th>mid_str</th>\n",
       "      <th>low_str</th>\n",
       "      <th>low_ball</th>\n",
       "      <th>left_str</th>\n",
       "      <th>left_ball</th>\n",
       "      <th>center_str</th>\n",
       "      <th>right_str</th>\n",
       "      <th>right_ball</th>\n",
       "    </tr>\n",
       "  </thead>\n",
       "  <tbody>\n",
       "    <tr>\n",
       "      <th>0</th>\n",
       "      <td>2017</td>\n",
       "      <td>12107</td>\n",
       "      <td>0</td>\n",
       "      <td>175</td>\n",
       "      <td>82</td>\n",
       "      <td>3.0</td>\n",
       "      <td>5000</td>\n",
       "      <td>0</td>\n",
       "      <td>1</td>\n",
       "      <td>0</td>\n",
       "      <td>0</td>\n",
       "      <td>37</td>\n",
       "      <td>16.0</td>\n",
       "      <td>23.5</td>\n",
       "      <td>1.468750</td>\n",
       "      <td>376.0</td>\n",
       "      <td>312.500000</td>\n",
       "      <td>80000.0</td>\n",
       "      <td>26.775510</td>\n",
       "      <td>L_L</td>\n",
       "      <td>NaN</td>\n",
       "      <td>NaN</td>\n",
       "      <td>NaN</td>\n",
       "      <td>NaN</td>\n",
       "      <td>NaN</td>\n",
       "      <td>NaN</td>\n",
       "      <td>NaN</td>\n",
       "      <td>NaN</td>\n",
       "      <td>NaN</td>\n",
       "      <td>NaN</td>\n",
       "      <td>NaN</td>\n",
       "      <td>NaN</td>\n",
       "      <td>NaN</td>\n",
       "      <td>NaN</td>\n",
       "      <td>NaN</td>\n",
       "      <td>NaN</td>\n",
       "      <td>NaN</td>\n",
       "      <td>NaN</td>\n",
       "      <td>NaN</td>\n",
       "      <td>NaN</td>\n",
       "      <td>NaN</td>\n",
       "    </tr>\n",
       "    <tr>\n",
       "      <th>1</th>\n",
       "      <td>2017</td>\n",
       "      <td>12107</td>\n",
       "      <td>0</td>\n",
       "      <td>175</td>\n",
       "      <td>82</td>\n",
       "      <td>3.0</td>\n",
       "      <td>5000</td>\n",
       "      <td>0</td>\n",
       "      <td>1</td>\n",
       "      <td>0</td>\n",
       "      <td>0</td>\n",
       "      <td>37</td>\n",
       "      <td>16.0</td>\n",
       "      <td>23.5</td>\n",
       "      <td>1.468750</td>\n",
       "      <td>376.0</td>\n",
       "      <td>312.500000</td>\n",
       "      <td>80000.0</td>\n",
       "      <td>26.775510</td>\n",
       "      <td>L_R</td>\n",
       "      <td>NaN</td>\n",
       "      <td>NaN</td>\n",
       "      <td>NaN</td>\n",
       "      <td>NaN</td>\n",
       "      <td>NaN</td>\n",
       "      <td>NaN</td>\n",
       "      <td>NaN</td>\n",
       "      <td>NaN</td>\n",
       "      <td>NaN</td>\n",
       "      <td>NaN</td>\n",
       "      <td>NaN</td>\n",
       "      <td>NaN</td>\n",
       "      <td>NaN</td>\n",
       "      <td>NaN</td>\n",
       "      <td>NaN</td>\n",
       "      <td>NaN</td>\n",
       "      <td>NaN</td>\n",
       "      <td>NaN</td>\n",
       "      <td>NaN</td>\n",
       "      <td>NaN</td>\n",
       "      <td>NaN</td>\n",
       "    </tr>\n",
       "    <tr>\n",
       "      <th>2</th>\n",
       "      <td>2017</td>\n",
       "      <td>400010</td>\n",
       "      <td>0</td>\n",
       "      <td>186</td>\n",
       "      <td>95</td>\n",
       "      <td>1.0</td>\n",
       "      <td>20000</td>\n",
       "      <td>0</td>\n",
       "      <td>1</td>\n",
       "      <td>0</td>\n",
       "      <td>0</td>\n",
       "      <td>35</td>\n",
       "      <td>14.0</td>\n",
       "      <td>10.0</td>\n",
       "      <td>0.714286</td>\n",
       "      <td>140.0</td>\n",
       "      <td>1428.571429</td>\n",
       "      <td>280000.0</td>\n",
       "      <td>27.459822</td>\n",
       "      <td>L_L</td>\n",
       "      <td>0.0</td>\n",
       "      <td>0.857143</td>\n",
       "      <td>1.071429</td>\n",
       "      <td>0.071429</td>\n",
       "      <td>0.714286</td>\n",
       "      <td>0.0</td>\n",
       "      <td>0.214286</td>\n",
       "      <td>55.0</td>\n",
       "      <td>2.0</td>\n",
       "      <td>7.0</td>\n",
       "      <td>14.0</td>\n",
       "      <td>0.072727</td>\n",
       "      <td>0.090909</td>\n",
       "      <td>0.254545</td>\n",
       "      <td>0.200000</td>\n",
       "      <td>0.381818</td>\n",
       "      <td>0.145455</td>\n",
       "      <td>0.236364</td>\n",
       "      <td>0.200000</td>\n",
       "      <td>0.181818</td>\n",
       "      <td>0.236364</td>\n",
       "    </tr>\n",
       "    <tr>\n",
       "      <th>3</th>\n",
       "      <td>2017</td>\n",
       "      <td>400010</td>\n",
       "      <td>0</td>\n",
       "      <td>186</td>\n",
       "      <td>95</td>\n",
       "      <td>1.0</td>\n",
       "      <td>20000</td>\n",
       "      <td>0</td>\n",
       "      <td>1</td>\n",
       "      <td>0</td>\n",
       "      <td>0</td>\n",
       "      <td>35</td>\n",
       "      <td>14.0</td>\n",
       "      <td>10.0</td>\n",
       "      <td>0.714286</td>\n",
       "      <td>140.0</td>\n",
       "      <td>1428.571429</td>\n",
       "      <td>280000.0</td>\n",
       "      <td>27.459822</td>\n",
       "      <td>L_R</td>\n",
       "      <td>0.0</td>\n",
       "      <td>1.090909</td>\n",
       "      <td>2.000000</td>\n",
       "      <td>0.272727</td>\n",
       "      <td>1.818182</td>\n",
       "      <td>0.0</td>\n",
       "      <td>0.000000</td>\n",
       "      <td>68.0</td>\n",
       "      <td>2.0</td>\n",
       "      <td>7.0</td>\n",
       "      <td>18.0</td>\n",
       "      <td>0.088235</td>\n",
       "      <td>0.161765</td>\n",
       "      <td>0.132353</td>\n",
       "      <td>0.176471</td>\n",
       "      <td>0.441176</td>\n",
       "      <td>0.044118</td>\n",
       "      <td>0.220588</td>\n",
       "      <td>0.102941</td>\n",
       "      <td>0.250000</td>\n",
       "      <td>0.382353</td>\n",
       "    </tr>\n",
       "    <tr>\n",
       "      <th>4</th>\n",
       "      <td>2017</td>\n",
       "      <td>600098</td>\n",
       "      <td>0</td>\n",
       "      <td>184</td>\n",
       "      <td>88</td>\n",
       "      <td>1.0</td>\n",
       "      <td>32000</td>\n",
       "      <td>0</td>\n",
       "      <td>0</td>\n",
       "      <td>0</td>\n",
       "      <td>1</td>\n",
       "      <td>34</td>\n",
       "      <td>12.0</td>\n",
       "      <td>2.0</td>\n",
       "      <td>0.166667</td>\n",
       "      <td>24.0</td>\n",
       "      <td>2666.666667</td>\n",
       "      <td>384000.0</td>\n",
       "      <td>25.992439</td>\n",
       "      <td>L_L</td>\n",
       "      <td>0.0</td>\n",
       "      <td>2.750000</td>\n",
       "      <td>1.750000</td>\n",
       "      <td>0.000000</td>\n",
       "      <td>0.000000</td>\n",
       "      <td>0.0</td>\n",
       "      <td>0.000000</td>\n",
       "      <td>22.0</td>\n",
       "      <td>5.0</td>\n",
       "      <td>5.0</td>\n",
       "      <td>7.0</td>\n",
       "      <td>0.090909</td>\n",
       "      <td>0.000000</td>\n",
       "      <td>0.181818</td>\n",
       "      <td>0.272727</td>\n",
       "      <td>0.454545</td>\n",
       "      <td>0.409091</td>\n",
       "      <td>0.363636</td>\n",
       "      <td>0.090909</td>\n",
       "      <td>0.045455</td>\n",
       "      <td>0.090909</td>\n",
       "    </tr>\n",
       "  </tbody>\n",
       "</table>\n",
       "</div>"
      ],
      "text/plain": [
       "     年度    選手ID  firm  height  weight  draft_order  salary  foreigner  \\\n",
       "0  2017   12107     0     175      82          3.0    5000          0   \n",
       "1  2017   12107     0     175      82          3.0    5000          0   \n",
       "2  2017  400010     0     186      95          1.0   20000          0   \n",
       "3  2017  400010     0     186      95          1.0   20000          0   \n",
       "4  2017  600098     0     184      88          1.0   32000          0   \n",
       "\n",
       "   company  univ  highsch  age  play_year  salary_rank  rank_year  \\\n",
       "0        1     0        0   37       16.0         23.5   1.468750   \n",
       "1        1     0        0   37       16.0         23.5   1.468750   \n",
       "2        1     0        0   35       14.0         10.0   0.714286   \n",
       "3        1     0        0   35       14.0         10.0   0.714286   \n",
       "4        0     0        1   34       12.0          2.0   0.166667   \n",
       "\n",
       "   rank_x_year  salary_year  salary_x_year        bmi pit_bat  curve  \\\n",
       "0        376.0   312.500000        80000.0  26.775510     L_L    NaN   \n",
       "1        376.0   312.500000        80000.0  26.775510     L_R    NaN   \n",
       "2        140.0  1428.571429       280000.0  27.459822     L_L    0.0   \n",
       "3        140.0  1428.571429       280000.0  27.459822     L_R    0.0   \n",
       "4         24.0  2666.666667       384000.0  25.992439     L_L    0.0   \n",
       "\n",
       "     slider     shoot      fork  changeup  sinker   cutball  total  \\\n",
       "0       NaN       NaN       NaN       NaN     NaN       NaN    NaN   \n",
       "1       NaN       NaN       NaN       NaN     NaN       NaN    NaN   \n",
       "2  0.857143  1.071429  0.071429  0.714286     0.0  0.214286   55.0   \n",
       "3  1.090909  2.000000  0.272727  1.818182     0.0  0.000000   68.0   \n",
       "4  2.750000  1.750000  0.000000  0.000000     0.0  0.000000   22.0   \n",
       "\n",
       "   pit_game_cnt  pit_inning_cnt  pit_batter_cnt  high_str  high_ball  \\\n",
       "0           NaN             NaN             NaN       NaN        NaN   \n",
       "1           NaN             NaN             NaN       NaN        NaN   \n",
       "2           2.0             7.0            14.0  0.072727   0.090909   \n",
       "3           2.0             7.0            18.0  0.088235   0.161765   \n",
       "4           5.0             5.0             7.0  0.090909   0.000000   \n",
       "\n",
       "    mid_str   low_str  low_ball  left_str  left_ball  center_str  right_str  \\\n",
       "0       NaN       NaN       NaN       NaN        NaN         NaN        NaN   \n",
       "1       NaN       NaN       NaN       NaN        NaN         NaN        NaN   \n",
       "2  0.254545  0.200000  0.381818  0.145455   0.236364    0.200000   0.181818   \n",
       "3  0.132353  0.176471  0.441176  0.044118   0.220588    0.102941   0.250000   \n",
       "4  0.181818  0.272727  0.454545  0.409091   0.363636    0.090909   0.045455   \n",
       "\n",
       "   right_ball  \n",
       "0         NaN  \n",
       "1         NaN  \n",
       "2    0.236364  \n",
       "3    0.382353  \n",
       "4    0.090909  "
      ]
     },
     "execution_count": 132,
     "metadata": {},
     "output_type": "execute_result"
    }
   ],
   "source": [
    "all_pitcher.head()"
   ]
  },
  {
   "cell_type": "markdown",
   "metadata": {},
   "source": [
    "### 投手のみ出力"
   ]
  },
  {
   "cell_type": "code",
   "execution_count": 133,
   "metadata": {},
   "outputs": [
    {
     "name": "stdout",
     "output_type": "stream",
     "text": [
      "intermediate/player/all_pitcher_16_4.f\n"
     ]
    }
   ],
   "source": [
    "all_pitcher.to_feather(OUT_PITCHER)\n",
    "print(OUT_PITCHER)"
   ]
  },
  {
   "cell_type": "markdown",
   "metadata": {},
   "source": [
    "### 打者(全選手)"
   ]
  },
  {
   "cell_type": "code",
   "execution_count": 134,
   "metadata": {},
   "outputs": [],
   "source": [
    "all_player = all_player.merge(bat_2017, left_on='選手ID', right_on='打者ID', how='left')"
   ]
  },
  {
   "cell_type": "code",
   "execution_count": 135,
   "metadata": {},
   "outputs": [],
   "source": [
    "all_player.loc[all_player['打者ID'].isnull(), '打者ID'] = 0\n",
    "# 投手以外\n",
    "bat_mean = all_player[(all_player['打者ID']!=0)&(all_player['位置']!='投手')].mean()\n",
    "condition = (all_player['打者ID']==0)&(all_player['位置']!='投手')\n",
    "# 平均で埋めない\n",
    "#all_player.loc[condition, 'batter_cnt'] = bat_mean['batter_cnt']\n",
    "#all_player.loc[condition, 'bat_game_cnt'] = bat_mean['bat_game_cnt']\n",
    "\n",
    "# 投手\n",
    "bat_mean = all_player[(all_player['打者ID']!=0)&(all_player['位置']=='投手')].mean()\n",
    "condition = (all_player['打者ID']==0)&(all_player['位置']=='投手')\n",
    "# 平均で埋めない\n",
    "#all_player.loc[condition, 'batter_cnt'] = bat_mean['batter_cnt']\n",
    "#all_player.loc[condition, 'bat_game_cnt'] = bat_mean['bat_game_cnt']"
   ]
  },
  {
   "cell_type": "markdown",
   "metadata": {},
   "source": [
    "### 不要な列を削除"
   ]
  },
  {
   "cell_type": "code",
   "execution_count": 136,
   "metadata": {},
   "outputs": [],
   "source": [
    "all_player.drop(\n",
    "    columns=['打者ID', '位置', '投'], inplace=True)"
   ]
  },
  {
   "cell_type": "code",
   "execution_count": 137,
   "metadata": {},
   "outputs": [
    {
     "data": {
      "text/html": [
       "<div>\n",
       "<style scoped>\n",
       "    .dataframe tbody tr th:only-of-type {\n",
       "        vertical-align: middle;\n",
       "    }\n",
       "\n",
       "    .dataframe tbody tr th {\n",
       "        vertical-align: top;\n",
       "    }\n",
       "\n",
       "    .dataframe thead th {\n",
       "        text-align: right;\n",
       "    }\n",
       "</style>\n",
       "<table border=\"1\" class=\"dataframe\">\n",
       "  <thead>\n",
       "    <tr style=\"text-align: right;\">\n",
       "      <th></th>\n",
       "      <th>年度</th>\n",
       "      <th>選手ID</th>\n",
       "      <th>firm</th>\n",
       "      <th>height</th>\n",
       "      <th>weight</th>\n",
       "      <th>draft_order</th>\n",
       "      <th>salary</th>\n",
       "      <th>foreigner</th>\n",
       "      <th>company</th>\n",
       "      <th>univ</th>\n",
       "      <th>highsch</th>\n",
       "      <th>age</th>\n",
       "      <th>play_year</th>\n",
       "      <th>salary_rank</th>\n",
       "      <th>rank_year</th>\n",
       "      <th>rank_x_year</th>\n",
       "      <th>salary_year</th>\n",
       "      <th>salary_x_year</th>\n",
       "      <th>bmi</th>\n",
       "      <th>batter_cnt</th>\n",
       "      <th>bat_game_cnt</th>\n",
       "    </tr>\n",
       "  </thead>\n",
       "  <tbody>\n",
       "    <tr>\n",
       "      <th>0</th>\n",
       "      <td>2017</td>\n",
       "      <td>11343</td>\n",
       "      <td>0</td>\n",
       "      <td>183</td>\n",
       "      <td>86</td>\n",
       "      <td>5.0</td>\n",
       "      <td>4500</td>\n",
       "      <td>0</td>\n",
       "      <td>0</td>\n",
       "      <td>0</td>\n",
       "      <td>1</td>\n",
       "      <td>41</td>\n",
       "      <td>23.0</td>\n",
       "      <td>26.5</td>\n",
       "      <td>1.152174</td>\n",
       "      <td>609.5</td>\n",
       "      <td>195.652174</td>\n",
       "      <td>103500.0</td>\n",
       "      <td>25.680074</td>\n",
       "      <td>6.0</td>\n",
       "      <td>6.0</td>\n",
       "    </tr>\n",
       "    <tr>\n",
       "      <th>1</th>\n",
       "      <td>2017</td>\n",
       "      <td>11726</td>\n",
       "      <td>0</td>\n",
       "      <td>177</td>\n",
       "      <td>85</td>\n",
       "      <td>1.0</td>\n",
       "      <td>3700</td>\n",
       "      <td>0</td>\n",
       "      <td>0</td>\n",
       "      <td>0</td>\n",
       "      <td>1</td>\n",
       "      <td>36</td>\n",
       "      <td>19.0</td>\n",
       "      <td>28.5</td>\n",
       "      <td>1.500000</td>\n",
       "      <td>541.5</td>\n",
       "      <td>194.736842</td>\n",
       "      <td>70300.0</td>\n",
       "      <td>27.131412</td>\n",
       "      <td>NaN</td>\n",
       "      <td>NaN</td>\n",
       "    </tr>\n",
       "    <tr>\n",
       "      <th>2</th>\n",
       "      <td>2017</td>\n",
       "      <td>12049</td>\n",
       "      <td>0</td>\n",
       "      <td>180</td>\n",
       "      <td>97</td>\n",
       "      <td>1.0</td>\n",
       "      <td>26000</td>\n",
       "      <td>0</td>\n",
       "      <td>0</td>\n",
       "      <td>1</td>\n",
       "      <td>0</td>\n",
       "      <td>38</td>\n",
       "      <td>17.0</td>\n",
       "      <td>4.0</td>\n",
       "      <td>0.235294</td>\n",
       "      <td>68.0</td>\n",
       "      <td>1529.411765</td>\n",
       "      <td>442000.0</td>\n",
       "      <td>29.938272</td>\n",
       "      <td>163.0</td>\n",
       "      <td>39.0</td>\n",
       "    </tr>\n",
       "    <tr>\n",
       "      <th>3</th>\n",
       "      <td>2017</td>\n",
       "      <td>12107</td>\n",
       "      <td>0</td>\n",
       "      <td>175</td>\n",
       "      <td>82</td>\n",
       "      <td>3.0</td>\n",
       "      <td>5000</td>\n",
       "      <td>0</td>\n",
       "      <td>1</td>\n",
       "      <td>0</td>\n",
       "      <td>0</td>\n",
       "      <td>37</td>\n",
       "      <td>16.0</td>\n",
       "      <td>23.5</td>\n",
       "      <td>1.468750</td>\n",
       "      <td>376.0</td>\n",
       "      <td>312.500000</td>\n",
       "      <td>80000.0</td>\n",
       "      <td>26.775510</td>\n",
       "      <td>NaN</td>\n",
       "      <td>NaN</td>\n",
       "    </tr>\n",
       "    <tr>\n",
       "      <th>4</th>\n",
       "      <td>2017</td>\n",
       "      <td>12179</td>\n",
       "      <td>0</td>\n",
       "      <td>184</td>\n",
       "      <td>94</td>\n",
       "      <td>1.0</td>\n",
       "      <td>7000</td>\n",
       "      <td>0</td>\n",
       "      <td>0</td>\n",
       "      <td>0</td>\n",
       "      <td>1</td>\n",
       "      <td>34</td>\n",
       "      <td>16.0</td>\n",
       "      <td>20.0</td>\n",
       "      <td>1.250000</td>\n",
       "      <td>320.0</td>\n",
       "      <td>437.500000</td>\n",
       "      <td>112000.0</td>\n",
       "      <td>27.764650</td>\n",
       "      <td>NaN</td>\n",
       "      <td>NaN</td>\n",
       "    </tr>\n",
       "  </tbody>\n",
       "</table>\n",
       "</div>"
      ],
      "text/plain": [
       "     年度   選手ID  firm  height  weight  draft_order  salary  foreigner  company  \\\n",
       "0  2017  11343     0     183      86          5.0    4500          0        0   \n",
       "1  2017  11726     0     177      85          1.0    3700          0        0   \n",
       "2  2017  12049     0     180      97          1.0   26000          0        0   \n",
       "3  2017  12107     0     175      82          3.0    5000          0        1   \n",
       "4  2017  12179     0     184      94          1.0    7000          0        0   \n",
       "\n",
       "   univ  highsch  age  play_year  salary_rank  rank_year  rank_x_year  \\\n",
       "0     0        1   41       23.0         26.5   1.152174        609.5   \n",
       "1     0        1   36       19.0         28.5   1.500000        541.5   \n",
       "2     1        0   38       17.0          4.0   0.235294         68.0   \n",
       "3     0        0   37       16.0         23.5   1.468750        376.0   \n",
       "4     0        1   34       16.0         20.0   1.250000        320.0   \n",
       "\n",
       "   salary_year  salary_x_year        bmi  batter_cnt  bat_game_cnt  \n",
       "0   195.652174       103500.0  25.680074         6.0           6.0  \n",
       "1   194.736842        70300.0  27.131412         NaN           NaN  \n",
       "2  1529.411765       442000.0  29.938272       163.0          39.0  \n",
       "3   312.500000        80000.0  26.775510         NaN           NaN  \n",
       "4   437.500000       112000.0  27.764650         NaN           NaN  "
      ]
     },
     "execution_count": 137,
     "metadata": {},
     "output_type": "execute_result"
    }
   ],
   "source": [
    "all_player.head()"
   ]
  },
  {
   "cell_type": "markdown",
   "metadata": {},
   "source": [
    "### 全選手出力"
   ]
  },
  {
   "cell_type": "code",
   "execution_count": 138,
   "metadata": {},
   "outputs": [
    {
     "name": "stdout",
     "output_type": "stream",
     "text": [
      "intermediate/player/all_player_16_4.f\n"
     ]
    }
   ],
   "source": [
    "all_player.to_feather(OUT_ALLPLAYER)\n",
    "print(OUT_ALLPLAYER)"
   ]
  }
 ],
 "metadata": {
  "kernelspec": {
   "display_name": "Python 3",
   "language": "python",
   "name": "python3"
  },
  "language_info": {
   "codemirror_mode": {
    "name": "ipython",
    "version": 3
   },
   "file_extension": ".py",
   "mimetype": "text/x-python",
   "name": "python",
   "nbconvert_exporter": "python",
   "pygments_lexer": "ipython3",
   "version": "3.7.6"
  }
 },
 "nbformat": 4,
 "nbformat_minor": 4
}
