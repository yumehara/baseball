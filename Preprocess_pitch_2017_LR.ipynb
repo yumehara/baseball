{
 "cells": [
  {
   "cell_type": "markdown",
   "metadata": {},
   "source": [
    "## pitch2017前処理\n",
    "### 右左で集計を分ける"
   ]
  },
  {
   "cell_type": "code",
   "execution_count": 76,
   "metadata": {},
   "outputs": [],
   "source": [
    "import numpy as np\n",
    "import matplotlib.pyplot as plt\n",
    "import pandas as pd\n",
    "import feather\n",
    "pd.set_option('display.max_Columns', 100)"
   ]
  },
  {
   "cell_type": "code",
   "execution_count": 77,
   "metadata": {
    "scrolled": true
   },
   "outputs": [
    {
     "name": "stdout",
     "output_type": "stream",
     "text": [
      "(257117, 51)\n"
     ]
    }
   ],
   "source": [
    "train_pitch = pd.read_feather('data/train_pitch.f')\n",
    "print(train_pitch.shape)"
   ]
  },
  {
   "cell_type": "code",
   "execution_count": 78,
   "metadata": {},
   "outputs": [],
   "source": [
    "OUT_PIT = 'intermediate/pit_2017_LR_1.f'\n",
    "OUT_BAT = 'intermediate/bat_2017_5.f'"
   ]
  },
  {
   "cell_type": "markdown",
   "metadata": {},
   "source": [
    "### 左右"
   ]
  },
  {
   "cell_type": "code",
   "execution_count": 79,
   "metadata": {},
   "outputs": [],
   "source": [
    "train_pitch.replace('左', 'L', inplace=True)\n",
    "train_pitch.replace('右', 'R', inplace=True)\n",
    "train_pitch['pit_bat'] = train_pitch['投手投球左右'] + '_' + train_pitch['打者打席左右']"
   ]
  },
  {
   "cell_type": "markdown",
   "metadata": {},
   "source": [
    "### 投手\n",
    "#### 球種\n",
    "0:ストレート 1:カーブ 2:スライダー 3:シュート 4:フォーク 5:チェンジアップ 6:シンカー 7:カットボール"
   ]
  },
  {
   "cell_type": "code",
   "execution_count": 80,
   "metadata": {},
   "outputs": [],
   "source": [
    "train_pitch.replace({'球種': {\n",
    "    0: '0_straight', \n",
    "    1: '1_curve', \n",
    "    2: '2_slider', \n",
    "    3: '3_shoot', \n",
    "    4: '4_fork', \n",
    "    5: '5_changeup', \n",
    "    6: '6_sinker', \n",
    "    7: '7_cutball'\n",
    "}}, inplace=True)\n",
    "train_pitch.rename(columns={'球種': 'ball'}, inplace=True)"
   ]
  },
  {
   "cell_type": "code",
   "execution_count": 81,
   "metadata": {},
   "outputs": [],
   "source": [
    "pitch_ball = train_pitch[['投手ID','pit_bat','ball']]\n",
    "pitch_ball = pd.get_dummies(pitch_ball, columns=['ball'])"
   ]
  },
  {
   "cell_type": "code",
   "execution_count": 82,
   "metadata": {},
   "outputs": [],
   "source": [
    "groupby_pit = pitch_ball.groupby(['投手ID','pit_bat']).sum()\n",
    "groupby_pit.rename(columns={\n",
    "    'ball_0_straight': 'straight',\n",
    "    'ball_1_curve': 'curve',\n",
    "    'ball_2_slider': 'slider',\n",
    "    'ball_3_shoot': 'shoot',\n",
    "    'ball_4_fork': 'fork',\n",
    "    'ball_5_changeup': 'changeup',\n",
    "    'ball_6_sinker': 'sinker',\n",
    "    'ball_7_cutball': 'cutball',\n",
    "}, inplace=True)\n",
    "pitch_ball = groupby_pit.reset_index(inplace=False)"
   ]
  },
  {
   "cell_type": "code",
   "execution_count": 83,
   "metadata": {},
   "outputs": [],
   "source": [
    "pitch_ball['total'] = (pitch_ball['straight'] + pitch_ball['curve'] + pitch_ball['slider'] + pitch_ball['shoot']\n",
    "                       + pitch_ball['fork'] + pitch_ball['changeup'] + pitch_ball['sinker'] + pitch_ball['cutball'])"
   ]
  },
  {
   "cell_type": "code",
   "execution_count": 84,
   "metadata": {
    "scrolled": true
   },
   "outputs": [
    {
     "data": {
      "text/html": [
       "<div>\n",
       "<style scoped>\n",
       "    .dataframe tbody tr th:only-of-type {\n",
       "        vertical-align: middle;\n",
       "    }\n",
       "\n",
       "    .dataframe tbody tr th {\n",
       "        vertical-align: top;\n",
       "    }\n",
       "\n",
       "    .dataframe thead th {\n",
       "        text-align: right;\n",
       "    }\n",
       "</style>\n",
       "<table border=\"1\" class=\"dataframe\">\n",
       "  <thead>\n",
       "    <tr style=\"text-align: right;\">\n",
       "      <th></th>\n",
       "      <th>投手ID</th>\n",
       "      <th>pit_bat</th>\n",
       "      <th>straight</th>\n",
       "      <th>curve</th>\n",
       "      <th>slider</th>\n",
       "      <th>shoot</th>\n",
       "      <th>fork</th>\n",
       "      <th>changeup</th>\n",
       "      <th>sinker</th>\n",
       "      <th>cutball</th>\n",
       "      <th>total</th>\n",
       "    </tr>\n",
       "  </thead>\n",
       "  <tbody>\n",
       "    <tr>\n",
       "      <th>0</th>\n",
       "      <td>11606</td>\n",
       "      <td>R_L</td>\n",
       "      <td>134.0</td>\n",
       "      <td>54.0</td>\n",
       "      <td>0.0</td>\n",
       "      <td>0.0</td>\n",
       "      <td>61.0</td>\n",
       "      <td>0.0</td>\n",
       "      <td>0.0</td>\n",
       "      <td>13.0</td>\n",
       "      <td>262.0</td>\n",
       "    </tr>\n",
       "    <tr>\n",
       "      <th>1</th>\n",
       "      <td>11606</td>\n",
       "      <td>R_R</td>\n",
       "      <td>219.0</td>\n",
       "      <td>121.0</td>\n",
       "      <td>0.0</td>\n",
       "      <td>0.0</td>\n",
       "      <td>83.0</td>\n",
       "      <td>0.0</td>\n",
       "      <td>0.0</td>\n",
       "      <td>23.0</td>\n",
       "      <td>446.0</td>\n",
       "    </tr>\n",
       "    <tr>\n",
       "      <th>2</th>\n",
       "      <td>11766</td>\n",
       "      <td>L_L</td>\n",
       "      <td>111.0</td>\n",
       "      <td>0.0</td>\n",
       "      <td>103.0</td>\n",
       "      <td>67.0</td>\n",
       "      <td>0.0</td>\n",
       "      <td>0.0</td>\n",
       "      <td>2.0</td>\n",
       "      <td>0.0</td>\n",
       "      <td>283.0</td>\n",
       "    </tr>\n",
       "    <tr>\n",
       "      <th>3</th>\n",
       "      <td>11766</td>\n",
       "      <td>L_R</td>\n",
       "      <td>103.0</td>\n",
       "      <td>0.0</td>\n",
       "      <td>104.0</td>\n",
       "      <td>42.0</td>\n",
       "      <td>0.0</td>\n",
       "      <td>11.0</td>\n",
       "      <td>30.0</td>\n",
       "      <td>0.0</td>\n",
       "      <td>290.0</td>\n",
       "    </tr>\n",
       "    <tr>\n",
       "      <th>4</th>\n",
       "      <td>11807</td>\n",
       "      <td>R_L</td>\n",
       "      <td>249.0</td>\n",
       "      <td>38.0</td>\n",
       "      <td>1.0</td>\n",
       "      <td>9.0</td>\n",
       "      <td>115.0</td>\n",
       "      <td>0.0</td>\n",
       "      <td>0.0</td>\n",
       "      <td>2.0</td>\n",
       "      <td>414.0</td>\n",
       "    </tr>\n",
       "  </tbody>\n",
       "</table>\n",
       "</div>"
      ],
      "text/plain": [
       "    投手ID pit_bat  straight  curve  slider  shoot   fork  changeup  sinker  \\\n",
       "0  11606     R_L     134.0   54.0     0.0    0.0   61.0       0.0     0.0   \n",
       "1  11606     R_R     219.0  121.0     0.0    0.0   83.0       0.0     0.0   \n",
       "2  11766     L_L     111.0    0.0   103.0   67.0    0.0       0.0     2.0   \n",
       "3  11766     L_R     103.0    0.0   104.0   42.0    0.0      11.0    30.0   \n",
       "4  11807     R_L     249.0   38.0     1.0    9.0  115.0       0.0     0.0   \n",
       "\n",
       "   cutball  total  \n",
       "0     13.0  262.0  \n",
       "1     23.0  446.0  \n",
       "2      0.0  283.0  \n",
       "3      0.0  290.0  \n",
       "4      2.0  414.0  "
      ]
     },
     "execution_count": 84,
     "metadata": {},
     "output_type": "execute_result"
    }
   ],
   "source": [
    "pitch_ball.head()"
   ]
  },
  {
   "cell_type": "markdown",
   "metadata": {},
   "source": [
    "### 登板試合数"
   ]
  },
  {
   "cell_type": "code",
   "execution_count": 85,
   "metadata": {},
   "outputs": [],
   "source": [
    "pit_game = train_pitch[['投手ID', '試合ID']].groupby(['投手ID', '試合ID']).count()\n",
    "pit_game = pd.DataFrame(pit_game.groupby(['投手ID']).size())\n",
    "pit_game.reset_index(inplace=True)\n",
    "pit_game.rename(columns={0: 'pit_game_cnt'}, inplace=True)"
   ]
  },
  {
   "cell_type": "markdown",
   "metadata": {},
   "source": [
    "### イニング数"
   ]
  },
  {
   "cell_type": "code",
   "execution_count": 86,
   "metadata": {},
   "outputs": [],
   "source": [
    "pit_inning = train_pitch[['投手ID', '試合ID', 'イニング']].groupby(['投手ID', '試合ID', 'イニング']).count()\n",
    "pit_inning = pd.DataFrame(pit_inning.groupby(['投手ID']).size())\n",
    "pit_inning.reset_index(inplace=True)\n",
    "pit_inning.rename(columns={0: 'pit_inning_cnt'}, inplace=True)"
   ]
  },
  {
   "cell_type": "markdown",
   "metadata": {},
   "source": [
    "### 対戦打者数"
   ]
  },
  {
   "cell_type": "code",
   "execution_count": 87,
   "metadata": {
    "scrolled": true
   },
   "outputs": [],
   "source": [
    "pit_batcnt = train_pitch[['投手ID', 'pit_bat', '試合ID', 'イニング', 'イニング内打席数']].groupby(['投手ID', 'pit_bat', '試合ID', 'イニング', 'イニング内打席数']).count()\n",
    "pit_batcnt = pd.DataFrame(pit_batcnt.groupby(['投手ID','pit_bat']).size())\n",
    "pit_batcnt.reset_index(inplace=True)\n",
    "pit_batcnt.rename(columns={0: 'pit_batter_cnt'}, inplace=True)"
   ]
  },
  {
   "cell_type": "markdown",
   "metadata": {},
   "source": [
    "### 投手実績まとめ"
   ]
  },
  {
   "cell_type": "code",
   "execution_count": 88,
   "metadata": {
    "scrolled": false
   },
   "outputs": [],
   "source": [
    "pitch_ball = pitch_ball.merge(pit_game, on='投手ID', how='left')\n",
    "pitch_ball = pitch_ball.merge(pit_inning, on='投手ID', how='left')\n",
    "pitch_ball = pitch_ball.merge(pit_batcnt, on=['投手ID','pit_bat'], how='left')"
   ]
  },
  {
   "cell_type": "code",
   "execution_count": 89,
   "metadata": {},
   "outputs": [
    {
     "name": "stdout",
     "output_type": "stream",
     "text": [
      "(651, 14)\n"
     ]
    },
    {
     "data": {
      "text/html": [
       "<div>\n",
       "<style scoped>\n",
       "    .dataframe tbody tr th:only-of-type {\n",
       "        vertical-align: middle;\n",
       "    }\n",
       "\n",
       "    .dataframe tbody tr th {\n",
       "        vertical-align: top;\n",
       "    }\n",
       "\n",
       "    .dataframe thead th {\n",
       "        text-align: right;\n",
       "    }\n",
       "</style>\n",
       "<table border=\"1\" class=\"dataframe\">\n",
       "  <thead>\n",
       "    <tr style=\"text-align: right;\">\n",
       "      <th></th>\n",
       "      <th>投手ID</th>\n",
       "      <th>pit_bat</th>\n",
       "      <th>straight</th>\n",
       "      <th>curve</th>\n",
       "      <th>slider</th>\n",
       "      <th>shoot</th>\n",
       "      <th>fork</th>\n",
       "      <th>changeup</th>\n",
       "      <th>sinker</th>\n",
       "      <th>cutball</th>\n",
       "      <th>total</th>\n",
       "      <th>pit_game_cnt</th>\n",
       "      <th>pit_inning_cnt</th>\n",
       "      <th>pit_batter_cnt</th>\n",
       "    </tr>\n",
       "  </thead>\n",
       "  <tbody>\n",
       "    <tr>\n",
       "      <th>0</th>\n",
       "      <td>11606</td>\n",
       "      <td>R_L</td>\n",
       "      <td>134.0</td>\n",
       "      <td>54.0</td>\n",
       "      <td>0.0</td>\n",
       "      <td>0.0</td>\n",
       "      <td>61.0</td>\n",
       "      <td>0.0</td>\n",
       "      <td>0.0</td>\n",
       "      <td>13.0</td>\n",
       "      <td>262.0</td>\n",
       "      <td>46</td>\n",
       "      <td>54</td>\n",
       "      <td>63</td>\n",
       "    </tr>\n",
       "    <tr>\n",
       "      <th>1</th>\n",
       "      <td>11606</td>\n",
       "      <td>R_R</td>\n",
       "      <td>219.0</td>\n",
       "      <td>121.0</td>\n",
       "      <td>0.0</td>\n",
       "      <td>0.0</td>\n",
       "      <td>83.0</td>\n",
       "      <td>0.0</td>\n",
       "      <td>0.0</td>\n",
       "      <td>23.0</td>\n",
       "      <td>446.0</td>\n",
       "      <td>46</td>\n",
       "      <td>54</td>\n",
       "      <td>108</td>\n",
       "    </tr>\n",
       "    <tr>\n",
       "      <th>2</th>\n",
       "      <td>11766</td>\n",
       "      <td>L_L</td>\n",
       "      <td>111.0</td>\n",
       "      <td>0.0</td>\n",
       "      <td>103.0</td>\n",
       "      <td>67.0</td>\n",
       "      <td>0.0</td>\n",
       "      <td>0.0</td>\n",
       "      <td>2.0</td>\n",
       "      <td>0.0</td>\n",
       "      <td>283.0</td>\n",
       "      <td>50</td>\n",
       "      <td>50</td>\n",
       "      <td>73</td>\n",
       "    </tr>\n",
       "    <tr>\n",
       "      <th>3</th>\n",
       "      <td>11766</td>\n",
       "      <td>L_R</td>\n",
       "      <td>103.0</td>\n",
       "      <td>0.0</td>\n",
       "      <td>104.0</td>\n",
       "      <td>42.0</td>\n",
       "      <td>0.0</td>\n",
       "      <td>11.0</td>\n",
       "      <td>30.0</td>\n",
       "      <td>0.0</td>\n",
       "      <td>290.0</td>\n",
       "      <td>50</td>\n",
       "      <td>50</td>\n",
       "      <td>81</td>\n",
       "    </tr>\n",
       "    <tr>\n",
       "      <th>4</th>\n",
       "      <td>11807</td>\n",
       "      <td>R_L</td>\n",
       "      <td>249.0</td>\n",
       "      <td>38.0</td>\n",
       "      <td>1.0</td>\n",
       "      <td>9.0</td>\n",
       "      <td>115.0</td>\n",
       "      <td>0.0</td>\n",
       "      <td>0.0</td>\n",
       "      <td>2.0</td>\n",
       "      <td>414.0</td>\n",
       "      <td>52</td>\n",
       "      <td>61</td>\n",
       "      <td>95</td>\n",
       "    </tr>\n",
       "  </tbody>\n",
       "</table>\n",
       "</div>"
      ],
      "text/plain": [
       "    投手ID pit_bat  straight  curve  slider  shoot   fork  changeup  sinker  \\\n",
       "0  11606     R_L     134.0   54.0     0.0    0.0   61.0       0.0     0.0   \n",
       "1  11606     R_R     219.0  121.0     0.0    0.0   83.0       0.0     0.0   \n",
       "2  11766     L_L     111.0    0.0   103.0   67.0    0.0       0.0     2.0   \n",
       "3  11766     L_R     103.0    0.0   104.0   42.0    0.0      11.0    30.0   \n",
       "4  11807     R_L     249.0   38.0     1.0    9.0  115.0       0.0     0.0   \n",
       "\n",
       "   cutball  total  pit_game_cnt  pit_inning_cnt  pit_batter_cnt  \n",
       "0     13.0  262.0            46              54              63  \n",
       "1     23.0  446.0            46              54             108  \n",
       "2      0.0  283.0            50              50              73  \n",
       "3      0.0  290.0            50              50              81  \n",
       "4      2.0  414.0            52              61              95  "
      ]
     },
     "execution_count": 89,
     "metadata": {},
     "output_type": "execute_result"
    }
   ],
   "source": [
    "print(pitch_ball.shape)\n",
    "pitch_ball.head()"
   ]
  },
  {
   "cell_type": "code",
   "execution_count": 90,
   "metadata": {
    "scrolled": true
   },
   "outputs": [
    {
     "data": {
      "text/html": [
       "<div>\n",
       "<style scoped>\n",
       "    .dataframe tbody tr th:only-of-type {\n",
       "        vertical-align: middle;\n",
       "    }\n",
       "\n",
       "    .dataframe tbody tr th {\n",
       "        vertical-align: top;\n",
       "    }\n",
       "\n",
       "    .dataframe thead th {\n",
       "        text-align: right;\n",
       "    }\n",
       "</style>\n",
       "<table border=\"1\" class=\"dataframe\">\n",
       "  <thead>\n",
       "    <tr style=\"text-align: right;\">\n",
       "      <th></th>\n",
       "      <th>投手ID</th>\n",
       "      <th>straight</th>\n",
       "      <th>curve</th>\n",
       "      <th>slider</th>\n",
       "      <th>shoot</th>\n",
       "      <th>fork</th>\n",
       "      <th>changeup</th>\n",
       "      <th>sinker</th>\n",
       "      <th>cutball</th>\n",
       "      <th>total</th>\n",
       "      <th>pit_game_cnt</th>\n",
       "      <th>pit_inning_cnt</th>\n",
       "      <th>pit_batter_cnt</th>\n",
       "    </tr>\n",
       "  </thead>\n",
       "  <tbody>\n",
       "    <tr>\n",
       "      <th>count</th>\n",
       "      <td>6.510000e+02</td>\n",
       "      <td>651.000000</td>\n",
       "      <td>651.000000</td>\n",
       "      <td>651.000000</td>\n",
       "      <td>651.000000</td>\n",
       "      <td>651.000000</td>\n",
       "      <td>651.000000</td>\n",
       "      <td>651.000000</td>\n",
       "      <td>651.000000</td>\n",
       "      <td>651.000000</td>\n",
       "      <td>651.000000</td>\n",
       "      <td>651.000000</td>\n",
       "      <td>651.000000</td>\n",
       "    </tr>\n",
       "    <tr>\n",
       "      <th>mean</th>\n",
       "      <td>1.162924e+06</td>\n",
       "      <td>184.940092</td>\n",
       "      <td>29.513057</td>\n",
       "      <td>73.385561</td>\n",
       "      <td>27.897081</td>\n",
       "      <td>32.786482</td>\n",
       "      <td>21.413210</td>\n",
       "      <td>4.486943</td>\n",
       "      <td>20.534562</td>\n",
       "      <td>394.956989</td>\n",
       "      <td>20.797235</td>\n",
       "      <td>50.321045</td>\n",
       "      <td>100.001536</td>\n",
       "    </tr>\n",
       "    <tr>\n",
       "      <th>std</th>\n",
       "      <td>4.160398e+05</td>\n",
       "      <td>190.605887</td>\n",
       "      <td>58.372104</td>\n",
       "      <td>94.297583</td>\n",
       "      <td>68.452185</td>\n",
       "      <td>58.598626</td>\n",
       "      <td>55.396277</td>\n",
       "      <td>30.041577</td>\n",
       "      <td>57.853821</td>\n",
       "      <td>391.279901</td>\n",
       "      <td>18.815592</td>\n",
       "      <td>47.493933</td>\n",
       "      <td>99.171499</td>\n",
       "    </tr>\n",
       "    <tr>\n",
       "      <th>min</th>\n",
       "      <td>1.160600e+04</td>\n",
       "      <td>1.000000</td>\n",
       "      <td>0.000000</td>\n",
       "      <td>0.000000</td>\n",
       "      <td>0.000000</td>\n",
       "      <td>0.000000</td>\n",
       "      <td>0.000000</td>\n",
       "      <td>0.000000</td>\n",
       "      <td>0.000000</td>\n",
       "      <td>1.000000</td>\n",
       "      <td>1.000000</td>\n",
       "      <td>1.000000</td>\n",
       "      <td>1.000000</td>\n",
       "    </tr>\n",
       "    <tr>\n",
       "      <th>25%</th>\n",
       "      <td>9.004290e+05</td>\n",
       "      <td>40.000000</td>\n",
       "      <td>0.000000</td>\n",
       "      <td>7.000000</td>\n",
       "      <td>0.000000</td>\n",
       "      <td>0.000000</td>\n",
       "      <td>0.000000</td>\n",
       "      <td>0.000000</td>\n",
       "      <td>0.000000</td>\n",
       "      <td>89.000000</td>\n",
       "      <td>5.500000</td>\n",
       "      <td>11.500000</td>\n",
       "      <td>22.000000</td>\n",
       "    </tr>\n",
       "    <tr>\n",
       "      <th>50%</th>\n",
       "      <td>1.300036e+06</td>\n",
       "      <td>126.000000</td>\n",
       "      <td>5.000000</td>\n",
       "      <td>33.000000</td>\n",
       "      <td>0.000000</td>\n",
       "      <td>4.000000</td>\n",
       "      <td>0.000000</td>\n",
       "      <td>0.000000</td>\n",
       "      <td>0.000000</td>\n",
       "      <td>276.000000</td>\n",
       "      <td>15.000000</td>\n",
       "      <td>37.000000</td>\n",
       "      <td>71.000000</td>\n",
       "    </tr>\n",
       "    <tr>\n",
       "      <th>75%</th>\n",
       "      <td>1.500109e+06</td>\n",
       "      <td>254.000000</td>\n",
       "      <td>32.000000</td>\n",
       "      <td>113.000000</td>\n",
       "      <td>17.000000</td>\n",
       "      <td>37.500000</td>\n",
       "      <td>11.000000</td>\n",
       "      <td>0.000000</td>\n",
       "      <td>4.000000</td>\n",
       "      <td>520.000000</td>\n",
       "      <td>27.000000</td>\n",
       "      <td>68.000000</td>\n",
       "      <td>130.500000</td>\n",
       "    </tr>\n",
       "    <tr>\n",
       "      <th>max</th>\n",
       "      <td>1.700016e+06</td>\n",
       "      <td>1083.000000</td>\n",
       "      <td>458.000000</td>\n",
       "      <td>710.000000</td>\n",
       "      <td>637.000000</td>\n",
       "      <td>331.000000</td>\n",
       "      <td>438.000000</td>\n",
       "      <td>451.000000</td>\n",
       "      <td>475.000000</td>\n",
       "      <td>1886.000000</td>\n",
       "      <td>72.000000</td>\n",
       "      <td>190.000000</td>\n",
       "      <td>471.000000</td>\n",
       "    </tr>\n",
       "  </tbody>\n",
       "</table>\n",
       "</div>"
      ],
      "text/plain": [
       "               投手ID     straight       curve      slider       shoot  \\\n",
       "count  6.510000e+02   651.000000  651.000000  651.000000  651.000000   \n",
       "mean   1.162924e+06   184.940092   29.513057   73.385561   27.897081   \n",
       "std    4.160398e+05   190.605887   58.372104   94.297583   68.452185   \n",
       "min    1.160600e+04     1.000000    0.000000    0.000000    0.000000   \n",
       "25%    9.004290e+05    40.000000    0.000000    7.000000    0.000000   \n",
       "50%    1.300036e+06   126.000000    5.000000   33.000000    0.000000   \n",
       "75%    1.500109e+06   254.000000   32.000000  113.000000   17.000000   \n",
       "max    1.700016e+06  1083.000000  458.000000  710.000000  637.000000   \n",
       "\n",
       "             fork    changeup      sinker     cutball        total  \\\n",
       "count  651.000000  651.000000  651.000000  651.000000   651.000000   \n",
       "mean    32.786482   21.413210    4.486943   20.534562   394.956989   \n",
       "std     58.598626   55.396277   30.041577   57.853821   391.279901   \n",
       "min      0.000000    0.000000    0.000000    0.000000     1.000000   \n",
       "25%      0.000000    0.000000    0.000000    0.000000    89.000000   \n",
       "50%      4.000000    0.000000    0.000000    0.000000   276.000000   \n",
       "75%     37.500000   11.000000    0.000000    4.000000   520.000000   \n",
       "max    331.000000  438.000000  451.000000  475.000000  1886.000000   \n",
       "\n",
       "       pit_game_cnt  pit_inning_cnt  pit_batter_cnt  \n",
       "count    651.000000      651.000000      651.000000  \n",
       "mean      20.797235       50.321045      100.001536  \n",
       "std       18.815592       47.493933       99.171499  \n",
       "min        1.000000        1.000000        1.000000  \n",
       "25%        5.500000       11.500000       22.000000  \n",
       "50%       15.000000       37.000000       71.000000  \n",
       "75%       27.000000       68.000000      130.500000  \n",
       "max       72.000000      190.000000      471.000000  "
      ]
     },
     "execution_count": 90,
     "metadata": {},
     "output_type": "execute_result"
    }
   ],
   "source": [
    "pitch_ball.describe()"
   ]
  },
  {
   "cell_type": "code",
   "execution_count": 91,
   "metadata": {},
   "outputs": [],
   "source": [
    "pitch_ball.to_feather(OUT_PIT)"
   ]
  },
  {
   "cell_type": "markdown",
   "metadata": {},
   "source": [
    "## 野手\n",
    "### 打席数"
   ]
  },
  {
   "cell_type": "code",
   "execution_count": 92,
   "metadata": {},
   "outputs": [],
   "source": [
    "bat_ball = train_pitch[['打者ID', '試合ID', 'イニング', 'イニング内打席数']].groupby(['打者ID', '試合ID', 'イニング', 'イニング内打席数']).count()\n",
    "bat_ball = pd.DataFrame(bat_ball.groupby(['打者ID']).size())\n",
    "bat_ball.reset_index(inplace=True)\n",
    "bat_ball.rename(columns={0: 'batter_cnt'}, inplace=True)"
   ]
  },
  {
   "cell_type": "markdown",
   "metadata": {},
   "source": [
    "### 試合数"
   ]
  },
  {
   "cell_type": "code",
   "execution_count": 93,
   "metadata": {},
   "outputs": [],
   "source": [
    "bat_game = train_pitch[['打者ID', '試合ID']].groupby(['打者ID', '試合ID']).count()\n",
    "bat_game = pd.DataFrame(bat_game.groupby(['打者ID']).size())\n",
    "bat_game.reset_index(inplace=True)\n",
    "bat_game.rename(columns={0: 'bat_game_cnt'}, inplace=True)"
   ]
  },
  {
   "cell_type": "markdown",
   "metadata": {},
   "source": [
    "### 打者成績まとめ"
   ]
  },
  {
   "cell_type": "code",
   "execution_count": 94,
   "metadata": {},
   "outputs": [],
   "source": [
    "bat_ball = bat_ball.merge(bat_game, on='打者ID', how='left')"
   ]
  },
  {
   "cell_type": "code",
   "execution_count": 95,
   "metadata": {},
   "outputs": [
    {
     "name": "stdout",
     "output_type": "stream",
     "text": [
      "(466, 3)\n"
     ]
    },
    {
     "data": {
      "text/html": [
       "<div>\n",
       "<style scoped>\n",
       "    .dataframe tbody tr th:only-of-type {\n",
       "        vertical-align: middle;\n",
       "    }\n",
       "\n",
       "    .dataframe tbody tr th {\n",
       "        vertical-align: top;\n",
       "    }\n",
       "\n",
       "    .dataframe thead th {\n",
       "        text-align: right;\n",
       "    }\n",
       "</style>\n",
       "<table border=\"1\" class=\"dataframe\">\n",
       "  <thead>\n",
       "    <tr style=\"text-align: right;\">\n",
       "      <th></th>\n",
       "      <th>打者ID</th>\n",
       "      <th>batter_cnt</th>\n",
       "      <th>bat_game_cnt</th>\n",
       "    </tr>\n",
       "  </thead>\n",
       "  <tbody>\n",
       "    <tr>\n",
       "      <th>0</th>\n",
       "      <td>11270</td>\n",
       "      <td>83</td>\n",
       "      <td>35</td>\n",
       "    </tr>\n",
       "    <tr>\n",
       "      <th>1</th>\n",
       "      <td>11302</td>\n",
       "      <td>156</td>\n",
       "      <td>69</td>\n",
       "    </tr>\n",
       "    <tr>\n",
       "      <th>2</th>\n",
       "      <td>11343</td>\n",
       "      <td>41</td>\n",
       "      <td>28</td>\n",
       "    </tr>\n",
       "    <tr>\n",
       "      <th>3</th>\n",
       "      <td>11436</td>\n",
       "      <td>268</td>\n",
       "      <td>81</td>\n",
       "    </tr>\n",
       "    <tr>\n",
       "      <th>4</th>\n",
       "      <td>11511</td>\n",
       "      <td>48</td>\n",
       "      <td>21</td>\n",
       "    </tr>\n",
       "  </tbody>\n",
       "</table>\n",
       "</div>"
      ],
      "text/plain": [
       "    打者ID  batter_cnt  bat_game_cnt\n",
       "0  11270          83            35\n",
       "1  11302         156            69\n",
       "2  11343          41            28\n",
       "3  11436         268            81\n",
       "4  11511          48            21"
      ]
     },
     "execution_count": 95,
     "metadata": {},
     "output_type": "execute_result"
    }
   ],
   "source": [
    "print(bat_ball.shape)\n",
    "bat_ball.head()"
   ]
  },
  {
   "cell_type": "code",
   "execution_count": 96,
   "metadata": {},
   "outputs": [
    {
     "data": {
      "text/html": [
       "<div>\n",
       "<style scoped>\n",
       "    .dataframe tbody tr th:only-of-type {\n",
       "        vertical-align: middle;\n",
       "    }\n",
       "\n",
       "    .dataframe tbody tr th {\n",
       "        vertical-align: top;\n",
       "    }\n",
       "\n",
       "    .dataframe thead th {\n",
       "        text-align: right;\n",
       "    }\n",
       "</style>\n",
       "<table border=\"1\" class=\"dataframe\">\n",
       "  <thead>\n",
       "    <tr style=\"text-align: right;\">\n",
       "      <th></th>\n",
       "      <th>打者ID</th>\n",
       "      <th>batter_cnt</th>\n",
       "      <th>bat_game_cnt</th>\n",
       "    </tr>\n",
       "  </thead>\n",
       "  <tbody>\n",
       "    <tr>\n",
       "      <th>count</th>\n",
       "      <td>4.660000e+02</td>\n",
       "      <td>466.000000</td>\n",
       "      <td>466.000000</td>\n",
       "    </tr>\n",
       "    <tr>\n",
       "      <th>mean</th>\n",
       "      <td>1.044992e+06</td>\n",
       "      <td>139.688841</td>\n",
       "      <td>41.448498</td>\n",
       "    </tr>\n",
       "    <tr>\n",
       "      <th>std</th>\n",
       "      <td>4.687117e+05</td>\n",
       "      <td>184.754006</td>\n",
       "      <td>45.398623</td>\n",
       "    </tr>\n",
       "    <tr>\n",
       "      <th>min</th>\n",
       "      <td>1.127000e+04</td>\n",
       "      <td>1.000000</td>\n",
       "      <td>1.000000</td>\n",
       "    </tr>\n",
       "    <tr>\n",
       "      <th>25%</th>\n",
       "      <td>8.000125e+05</td>\n",
       "      <td>7.250000</td>\n",
       "      <td>4.000000</td>\n",
       "    </tr>\n",
       "    <tr>\n",
       "      <th>50%</th>\n",
       "      <td>1.100114e+06</td>\n",
       "      <td>44.000000</td>\n",
       "      <td>21.000000</td>\n",
       "    </tr>\n",
       "    <tr>\n",
       "      <th>75%</th>\n",
       "      <td>1.400182e+06</td>\n",
       "      <td>222.500000</td>\n",
       "      <td>71.750000</td>\n",
       "    </tr>\n",
       "    <tr>\n",
       "      <th>max</th>\n",
       "      <td>1.700019e+06</td>\n",
       "      <td>680.000000</td>\n",
       "      <td>143.000000</td>\n",
       "    </tr>\n",
       "  </tbody>\n",
       "</table>\n",
       "</div>"
      ],
      "text/plain": [
       "               打者ID  batter_cnt  bat_game_cnt\n",
       "count  4.660000e+02  466.000000    466.000000\n",
       "mean   1.044992e+06  139.688841     41.448498\n",
       "std    4.687117e+05  184.754006     45.398623\n",
       "min    1.127000e+04    1.000000      1.000000\n",
       "25%    8.000125e+05    7.250000      4.000000\n",
       "50%    1.100114e+06   44.000000     21.000000\n",
       "75%    1.400182e+06  222.500000     71.750000\n",
       "max    1.700019e+06  680.000000    143.000000"
      ]
     },
     "execution_count": 96,
     "metadata": {},
     "output_type": "execute_result"
    }
   ],
   "source": [
    "bat_ball.describe()"
   ]
  },
  {
   "cell_type": "code",
   "execution_count": 97,
   "metadata": {},
   "outputs": [],
   "source": [
    "bat_ball.to_feather(OUT_BAT)"
   ]
  }
 ],
 "metadata": {
  "kernelspec": {
   "display_name": "Python 3",
   "language": "python",
   "name": "python3"
  },
  "language_info": {
   "codemirror_mode": {
    "name": "ipython",
    "version": 3
   },
   "file_extension": ".py",
   "mimetype": "text/x-python",
   "name": "python",
   "nbconvert_exporter": "python",
   "pygments_lexer": "ipython3",
   "version": "3.7.6"
  }
 },
 "nbformat": 4,
 "nbformat_minor": 4
}
