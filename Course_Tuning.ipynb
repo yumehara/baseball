{
 "cells": [
  {
   "cell_type": "markdown",
   "metadata": {},
   "source": [
    "## Course Tuning\n",
    "### 23"
   ]
  },
  {
   "cell_type": "code",
   "execution_count": 1,
   "metadata": {},
   "outputs": [],
   "source": [
    "import numpy as np\n",
    "import pandas as pd\n",
    "import matplotlib.pyplot as plt\n",
    "#import lightgbm as lgb\n",
    "import optuna.integration.lightgbm as lgb\n",
    "from sklearn import datasets\n",
    "from sklearn.model_selection import train_test_split\n",
    "import gc\n",
    "%matplotlib inline\n",
    "pd.set_option('display.max_Columns', 100)"
   ]
  },
  {
   "cell_type": "markdown",
   "metadata": {},
   "source": [
    "### 管理番号"
   ]
  },
  {
   "cell_type": "code",
   "execution_count": 2,
   "metadata": {},
   "outputs": [],
   "source": [
    "model_No = 32\n",
    "sample_No = 1"
   ]
  },
  {
   "cell_type": "markdown",
   "metadata": {},
   "source": [
    "### sub-modelを使用するかどうか"
   ]
  },
  {
   "cell_type": "code",
   "execution_count": 3,
   "metadata": {},
   "outputs": [],
   "source": [
    "use_sub_model = False"
   ]
  },
  {
   "cell_type": "code",
   "execution_count": 4,
   "metadata": {},
   "outputs": [],
   "source": [
    "if use_sub_model:\n",
    "    ALL_MERGE = 'intermediate/{}/all_merge_{}_{}_sub.f'.format(model_No, model_No, sample_No)\n",
    "else:\n",
    "    ALL_MERGE = 'intermediate/{}/all_merge_{}_{}.f'.format(model_No, model_No, sample_No)"
   ]
  },
  {
   "cell_type": "code",
   "execution_count": 5,
   "metadata": {},
   "outputs": [
    {
     "data": {
      "text/plain": [
       "(778767, 584)"
      ]
     },
     "execution_count": 5,
     "metadata": {},
     "output_type": "execute_result"
    }
   ],
   "source": [
    "all_pitch = pd.read_feather(ALL_MERGE)\n",
    "all_pitch.shape"
   ]
  },
  {
   "cell_type": "code",
   "execution_count": 6,
   "metadata": {},
   "outputs": [],
   "source": [
    "if use_sub_model:\n",
    "    all_pitch['predict_curve'] = all_pitch['predict_curve'] / all_pitch['predict_straight']\n",
    "    all_pitch['predict_slider'] = all_pitch['predict_slider'] / all_pitch['predict_straight']\n",
    "    all_pitch['predict_shoot'] = all_pitch['predict_shoot'] / all_pitch['predict_straight']\n",
    "    all_pitch['predict_fork'] = all_pitch['predict_fork'] / all_pitch['predict_straight']\n",
    "    all_pitch['predict_changeup'] = all_pitch['predict_changeup'] / all_pitch['predict_straight']\n",
    "    all_pitch['predict_sinker'] = all_pitch['predict_sinker'] / all_pitch['predict_straight']\n",
    "    all_pitch['predict_cutball'] = all_pitch['predict_cutball'] / all_pitch['predict_straight']\n",
    "    all_pitch.drop(columns=[\n",
    "        'predict_0', 'predict_1', 'predict_2', 'predict_3', 'predict_4', 'predict_5', 'predict_6',\n",
    "        'predict_7', 'predict_8', 'predict_9', 'predict_10', 'predict_11', 'predict_12',\n",
    "       'predict_straight'\n",
    "    ], inplace=True)"
   ]
  },
  {
   "cell_type": "markdown",
   "metadata": {},
   "source": [
    "### train\n",
    "- 行数: 257117"
   ]
  },
  {
   "cell_type": "code",
   "execution_count": 7,
   "metadata": {},
   "outputs": [
    {
     "data": {
      "text/plain": [
       "(257117, 584)"
      ]
     },
     "execution_count": 7,
     "metadata": {},
     "output_type": "execute_result"
    }
   ],
   "source": [
    "train = all_pitch.dropna(subset=['course'])\n",
    "train.shape"
   ]
  },
  {
   "cell_type": "markdown",
   "metadata": {},
   "source": [
    "#### 特徴量に加えた部分を抜く"
   ]
  },
  {
   "cell_type": "code",
   "execution_count": 8,
   "metadata": {},
   "outputs": [
    {
     "data": {
      "text/plain": [
       "(197116, 584)"
      ]
     },
     "execution_count": 8,
     "metadata": {},
     "output_type": "execute_result"
    }
   ],
   "source": [
    "if sample_No == 1:\n",
    "    train = train.query('index > 60000')\n",
    "elif sample_No == 2:\n",
    "    train = train.query('index <= 60000 | index > 120000')\n",
    "elif sample_No == 3:\n",
    "    train = train.query('index <= 120000 | index > 180000')\n",
    "elif sample_No == 4:\n",
    "    train = train.query('index <= 180000')\n",
    "train.shape"
   ]
  },
  {
   "cell_type": "code",
   "execution_count": 9,
   "metadata": {
    "scrolled": true
   },
   "outputs": [
    {
     "data": {
      "text/plain": [
       "36"
      ]
     },
     "execution_count": 9,
     "metadata": {},
     "output_type": "execute_result"
    }
   ],
   "source": [
    "del all_pitch\n",
    "gc.collect()"
   ]
  },
  {
   "cell_type": "code",
   "execution_count": 10,
   "metadata": {},
   "outputs": [],
   "source": [
    "train_d = train.drop([\n",
    "    'No', \n",
    "    'course', \n",
    "    'ball'\n",
    "], axis=1)"
   ]
  },
  {
   "cell_type": "markdown",
   "metadata": {},
   "source": [
    "### LGBM学習\n",
    "- multiclass : クラス数=13"
   ]
  },
  {
   "cell_type": "code",
   "execution_count": 11,
   "metadata": {},
   "outputs": [],
   "source": [
    "X_train, X_test, y_train, y_test = train_test_split(train_d, train['course'])\n",
    "lgb_train = lgb.Dataset(X_train, y_train)\n",
    "lgb_eval = lgb.Dataset(X_test, y_test, reference=lgb_train)"
   ]
  },
  {
   "cell_type": "code",
   "execution_count": 12,
   "metadata": {
    "scrolled": false
   },
   "outputs": [],
   "source": [
    "lgb_param = {\n",
    "        'objective' : 'multiclass',\n",
    "        'boosting_type': 'dart',\n",
    "        'metric' : 'multi_logloss',\n",
    "        'num_class' : 13,\n",
    "    }"
   ]
  },
  {
   "cell_type": "code",
   "execution_count": 13,
   "metadata": {
    "scrolled": false
   },
   "outputs": [
    {
     "name": "stderr",
     "output_type": "stream",
     "text": [
      "/home/yasunobu_umehara/anaconda3/lib/python3.7/site-packages/optuna/_experimental.py:90: ExperimentalWarning: train is experimental (supported from v0.18.0). The interface can change in the future.\n",
      "  ExperimentalWarning,\n",
      "tune_feature_fraction, val_score: 2.346311:  14%|#4        | 1/7 [07:59<47:59, 479.90s/it][I 2020-06-20 06:08:04,986] Finished trial#0 with value: 2.346311187594374 with parameters: {'feature_fraction': 0.4}. Best is trial#0 with value: 2.346311187594374.\n",
      "tune_feature_fraction, val_score: 2.345445:  29%|##8       | 2/7 [16:33<40:49, 489.88s/it][I 2020-06-20 06:16:38,168] Finished trial#1 with value: 2.3454453876280645 with parameters: {'feature_fraction': 0.5}. Best is trial#1 with value: 2.3454453876280645.\n",
      "tune_feature_fraction, val_score: 2.345445:  43%|####2     | 3/7 [25:45<33:54, 508.60s/it][I 2020-06-20 06:25:50,455] Finished trial#2 with value: 2.3460111495940437 with parameters: {'feature_fraction': 0.6}. Best is trial#1 with value: 2.3454453876280645.\n",
      "tune_feature_fraction, val_score: 2.345445:  57%|#####7    | 4/7 [35:42<26:45, 535.03s/it][I 2020-06-20 06:35:47,175] Finished trial#3 with value: 2.3465246788377834 with parameters: {'feature_fraction': 0.7}. Best is trial#1 with value: 2.3454453876280645.\n",
      "tune_feature_fraction, val_score: 2.345445:  71%|#######1  | 5/7 [46:22<18:53, 566.78s/it][I 2020-06-20 06:46:28,040] Finished trial#4 with value: 2.3466050705365875 with parameters: {'feature_fraction': 0.8}. Best is trial#1 with value: 2.3454453876280645.\n",
      "tune_feature_fraction, val_score: 2.345445:  86%|########5 | 6/7 [57:36<09:58, 598.89s/it][I 2020-06-20 06:57:41,835] Finished trial#5 with value: 2.347407286620402 with parameters: {'feature_fraction': 0.8999999999999999}. Best is trial#1 with value: 2.3454453876280645.\n",
      "tune_num_leaves, val_score: 2.345445:   5%|5         | 1/20 [08:46<2:46:51, 526.93s/it]it][I 2020-06-20 07:18:21,582] Finished trial#0 with value: 2.34662746826168 with parameters: {'num_leaves': 33}. Best is trial#0 with value: 2.34662746826168.\n",
      "tune_num_leaves, val_score: 2.345445:  10%|#         | 2/20 [26:02<3:23:52, 679.56s/it][I 2020-06-20 07:35:37,284] Finished trial#1 with value: 2.394257450184777 with parameters: {'num_leaves': 132}. Best is trial#0 with value: 2.34662746826168.\n",
      "tune_num_leaves, val_score: 2.345445:  15%|#5        | 3/20 [35:59<3:05:29, 654.66s/it][I 2020-06-20 07:45:33,837] Finished trial#2 with value: 2.350763286734601 with parameters: {'num_leaves': 44}. Best is trial#0 with value: 2.34662746826168.\n",
      "tune_num_leaves, val_score: 2.345445:  20%|##        | 4/20 [55:53<3:37:47, 816.70s/it][I 2020-06-20 08:05:28,635] Finished trial#3 with value: 2.4150708327897936 with parameters: {'num_leaves': 167}. Best is trial#0 with value: 2.34662746826168.\n",
      "tune_num_leaves, val_score: 2.345445:  25%|##5       | 5/20 [1:17:25<3:59:45, 959.01s/it][I 2020-06-20 08:26:59,701] Finished trial#4 with value: 2.424445175867489 with parameters: {'num_leaves': 187}. Best is trial#0 with value: 2.34662746826168.\n",
      "tune_num_leaves, val_score: 2.345445:  30%|###       | 6/20 [1:43:30<4:26:14, 1141.03s/it][I 2020-06-20 08:53:05,434] Finished trial#5 with value: 2.461447666446801 with parameters: {'num_leaves': 246}. Best is trial#0 with value: 2.34662746826168.\n",
      "tune_num_leaves, val_score: 2.345445:  35%|###5      | 7/20 [2:05:24<4:18:27, 1192.86s/it][I 2020-06-20 09:14:59,252] Finished trial#6 with value: 2.425780533823307 with parameters: {'num_leaves': 189}. Best is trial#0 with value: 2.34662746826168.\n",
      "tune_num_leaves, val_score: 2.345445:  40%|####      | 8/20 [2:28:13<4:09:07, 1245.62s/it][I 2020-06-20 09:37:47,973] Finished trial#7 with value: 2.433455324819799 with parameters: {'num_leaves': 201}. Best is trial#0 with value: 2.34662746826168.\n",
      "tune_num_leaves, val_score: 2.345445:  45%|####5     | 9/20 [2:53:24<4:02:57, 1325.23s/it][I 2020-06-20 10:02:58,972] Finished trial#8 with value: 2.4530994407180695 with parameters: {'num_leaves': 233}. Best is trial#0 with value: 2.34662746826168.\n",
      "tune_num_leaves, val_score: 2.345445:  50%|#####     | 10/20 [2:56:03<2:42:33, 975.35s/it][I 2020-06-20 10:05:37,892] Finished trial#9 with value: 2.3514657604128746 with parameters: {'num_leaves': 2}. Best is trial#0 with value: 2.34662746826168.\n",
      "tune_num_leaves, val_score: 2.345445:  55%|#####5    | 11/20 [3:08:27<2:15:52, 905.88s/it][I 2020-06-20 10:18:01,694] Finished trial#10 with value: 2.363052304425284 with parameters: {'num_leaves': 71}. Best is trial#0 with value: 2.34662746826168.\n",
      "tune_num_leaves, val_score: 2.342692:  60%|######    | 12/20 [3:16:19<1:43:26, 775.85s/it][I 2020-06-20 10:25:54,127] Finished trial#11 with value: 2.342691733613373 with parameters: {'num_leaves': 22}. Best is trial#11 with value: 2.342691733613373.\n",
      "tune_num_leaves, val_score: 2.342539:  65%|######5   | 13/20 [3:20:41<1:12:31, 621.63s/it][I 2020-06-20 10:30:15,912] Finished trial#12 with value: 2.3425385359681643 with parameters: {'num_leaves': 4}. Best is trial#12 with value: 2.3425385359681643.\n",
      "tune_num_leaves, val_score: 2.342539:  70%|#######   | 14/20 [3:34:16<1:07:59, 679.84s/it][I 2020-06-20 10:43:51,585] Finished trial#13 with value: 2.3697911836951286 with parameters: {'num_leaves': 86}. Best is trial#12 with value: 2.3425385359681643.\n",
      "tune_num_leaves, val_score: 2.340094:  75%|#######5  | 15/20 [3:39:19<47:13, 566.68s/it]  [I 2020-06-20 10:48:54,220] Finished trial#14 with value: 2.3400937590930733 with parameters: {'num_leaves': 6}. Best is trial#14 with value: 2.3400937590930733.\n",
      "tune_num_leaves, val_score: 2.340094:  80%|########  | 16/20 [3:43:39<31:38, 474.63s/it][I 2020-06-20 10:53:14,075] Finished trial#15 with value: 2.342538535968164 with parameters: {'num_leaves': 4}. Best is trial#14 with value: 2.3400937590930733.\n",
      "tune_num_leaves, val_score: 2.340094:  85%|########5 | 17/20 [3:56:32<28:12, 564.07s/it][I 2020-06-20 11:06:06,832] Finished trial#16 with value: 2.3664231181015607 with parameters: {'num_leaves': 78}. Best is trial#14 with value: 2.3400937590930733.\n",
      "tune_num_leaves, val_score: 2.340094:  90%|######### | 18/20 [4:12:50<22:56, 688.21s/it][I 2020-06-20 11:22:24,702] Finished trial#17 with value: 2.3887511603910587 with parameters: {'num_leaves': 121}. Best is trial#14 with value: 2.3400937590930733.\n",
      "tune_num_leaves, val_score: 2.340094:  95%|#########5| 19/20 [4:23:19<11:10, 670.70s/it][I 2020-06-20 11:32:54,553] Finished trial#18 with value: 2.3543073394524106 with parameters: {'num_leaves': 51}. Best is trial#14 with value: 2.3400937590930733.\n",
      "tune_num_leaves, val_score: 2.340094: 100%|##########| 20/20 [4:27:40<00:00, 547.82s/it][I 2020-06-20 11:37:15,649] Finished trial#19 with value: 2.342538535968164 with parameters: {'num_leaves': 4}. Best is trial#14 with value: 2.3400937590930733.\n",
      "tune_num_leaves, val_score: 2.340094: 100%|##########| 20/20 [4:27:41<00:00, 803.05s/it]\n",
      "tune_bagging_fraction_and_bagging_freq, val_score: 2.340094:  10%|#         | 1/10 [04:01<36:12, 241.43s/it][I 2020-06-20 11:41:17,194] Finished trial#0 with value: 2.340743080371187 with parameters: {'bagging_fraction': 0.5468883268292501, 'bagging_freq': 5}. Best is trial#0 with value: 2.340743080371187.\n",
      "tune_bagging_fraction_and_bagging_freq, val_score: 2.340094:  20%|##        | 2/10 [07:51<31:45, 238.17s/it][I 2020-06-20 11:45:07,747] Finished trial#1 with value: 2.3411285439937677 with parameters: {'bagging_fraction': 0.48199021911149237, 'bagging_freq': 2}. Best is trial#0 with value: 2.340743080371187.\n",
      "tune_bagging_fraction_and_bagging_freq, val_score: 2.339638:  30%|###       | 3/10 [12:31<29:14, 250.68s/it][I 2020-06-20 11:49:47,639] Finished trial#2 with value: 2.339637753186007 with parameters: {'bagging_fraction': 0.7965160701163017, 'bagging_freq': 5}. Best is trial#2 with value: 2.339637753186007.\n",
      "tune_bagging_fraction_and_bagging_freq, val_score: 2.339638:  40%|####      | 4/10 [16:25<24:33, 245.59s/it][I 2020-06-20 11:53:41,335] Finished trial#3 with value: 2.3406386227222074 with parameters: {'bagging_fraction': 0.4963730406714028, 'bagging_freq': 2}. Best is trial#2 with value: 2.339637753186007.\n"
     ]
    },
    {
     "name": "stderr",
     "output_type": "stream",
     "text": [
      "tune_bagging_fraction_and_bagging_freq, val_score: 2.339638:  50%|#####     | 5/10 [20:31<20:28, 245.68s/it][I 2020-06-20 11:57:47,225] Finished trial#4 with value: 2.3412784218432985 with parameters: {'bagging_fraction': 0.5643450247886601, 'bagging_freq': 6}. Best is trial#2 with value: 2.339637753186007.\n",
      "tune_bagging_fraction_and_bagging_freq, val_score: 2.339638:  60%|######    | 6/10 [24:23<16:06, 241.73s/it][I 2020-06-20 12:01:39,754] Finished trial#5 with value: 2.3414092207602843 with parameters: {'bagging_fraction': 0.494381410126377, 'bagging_freq': 2}. Best is trial#2 with value: 2.339637753186007.\n",
      "tune_bagging_fraction_and_bagging_freq, val_score: 2.339638:  70%|#######   | 7/10 [28:10<11:51, 237.16s/it][I 2020-06-20 12:05:26,257] Finished trial#6 with value: 2.3418002089831482 with parameters: {'bagging_fraction': 0.44403106437804074, 'bagging_freq': 4}. Best is trial#2 with value: 2.339637753186007.\n",
      "tune_bagging_fraction_and_bagging_freq, val_score: 2.339638:  80%|########  | 8/10 [32:03<07:51, 235.83s/it][I 2020-06-20 12:09:18,975] Finished trial#7 with value: 2.342376557594403 with parameters: {'bagging_fraction': 0.4783509870267479, 'bagging_freq': 6}. Best is trial#2 with value: 2.339637753186007.\n",
      "tune_bagging_fraction_and_bagging_freq, val_score: 2.339638:  90%|######### | 9/10 [36:31<04:05, 245.59s/it][I 2020-06-20 12:13:47,330] Finished trial#8 with value: 2.340141855838166 with parameters: {'bagging_fraction': 0.7102674126890074, 'bagging_freq': 7}. Best is trial#2 with value: 2.339637753186007.\n",
      "tune_bagging_fraction_and_bagging_freq, val_score: 2.339638: 100%|##########| 10/10 [40:31<00:00, 243.84s/it][I 2020-06-20 12:17:47,109] Finished trial#9 with value: 2.341440514292052 with parameters: {'bagging_fraction': 0.5094575658653093, 'bagging_freq': 1}. Best is trial#2 with value: 2.339637753186007.\n",
      "tune_bagging_fraction_and_bagging_freq, val_score: 2.339638: 100%|##########| 10/10 [40:31<00:00, 243.14s/it]\n",
      "tune_feature_fraction, val_score: 2.339638:  17%|#6        | 1/6 [04:25<22:06, 265.27s/it][I 2020-06-20 12:22:12,478] Finished trial#0 with value: 2.3400232028966843 with parameters: {'feature_fraction': 0.42}. Best is trial#0 with value: 2.3400232028966843.\n",
      "tune_feature_fraction, val_score: 2.339638:  33%|###3      | 2/6 [08:54<17:46, 266.52s/it][I 2020-06-20 12:26:41,900] Finished trial#1 with value: 2.3397139854104303 with parameters: {'feature_fraction': 0.45199999999999996}. Best is trial#1 with value: 2.3397139854104303.\n",
      "tune_feature_fraction, val_score: 2.339638:  50%|#####     | 3/6 [13:34<13:31, 270.40s/it][I 2020-06-20 12:31:21,353] Finished trial#2 with value: 2.339669917599487 with parameters: {'feature_fraction': 0.484}. Best is trial#2 with value: 2.339669917599487.\n",
      "tune_feature_fraction, val_score: 2.339633:  67%|######6   | 4/6 [18:19<09:09, 274.78s/it][I 2020-06-20 12:36:06,365] Finished trial#3 with value: 2.3396331903911296 with parameters: {'feature_fraction': 0.516}. Best is trial#3 with value: 2.3396331903911296.\n",
      "tune_feature_fraction, val_score: 2.339633:  83%|########3 | 5/6 [23:14<04:40, 280.90s/it][I 2020-06-20 12:41:01,555] Finished trial#4 with value: 2.3404953176621786 with parameters: {'feature_fraction': 0.5479999999999999}. Best is trial#3 with value: 2.3396331903911296.\n",
      "tune_feature_fraction, val_score: 2.339633: 100%|##########| 6/6 [28:14<00:00, 286.67s/it][I 2020-06-20 12:46:01,683] Finished trial#5 with value: 2.3397750505061374 with parameters: {'feature_fraction': 0.58}. Best is trial#3 with value: 2.3396331903911296.\n",
      "tune_feature_fraction, val_score: 2.339633: 100%|##########| 6/6 [28:14<00:00, 282.43s/it]\n",
      "tune_lambda_l1_and_lambda_l2, val_score: 2.339633:   5%|5         | 1/20 [04:45<1:30:33, 285.99s/it][I 2020-06-20 12:50:47,769] Finished trial#0 with value: 2.3397854352978222 with parameters: {'lambda_l1': 1.7023825467485242e-05, 'lambda_l2': 0.19910370248937878}. Best is trial#0 with value: 2.3397854352978222.\n",
      "tune_lambda_l1_and_lambda_l2, val_score: 2.339398:  10%|#         | 2/20 [09:40<1:26:33, 288.55s/it][I 2020-06-20 12:55:42,270] Finished trial#1 with value: 2.339397707849374 with parameters: {'lambda_l1': 1.1884505384138539e-05, 'lambda_l2': 2.9832645939837428}. Best is trial#1 with value: 2.339397707849374.\n",
      "tune_lambda_l1_and_lambda_l2, val_score: 2.339398:  15%|#5        | 3/20 [14:25<1:21:26, 287.44s/it][I 2020-06-20 13:00:27,142] Finished trial#2 with value: 2.3396467637841405 with parameters: {'lambda_l1': 0.00010809153673576069, 'lambda_l2': 4.907447429048797e-06}. Best is trial#1 with value: 2.339397707849374.\n",
      "tune_lambda_l1_and_lambda_l2, val_score: 2.339398:  20%|##        | 4/20 [19:08<1:16:20, 286.26s/it][I 2020-06-20 13:05:10,635] Finished trial#3 with value: 2.3399501626103785 with parameters: {'lambda_l1': 0.0005372116925183128, 'lambda_l2': 0.00018845245766279875}. Best is trial#1 with value: 2.339397707849374.\n",
      "tune_lambda_l1_and_lambda_l2, val_score: 2.339398:  25%|##5       | 5/20 [23:52<1:11:21, 285.40s/it][I 2020-06-20 13:09:54,037] Finished trial#4 with value: 2.3395162531237883 with parameters: {'lambda_l1': 1.9115675856035928e-08, 'lambda_l2': 0.0006871355451081178}. Best is trial#1 with value: 2.339397707849374.\n",
      "tune_lambda_l1_and_lambda_l2, val_score: 2.339398:  30%|###       | 6/20 [28:38<1:06:39, 285.64s/it][I 2020-06-20 13:14:40,245] Finished trial#5 with value: 2.3398634213252594 with parameters: {'lambda_l1': 0.006202777768391617, 'lambda_l2': 2.0828672416376378e-05}. Best is trial#1 with value: 2.339397707849374.\n",
      "tune_lambda_l1_and_lambda_l2, val_score: 2.338101:  35%|###5      | 7/20 [33:57<1:04:01, 295.52s/it][I 2020-06-20 13:19:58,793] Finished trial#6 with value: 2.3381010594489195 with parameters: {'lambda_l1': 8.074719414659954, 'lambda_l2': 1.5919119266007067}. Best is trial#6 with value: 2.3381010594489195.\n",
      "tune_lambda_l1_and_lambda_l2, val_score: 2.338101:  40%|####      | 8/20 [38:41<58:26, 292.23s/it]  [I 2020-06-20 13:24:43,355] Finished trial#7 with value: 2.340232496140508 with parameters: {'lambda_l1': 0.0001868927014767542, 'lambda_l2': 2.8364368298423633e-07}. Best is trial#6 with value: 2.3381010594489195.\n",
      "tune_lambda_l1_and_lambda_l2, val_score: 2.338101:  45%|####5     | 9/20 [43:28<53:16, 290.55s/it][I 2020-06-20 13:29:29,989] Finished trial#8 with value: 2.3396177641149665 with parameters: {'lambda_l1': 2.8590942186008285e-05, 'lambda_l2': 0.30392639019385737}. Best is trial#6 with value: 2.3381010594489195.\n",
      "tune_lambda_l1_and_lambda_l2, val_score: 2.338101:  50%|#####     | 10/20 [48:13<48:11, 289.12s/it][I 2020-06-20 13:34:15,762] Finished trial#9 with value: 2.3399499020628345 with parameters: {'lambda_l1': 0.002559710272899719, 'lambda_l2': 7.622342429604437e-06}. Best is trial#6 with value: 2.3381010594489195.\n",
      "tune_lambda_l1_and_lambda_l2, val_score: 2.338101:  55%|#####5    | 11/20 [53:23<44:16, 295.16s/it][I 2020-06-20 13:39:25,032] Finished trial#10 with value: 2.338206751197588 with parameters: {'lambda_l1': 4.815939227453286, 'lambda_l2': 0.013171171824153527}. Best is trial#6 with value: 2.3381010594489195.\n",
      "tune_lambda_l1_and_lambda_l2, val_score: 2.338101:  60%|######    | 12/20 [58:37<40:06, 300.82s/it][I 2020-06-20 13:44:39,068] Finished trial#11 with value: 2.338232578168786 with parameters: {'lambda_l1': 6.250101437209943, 'lambda_l2': 0.010963264226369781}. Best is trial#6 with value: 2.3381010594489195.\n",
      "tune_lambda_l1_and_lambda_l2, val_score: 2.338101:  65%|######5   | 13/20 [1:03:49<35:29, 304.22s/it][I 2020-06-20 13:49:51,212] Finished trial#12 with value: 2.3383012669731333 with parameters: {'lambda_l1': 3.173271299048677, 'lambda_l2': 8.363377842936272}. Best is trial#6 with value: 2.3381010594489195.\n",
      "tune_lambda_l1_and_lambda_l2, val_score: 2.338101:  70%|#######   | 14/20 [1:08:35<29:52, 298.82s/it][I 2020-06-20 13:54:37,432] Finished trial#13 with value: 2.339391577164992 with parameters: {'lambda_l1': 0.25304938647346825, 'lambda_l2': 0.019284629297180975}. Best is trial#6 with value: 2.3381010594489195.\n"
     ]
    },
    {
     "name": "stderr",
     "output_type": "stream",
     "text": [
      "tune_lambda_l1_and_lambda_l2, val_score: 2.338101:  75%|#######5  | 15/20 [1:13:20<24:33, 294.75s/it][I 2020-06-20 13:59:22,687] Finished trial#14 with value: 2.339398237368972 with parameters: {'lambda_l1': 0.1781478469894777, 'lambda_l2': 0.008946174782520931}. Best is trial#6 with value: 2.3381010594489195.\n",
      "tune_lambda_l1_and_lambda_l2, val_score: 2.338101:  80%|########  | 16/20 [1:18:10<19:32, 293.19s/it][I 2020-06-20 14:04:12,222] Finished trial#15 with value: 2.3395578234001295 with parameters: {'lambda_l1': 0.31624751408262525, 'lambda_l2': 0.6431289078086456}. Best is trial#6 with value: 2.3381010594489195.\n",
      "tune_lambda_l1_and_lambda_l2, val_score: 2.338101:  85%|########5 | 17/20 [1:23:29<15:02, 300.87s/it][I 2020-06-20 14:09:31,028] Finished trial#16 with value: 2.3382678007773983 with parameters: {'lambda_l1': 8.032580295707369, 'lambda_l2': 0.03896291205792476}. Best is trial#6 with value: 2.3381010594489195.\n",
      "tune_lambda_l1_and_lambda_l2, val_score: 2.338101:  90%|######### | 18/20 [1:28:14<09:52, 296.09s/it][I 2020-06-20 14:14:15,960] Finished trial#17 with value: 2.339784377279117 with parameters: {'lambda_l1': 3.308645068868324e-07, 'lambda_l2': 0.0007792068836491822}. Best is trial#6 with value: 2.3381010594489195.\n",
      "tune_lambda_l1_and_lambda_l2, val_score: 2.338101:  95%|#########5| 19/20 [1:33:15<04:57, 297.65s/it][I 2020-06-20 14:19:17,259] Finished trial#18 with value: 2.3387711019034887 with parameters: {'lambda_l1': 0.026847262121834945, 'lambda_l2': 8.713916669400422}. Best is trial#6 with value: 2.3381010594489195.\n",
      "tune_lambda_l1_and_lambda_l2, val_score: 2.338101: 100%|##########| 20/20 [1:38:18<00:00, 299.36s/it][I 2020-06-20 14:24:20,621] Finished trial#19 with value: 2.3386773280805526 with parameters: {'lambda_l1': 1.7522387631964693, 'lambda_l2': 1.4498123556709848}. Best is trial#6 with value: 2.3381010594489195.\n",
      "tune_lambda_l1_and_lambda_l2, val_score: 2.338101: 100%|##########| 20/20 [1:38:18<00:00, 294.95s/it]\n",
      "tune_min_child_samples, val_score: 2.338101:  20%|##        | 1/5 [05:20<21:20, 320.23s/it][I 2020-06-20 14:29:40,957] Finished trial#0 with value: 2.3381306243907103 with parameters: {'min_child_samples': 5}. Best is trial#0 with value: 2.3381306243907103.\n",
      "tune_min_child_samples, val_score: 2.338101:  40%|####      | 2/5 [10:39<15:59, 319.92s/it][I 2020-06-20 14:35:00,135] Finished trial#1 with value: 2.3382198226345507 with parameters: {'min_child_samples': 10}. Best is trial#0 with value: 2.3381306243907103.\n",
      "tune_min_child_samples, val_score: 2.338101:  60%|######    | 3/5 [16:00<10:40, 320.28s/it][I 2020-06-20 14:40:21,261] Finished trial#2 with value: 2.338262412662976 with parameters: {'min_child_samples': 25}. Best is trial#0 with value: 2.3381306243907103.\n",
      "tune_min_child_samples, val_score: 2.338101:  80%|########  | 4/5 [21:22<05:20, 320.68s/it][I 2020-06-20 14:45:42,869] Finished trial#3 with value: 2.3383822610279354 with parameters: {'min_child_samples': 50}. Best is trial#0 with value: 2.3381306243907103.\n",
      "tune_min_child_samples, val_score: 2.338101: 100%|##########| 5/5 [26:40<00:00, 319.90s/it][I 2020-06-20 14:51:00,964] Finished trial#4 with value: 2.3382711395130946 with parameters: {'min_child_samples': 100}. Best is trial#0 with value: 2.3381306243907103.\n",
      "tune_min_child_samples, val_score: 2.338101: 100%|##########| 5/5 [26:40<00:00, 320.07s/it]\n"
     ]
    },
    {
     "name": "stdout",
     "output_type": "stream",
     "text": [
      "Best Params: {'lambda_l1': 8.074719414659954, 'lambda_l2': 1.5919119266007067, 'num_leaves': 6, 'feature_fraction': 0.516, 'bagging_fraction': 0.7965160701163017, 'bagging_freq': 5, 'min_child_samples': 20}\n",
      "CPU times: user 8d 19h 41min 30s, sys: 31min 18s, total: 8d 20h 12min 48s\n",
      "Wall time: 8h 50min 55s\n"
     ]
    }
   ],
   "source": [
    "%%time\n",
    "best_params, tuning_history = dict(), list()\n",
    "lgb_model = lgb.train(lgb_param, lgb_train,\n",
    "                      valid_sets=lgb_eval,\n",
    "                      verbose_eval=0,\n",
    "                      best_params=best_params,\n",
    "                      tuning_history=tuning_history)\n",
    "print('Best Params:', best_params)\n",
    "#print('Tuning history:', tuning_history)"
   ]
  },
  {
   "cell_type": "markdown",
   "metadata": {},
   "source": [
    "### Feature Importance"
   ]
  },
  {
   "cell_type": "code",
   "execution_count": 14,
   "metadata": {
    "scrolled": false
   },
   "outputs": [
    {
     "data": {
      "text/html": [
       "<div>\n",
       "<style scoped>\n",
       "    .dataframe tbody tr th:only-of-type {\n",
       "        vertical-align: middle;\n",
       "    }\n",
       "\n",
       "    .dataframe tbody tr th {\n",
       "        vertical-align: top;\n",
       "    }\n",
       "\n",
       "    .dataframe thead th {\n",
       "        text-align: right;\n",
       "    }\n",
       "</style>\n",
       "<table border=\"1\" class=\"dataframe\">\n",
       "  <thead>\n",
       "    <tr style=\"text-align: right;\">\n",
       "      <th></th>\n",
       "      <th>feat_name</th>\n",
       "      <th>feat_imp</th>\n",
       "    </tr>\n",
       "  </thead>\n",
       "  <tbody>\n",
       "    <tr>\n",
       "      <th>520</th>\n",
       "      <td>mul_bc_c_course_12</td>\n",
       "      <td>303</td>\n",
       "    </tr>\n",
       "    <tr>\n",
       "      <th>571</th>\n",
       "      <td>ave_bc_c_low_ball</td>\n",
       "      <td>305</td>\n",
       "    </tr>\n",
       "    <tr>\n",
       "      <th>367</th>\n",
       "      <td>mul_center_str</td>\n",
       "      <td>306</td>\n",
       "    </tr>\n",
       "    <tr>\n",
       "      <th>390</th>\n",
       "      <td>ave_center_str</td>\n",
       "      <td>311</td>\n",
       "    </tr>\n",
       "    <tr>\n",
       "      <th>364</th>\n",
       "      <td>mul_low_ball</td>\n",
       "      <td>317</td>\n",
       "    </tr>\n",
       "    <tr>\n",
       "      <th>356</th>\n",
       "      <td>mul_course_9</td>\n",
       "      <td>324</td>\n",
       "    </tr>\n",
       "    <tr>\n",
       "      <th>379</th>\n",
       "      <td>ave_course_9</td>\n",
       "      <td>324</td>\n",
       "    </tr>\n",
       "    <tr>\n",
       "      <th>357</th>\n",
       "      <td>mul_course_10</td>\n",
       "      <td>325</td>\n",
       "    </tr>\n",
       "    <tr>\n",
       "      <th>8</th>\n",
       "      <td>bat_order</td>\n",
       "      <td>329</td>\n",
       "    </tr>\n",
       "    <tr>\n",
       "      <th>31</th>\n",
       "      <td>ave_elapsed_game</td>\n",
       "      <td>334</td>\n",
       "    </tr>\n",
       "    <tr>\n",
       "      <th>34</th>\n",
       "      <td>diff_elapsed_batter</td>\n",
       "      <td>335</td>\n",
       "    </tr>\n",
       "    <tr>\n",
       "      <th>107</th>\n",
       "      <td>bat_game_cnt</td>\n",
       "      <td>341</td>\n",
       "    </tr>\n",
       "    <tr>\n",
       "      <th>368</th>\n",
       "      <td>mul_right_str</td>\n",
       "      <td>369</td>\n",
       "    </tr>\n",
       "    <tr>\n",
       "      <th>28</th>\n",
       "      <td>elapsed_from_inning</td>\n",
       "      <td>418</td>\n",
       "    </tr>\n",
       "    <tr>\n",
       "      <th>44</th>\n",
       "      <td>runner_23</td>\n",
       "      <td>433</td>\n",
       "    </tr>\n",
       "    <tr>\n",
       "      <th>105</th>\n",
       "      <td>bmi_bat</td>\n",
       "      <td>440</td>\n",
       "    </tr>\n",
       "    <tr>\n",
       "      <th>26</th>\n",
       "      <td>min_diff</td>\n",
       "      <td>442</td>\n",
       "    </tr>\n",
       "    <tr>\n",
       "      <th>90</th>\n",
       "      <td>height_bat</td>\n",
       "      <td>446</td>\n",
       "    </tr>\n",
       "    <tr>\n",
       "      <th>359</th>\n",
       "      <td>mul_course_12</td>\n",
       "      <td>446</td>\n",
       "    </tr>\n",
       "    <tr>\n",
       "      <th>358</th>\n",
       "      <td>mul_course_11</td>\n",
       "      <td>458</td>\n",
       "    </tr>\n",
       "    <tr>\n",
       "      <th>380</th>\n",
       "      <td>ave_course_10</td>\n",
       "      <td>460</td>\n",
       "    </tr>\n",
       "    <tr>\n",
       "      <th>382</th>\n",
       "      <td>ave_course_12</td>\n",
       "      <td>476</td>\n",
       "    </tr>\n",
       "    <tr>\n",
       "      <th>180</th>\n",
       "      <td>bmi_dif_b-c</td>\n",
       "      <td>489</td>\n",
       "    </tr>\n",
       "    <tr>\n",
       "      <th>106</th>\n",
       "      <td>batter_cnt</td>\n",
       "      <td>495</td>\n",
       "    </tr>\n",
       "    <tr>\n",
       "      <th>36</th>\n",
       "      <td>diff_elapsed_game</td>\n",
       "      <td>501</td>\n",
       "    </tr>\n",
       "    <tr>\n",
       "      <th>35</th>\n",
       "      <td>diff_elapsed_inning</td>\n",
       "      <td>547</td>\n",
       "    </tr>\n",
       "    <tr>\n",
       "      <th>24</th>\n",
       "      <td>date_from_opening</td>\n",
       "      <td>600</td>\n",
       "    </tr>\n",
       "    <tr>\n",
       "      <th>381</th>\n",
       "      <td>ave_course_11</td>\n",
       "      <td>676</td>\n",
       "    </tr>\n",
       "    <tr>\n",
       "      <th>32</th>\n",
       "      <td>ave_elapsed_inning</td>\n",
       "      <td>852</td>\n",
       "    </tr>\n",
       "    <tr>\n",
       "      <th>91</th>\n",
       "      <td>weight_bat</td>\n",
       "      <td>859</td>\n",
       "    </tr>\n",
       "  </tbody>\n",
       "</table>\n",
       "</div>"
      ],
      "text/plain": [
       "               feat_name  feat_imp\n",
       "520   mul_bc_c_course_12       303\n",
       "571    ave_bc_c_low_ball       305\n",
       "367       mul_center_str       306\n",
       "390       ave_center_str       311\n",
       "364         mul_low_ball       317\n",
       "356         mul_course_9       324\n",
       "379         ave_course_9       324\n",
       "357        mul_course_10       325\n",
       "8              bat_order       329\n",
       "31      ave_elapsed_game       334\n",
       "34   diff_elapsed_batter       335\n",
       "107         bat_game_cnt       341\n",
       "368        mul_right_str       369\n",
       "28   elapsed_from_inning       418\n",
       "44             runner_23       433\n",
       "105              bmi_bat       440\n",
       "26              min_diff       442\n",
       "90            height_bat       446\n",
       "359        mul_course_12       446\n",
       "358        mul_course_11       458\n",
       "380        ave_course_10       460\n",
       "382        ave_course_12       476\n",
       "180          bmi_dif_b-c       489\n",
       "106           batter_cnt       495\n",
       "36     diff_elapsed_game       501\n",
       "35   diff_elapsed_inning       547\n",
       "24     date_from_opening       600\n",
       "381        ave_course_11       676\n",
       "32    ave_elapsed_inning       852\n",
       "91            weight_bat       859"
      ]
     },
     "execution_count": 14,
     "metadata": {},
     "output_type": "execute_result"
    }
   ],
   "source": [
    "fi = lgb_model.feature_importance()\n",
    "fn = lgb_model.feature_name()\n",
    "df_feature_importance = pd.DataFrame({'feat_name':fn, 'feat_imp':fi})\n",
    "df_feature_importance.sort_values('feat_imp', inplace=True)\n",
    "df_feature_importance.tail(30)"
   ]
  },
  {
   "cell_type": "markdown",
   "metadata": {},
   "source": [
    "### dart(32)\n",
    "`\n",
    "Best Params: {\n",
    "    'lambda_l1': 8.074719414659954, \n",
    "    'lambda_l2': 1.5919119266007067, \n",
    "    'num_leaves': 6, \n",
    "    'feature_fraction': 0.516, \n",
    "    'bagging_fraction': 0.7965160701163017, \n",
    "    'bagging_freq': 5, \n",
    "    'min_child_samples': 20\n",
    "}\n",
    "Wall time: 8h 50min 55s\n",
    "`"
   ]
  },
  {
   "cell_type": "markdown",
   "metadata": {},
   "source": [
    "### Course Tuning結果(23)\n",
    "`\n",
    "Best Params: {\n",
    "    'lambda_l1': 5.4143376259630465, \n",
    "    'lambda_l2': 0.006926732664484028, \n",
    "    'num_leaves': 4, \n",
    "    'feature_fraction': 0.41600000000000004, \n",
    "    'bagging_fraction': 0.9117189906923387, \n",
    "    'bagging_freq': 4, \n",
    "    'min_child_samples': 25\n",
    "}\n",
    "`\n",
    "Wall time: 1h 56min 20s"
   ]
  },
  {
   "cell_type": "markdown",
   "metadata": {},
   "source": [
    "### Course Tuning結果(12)\n",
    "`\n",
    "Best Params: {\n",
    "    'lambda_l1': 8.769293390201968, \n",
    "    'lambda_l2': 3.913949617576324e-05, \n",
    "    'num_leaves': 6, \n",
    "    'feature_fraction': 0.4, \n",
    "    'bagging_fraction': 0.8391111798378441, \n",
    "    'bagging_freq': 4, \n",
    "    'min_child_samples': 50\n",
    "}\n",
    "`\n",
    "Wall time: 2h 58min 40s"
   ]
  },
  {
   "cell_type": "code",
   "execution_count": null,
   "metadata": {},
   "outputs": [],
   "source": []
  }
 ],
 "metadata": {
  "kernelspec": {
   "display_name": "Python 3",
   "language": "python",
   "name": "python3"
  },
  "language_info": {
   "codemirror_mode": {
    "name": "ipython",
    "version": 3
   },
   "file_extension": ".py",
   "mimetype": "text/x-python",
   "name": "python",
   "nbconvert_exporter": "python",
   "pygments_lexer": "ipython3",
   "version": "3.7.6"
  }
 },
 "nbformat": 4,
 "nbformat_minor": 4
}
