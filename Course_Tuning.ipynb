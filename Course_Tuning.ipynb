{
 "cells": [
  {
   "cell_type": "markdown",
   "metadata": {},
   "source": [
    "## Course Tuning\n",
    "### 23"
   ]
  },
  {
   "cell_type": "code",
   "execution_count": 1,
   "metadata": {},
   "outputs": [],
   "source": [
    "import numpy as np\n",
    "import pandas as pd\n",
    "import matplotlib.pyplot as plt\n",
    "#import lightgbm as lgb\n",
    "import optuna.integration.lightgbm as lgb\n",
    "from sklearn import datasets\n",
    "from sklearn.model_selection import train_test_split\n",
    "import gc\n",
    "%matplotlib inline\n",
    "pd.set_option('display.max_Columns', 100)"
   ]
  },
  {
   "cell_type": "markdown",
   "metadata": {},
   "source": [
    "### 管理番号"
   ]
  },
  {
   "cell_type": "code",
   "execution_count": 2,
   "metadata": {},
   "outputs": [],
   "source": [
    "model_No = 23\n",
    "sample_No = 1"
   ]
  },
  {
   "cell_type": "markdown",
   "metadata": {},
   "source": [
    "### sub-modelを使用するかどうか"
   ]
  },
  {
   "cell_type": "code",
   "execution_count": 3,
   "metadata": {},
   "outputs": [],
   "source": [
    "use_sub_model = False"
   ]
  },
  {
   "cell_type": "code",
   "execution_count": 4,
   "metadata": {},
   "outputs": [],
   "source": [
    "if use_sub_model:\n",
    "    ALL_MERGE = 'intermediate/{}/all_merge_{}_{}_sub.f'.format(model_No, model_No, sample_No)\n",
    "else:\n",
    "    ALL_MERGE = 'intermediate/{}/all_merge_{}_{}.f'.format(model_No, model_No, sample_No)"
   ]
  },
  {
   "cell_type": "code",
   "execution_count": 5,
   "metadata": {},
   "outputs": [
    {
     "data": {
      "text/plain": [
       "(778767, 190)"
      ]
     },
     "execution_count": 5,
     "metadata": {},
     "output_type": "execute_result"
    }
   ],
   "source": [
    "all_pitch = pd.read_feather(ALL_MERGE)\n",
    "all_pitch.shape"
   ]
  },
  {
   "cell_type": "code",
   "execution_count": 6,
   "metadata": {},
   "outputs": [],
   "source": [
    "if use_sub_model:\n",
    "    all_pitch['predict_curve'] = all_pitch['predict_curve'] / all_pitch['predict_straight']\n",
    "    all_pitch['predict_slider'] = all_pitch['predict_slider'] / all_pitch['predict_straight']\n",
    "    all_pitch['predict_shoot'] = all_pitch['predict_shoot'] / all_pitch['predict_straight']\n",
    "    all_pitch['predict_fork'] = all_pitch['predict_fork'] / all_pitch['predict_straight']\n",
    "    all_pitch['predict_changeup'] = all_pitch['predict_changeup'] / all_pitch['predict_straight']\n",
    "    all_pitch['predict_sinker'] = all_pitch['predict_sinker'] / all_pitch['predict_straight']\n",
    "    all_pitch['predict_cutball'] = all_pitch['predict_cutball'] / all_pitch['predict_straight']\n",
    "    all_pitch.drop(columns=[\n",
    "        'predict_0', 'predict_1', 'predict_2', 'predict_3', 'predict_4', 'predict_5', 'predict_6',\n",
    "        'predict_7', 'predict_8', 'predict_9', 'predict_10', 'predict_11', 'predict_12',\n",
    "       'predict_straight'\n",
    "    ], inplace=True)"
   ]
  },
  {
   "cell_type": "markdown",
   "metadata": {},
   "source": [
    "### train\n",
    "- 行数: 257117"
   ]
  },
  {
   "cell_type": "code",
   "execution_count": 7,
   "metadata": {},
   "outputs": [
    {
     "data": {
      "text/plain": [
       "(257117, 190)"
      ]
     },
     "execution_count": 7,
     "metadata": {},
     "output_type": "execute_result"
    }
   ],
   "source": [
    "train = all_pitch.dropna(subset=['course'])\n",
    "train.shape"
   ]
  },
  {
   "cell_type": "markdown",
   "metadata": {},
   "source": [
    "#### 特徴量に加えた部分を抜く"
   ]
  },
  {
   "cell_type": "code",
   "execution_count": 8,
   "metadata": {},
   "outputs": [
    {
     "data": {
      "text/plain": [
       "(197116, 190)"
      ]
     },
     "execution_count": 8,
     "metadata": {},
     "output_type": "execute_result"
    }
   ],
   "source": [
    "if sample_No == 1:\n",
    "    train = train.query('index > 60000')\n",
    "elif sample_No == 2:\n",
    "    train = train.query('index <= 60000 | index > 120000')\n",
    "elif sample_No == 3:\n",
    "    train = train.query('index <= 120000 | index > 180000')\n",
    "elif sample_No == 4:\n",
    "    train = train.query('index <= 180000')\n",
    "train.shape"
   ]
  },
  {
   "cell_type": "code",
   "execution_count": 9,
   "metadata": {
    "scrolled": true
   },
   "outputs": [
    {
     "data": {
      "text/plain": [
       "33"
      ]
     },
     "execution_count": 9,
     "metadata": {},
     "output_type": "execute_result"
    }
   ],
   "source": [
    "del all_pitch\n",
    "gc.collect()"
   ]
  },
  {
   "cell_type": "code",
   "execution_count": 10,
   "metadata": {},
   "outputs": [],
   "source": [
    "train_d = train.drop([\n",
    "    'No', \n",
    "    'course', \n",
    "    'ball'\n",
    "], axis=1)"
   ]
  },
  {
   "cell_type": "markdown",
   "metadata": {},
   "source": [
    "### LGBM学習\n",
    "- multiclass : クラス数=13"
   ]
  },
  {
   "cell_type": "code",
   "execution_count": 11,
   "metadata": {},
   "outputs": [],
   "source": [
    "X_train, X_test, y_train, y_test = train_test_split(train_d, train['course'])\n",
    "lgb_train = lgb.Dataset(X_train, y_train)\n",
    "lgb_eval = lgb.Dataset(X_test, y_test, reference=lgb_train)"
   ]
  },
  {
   "cell_type": "code",
   "execution_count": 12,
   "metadata": {
    "scrolled": false
   },
   "outputs": [],
   "source": [
    "lgb_param = {\n",
    "        'objective' : 'multiclass',\n",
    "        'boosting_type': 'gbdt',\n",
    "        'metric' : 'multi_logloss',\n",
    "        'num_class' : 13,\n",
    "    }"
   ]
  },
  {
   "cell_type": "code",
   "execution_count": 13,
   "metadata": {
    "scrolled": false
   },
   "outputs": [
    {
     "name": "stderr",
     "output_type": "stream",
     "text": [
      "/home/yasunobu_umehara/anaconda3/lib/python3.7/site-packages/optuna/_experimental.py:90: ExperimentalWarning: train is experimental (supported from v0.18.0). The interface can change in the future.\n",
      "  ExperimentalWarning,\n",
      "tune_feature_fraction, val_score: 2.387314:  14%|#4        | 1/7 [01:40<10:05, 100.88s/it][I 2020-05-17 06:55:12,100] Finished trial#0 with value: 2.3873144001335516 with parameters: {'feature_fraction': 0.4}. Best is trial#0 with value: 2.3873144001335516.\n",
      "tune_feature_fraction, val_score: 2.387314:  29%|##8       | 2/7 [03:34<08:42, 104.56s/it][I 2020-05-17 06:57:05,264] Finished trial#1 with value: 2.3905432658100985 with parameters: {'feature_fraction': 0.5}. Best is trial#0 with value: 2.3873144001335516.\n",
      "tune_feature_fraction, val_score: 2.387314:  43%|####2     | 3/7 [05:38<07:21, 110.50s/it][I 2020-05-17 06:59:09,613] Finished trial#2 with value: 2.3919215691295954 with parameters: {'feature_fraction': 0.6}. Best is trial#0 with value: 2.3873144001335516.\n",
      "tune_feature_fraction, val_score: 2.387314:  57%|#####7    | 4/7 [07:53<05:53, 117.99s/it][I 2020-05-17 07:01:25,083] Finished trial#3 with value: 2.3943419374357653 with parameters: {'feature_fraction': 0.7}. Best is trial#0 with value: 2.3873144001335516.\n",
      "tune_feature_fraction, val_score: 2.387314:  71%|#######1  | 5/7 [10:20<04:13, 126.64s/it][I 2020-05-17 07:03:51,914] Finished trial#4 with value: 2.396408107743356 with parameters: {'feature_fraction': 0.8}. Best is trial#0 with value: 2.3873144001335516.\n",
      "tune_feature_fraction, val_score: 2.387314:  86%|########5 | 6/7 [12:59<02:16, 136.18s/it][I 2020-05-17 07:06:30,355] Finished trial#5 with value: 2.398160873917421 with parameters: {'feature_fraction': 0.8999999999999999}. Best is trial#0 with value: 2.3873144001335516.\n",
      "tune_feature_fraction, val_score: 2.387314: 100%|##########| 7/7 [15:44<00:00, 144.97s/it][I 2020-05-17 07:09:15,829] Finished trial#6 with value: 2.400033101840019 with parameters: {'feature_fraction': 1.0}. Best is trial#0 with value: 2.3873144001335516.\n",
      "tune_feature_fraction, val_score: 2.387314: 100%|##########| 7/7 [15:44<00:00, 134.96s/it]\n",
      "tune_num_leaves, val_score: 2.387314:   5%|5         | 1/20 [01:59<37:57, 119.87s/it][I 2020-05-17 07:11:15,804] Finished trial#0 with value: 2.419286719460136 with parameters: {'num_leaves': 48}. Best is trial#0 with value: 2.419286719460136.\n",
      "tune_num_leaves, val_score: 2.387314:  10%|#         | 2/20 [06:53<51:38, 172.13s/it][I 2020-05-17 07:16:09,882] Finished trial#1 with value: 2.815937046633155 with parameters: {'num_leaves': 206}. Best is trial#0 with value: 2.419286719460136.\n",
      "tune_num_leaves, val_score: 2.387314:  15%|#5        | 3/20 [11:56<59:50, 211.21s/it][I 2020-05-17 07:21:12,287] Finished trial#2 with value: 2.8470673815906067 with parameters: {'num_leaves': 215}. Best is trial#0 with value: 2.419286719460136.\n",
      "tune_num_leaves, val_score: 2.387314:  20%|##        | 4/20 [17:09<1:04:28, 241.76s/it][I 2020-05-17 07:26:25,320] Finished trial#3 with value: 2.8710319434978366 with parameters: {'num_leaves': 224}. Best is trial#0 with value: 2.419286719460136.\n",
      "tune_num_leaves, val_score: 2.387314:  25%|##5       | 5/20 [22:06<1:04:36, 258.40s/it][I 2020-05-17 07:31:22,551] Finished trial#4 with value: 2.8242188231035423 with parameters: {'num_leaves': 208}. Best is trial#0 with value: 2.419286719460136.\n",
      "tune_num_leaves, val_score: 2.387314:  30%|###       | 6/20 [26:26<1:00:22, 258.76s/it][I 2020-05-17 07:35:42,162] Finished trial#5 with value: 2.722757466717495 with parameters: {'num_leaves': 173}. Best is trial#0 with value: 2.419286719460136.\n",
      "tune_num_leaves, val_score: 2.350853:  35%|###5      | 7/20 [27:39<44:02, 203.24s/it]  [I 2020-05-17 07:36:55,829] Finished trial#6 with value: 2.3508532159110724 with parameters: {'num_leaves': 10}. Best is trial#6 with value: 2.3508532159110724.\n",
      "tune_num_leaves, val_score: 2.350853:  40%|####      | 8/20 [32:07<44:31, 222.66s/it][I 2020-05-17 07:41:23,807] Finished trial#7 with value: 2.754312129029643 with parameters: {'num_leaves': 183}. Best is trial#6 with value: 2.3508532159110724.\n",
      "tune_num_leaves, val_score: 2.350853:  45%|####5     | 9/20 [35:03<38:13, 208.46s/it][I 2020-05-17 07:44:19,125] Finished trial#8 with value: 2.5255310126418737 with parameters: {'num_leaves': 97}. Best is trial#6 with value: 2.3508532159110724.\n",
      "tune_num_leaves, val_score: 2.350853:  50%|#####     | 10/20 [36:19<28:08, 168.88s/it][I 2020-05-17 07:45:35,639] Finished trial#9 with value: 2.354510280960264 with parameters: {'num_leaves': 12}. Best is trial#6 with value: 2.3508532159110724.\n",
      "tune_num_leaves, val_score: 2.346833:  55%|#####5    | 11/20 [37:29<20:52, 139.15s/it][I 2020-05-17 07:46:45,404] Finished trial#10 with value: 2.346832563589439 with parameters: {'num_leaves': 7}. Best is trial#10 with value: 2.346832563589439.\n",
      "tune_num_leaves, val_score: 2.346833:  60%|######    | 12/20 [38:55<16:26, 123.35s/it][I 2020-05-17 07:48:11,898] Finished trial#11 with value: 2.3654227237491816 with parameters: {'num_leaves': 19}. Best is trial#10 with value: 2.346832563589439.\n",
      "tune_num_leaves, val_score: 2.346833:  65%|######5   | 13/20 [41:24<15:15, 130.80s/it][I 2020-05-17 07:50:40,097] Finished trial#12 with value: 2.473158030755251 with parameters: {'num_leaves': 74}. Best is trial#10 with value: 2.346832563589439.\n",
      "tune_num_leaves, val_score: 2.343874:  70%|#######   | 14/20 [42:27<11:03, 110.59s/it][I 2020-05-17 07:51:43,515] Finished trial#13 with value: 2.343873506737139 with parameters: {'num_leaves': 4}. Best is trial#13 with value: 2.343873506737139.\n",
      "tune_num_leaves, val_score: 2.343874:  75%|#######5  | 15/20 [45:52<11:34, 138.89s/it][I 2020-05-17 07:55:08,449] Finished trial#14 with value: 2.592269683712584 with parameters: {'num_leaves': 124}. Best is trial#13 with value: 2.343873506737139.\n",
      "tune_num_leaves, val_score: 2.343874:  80%|########  | 16/20 [47:54<08:55, 133.85s/it][I 2020-05-17 07:57:10,555] Finished trial#15 with value: 2.42557933403637 with parameters: {'num_leaves': 51}. Best is trial#13 with value: 2.343873506737139.\n",
      "tune_num_leaves, val_score: 2.343874:  85%|########5 | 17/20 [48:44<05:25, 108.66s/it][I 2020-05-17 07:58:00,421] Finished trial#16 with value: 2.349999160320186 with parameters: {'num_leaves': 2}. Best is trial#13 with value: 2.343873506737139.\n",
      "tune_num_leaves, val_score: 2.343874:  90%|######### | 18/20 [54:36<06:03, 181.58s/it][I 2020-05-17 08:03:52,148] Finished trial#17 with value: 2.961238248231012 with parameters: {'num_leaves': 254}. Best is trial#13 with value: 2.343873506737139.\n",
      "tune_num_leaves, val_score: 2.343874:  95%|#########5| 19/20 [56:39<02:43, 163.97s/it][I 2020-05-17 08:05:55,034] Finished trial#18 with value: 2.4255793340363696 with parameters: {'num_leaves': 51}. Best is trial#13 with value: 2.343873506737139.\n",
      "tune_num_leaves, val_score: 2.343874: 100%|##########| 20/20 [1:00:09<00:00, 177.77s/it][I 2020-05-17 08:09:25,017] Finished trial#19 with value: 2.605051066706827 with parameters: {'num_leaves': 129}. Best is trial#13 with value: 2.343873506737139.\n",
      "tune_num_leaves, val_score: 2.343874: 100%|##########| 20/20 [1:00:09<00:00, 180.46s/it]\n",
      "tune_bagging_fraction_and_bagging_freq, val_score: 2.343874:  10%|#         | 1/10 [00:47<07:08, 47.58s/it][I 2020-05-17 08:10:12,701] Finished trial#0 with value: 2.3452018234827876 with parameters: {'bagging_fraction': 0.5576456634374, 'bagging_freq': 5}. Best is trial#0 with value: 2.3452018234827876.\n",
      "tune_bagging_fraction_and_bagging_freq, val_score: 2.343874:  20%|##        | 2/10 [01:38<06:28, 48.58s/it][I 2020-05-17 08:11:03,626] Finished trial#1 with value: 2.344753657855863 with parameters: {'bagging_fraction': 0.6322524345012235, 'bagging_freq': 6}. Best is trial#1 with value: 2.344753657855863.\n",
      "tune_bagging_fraction_and_bagging_freq, val_score: 2.343874:  30%|###       | 3/10 [02:28<05:42, 49.00s/it][I 2020-05-17 08:11:53,583] Finished trial#2 with value: 2.3444765497369504 with parameters: {'bagging_fraction': 0.6077827577558734, 'bagging_freq': 6}. Best is trial#2 with value: 2.3444765497369504.\n"
     ]
    },
    {
     "name": "stderr",
     "output_type": "stream",
     "text": [
      "tune_bagging_fraction_and_bagging_freq, val_score: 2.343874:  40%|####      | 4/10 [03:10<04:41, 46.94s/it][I 2020-05-17 08:12:35,739] Finished trial#3 with value: 2.347535504993517 with parameters: {'bagging_fraction': 0.446479946837105, 'bagging_freq': 6}. Best is trial#2 with value: 2.3444765497369504.\n",
      "tune_bagging_fraction_and_bagging_freq, val_score: 2.343463:  50%|#####     | 5/10 [04:14<04:20, 52.07s/it][I 2020-05-17 08:13:39,752] Finished trial#4 with value: 2.343463155397856 with parameters: {'bagging_fraction': 0.9018117847077181, 'bagging_freq': 5}. Best is trial#4 with value: 2.343463155397856.\n",
      "tune_bagging_fraction_and_bagging_freq, val_score: 2.343426:  60%|######    | 6/10 [05:20<03:44, 56.11s/it][I 2020-05-17 08:14:45,282] Finished trial#5 with value: 2.3434260503484667 with parameters: {'bagging_fraction': 0.9117189906923387, 'bagging_freq': 4}. Best is trial#5 with value: 2.3434260503484667.\n",
      "tune_bagging_fraction_and_bagging_freq, val_score: 2.343426:  70%|#######   | 7/10 [06:18<02:50, 56.86s/it][I 2020-05-17 08:15:43,901] Finished trial#6 with value: 2.3437006164064815 with parameters: {'bagging_fraction': 0.7702976383906106, 'bagging_freq': 4}. Best is trial#5 with value: 2.3434260503484667.\n",
      "tune_bagging_fraction_and_bagging_freq, val_score: 2.343426:  80%|########  | 8/10 [07:08<01:49, 54.65s/it][I 2020-05-17 08:16:33,392] Finished trial#7 with value: 2.344895724915354 with parameters: {'bagging_fraction': 0.5955496821316268, 'bagging_freq': 6}. Best is trial#5 with value: 2.3434260503484667.\n",
      "tune_bagging_fraction_and_bagging_freq, val_score: 2.343426:  90%|######### | 9/10 [07:54<00:52, 52.16s/it][I 2020-05-17 08:17:19,758] Finished trial#8 with value: 2.3461499388995044 with parameters: {'bagging_fraction': 0.5292862923648093, 'bagging_freq': 4}. Best is trial#5 with value: 2.3434260503484667.\n",
      "tune_bagging_fraction_and_bagging_freq, val_score: 2.343426: 100%|##########| 10/10 [08:51<00:00, 53.49s/it][I 2020-05-17 08:18:16,337] Finished trial#9 with value: 2.343877520200176 with parameters: {'bagging_fraction': 0.6892202892852619, 'bagging_freq': 1}. Best is trial#5 with value: 2.3434260503484667.\n",
      "tune_bagging_fraction_and_bagging_freq, val_score: 2.343426: 100%|##########| 10/10 [08:51<00:00, 53.13s/it]\n",
      "tune_feature_fraction, val_score: 2.343140:  33%|###3      | 1/3 [01:05<02:11, 65.62s/it][I 2020-05-17 08:19:22,052] Finished trial#0 with value: 2.3431397131735086 with parameters: {'feature_fraction': 0.41600000000000004}. Best is trial#0 with value: 2.3431397131735086.\n",
      "tune_feature_fraction, val_score: 2.343140:  67%|######6   | 2/3 [02:12<01:05, 65.90s/it][I 2020-05-17 08:20:28,599] Finished trial#1 with value: 2.343490040144847 with parameters: {'feature_fraction': 0.44800000000000006}. Best is trial#0 with value: 2.3431397131735086.\n",
      "tune_feature_fraction, val_score: 2.343140: 100%|##########| 3/3 [03:21<00:00, 66.82s/it][I 2020-05-17 08:21:37,576] Finished trial#2 with value: 2.3436541644410656 with parameters: {'feature_fraction': 0.48000000000000004}. Best is trial#0 with value: 2.3431397131735086.\n",
      "tune_feature_fraction, val_score: 2.343140: 100%|##########| 3/3 [03:21<00:00, 67.08s/it]\n",
      "tune_lambda_l1_and_lambda_l2, val_score: 2.343140:   5%|5         | 1/20 [01:05<20:48, 65.72s/it][I 2020-05-17 08:22:43,394] Finished trial#0 with value: 2.343319939966363 with parameters: {'lambda_l1': 0.0004286922266662884, 'lambda_l2': 0.2242590015899466}. Best is trial#0 with value: 2.343319939966363.\n",
      "tune_lambda_l1_and_lambda_l2, val_score: 2.343140:  10%|#         | 2/20 [02:11<19:44, 65.81s/it][I 2020-05-17 08:23:49,395] Finished trial#1 with value: 2.3434184985901627 with parameters: {'lambda_l1': 5.385869882386678e-05, 'lambda_l2': 5.561975438720003e-06}. Best is trial#0 with value: 2.343319939966363.\n",
      "tune_lambda_l1_and_lambda_l2, val_score: 2.343140:  15%|#5        | 3/20 [03:18<18:42, 66.01s/it][I 2020-05-17 08:24:55,882] Finished trial#2 with value: 2.343560836371811 with parameters: {'lambda_l1': 1.6187150408511785e-07, 'lambda_l2': 0.01636556905825968}. Best is trial#0 with value: 2.343319939966363.\n",
      "tune_lambda_l1_and_lambda_l2, val_score: 2.342200:  20%|##        | 4/20 [04:24<17:38, 66.19s/it][I 2020-05-17 08:26:02,477] Finished trial#3 with value: 2.3421996910095864 with parameters: {'lambda_l1': 0.023738794382860473, 'lambda_l2': 5.101034273452088}. Best is trial#3 with value: 2.3421996910095864.\n",
      "tune_lambda_l1_and_lambda_l2, val_score: 2.342200:  25%|##5       | 5/20 [05:30<16:31, 66.08s/it][I 2020-05-17 08:27:08,307] Finished trial#4 with value: 2.3428147231720273 with parameters: {'lambda_l1': 2.7482322961147212e-08, 'lambda_l2': 0.5096367345009644}. Best is trial#3 with value: 2.3421996910095864.\n",
      "tune_lambda_l1_and_lambda_l2, val_score: 2.342200:  30%|###       | 6/20 [06:35<15:20, 65.73s/it][I 2020-05-17 08:28:13,223] Finished trial#5 with value: 2.343139653232505 with parameters: {'lambda_l1': 6.60255549592336e-06, 'lambda_l2': 1.0069810137060008e-06}. Best is trial#3 with value: 2.3421996910095864.\n",
      "tune_lambda_l1_and_lambda_l2, val_score: 2.342200:  35%|###5      | 7/20 [07:41<14:14, 65.74s/it][I 2020-05-17 08:29:18,978] Finished trial#6 with value: 2.34324645203796 with parameters: {'lambda_l1': 0.30346056212573125, 'lambda_l2': 4.7350090545048964e-06}. Best is trial#3 with value: 2.3421996910095864.\n",
      "tune_lambda_l1_and_lambda_l2, val_score: 2.342200:  40%|####      | 8/20 [08:47<13:09, 65.79s/it][I 2020-05-17 08:30:24,882] Finished trial#7 with value: 2.3431398413343976 with parameters: {'lambda_l1': 9.241442624884983e-06, 'lambda_l2': 4.792707088425776e-08}. Best is trial#3 with value: 2.3421996910095864.\n",
      "tune_lambda_l1_and_lambda_l2, val_score: 2.342200:  45%|####5     | 9/20 [09:52<12:02, 65.68s/it][I 2020-05-17 08:31:30,320] Finished trial#8 with value: 2.343246568885829 with parameters: {'lambda_l1': 0.0006020386351521355, 'lambda_l2': 0.0005418122742981242}. Best is trial#3 with value: 2.3421996910095864.\n",
      "tune_lambda_l1_and_lambda_l2, val_score: 2.342200:  50%|#####     | 10/20 [10:58<10:56, 65.67s/it][I 2020-05-17 08:32:35,963] Finished trial#9 with value: 2.343549683389726 with parameters: {'lambda_l1': 0.08051643050150295, 'lambda_l2': 6.443750509094691e-08}. Best is trial#3 with value: 2.3421996910095864.\n",
      "tune_lambda_l1_and_lambda_l2, val_score: 2.341339:  55%|#####5    | 11/20 [12:08<10:03, 67.05s/it][I 2020-05-17 08:33:46,219] Finished trial#10 with value: 2.3413391076255348 with parameters: {'lambda_l1': 7.014071150264479, 'lambda_l2': 6.523779574685669}. Best is trial#10 with value: 2.3413391076255348.\n",
      "tune_lambda_l1_and_lambda_l2, val_score: 2.341296:  60%|######    | 12/20 [13:20<09:08, 68.53s/it][I 2020-05-17 08:34:58,202] Finished trial#11 with value: 2.3412959251071093 with parameters: {'lambda_l1': 9.632886704579105, 'lambda_l2': 9.323128351834358}. Best is trial#11 with value: 2.3412959251071093.\n",
      "tune_lambda_l1_and_lambda_l2, val_score: 2.341280:  65%|######5   | 13/20 [14:31<08:05, 69.36s/it][I 2020-05-17 08:36:09,493] Finished trial#12 with value: 2.3412804254225423 with parameters: {'lambda_l1': 9.915209374459158, 'lambda_l2': 4.901828882603794}. Best is trial#12 with value: 2.3412804254225423.\n",
      "tune_lambda_l1_and_lambda_l2, val_score: 2.341204:  70%|#######   | 14/20 [15:41<06:56, 69.34s/it][I 2020-05-17 08:37:18,803] Finished trial#13 with value: 2.34120379927918 with parameters: {'lambda_l1': 5.4143376259630465, 'lambda_l2': 0.006926732664484028}. Best is trial#13 with value: 2.34120379927918.\n",
      "tune_lambda_l1_and_lambda_l2, val_score: 2.341204:  75%|#######5  | 15/20 [16:47<05:42, 68.51s/it][I 2020-05-17 08:38:25,379] Finished trial#14 with value: 2.342495486849215 with parameters: {'lambda_l1': 1.130641310335892, 'lambda_l2': 0.0008998393660423198}. Best is trial#13 with value: 2.34120379927918.\n",
      "tune_lambda_l1_and_lambda_l2, val_score: 2.341204:  80%|########  | 16/20 [17:53<04:30, 67.73s/it][I 2020-05-17 08:39:31,290] Finished trial#15 with value: 2.3434554360030115 with parameters: {'lambda_l1': 0.011572850805253321, 'lambda_l2': 0.018067366138802967}. Best is trial#13 with value: 2.34120379927918.\n"
     ]
    },
    {
     "name": "stderr",
     "output_type": "stream",
     "text": [
      "tune_lambda_l1_and_lambda_l2, val_score: 2.341204:  85%|########5 | 17/20 [19:04<03:25, 68.65s/it][I 2020-05-17 08:40:42,070] Finished trial#16 with value: 2.3412213149540126 with parameters: {'lambda_l1': 7.100398044213165, 'lambda_l2': 0.010902090142405134}. Best is trial#13 with value: 2.34120379927918.\n",
      "tune_lambda_l1_and_lambda_l2, val_score: 2.341204:  90%|######### | 18/20 [20:10<02:15, 67.97s/it][I 2020-05-17 08:41:48,462] Finished trial#17 with value: 2.342893434650894 with parameters: {'lambda_l1': 0.8133276357055164, 'lambda_l2': 0.010342203388564574}. Best is trial#13 with value: 2.34120379927918.\n",
      "tune_lambda_l1_and_lambda_l2, val_score: 2.341204:  95%|#########5| 19/20 [21:16<01:07, 67.32s/it][I 2020-05-17 08:42:54,268] Finished trial#18 with value: 2.343226968858258 with parameters: {'lambda_l1': 0.004149434390145978, 'lambda_l2': 0.0025282656641140247}. Best is trial#13 with value: 2.34120379927918.\n",
      "tune_lambda_l1_and_lambda_l2, val_score: 2.341204: 100%|##########| 20/20 [22:23<00:00, 67.15s/it][I 2020-05-17 08:44:01,034] Finished trial#19 with value: 2.3423086269656985 with parameters: {'lambda_l1': 1.51792774246348, 'lambda_l2': 5.2835268956225514e-05}. Best is trial#13 with value: 2.34120379927918.\n",
      "tune_lambda_l1_and_lambda_l2, val_score: 2.341204: 100%|##########| 20/20 [22:23<00:00, 67.17s/it]\n",
      "tune_min_child_samples, val_score: 2.341204:  20%|##        | 1/5 [01:09<04:37, 69.30s/it][I 2020-05-17 08:45:10,436] Finished trial#0 with value: 2.341497180878506 with parameters: {'min_child_samples': 5}. Best is trial#0 with value: 2.341497180878506.\n",
      "tune_min_child_samples, val_score: 2.341204:  40%|####      | 2/5 [02:19<03:28, 69.60s/it][I 2020-05-17 08:46:20,715] Finished trial#1 with value: 2.3414976969435597 with parameters: {'min_child_samples': 10}. Best is trial#0 with value: 2.341497180878506.\n",
      "tune_min_child_samples, val_score: 2.341180:  60%|######    | 3/5 [03:29<02:19, 69.72s/it][I 2020-05-17 08:47:30,711] Finished trial#2 with value: 2.341179898770496 with parameters: {'min_child_samples': 25}. Best is trial#2 with value: 2.341179898770496.\n",
      "tune_min_child_samples, val_score: 2.341180:  80%|########  | 4/5 [04:39<01:09, 69.80s/it][I 2020-05-17 08:48:40,714] Finished trial#3 with value: 2.3412793137375374 with parameters: {'min_child_samples': 50}. Best is trial#2 with value: 2.341179898770496.\n",
      "tune_min_child_samples, val_score: 2.341180: 100%|##########| 5/5 [05:50<00:00, 70.03s/it][I 2020-05-17 08:49:51,292] Finished trial#4 with value: 2.3413216274188473 with parameters: {'min_child_samples': 100}. Best is trial#2 with value: 2.341179898770496.\n",
      "tune_min_child_samples, val_score: 2.341180: 100%|##########| 5/5 [05:50<00:00, 70.05s/it]\n"
     ]
    },
    {
     "name": "stdout",
     "output_type": "stream",
     "text": [
      "Best Params: {'lambda_l1': 5.4143376259630465, 'lambda_l2': 0.006926732664484028, 'num_leaves': 4, 'feature_fraction': 0.41600000000000004, 'bagging_fraction': 0.9117189906923387, 'bagging_freq': 4, 'min_child_samples': 25}\n",
      "CPU times: user 1d 6h 42min 41s, sys: 8min 7s, total: 1d 6h 50min 48s\n",
      "Wall time: 1h 56min 20s\n"
     ]
    }
   ],
   "source": [
    "%%time\n",
    "best_params, tuning_history = dict(), list()\n",
    "lgb_model = lgb.train(lgb_param, lgb_train,\n",
    "                      valid_sets=lgb_eval,\n",
    "                      verbose_eval=0,\n",
    "                      best_params=best_params,\n",
    "                      tuning_history=tuning_history)\n",
    "print('Best Params:', best_params)\n",
    "#print('Tuning history:', tuning_history)"
   ]
  },
  {
   "cell_type": "markdown",
   "metadata": {},
   "source": [
    "### Feature Importance"
   ]
  },
  {
   "cell_type": "code",
   "execution_count": 14,
   "metadata": {
    "scrolled": false
   },
   "outputs": [
    {
     "data": {
      "text/html": [
       "<div>\n",
       "<style scoped>\n",
       "    .dataframe tbody tr th:only-of-type {\n",
       "        vertical-align: middle;\n",
       "    }\n",
       "\n",
       "    .dataframe tbody tr th {\n",
       "        vertical-align: top;\n",
       "    }\n",
       "\n",
       "    .dataframe thead th {\n",
       "        text-align: right;\n",
       "    }\n",
       "</style>\n",
       "<table border=\"1\" class=\"dataframe\">\n",
       "  <thead>\n",
       "    <tr style=\"text-align: right;\">\n",
       "      <th></th>\n",
       "      <th>feat_name</th>\n",
       "      <th>feat_imp</th>\n",
       "    </tr>\n",
       "  </thead>\n",
       "  <tbody>\n",
       "    <tr>\n",
       "      <th>0</th>\n",
       "      <td>pitch_cnt_in_game</td>\n",
       "      <td>390</td>\n",
       "    </tr>\n",
       "    <tr>\n",
       "      <th>181</th>\n",
       "      <td>rank_x_year_dif_b-c</td>\n",
       "      <td>390</td>\n",
       "    </tr>\n",
       "    <tr>\n",
       "      <th>174</th>\n",
       "      <td>bmi_dif_p-c</td>\n",
       "      <td>404</td>\n",
       "    </tr>\n",
       "    <tr>\n",
       "      <th>113</th>\n",
       "      <td>high_str</td>\n",
       "      <td>414</td>\n",
       "    </tr>\n",
       "    <tr>\n",
       "      <th>122</th>\n",
       "      <td>right_ball</td>\n",
       "      <td>417</td>\n",
       "    </tr>\n",
       "    <tr>\n",
       "      <th>6</th>\n",
       "      <td>pitcher_cnt_in_game</td>\n",
       "      <td>417</td>\n",
       "    </tr>\n",
       "    <tr>\n",
       "      <th>109</th>\n",
       "      <td>total</td>\n",
       "      <td>419</td>\n",
       "    </tr>\n",
       "    <tr>\n",
       "      <th>115</th>\n",
       "      <td>mid_str</td>\n",
       "      <td>429</td>\n",
       "    </tr>\n",
       "    <tr>\n",
       "      <th>173</th>\n",
       "      <td>rank_x_year_dif_p-c</td>\n",
       "      <td>430</td>\n",
       "    </tr>\n",
       "    <tr>\n",
       "      <th>103</th>\n",
       "      <td>slider</td>\n",
       "      <td>438</td>\n",
       "    </tr>\n",
       "    <tr>\n",
       "      <th>120</th>\n",
       "      <td>center_str</td>\n",
       "      <td>451</td>\n",
       "    </tr>\n",
       "    <tr>\n",
       "      <th>166</th>\n",
       "      <td>bmi_dif_p-b</td>\n",
       "      <td>457</td>\n",
       "    </tr>\n",
       "    <tr>\n",
       "      <th>119</th>\n",
       "      <td>left_ball</td>\n",
       "      <td>476</td>\n",
       "    </tr>\n",
       "    <tr>\n",
       "      <th>45</th>\n",
       "      <td>elapsed_from_inning</td>\n",
       "      <td>480</td>\n",
       "    </tr>\n",
       "    <tr>\n",
       "      <th>47</th>\n",
       "      <td>elapsed_batter</td>\n",
       "      <td>486</td>\n",
       "    </tr>\n",
       "    <tr>\n",
       "      <th>121</th>\n",
       "      <td>right_str</td>\n",
       "      <td>500</td>\n",
       "    </tr>\n",
       "    <tr>\n",
       "      <th>182</th>\n",
       "      <td>bmi_dif_b-c</td>\n",
       "      <td>516</td>\n",
       "    </tr>\n",
       "    <tr>\n",
       "      <th>116</th>\n",
       "      <td>low_str</td>\n",
       "      <td>519</td>\n",
       "    </tr>\n",
       "    <tr>\n",
       "      <th>114</th>\n",
       "      <td>high_ball</td>\n",
       "      <td>525</td>\n",
       "    </tr>\n",
       "    <tr>\n",
       "      <th>43</th>\n",
       "      <td>min_diff</td>\n",
       "      <td>527</td>\n",
       "    </tr>\n",
       "    <tr>\n",
       "      <th>118</th>\n",
       "      <td>left_str</td>\n",
       "      <td>547</td>\n",
       "    </tr>\n",
       "    <tr>\n",
       "      <th>50</th>\n",
       "      <td>ave_elapsed_batter</td>\n",
       "      <td>554</td>\n",
       "    </tr>\n",
       "    <tr>\n",
       "      <th>53</th>\n",
       "      <td>diff_elapsed_game</td>\n",
       "      <td>557</td>\n",
       "    </tr>\n",
       "    <tr>\n",
       "      <th>117</th>\n",
       "      <td>low_ball</td>\n",
       "      <td>607</td>\n",
       "    </tr>\n",
       "    <tr>\n",
       "      <th>140</th>\n",
       "      <td>batter_cnt</td>\n",
       "      <td>628</td>\n",
       "    </tr>\n",
       "    <tr>\n",
       "      <th>48</th>\n",
       "      <td>ave_elapsed_game</td>\n",
       "      <td>633</td>\n",
       "    </tr>\n",
       "    <tr>\n",
       "      <th>51</th>\n",
       "      <td>diff_elapsed_batter</td>\n",
       "      <td>690</td>\n",
       "    </tr>\n",
       "    <tr>\n",
       "      <th>49</th>\n",
       "      <td>ave_elapsed_inning</td>\n",
       "      <td>709</td>\n",
       "    </tr>\n",
       "    <tr>\n",
       "      <th>52</th>\n",
       "      <td>diff_elapsed_inning</td>\n",
       "      <td>722</td>\n",
       "    </tr>\n",
       "    <tr>\n",
       "      <th>41</th>\n",
       "      <td>date_from_opening</td>\n",
       "      <td>778</td>\n",
       "    </tr>\n",
       "  </tbody>\n",
       "</table>\n",
       "</div>"
      ],
      "text/plain": [
       "               feat_name  feat_imp\n",
       "0      pitch_cnt_in_game       390\n",
       "181  rank_x_year_dif_b-c       390\n",
       "174          bmi_dif_p-c       404\n",
       "113             high_str       414\n",
       "122           right_ball       417\n",
       "6    pitcher_cnt_in_game       417\n",
       "109                total       419\n",
       "115              mid_str       429\n",
       "173  rank_x_year_dif_p-c       430\n",
       "103               slider       438\n",
       "120           center_str       451\n",
       "166          bmi_dif_p-b       457\n",
       "119            left_ball       476\n",
       "45   elapsed_from_inning       480\n",
       "47        elapsed_batter       486\n",
       "121            right_str       500\n",
       "182          bmi_dif_b-c       516\n",
       "116              low_str       519\n",
       "114            high_ball       525\n",
       "43              min_diff       527\n",
       "118             left_str       547\n",
       "50    ave_elapsed_batter       554\n",
       "53     diff_elapsed_game       557\n",
       "117             low_ball       607\n",
       "140           batter_cnt       628\n",
       "48      ave_elapsed_game       633\n",
       "51   diff_elapsed_batter       690\n",
       "49    ave_elapsed_inning       709\n",
       "52   diff_elapsed_inning       722\n",
       "41     date_from_opening       778"
      ]
     },
     "execution_count": 14,
     "metadata": {},
     "output_type": "execute_result"
    }
   ],
   "source": [
    "fi = lgb_model.feature_importance()\n",
    "fn = lgb_model.feature_name()\n",
    "df_feature_importance = pd.DataFrame({'feat_name':fn, 'feat_imp':fi})\n",
    "df_feature_importance.sort_values('feat_imp', inplace=True)\n",
    "df_feature_importance.tail(30)"
   ]
  },
  {
   "cell_type": "markdown",
   "metadata": {},
   "source": [
    "### Course Tuning結果(23)\n",
    "`\n",
    "Best Params: {\n",
    "    'lambda_l1': 5.4143376259630465, \n",
    "    'lambda_l2': 0.006926732664484028, \n",
    "    'num_leaves': 4, \n",
    "    'feature_fraction': 0.41600000000000004, \n",
    "    'bagging_fraction': 0.9117189906923387, \n",
    "    'bagging_freq': 4, \n",
    "    'min_child_samples': 25\n",
    "}\n",
    "`\n",
    "Wall time: 1h 56min 20s"
   ]
  },
  {
   "cell_type": "markdown",
   "metadata": {},
   "source": [
    "### Course Tuning結果(12)\n",
    "`\n",
    "Best Params: {\n",
    "    'lambda_l1': 8.769293390201968, \n",
    "    'lambda_l2': 3.913949617576324e-05, \n",
    "    'num_leaves': 6, \n",
    "    'feature_fraction': 0.4, \n",
    "    'bagging_fraction': 0.8391111798378441, \n",
    "    'bagging_freq': 4, \n",
    "    'min_child_samples': 50\n",
    "}\n",
    "`\n",
    "Wall time: 2h 58min 40s"
   ]
  },
  {
   "cell_type": "code",
   "execution_count": null,
   "metadata": {},
   "outputs": [],
   "source": []
  }
 ],
 "metadata": {
  "kernelspec": {
   "display_name": "Python 3",
   "language": "python",
   "name": "python3"
  },
  "language_info": {
   "codemirror_mode": {
    "name": "ipython",
    "version": 3
   },
   "file_extension": ".py",
   "mimetype": "text/x-python",
   "name": "python",
   "nbconvert_exporter": "python",
   "pygments_lexer": "ipython3",
   "version": "3.7.6"
  }
 },
 "nbformat": 4,
 "nbformat_minor": 4
}
